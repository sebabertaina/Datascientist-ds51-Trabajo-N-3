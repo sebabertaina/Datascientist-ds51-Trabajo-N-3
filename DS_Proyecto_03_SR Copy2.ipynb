{
 "cells": [
  {
   "cell_type": "markdown",
   "metadata": {
    "id": "gzJLet17WTzh"
   },
   "source": [
    "# Proyecto 03 - Sistemas de Recomendación\n",
    "\n",
    "## Dataset: STEAM\n",
    "\n",
    "**Recuerda descargar el dataset de [aquí](https://github.com/kang205/SASRec). Son dos archivos, uno de calificaciones y otro de información sobre los juegos.**\n",
    "\n",
    "En este notebook te dejamos unas celdas para que puedas comenzar a trabajar con este dataset. Sin embargo, **deberás** modificarlas para hacer un mejor manejo de datos. Algunas cosas a las que deberás prestar atención (tal vez no a todas):\n",
    "1. Tipos de datos: elige tipos de datos apropiados para cada columna.\n",
    "2. Descartar columnas poco informativas.\n",
    "3. Guardar en memoria datasets preprocesados para no tener que repetir código que tarde en correr.\n",
    "\n",
    "### Exploración de datos\n",
    "\n",
    "Dedícale un buen tiempo a hacer un Análisis Exploratorio de Datos. Elige preguntas que creas que puedas responder con este dataset. Por ejemplo, ¿cuáles son los juegos más populares?¿Y los menos populares?\n",
    "\n",
    "### Filtro Colaborativo\n",
    "\n",
    "Deberás implementar un sistema de recomendación colaborativo para este dataset. Ten en cuenta:\n",
    "\n",
    "1. Haz todas las transformaciones de datos que consideres necesarias. Justifica.\n",
    "1. Evalúa de forma apropiada sus resultados. Justifica la métrica elegida.\n",
    "1. Elige un modelo benchmark y compara tus resultados con este modelo.\n",
    "1. Optimiza los hiperparámetros de tu modelo.\n",
    "\n",
    "Puedes implementar un filtro colaborativo a partir de la similitud coseno o índice de Jaccard. ¿Puedes utilizar los métodos de la librería Surprise? Si no es así, busca implementaciones (por ejemplo, nuevas librerías) que sean apropiadas.\n",
    "\n",
    "Para comenzar a trabajar, puedes asumir que cada entrada es un enlace entre una persona usuaria y un item, **independientemente** de si la crítica es buena o mala. \n",
    "\n",
    "### Para pensar, investigar y, opcionalmente, implementar\n",
    "1. ¿Cómo harías para ponerle un valor a la calificación?\n",
    "1. ¿Cómo harías para agregar contenido? Por ejemplo, cuentas con el género, precio, fecha de lanzamiento y más información de los juegos.\n",
    "1. ¿Hay algo que te gustaría investigar o probar?\n",
    "\n",
    "### **¡Tómate tiempo para investigar y leer mucho!**"
   ]
  },
  {
   "cell_type": "code",
   "execution_count": 1,
   "metadata": {},
   "outputs": [],
   "source": [
    "## Importo las librerías que necesitaré para el proyecto\n",
    "import gzip\n",
    "import pandas as pd\n",
    "import numpy as np\n",
    "import itertools\n",
    "import plotly.express as px\n",
    "import plotly.graph_objects as go\n",
    "from time import strptime\n",
    "import gc #Garbage collector\n",
    "import datetime\n",
    "import re\n",
    "import nltk\n",
    "from nltk.stem import WordNetLemmatizer\n",
    "from PIL import Image\n",
    "from scipy.ndimage import gaussian_gradient_magnitude\n",
    "from IPython.display import display, SVG\n",
    "from sklearn.experimental import enable_iterative_imputer\n",
    "from sklearn.impute import IterativeImputer\n",
    "from sklearn.preprocessing import OrdinalEncoder\n",
    "import seaborn as sns\n",
    "import matplotlib.pyplot as plt\n",
    "from sklearn.metrics.pairwise import cosine_similarity\n",
    "from scipy import sparse\n"
   ]
  },
  {
   "cell_type": "code",
   "execution_count": 2,
   "metadata": {
    "id": "lWZhtUxEWTzj"
   },
   "outputs": [],
   "source": [
    "def parse(path):\n",
    "    g = gzip.open(path, 'r')\n",
    "    for l in g:\n",
    "        yield eval(l)"
   ]
  },
  {
   "cell_type": "markdown",
   "metadata": {
    "id": "BmEM25k4WTzw"
   },
   "source": [
    "# **Reviews**"
   ]
  },
  {
   "cell_type": "code",
   "execution_count": 3,
   "metadata": {
    "colab": {
     "base_uri": "https://localhost:8080/",
     "height": 398
    },
    "id": "abAXItn1WTz0",
    "outputId": "3e305ab5-e5c2-4e02-bc03-c134216a0000"
   },
   "outputs": [],
   "source": [
    "contador = 0\n",
    "data_reviews = []\n",
    "# Vamos a guardar una de cada 2 reviews para no llenar la memoria RAM. Si pones n = 3, \n",
    "# abrira uno de cada tres, y asi.\n",
    "n = 2\n",
    "for l in parse('steam_reviews.json.gz'):\n",
    "    if contador%n == 0:\n",
    "        data_reviews.append(l)\n",
    "    else:\n",
    "        pass\n",
    "    contador += 1\n"
   ]
  },
  {
   "cell_type": "code",
   "execution_count": 4,
   "metadata": {
    "id": "7GovAZQBWTz8"
   },
   "outputs": [],
   "source": [
    "data_reviews = pd.DataFrame(data_reviews)"
   ]
  },
  {
   "cell_type": "code",
   "execution_count": 5,
   "metadata": {
    "id": "j24F0ZaYWT0E"
   },
   "outputs": [
    {
     "data": {
      "text/html": [
       "<div>\n",
       "<style scoped>\n",
       "    .dataframe tbody tr th:only-of-type {\n",
       "        vertical-align: middle;\n",
       "    }\n",
       "\n",
       "    .dataframe tbody tr th {\n",
       "        vertical-align: top;\n",
       "    }\n",
       "\n",
       "    .dataframe thead th {\n",
       "        text-align: right;\n",
       "    }\n",
       "</style>\n",
       "<table border=\"1\" class=\"dataframe\">\n",
       "  <thead>\n",
       "    <tr style=\"text-align: right;\">\n",
       "      <th></th>\n",
       "      <th>username</th>\n",
       "      <th>hours</th>\n",
       "      <th>products</th>\n",
       "      <th>product_id</th>\n",
       "      <th>page_order</th>\n",
       "      <th>date</th>\n",
       "      <th>text</th>\n",
       "      <th>early_access</th>\n",
       "      <th>page</th>\n",
       "      <th>found_funny</th>\n",
       "      <th>compensation</th>\n",
       "      <th>user_id</th>\n",
       "    </tr>\n",
       "  </thead>\n",
       "  <tbody>\n",
       "    <tr>\n",
       "      <th>0</th>\n",
       "      <td>Chaos Syren</td>\n",
       "      <td>0.1</td>\n",
       "      <td>41.0</td>\n",
       "      <td>725280</td>\n",
       "      <td>0</td>\n",
       "      <td>2017-12-17</td>\n",
       "      <td>This would not be acceptable as an entertainme...</td>\n",
       "      <td>False</td>\n",
       "      <td>1</td>\n",
       "      <td>NaN</td>\n",
       "      <td>NaN</td>\n",
       "      <td>NaN</td>\n",
       "    </tr>\n",
       "    <tr>\n",
       "      <th>1</th>\n",
       "      <td>hello?&lt;</td>\n",
       "      <td>14.6</td>\n",
       "      <td>2.0</td>\n",
       "      <td>328100</td>\n",
       "      <td>1</td>\n",
       "      <td>2017-10-16</td>\n",
       "      <td>Better than Minecraft</td>\n",
       "      <td>False</td>\n",
       "      <td>1</td>\n",
       "      <td>2.0</td>\n",
       "      <td>Product received for free</td>\n",
       "      <td>NaN</td>\n",
       "    </tr>\n",
       "    <tr>\n",
       "      <th>2</th>\n",
       "      <td>DarklyThinking</td>\n",
       "      <td>16.6</td>\n",
       "      <td>577.0</td>\n",
       "      <td>35140</td>\n",
       "      <td>1</td>\n",
       "      <td>2018-01-04</td>\n",
       "      <td>Still worth playing in 2018.\\nProbably my favo...</td>\n",
       "      <td>False</td>\n",
       "      <td>1</td>\n",
       "      <td>NaN</td>\n",
       "      <td>NaN</td>\n",
       "      <td>76561198007483075</td>\n",
       "    </tr>\n",
       "    <tr>\n",
       "      <th>3</th>\n",
       "      <td>nd</td>\n",
       "      <td>1.0</td>\n",
       "      <td>2759.0</td>\n",
       "      <td>725280</td>\n",
       "      <td>2</td>\n",
       "      <td>2017-11-28</td>\n",
       "      <td>endless rooms of some underground complex, blo...</td>\n",
       "      <td>False</td>\n",
       "      <td>1</td>\n",
       "      <td>1.0</td>\n",
       "      <td>NaN</td>\n",
       "      <td>NaN</td>\n",
       "    </tr>\n",
       "    <tr>\n",
       "      <th>4</th>\n",
       "      <td>jimllfixitok</td>\n",
       "      <td>1.1</td>\n",
       "      <td>729.0</td>\n",
       "      <td>707610</td>\n",
       "      <td>0</td>\n",
       "      <td>2017-10-16</td>\n",
       "      <td>no sound. icons don't work. re-installed but n...</td>\n",
       "      <td>False</td>\n",
       "      <td>1</td>\n",
       "      <td>NaN</td>\n",
       "      <td>NaN</td>\n",
       "      <td>76561197970402776</td>\n",
       "    </tr>\n",
       "  </tbody>\n",
       "</table>\n",
       "</div>"
      ],
      "text/plain": [
       "         username  hours  products product_id  page_order        date  \\\n",
       "0     Chaos Syren    0.1      41.0     725280           0  2017-12-17   \n",
       "1         hello?<   14.6       2.0     328100           1  2017-10-16   \n",
       "2  DarklyThinking   16.6     577.0      35140           1  2018-01-04   \n",
       "3              nd    1.0    2759.0     725280           2  2017-11-28   \n",
       "4    jimllfixitok    1.1     729.0     707610           0  2017-10-16   \n",
       "\n",
       "                                                text  early_access  page  \\\n",
       "0  This would not be acceptable as an entertainme...         False     1   \n",
       "1                              Better than Minecraft         False     1   \n",
       "2  Still worth playing in 2018.\\nProbably my favo...         False     1   \n",
       "3  endless rooms of some underground complex, blo...         False     1   \n",
       "4  no sound. icons don't work. re-installed but n...         False     1   \n",
       "\n",
       "   found_funny               compensation            user_id  \n",
       "0          NaN                        NaN                NaN  \n",
       "1          2.0  Product received for free                NaN  \n",
       "2          NaN                        NaN  76561198007483075  \n",
       "3          1.0                        NaN                NaN  \n",
       "4          NaN                        NaN  76561197970402776  "
      ]
     },
     "execution_count": 5,
     "metadata": {},
     "output_type": "execute_result"
    }
   ],
   "source": [
    "## Importo la cabecera del set de datos para averiguar que datos contiene\n",
    "data_reviews.head()"
   ]
  },
  {
   "cell_type": "code",
   "execution_count": 6,
   "metadata": {},
   "outputs": [
    {
     "data": {
      "text/plain": [
       "(3896535, 12)"
      ]
     },
     "execution_count": 6,
     "metadata": {},
     "output_type": "execute_result"
    }
   ],
   "source": [
    "data_reviews.shape"
   ]
  },
  {
   "cell_type": "code",
   "execution_count": 7,
   "metadata": {
    "id": "8F-EVRZ4WT0L"
   },
   "outputs": [
    {
     "data": {
      "text/plain": [
       "username              0\n",
       "hours             13206\n",
       "products           7531\n",
       "product_id            0\n",
       "page_order            0\n",
       "date                  0\n",
       "text                  0\n",
       "early_access          0\n",
       "page                  0\n",
       "found_funny     3296831\n",
       "compensation    3823747\n",
       "user_id         2308752\n",
       "dtype: int64"
      ]
     },
     "execution_count": 7,
     "metadata": {},
     "output_type": "execute_result"
    }
   ],
   "source": [
    "## Analizo los valores faltantes de cada una de las columnas\n",
    "data_reviews.isna().sum()"
   ]
  },
  {
   "cell_type": "code",
   "execution_count": 8,
   "metadata": {},
   "outputs": [],
   "source": [
    "## Solo dejaremos las columnas que creo que pueda ser necesarias preporcesar y utilizar a efectos de agilizar el tratamiento\n",
    "## de los datos\n",
    "data_reviews= pd.DataFrame(data_reviews, columns=['username', 'hours','product_id','date','text'])"
   ]
  },
  {
   "cell_type": "code",
   "execution_count": 9,
   "metadata": {},
   "outputs": [
    {
     "data": {
      "text/html": [
       "<div>\n",
       "<style scoped>\n",
       "    .dataframe tbody tr th:only-of-type {\n",
       "        vertical-align: middle;\n",
       "    }\n",
       "\n",
       "    .dataframe tbody tr th {\n",
       "        vertical-align: top;\n",
       "    }\n",
       "\n",
       "    .dataframe thead th {\n",
       "        text-align: right;\n",
       "    }\n",
       "</style>\n",
       "<table border=\"1\" class=\"dataframe\">\n",
       "  <thead>\n",
       "    <tr style=\"text-align: right;\">\n",
       "      <th></th>\n",
       "      <th>username</th>\n",
       "      <th>hours</th>\n",
       "      <th>product_id</th>\n",
       "      <th>date</th>\n",
       "      <th>text</th>\n",
       "    </tr>\n",
       "  </thead>\n",
       "  <tbody>\n",
       "    <tr>\n",
       "      <th>0</th>\n",
       "      <td>Chaos Syren</td>\n",
       "      <td>0.1</td>\n",
       "      <td>725280</td>\n",
       "      <td>2017-12-17</td>\n",
       "      <td>This would not be acceptable as an entertainme...</td>\n",
       "    </tr>\n",
       "    <tr>\n",
       "      <th>1</th>\n",
       "      <td>hello?&lt;</td>\n",
       "      <td>14.6</td>\n",
       "      <td>328100</td>\n",
       "      <td>2017-10-16</td>\n",
       "      <td>Better than Minecraft</td>\n",
       "    </tr>\n",
       "    <tr>\n",
       "      <th>2</th>\n",
       "      <td>DarklyThinking</td>\n",
       "      <td>16.6</td>\n",
       "      <td>35140</td>\n",
       "      <td>2018-01-04</td>\n",
       "      <td>Still worth playing in 2018.\\nProbably my favo...</td>\n",
       "    </tr>\n",
       "    <tr>\n",
       "      <th>3</th>\n",
       "      <td>nd</td>\n",
       "      <td>1.0</td>\n",
       "      <td>725280</td>\n",
       "      <td>2017-11-28</td>\n",
       "      <td>endless rooms of some underground complex, blo...</td>\n",
       "    </tr>\n",
       "    <tr>\n",
       "      <th>4</th>\n",
       "      <td>jimllfixitok</td>\n",
       "      <td>1.1</td>\n",
       "      <td>707610</td>\n",
       "      <td>2017-10-16</td>\n",
       "      <td>no sound. icons don't work. re-installed but n...</td>\n",
       "    </tr>\n",
       "  </tbody>\n",
       "</table>\n",
       "</div>"
      ],
      "text/plain": [
       "         username  hours product_id        date  \\\n",
       "0     Chaos Syren    0.1     725280  2017-12-17   \n",
       "1         hello?<   14.6     328100  2017-10-16   \n",
       "2  DarklyThinking   16.6      35140  2018-01-04   \n",
       "3              nd    1.0     725280  2017-11-28   \n",
       "4    jimllfixitok    1.1     707610  2017-10-16   \n",
       "\n",
       "                                                text  \n",
       "0  This would not be acceptable as an entertainme...  \n",
       "1                              Better than Minecraft  \n",
       "2  Still worth playing in 2018.\\nProbably my favo...  \n",
       "3  endless rooms of some underground complex, blo...  \n",
       "4  no sound. icons don't work. re-installed but n...  "
      ]
     },
     "execution_count": 9,
     "metadata": {},
     "output_type": "execute_result"
    }
   ],
   "source": [
    "# Muestro nuevamente el set de datos con las columnas que me parece que voy a poder utilizar\n",
    "data_reviews.head()"
   ]
  },
  {
   "cell_type": "code",
   "execution_count": 10,
   "metadata": {},
   "outputs": [
    {
     "data": {
      "text/plain": [
       "username       object\n",
       "hours         float64\n",
       "product_id     object\n",
       "date           object\n",
       "text           object\n",
       "dtype: object"
      ]
     },
     "execution_count": 10,
     "metadata": {},
     "output_type": "execute_result"
    }
   ],
   "source": [
    "### Averiguo que tipo de datos son los que tiene cada columna\n",
    "data_reviews.dtypes"
   ]
  },
  {
   "cell_type": "code",
   "execution_count": 11,
   "metadata": {},
   "outputs": [],
   "source": [
    "### Analizando los tipos de datos, me parece importante transformar el tipo de dato \"date\" a tipo \"tiempo\" para eso \n",
    "### importaremos la librería datetime\n",
    "import datetime"
   ]
  },
  {
   "cell_type": "code",
   "execution_count": 12,
   "metadata": {},
   "outputs": [],
   "source": [
    "data_reviews['date'] = pd.to_datetime(data_reviews['date'])"
   ]
  },
  {
   "cell_type": "code",
   "execution_count": 13,
   "metadata": {},
   "outputs": [
    {
     "data": {
      "text/plain": [
       "username              object\n",
       "hours                float64\n",
       "product_id            object\n",
       "date          datetime64[ns]\n",
       "text                  object\n",
       "dtype: object"
      ]
     },
     "execution_count": 13,
     "metadata": {},
     "output_type": "execute_result"
    }
   ],
   "source": [
    "data_reviews.dtypes"
   ]
  },
  {
   "cell_type": "code",
   "execution_count": 14,
   "metadata": {},
   "outputs": [
    {
     "name": "stdout",
     "output_type": "stream",
     "text": [
      "(3896535, 5)\n"
     ]
    },
    {
     "data": {
      "text/html": [
       "<div>\n",
       "<style scoped>\n",
       "    .dataframe tbody tr th:only-of-type {\n",
       "        vertical-align: middle;\n",
       "    }\n",
       "\n",
       "    .dataframe tbody tr th {\n",
       "        vertical-align: top;\n",
       "    }\n",
       "\n",
       "    .dataframe thead th {\n",
       "        text-align: right;\n",
       "    }\n",
       "</style>\n",
       "<table border=\"1\" class=\"dataframe\">\n",
       "  <thead>\n",
       "    <tr style=\"text-align: right;\">\n",
       "      <th></th>\n",
       "      <th>username</th>\n",
       "      <th>hours</th>\n",
       "      <th>product_id</th>\n",
       "      <th>date</th>\n",
       "      <th>text</th>\n",
       "    </tr>\n",
       "  </thead>\n",
       "  <tbody>\n",
       "    <tr>\n",
       "      <th>0</th>\n",
       "      <td>Chaos Syren</td>\n",
       "      <td>0.1</td>\n",
       "      <td>725280</td>\n",
       "      <td>2017-12-17</td>\n",
       "      <td>This would not be acceptable as an entertainme...</td>\n",
       "    </tr>\n",
       "    <tr>\n",
       "      <th>1</th>\n",
       "      <td>hello?&lt;</td>\n",
       "      <td>14.6</td>\n",
       "      <td>328100</td>\n",
       "      <td>2017-10-16</td>\n",
       "      <td>Better than Minecraft</td>\n",
       "    </tr>\n",
       "    <tr>\n",
       "      <th>2</th>\n",
       "      <td>DarklyThinking</td>\n",
       "      <td>16.6</td>\n",
       "      <td>35140</td>\n",
       "      <td>2018-01-04</td>\n",
       "      <td>Still worth playing in 2018.\\nProbably my favo...</td>\n",
       "    </tr>\n",
       "    <tr>\n",
       "      <th>3</th>\n",
       "      <td>nd</td>\n",
       "      <td>1.0</td>\n",
       "      <td>725280</td>\n",
       "      <td>2017-11-28</td>\n",
       "      <td>endless rooms of some underground complex, blo...</td>\n",
       "    </tr>\n",
       "    <tr>\n",
       "      <th>4</th>\n",
       "      <td>jimllfixitok</td>\n",
       "      <td>1.1</td>\n",
       "      <td>707610</td>\n",
       "      <td>2017-10-16</td>\n",
       "      <td>no sound. icons don't work. re-installed but n...</td>\n",
       "    </tr>\n",
       "  </tbody>\n",
       "</table>\n",
       "</div>"
      ],
      "text/plain": [
       "         username  hours product_id       date  \\\n",
       "0     Chaos Syren    0.1     725280 2017-12-17   \n",
       "1         hello?<   14.6     328100 2017-10-16   \n",
       "2  DarklyThinking   16.6      35140 2018-01-04   \n",
       "3              nd    1.0     725280 2017-11-28   \n",
       "4    jimllfixitok    1.1     707610 2017-10-16   \n",
       "\n",
       "                                                text  \n",
       "0  This would not be acceptable as an entertainme...  \n",
       "1                              Better than Minecraft  \n",
       "2  Still worth playing in 2018.\\nProbably my favo...  \n",
       "3  endless rooms of some underground complex, blo...  \n",
       "4  no sound. icons don't work. re-installed but n...  "
      ]
     },
     "execution_count": 14,
     "metadata": {},
     "output_type": "execute_result"
    }
   ],
   "source": [
    "#Veamos como quedó hasta hora nuestro dataframe\n",
    "print(data_reviews.shape)\n",
    "data_reviews.head()"
   ]
  },
  {
   "cell_type": "code",
   "execution_count": 15,
   "metadata": {},
   "outputs": [
    {
     "data": {
      "text/plain": [
       "username          0\n",
       "hours         13206\n",
       "product_id        0\n",
       "date              0\n",
       "text              0\n",
       "dtype: int64"
      ]
     },
     "execution_count": 15,
     "metadata": {},
     "output_type": "execute_result"
    }
   ],
   "source": [
    "# Analizamos que porcentaje de datos faltantes quedan en cada columna de reviews\n",
    "data_reviews.isna().sum()"
   ]
  },
  {
   "cell_type": "code",
   "execution_count": 16,
   "metadata": {},
   "outputs": [
    {
     "data": {
      "text/plain": [
       "440       91809\n",
       "252490    51104\n",
       "49520     36487\n",
       "377160    35432\n",
       "271590    29585\n",
       "          ...  \n",
       "736140        1\n",
       "696310        1\n",
       "752780        1\n",
       "721420        1\n",
       "753670        1\n",
       "Name: product_id, Length: 14970, dtype: int64"
      ]
     },
     "execution_count": 16,
     "metadata": {},
     "output_type": "execute_result"
    }
   ],
   "source": [
    "# Averiguo como están distribuidos los reviews de los distintos juegos por su id de producto (product_id). \n",
    "# De esta manera conozco cuales son los juegos con más información en cuanto a los usuarios que lo jugaron\n",
    "data_reviews['product_id'].value_counts()"
   ]
  },
  {
   "cell_type": "code",
   "execution_count": 17,
   "metadata": {},
   "outputs": [
    {
     "data": {
      "text/plain": [
       "123                     1056\n",
       "Alex                     926\n",
       "Chris                    742\n",
       "Nick                     699\n",
       "Tom                      660\n",
       "                        ... \n",
       "brannen1124                1\n",
       "Frozerize                  1\n",
       "It's A Goose!              1\n",
       "phillipinpc                1\n",
       "brvzi momo pvpro.com       1\n",
       "Name: username, Length: 1716724, dtype: int64"
      ]
     },
     "execution_count": 17,
     "metadata": {},
     "output_type": "execute_result"
    }
   ],
   "source": [
    "# cuantos usuarios hay y cuantas reviews dió cada uno de ellos\n",
    "data_reviews['username'].value_counts()"
   ]
  },
  {
   "cell_type": "code",
   "execution_count": 18,
   "metadata": {},
   "outputs": [],
   "source": [
    "#Registros duplicados\n",
    "data_reviews.drop_duplicates(inplace=True, ignore_index=True)"
   ]
  },
  {
   "cell_type": "code",
   "execution_count": 19,
   "metadata": {},
   "outputs": [
    {
     "data": {
      "text/plain": [
       "(3681082, 5)"
      ]
     },
     "execution_count": 19,
     "metadata": {},
     "output_type": "execute_result"
    }
   ],
   "source": [
    "data_reviews.shape"
   ]
  },
  {
   "cell_type": "code",
   "execution_count": 20,
   "metadata": {},
   "outputs": [
    {
     "data": {
      "text/plain": [
       "username          0\n",
       "hours         13079\n",
       "product_id        0\n",
       "date              0\n",
       "text              0\n",
       "dtype: int64"
      ]
     },
     "execution_count": 20,
     "metadata": {},
     "output_type": "execute_result"
    }
   ],
   "source": [
    "data_reviews.isna().sum()"
   ]
  },
  {
   "cell_type": "markdown",
   "metadata": {},
   "source": [
    "### Tratamiento de Horas Faltantes"
   ]
  },
  {
   "cell_type": "markdown",
   "metadata": {},
   "source": [
    "Las horas faltantes no son representativas, representan el 0.37 del total de datos del dataframe, por lo tanto, con calcular el promedio de cada usuario sería una buen medida"
   ]
  },
  {
   "cell_type": "code",
   "execution_count": 21,
   "metadata": {},
   "outputs": [
    {
     "data": {
      "text/plain": [
       "Index(['username', 'hours', 'product_id', 'date', 'text'], dtype='object')"
      ]
     },
     "execution_count": 21,
     "metadata": {},
     "output_type": "execute_result"
    }
   ],
   "source": [
    "data_reviews.columns"
   ]
  },
  {
   "cell_type": "code",
   "execution_count": 22,
   "metadata": {},
   "outputs": [],
   "source": [
    "ordinalCategories = OrdinalEncoder(dtype=int).fit_transform(data_reviews[['username', 'product_id']])\n",
    "X = np.c_[ordinalCategories, data_reviews.hours]\n",
    "                                                            \n",
    "data_imputed = IterativeImputer(random_state=42).fit_transform(X)"
   ]
  },
  {
   "cell_type": "code",
   "execution_count": 23,
   "metadata": {},
   "outputs": [],
   "source": [
    "# Reemplazado valores imputados en la serie\n",
    "data_reviews.hours = data_imputed[:,2]"
   ]
  },
  {
   "cell_type": "code",
   "execution_count": 24,
   "metadata": {},
   "outputs": [
    {
     "data": {
      "text/plain": [
       "username      0\n",
       "hours         0\n",
       "product_id    0\n",
       "date          0\n",
       "text          0\n",
       "dtype: int64"
      ]
     },
     "execution_count": 24,
     "metadata": {},
     "output_type": "execute_result"
    }
   ],
   "source": [
    "data_reviews.isna().sum()"
   ]
  },
  {
   "cell_type": "code",
   "execution_count": 25,
   "metadata": {},
   "outputs": [
    {
     "data": {
      "text/plain": [
       "(3681082, 5)"
      ]
     },
     "execution_count": 25,
     "metadata": {},
     "output_type": "execute_result"
    }
   ],
   "source": [
    "data_reviews.shape"
   ]
  },
  {
   "cell_type": "code",
   "execution_count": 26,
   "metadata": {},
   "outputs": [],
   "source": [
    "#Una vez preprocesado el archivo lo guardamos en otro para dejar solo la información que necesitamos\n",
    "if True:\n",
    "    data_reviews.to_csv('data_reviews.csv', index= False)"
   ]
  },
  {
   "cell_type": "markdown",
   "metadata": {
    "id": "04ed3teRWT0T"
   },
   "source": [
    "**Preprocesamiento de Games**"
   ]
  },
  {
   "cell_type": "code",
   "execution_count": 27,
   "metadata": {
    "id": "8wRb24Y5WT0U"
   },
   "outputs": [],
   "source": [
    "# Comencemos a preprocesar el archivo de los juegos. Procedemos a cargarlo de manera que tambien vaya agregando al dataframe\n",
    "# data_games. En este caso la cantidad de juegos es más pequeña por lo tanto utilizamos la totalidad de los mismos.\n",
    "data_games = []\n",
    "for l in parse('steam_games.json.gz'):\n",
    "    data_games.append(l)\n",
    "data_games = pd.DataFrame(data_games)"
   ]
  },
  {
   "cell_type": "code",
   "execution_count": 28,
   "metadata": {
    "id": "sVR0Cs6SWT0b"
   },
   "outputs": [
    {
     "data": {
      "text/html": [
       "<div>\n",
       "<style scoped>\n",
       "    .dataframe tbody tr th:only-of-type {\n",
       "        vertical-align: middle;\n",
       "    }\n",
       "\n",
       "    .dataframe tbody tr th {\n",
       "        vertical-align: top;\n",
       "    }\n",
       "\n",
       "    .dataframe thead th {\n",
       "        text-align: right;\n",
       "    }\n",
       "</style>\n",
       "<table border=\"1\" class=\"dataframe\">\n",
       "  <thead>\n",
       "    <tr style=\"text-align: right;\">\n",
       "      <th></th>\n",
       "      <th>publisher</th>\n",
       "      <th>genres</th>\n",
       "      <th>app_name</th>\n",
       "      <th>title</th>\n",
       "      <th>url</th>\n",
       "      <th>release_date</th>\n",
       "      <th>tags</th>\n",
       "      <th>discount_price</th>\n",
       "      <th>reviews_url</th>\n",
       "      <th>specs</th>\n",
       "      <th>price</th>\n",
       "      <th>early_access</th>\n",
       "      <th>id</th>\n",
       "      <th>developer</th>\n",
       "      <th>sentiment</th>\n",
       "      <th>metascore</th>\n",
       "    </tr>\n",
       "  </thead>\n",
       "  <tbody>\n",
       "    <tr>\n",
       "      <th>0</th>\n",
       "      <td>Kotoshiro</td>\n",
       "      <td>[Action, Casual, Indie, Simulation, Strategy]</td>\n",
       "      <td>Lost Summoner Kitty</td>\n",
       "      <td>Lost Summoner Kitty</td>\n",
       "      <td>http://store.steampowered.com/app/761140/Lost_...</td>\n",
       "      <td>2018-01-04</td>\n",
       "      <td>[Strategy, Action, Indie, Casual, Simulation]</td>\n",
       "      <td>4.49</td>\n",
       "      <td>http://steamcommunity.com/app/761140/reviews/?...</td>\n",
       "      <td>[Single-player]</td>\n",
       "      <td>4.99</td>\n",
       "      <td>False</td>\n",
       "      <td>761140</td>\n",
       "      <td>Kotoshiro</td>\n",
       "      <td>NaN</td>\n",
       "      <td>NaN</td>\n",
       "    </tr>\n",
       "    <tr>\n",
       "      <th>1</th>\n",
       "      <td>Making Fun, Inc.</td>\n",
       "      <td>[Free to Play, Indie, RPG, Strategy]</td>\n",
       "      <td>Ironbound</td>\n",
       "      <td>Ironbound</td>\n",
       "      <td>http://store.steampowered.com/app/643980/Ironb...</td>\n",
       "      <td>2018-01-04</td>\n",
       "      <td>[Free to Play, Strategy, Indie, RPG, Card Game...</td>\n",
       "      <td>NaN</td>\n",
       "      <td>http://steamcommunity.com/app/643980/reviews/?...</td>\n",
       "      <td>[Single-player, Multi-player, Online Multi-Pla...</td>\n",
       "      <td>Free To Play</td>\n",
       "      <td>False</td>\n",
       "      <td>643980</td>\n",
       "      <td>Secret Level SRL</td>\n",
       "      <td>Mostly Positive</td>\n",
       "      <td>NaN</td>\n",
       "    </tr>\n",
       "    <tr>\n",
       "      <th>2</th>\n",
       "      <td>Poolians.com</td>\n",
       "      <td>[Casual, Free to Play, Indie, Simulation, Sports]</td>\n",
       "      <td>Real Pool 3D - Poolians</td>\n",
       "      <td>Real Pool 3D - Poolians</td>\n",
       "      <td>http://store.steampowered.com/app/670290/Real_...</td>\n",
       "      <td>2017-07-24</td>\n",
       "      <td>[Free to Play, Simulation, Sports, Casual, Ind...</td>\n",
       "      <td>NaN</td>\n",
       "      <td>http://steamcommunity.com/app/670290/reviews/?...</td>\n",
       "      <td>[Single-player, Multi-player, Online Multi-Pla...</td>\n",
       "      <td>Free to Play</td>\n",
       "      <td>False</td>\n",
       "      <td>670290</td>\n",
       "      <td>Poolians.com</td>\n",
       "      <td>Mostly Positive</td>\n",
       "      <td>NaN</td>\n",
       "    </tr>\n",
       "    <tr>\n",
       "      <th>3</th>\n",
       "      <td>彼岸领域</td>\n",
       "      <td>[Action, Adventure, Casual]</td>\n",
       "      <td>弹炸人2222</td>\n",
       "      <td>弹炸人2222</td>\n",
       "      <td>http://store.steampowered.com/app/767400/2222/</td>\n",
       "      <td>2017-12-07</td>\n",
       "      <td>[Action, Adventure, Casual]</td>\n",
       "      <td>0.83</td>\n",
       "      <td>http://steamcommunity.com/app/767400/reviews/?...</td>\n",
       "      <td>[Single-player]</td>\n",
       "      <td>0.99</td>\n",
       "      <td>False</td>\n",
       "      <td>767400</td>\n",
       "      <td>彼岸领域</td>\n",
       "      <td>NaN</td>\n",
       "      <td>NaN</td>\n",
       "    </tr>\n",
       "    <tr>\n",
       "      <th>4</th>\n",
       "      <td>NaN</td>\n",
       "      <td>NaN</td>\n",
       "      <td>Log Challenge</td>\n",
       "      <td>NaN</td>\n",
       "      <td>http://store.steampowered.com/app/773570/Log_C...</td>\n",
       "      <td>NaN</td>\n",
       "      <td>[Action, Indie, Casual, Sports]</td>\n",
       "      <td>1.79</td>\n",
       "      <td>http://steamcommunity.com/app/773570/reviews/?...</td>\n",
       "      <td>[Single-player, Full controller support, HTC V...</td>\n",
       "      <td>2.99</td>\n",
       "      <td>False</td>\n",
       "      <td>773570</td>\n",
       "      <td>NaN</td>\n",
       "      <td>NaN</td>\n",
       "      <td>NaN</td>\n",
       "    </tr>\n",
       "  </tbody>\n",
       "</table>\n",
       "</div>"
      ],
      "text/plain": [
       "          publisher                                             genres  \\\n",
       "0         Kotoshiro      [Action, Casual, Indie, Simulation, Strategy]   \n",
       "1  Making Fun, Inc.               [Free to Play, Indie, RPG, Strategy]   \n",
       "2      Poolians.com  [Casual, Free to Play, Indie, Simulation, Sports]   \n",
       "3              彼岸领域                        [Action, Adventure, Casual]   \n",
       "4               NaN                                                NaN   \n",
       "\n",
       "                  app_name                    title  \\\n",
       "0      Lost Summoner Kitty      Lost Summoner Kitty   \n",
       "1                Ironbound                Ironbound   \n",
       "2  Real Pool 3D - Poolians  Real Pool 3D - Poolians   \n",
       "3                  弹炸人2222                  弹炸人2222   \n",
       "4            Log Challenge                      NaN   \n",
       "\n",
       "                                                 url release_date  \\\n",
       "0  http://store.steampowered.com/app/761140/Lost_...   2018-01-04   \n",
       "1  http://store.steampowered.com/app/643980/Ironb...   2018-01-04   \n",
       "2  http://store.steampowered.com/app/670290/Real_...   2017-07-24   \n",
       "3     http://store.steampowered.com/app/767400/2222/   2017-12-07   \n",
       "4  http://store.steampowered.com/app/773570/Log_C...          NaN   \n",
       "\n",
       "                                                tags  discount_price  \\\n",
       "0      [Strategy, Action, Indie, Casual, Simulation]            4.49   \n",
       "1  [Free to Play, Strategy, Indie, RPG, Card Game...             NaN   \n",
       "2  [Free to Play, Simulation, Sports, Casual, Ind...             NaN   \n",
       "3                        [Action, Adventure, Casual]            0.83   \n",
       "4                    [Action, Indie, Casual, Sports]            1.79   \n",
       "\n",
       "                                         reviews_url  \\\n",
       "0  http://steamcommunity.com/app/761140/reviews/?...   \n",
       "1  http://steamcommunity.com/app/643980/reviews/?...   \n",
       "2  http://steamcommunity.com/app/670290/reviews/?...   \n",
       "3  http://steamcommunity.com/app/767400/reviews/?...   \n",
       "4  http://steamcommunity.com/app/773570/reviews/?...   \n",
       "\n",
       "                                               specs         price  \\\n",
       "0                                    [Single-player]          4.99   \n",
       "1  [Single-player, Multi-player, Online Multi-Pla...  Free To Play   \n",
       "2  [Single-player, Multi-player, Online Multi-Pla...  Free to Play   \n",
       "3                                    [Single-player]          0.99   \n",
       "4  [Single-player, Full controller support, HTC V...          2.99   \n",
       "\n",
       "   early_access      id         developer        sentiment metascore  \n",
       "0         False  761140         Kotoshiro              NaN       NaN  \n",
       "1         False  643980  Secret Level SRL  Mostly Positive       NaN  \n",
       "2         False  670290      Poolians.com  Mostly Positive       NaN  \n",
       "3         False  767400              彼岸领域              NaN       NaN  \n",
       "4         False  773570               NaN              NaN       NaN  "
      ]
     },
     "execution_count": 28,
     "metadata": {},
     "output_type": "execute_result"
    }
   ],
   "source": [
    "data_games.head()"
   ]
  },
  {
   "cell_type": "code",
   "execution_count": 29,
   "metadata": {
    "id": "Bt5BLCw5WT0g"
   },
   "outputs": [
    {
     "data": {
      "text/html": [
       "<div>\n",
       "<style scoped>\n",
       "    .dataframe tbody tr th:only-of-type {\n",
       "        vertical-align: middle;\n",
       "    }\n",
       "\n",
       "    .dataframe tbody tr th {\n",
       "        vertical-align: top;\n",
       "    }\n",
       "\n",
       "    .dataframe thead th {\n",
       "        text-align: right;\n",
       "    }\n",
       "</style>\n",
       "<table border=\"1\" class=\"dataframe\">\n",
       "  <thead>\n",
       "    <tr style=\"text-align: right;\">\n",
       "      <th></th>\n",
       "      <th>publisher</th>\n",
       "      <th>genres</th>\n",
       "      <th>app_name</th>\n",
       "      <th>title</th>\n",
       "      <th>url</th>\n",
       "      <th>release_date</th>\n",
       "      <th>tags</th>\n",
       "      <th>discount_price</th>\n",
       "      <th>reviews_url</th>\n",
       "      <th>specs</th>\n",
       "      <th>price</th>\n",
       "      <th>early_access</th>\n",
       "      <th>id</th>\n",
       "      <th>developer</th>\n",
       "      <th>sentiment</th>\n",
       "      <th>metascore</th>\n",
       "    </tr>\n",
       "  </thead>\n",
       "  <tbody>\n",
       "    <tr>\n",
       "      <th>31617</th>\n",
       "      <td>Warner Bros. Interactive Entertainment, Feral ...</td>\n",
       "      <td>[Action, Adventure]</td>\n",
       "      <td>Batman: Arkham Asylum Game of the Year Edition</td>\n",
       "      <td>Batman: Arkham Asylum Game of the Year Edition</td>\n",
       "      <td>http://store.steampowered.com/app/35140/Batman...</td>\n",
       "      <td>2010-03-26</td>\n",
       "      <td>[Action, Batman, Stealth, Adventure, Third Per...</td>\n",
       "      <td>NaN</td>\n",
       "      <td>http://steamcommunity.com/app/35140/reviews/?b...</td>\n",
       "      <td>[Single-player, Steam Achievements, Steam Trad...</td>\n",
       "      <td>19.99</td>\n",
       "      <td>False</td>\n",
       "      <td>35140</td>\n",
       "      <td>Rocksteady Studios,Feral Interactive (Mac)</td>\n",
       "      <td>Overwhelmingly Positive</td>\n",
       "      <td>91</td>\n",
       "    </tr>\n",
       "  </tbody>\n",
       "</table>\n",
       "</div>"
      ],
      "text/plain": [
       "                                               publisher               genres  \\\n",
       "31617  Warner Bros. Interactive Entertainment, Feral ...  [Action, Adventure]   \n",
       "\n",
       "                                             app_name  \\\n",
       "31617  Batman: Arkham Asylum Game of the Year Edition   \n",
       "\n",
       "                                                title  \\\n",
       "31617  Batman: Arkham Asylum Game of the Year Edition   \n",
       "\n",
       "                                                     url release_date  \\\n",
       "31617  http://store.steampowered.com/app/35140/Batman...   2010-03-26   \n",
       "\n",
       "                                                    tags  discount_price  \\\n",
       "31617  [Action, Batman, Stealth, Adventure, Third Per...             NaN   \n",
       "\n",
       "                                             reviews_url  \\\n",
       "31617  http://steamcommunity.com/app/35140/reviews/?b...   \n",
       "\n",
       "                                                   specs  price  early_access  \\\n",
       "31617  [Single-player, Steam Achievements, Steam Trad...  19.99         False   \n",
       "\n",
       "          id                                   developer  \\\n",
       "31617  35140  Rocksteady Studios,Feral Interactive (Mac)   \n",
       "\n",
       "                     sentiment metascore  \n",
       "31617  Overwhelmingly Positive        91  "
      ]
     },
     "execution_count": 29,
     "metadata": {},
     "output_type": "execute_result"
    }
   ],
   "source": [
    "data_games[data_games.id == '35140']\n",
    "#print(data_games.shape)"
   ]
  },
  {
   "cell_type": "code",
   "execution_count": 30,
   "metadata": {},
   "outputs": [],
   "source": [
    "# En el caso del dataframe de juegos, dejaremos las columnas que nos parece importante. genres, release_date,\n",
    "# tags, specs, price, id, developer\n",
    "data_games.drop(columns=['title', 'discount_price', 'reviews_url',\n",
    "                         'early_access', 'developer', 'sentiment', 'metascore'], inplace=True)\n",
    "data_games1= pd.DataFrame(data_games, columns=['genres','app_name','release_date','tags','specs','price','id','publisher', 'url'])"
   ]
  },
  {
   "cell_type": "code",
   "execution_count": 31,
   "metadata": {},
   "outputs": [
    {
     "name": "stdout",
     "output_type": "stream",
     "text": [
      "(32135, 9)\n"
     ]
    },
    {
     "data": {
      "text/html": [
       "<div>\n",
       "<style scoped>\n",
       "    .dataframe tbody tr th:only-of-type {\n",
       "        vertical-align: middle;\n",
       "    }\n",
       "\n",
       "    .dataframe tbody tr th {\n",
       "        vertical-align: top;\n",
       "    }\n",
       "\n",
       "    .dataframe thead th {\n",
       "        text-align: right;\n",
       "    }\n",
       "</style>\n",
       "<table border=\"1\" class=\"dataframe\">\n",
       "  <thead>\n",
       "    <tr style=\"text-align: right;\">\n",
       "      <th></th>\n",
       "      <th>genres</th>\n",
       "      <th>app_name</th>\n",
       "      <th>release_date</th>\n",
       "      <th>tags</th>\n",
       "      <th>specs</th>\n",
       "      <th>price</th>\n",
       "      <th>id</th>\n",
       "      <th>publisher</th>\n",
       "      <th>url</th>\n",
       "    </tr>\n",
       "  </thead>\n",
       "  <tbody>\n",
       "    <tr>\n",
       "      <th>0</th>\n",
       "      <td>[Action, Casual, Indie, Simulation, Strategy]</td>\n",
       "      <td>Lost Summoner Kitty</td>\n",
       "      <td>2018-01-04</td>\n",
       "      <td>[Strategy, Action, Indie, Casual, Simulation]</td>\n",
       "      <td>[Single-player]</td>\n",
       "      <td>4.99</td>\n",
       "      <td>761140</td>\n",
       "      <td>Kotoshiro</td>\n",
       "      <td>http://store.steampowered.com/app/761140/Lost_...</td>\n",
       "    </tr>\n",
       "    <tr>\n",
       "      <th>1</th>\n",
       "      <td>[Free to Play, Indie, RPG, Strategy]</td>\n",
       "      <td>Ironbound</td>\n",
       "      <td>2018-01-04</td>\n",
       "      <td>[Free to Play, Strategy, Indie, RPG, Card Game...</td>\n",
       "      <td>[Single-player, Multi-player, Online Multi-Pla...</td>\n",
       "      <td>Free To Play</td>\n",
       "      <td>643980</td>\n",
       "      <td>Making Fun, Inc.</td>\n",
       "      <td>http://store.steampowered.com/app/643980/Ironb...</td>\n",
       "    </tr>\n",
       "    <tr>\n",
       "      <th>2</th>\n",
       "      <td>[Casual, Free to Play, Indie, Simulation, Sports]</td>\n",
       "      <td>Real Pool 3D - Poolians</td>\n",
       "      <td>2017-07-24</td>\n",
       "      <td>[Free to Play, Simulation, Sports, Casual, Ind...</td>\n",
       "      <td>[Single-player, Multi-player, Online Multi-Pla...</td>\n",
       "      <td>Free to Play</td>\n",
       "      <td>670290</td>\n",
       "      <td>Poolians.com</td>\n",
       "      <td>http://store.steampowered.com/app/670290/Real_...</td>\n",
       "    </tr>\n",
       "    <tr>\n",
       "      <th>3</th>\n",
       "      <td>[Action, Adventure, Casual]</td>\n",
       "      <td>弹炸人2222</td>\n",
       "      <td>2017-12-07</td>\n",
       "      <td>[Action, Adventure, Casual]</td>\n",
       "      <td>[Single-player]</td>\n",
       "      <td>0.99</td>\n",
       "      <td>767400</td>\n",
       "      <td>彼岸领域</td>\n",
       "      <td>http://store.steampowered.com/app/767400/2222/</td>\n",
       "    </tr>\n",
       "    <tr>\n",
       "      <th>4</th>\n",
       "      <td>NaN</td>\n",
       "      <td>Log Challenge</td>\n",
       "      <td>NaN</td>\n",
       "      <td>[Action, Indie, Casual, Sports]</td>\n",
       "      <td>[Single-player, Full controller support, HTC V...</td>\n",
       "      <td>2.99</td>\n",
       "      <td>773570</td>\n",
       "      <td>NaN</td>\n",
       "      <td>http://store.steampowered.com/app/773570/Log_C...</td>\n",
       "    </tr>\n",
       "  </tbody>\n",
       "</table>\n",
       "</div>"
      ],
      "text/plain": [
       "                                              genres                 app_name  \\\n",
       "0      [Action, Casual, Indie, Simulation, Strategy]      Lost Summoner Kitty   \n",
       "1               [Free to Play, Indie, RPG, Strategy]                Ironbound   \n",
       "2  [Casual, Free to Play, Indie, Simulation, Sports]  Real Pool 3D - Poolians   \n",
       "3                        [Action, Adventure, Casual]                  弹炸人2222   \n",
       "4                                                NaN            Log Challenge   \n",
       "\n",
       "  release_date                                               tags  \\\n",
       "0   2018-01-04      [Strategy, Action, Indie, Casual, Simulation]   \n",
       "1   2018-01-04  [Free to Play, Strategy, Indie, RPG, Card Game...   \n",
       "2   2017-07-24  [Free to Play, Simulation, Sports, Casual, Ind...   \n",
       "3   2017-12-07                        [Action, Adventure, Casual]   \n",
       "4          NaN                    [Action, Indie, Casual, Sports]   \n",
       "\n",
       "                                               specs         price      id  \\\n",
       "0                                    [Single-player]          4.99  761140   \n",
       "1  [Single-player, Multi-player, Online Multi-Pla...  Free To Play  643980   \n",
       "2  [Single-player, Multi-player, Online Multi-Pla...  Free to Play  670290   \n",
       "3                                    [Single-player]          0.99  767400   \n",
       "4  [Single-player, Full controller support, HTC V...          2.99  773570   \n",
       "\n",
       "          publisher                                                url  \n",
       "0         Kotoshiro  http://store.steampowered.com/app/761140/Lost_...  \n",
       "1  Making Fun, Inc.  http://store.steampowered.com/app/643980/Ironb...  \n",
       "2      Poolians.com  http://store.steampowered.com/app/670290/Real_...  \n",
       "3              彼岸领域     http://store.steampowered.com/app/767400/2222/  \n",
       "4               NaN  http://store.steampowered.com/app/773570/Log_C...  "
      ]
     },
     "execution_count": 31,
     "metadata": {},
     "output_type": "execute_result"
    }
   ],
   "source": [
    "print(data_games1.shape)\n",
    "data_games1.head()"
   ]
  },
  {
   "cell_type": "markdown",
   "metadata": {},
   "source": [
    "De esta manera veo cuales son los datos que contiene cada columna - Publicado por - Genero - fecha de lanzamiento - etiquetas - precio rebajado - Precio - id - desarrollador - sentimiento - metascore"
   ]
  },
  {
   "cell_type": "code",
   "execution_count": 32,
   "metadata": {},
   "outputs": [
    {
     "data": {
      "text/plain": [
       "genres          object\n",
       "app_name        object\n",
       "release_date    object\n",
       "tags            object\n",
       "specs           object\n",
       "price           object\n",
       "id              object\n",
       "publisher       object\n",
       "url             object\n",
       "dtype: object"
      ]
     },
     "execution_count": 32,
     "metadata": {},
     "output_type": "execute_result"
    }
   ],
   "source": [
    "# Que tipo de datos contiene \n",
    "data_games1.dtypes"
   ]
  },
  {
   "cell_type": "markdown",
   "metadata": {},
   "source": [
    "## Transformo "
   ]
  },
  {
   "cell_type": "code",
   "execution_count": 33,
   "metadata": {},
   "outputs": [
    {
     "data": {
      "text/plain": [
       "genres          3283\n",
       "app_name           2\n",
       "release_date    2067\n",
       "tags             163\n",
       "specs            670\n",
       "price           1377\n",
       "id                 2\n",
       "publisher       8052\n",
       "url                0\n",
       "dtype: int64"
      ]
     },
     "execution_count": 33,
     "metadata": {},
     "output_type": "execute_result"
    }
   ],
   "source": [
    "# Determino la cantidad de datos faltantes (en porcentaje) de cada una de las columnas para determinar cuales puedes ser las \n",
    "# que podré darle más peso, y cuales son las que le daré una importancia más relativa teniendo en cuenta esta situación. \n",
    "data_games1.isna().sum()"
   ]
  },
  {
   "cell_type": "code",
   "execution_count": 34,
   "metadata": {},
   "outputs": [
    {
     "data": {
      "text/html": [
       "<div>\n",
       "<style scoped>\n",
       "    .dataframe tbody tr th:only-of-type {\n",
       "        vertical-align: middle;\n",
       "    }\n",
       "\n",
       "    .dataframe tbody tr th {\n",
       "        vertical-align: top;\n",
       "    }\n",
       "\n",
       "    .dataframe thead th {\n",
       "        text-align: right;\n",
       "    }\n",
       "</style>\n",
       "<table border=\"1\" class=\"dataframe\">\n",
       "  <thead>\n",
       "    <tr style=\"text-align: right;\">\n",
       "      <th></th>\n",
       "      <th>genres</th>\n",
       "      <th>app_name</th>\n",
       "      <th>release_date</th>\n",
       "      <th>tags</th>\n",
       "      <th>specs</th>\n",
       "      <th>price</th>\n",
       "      <th>id</th>\n",
       "      <th>publisher</th>\n",
       "      <th>url</th>\n",
       "    </tr>\n",
       "  </thead>\n",
       "  <tbody>\n",
       "    <tr>\n",
       "      <th>74</th>\n",
       "      <td>NaN</td>\n",
       "      <td>NaN</td>\n",
       "      <td>NaN</td>\n",
       "      <td>NaN</td>\n",
       "      <td>NaN</td>\n",
       "      <td>19.99</td>\n",
       "      <td>NaN</td>\n",
       "      <td>NaN</td>\n",
       "      <td>http://store.steampowered.com/</td>\n",
       "    </tr>\n",
       "    <tr>\n",
       "      <th>2580</th>\n",
       "      <td>[Action, Indie]</td>\n",
       "      <td>NaN</td>\n",
       "      <td>2014-08-26</td>\n",
       "      <td>[Action, Indie]</td>\n",
       "      <td>[Single-player, Game demo]</td>\n",
       "      <td>NaN</td>\n",
       "      <td>317160</td>\n",
       "      <td>NaN</td>\n",
       "      <td>http://store.steampowered.com/app/317160/_/</td>\n",
       "    </tr>\n",
       "  </tbody>\n",
       "</table>\n",
       "</div>"
      ],
      "text/plain": [
       "               genres app_name release_date             tags  \\\n",
       "74                NaN      NaN          NaN              NaN   \n",
       "2580  [Action, Indie]      NaN   2014-08-26  [Action, Indie]   \n",
       "\n",
       "                           specs  price      id publisher  \\\n",
       "74                           NaN  19.99     NaN       NaN   \n",
       "2580  [Single-player, Game demo]    NaN  317160       NaN   \n",
       "\n",
       "                                              url  \n",
       "74                 http://store.steampowered.com/  \n",
       "2580  http://store.steampowered.com/app/317160/_/  "
      ]
     },
     "execution_count": 34,
     "metadata": {},
     "output_type": "execute_result"
    }
   ],
   "source": [
    "# Video juegos con nombres faltantes\n",
    "data_games1[data_games1.app_name.isna()]"
   ]
  },
  {
   "cell_type": "code",
   "execution_count": 35,
   "metadata": {},
   "outputs": [
    {
     "data": {
      "text/html": [
       "<div>\n",
       "<style scoped>\n",
       "    .dataframe tbody tr th:only-of-type {\n",
       "        vertical-align: middle;\n",
       "    }\n",
       "\n",
       "    .dataframe tbody tr th {\n",
       "        vertical-align: top;\n",
       "    }\n",
       "\n",
       "    .dataframe thead th {\n",
       "        text-align: right;\n",
       "    }\n",
       "</style>\n",
       "<table border=\"1\" class=\"dataframe\">\n",
       "  <thead>\n",
       "    <tr style=\"text-align: right;\">\n",
       "      <th></th>\n",
       "      <th>genres</th>\n",
       "      <th>app_name</th>\n",
       "      <th>release_date</th>\n",
       "      <th>tags</th>\n",
       "      <th>specs</th>\n",
       "      <th>price</th>\n",
       "      <th>id</th>\n",
       "      <th>publisher</th>\n",
       "      <th>url</th>\n",
       "    </tr>\n",
       "  </thead>\n",
       "  <tbody>\n",
       "    <tr>\n",
       "      <th>13894</th>\n",
       "      <td>[Action]</td>\n",
       "      <td>Wolfenstein II: The New Colossus</td>\n",
       "      <td>2017-10-26</td>\n",
       "      <td>[Action, FPS, Gore, Violent, Alternate History...</td>\n",
       "      <td>[Single-player, Steam Achievements, Full contr...</td>\n",
       "      <td>59.99</td>\n",
       "      <td>612880</td>\n",
       "      <td>Bethesda Softworks</td>\n",
       "      <td>http://store.steampowered.com/app/612880/</td>\n",
       "    </tr>\n",
       "    <tr>\n",
       "      <th>14573</th>\n",
       "      <td>[Action]</td>\n",
       "      <td>Wolfenstein II: The New Colossus</td>\n",
       "      <td>2017-10-26</td>\n",
       "      <td>[Action, FPS, Gore, Violent, Alternate History...</td>\n",
       "      <td>[Single-player, Steam Achievements, Full contr...</td>\n",
       "      <td>59.99</td>\n",
       "      <td>612880</td>\n",
       "      <td>Bethesda Softworks</td>\n",
       "      <td>http://store.steampowered.com/app/612880/Wolfe...</td>\n",
       "    </tr>\n",
       "    <tr>\n",
       "      <th>30961</th>\n",
       "      <td>[Action, Adventure]</td>\n",
       "      <td>Batman: Arkham City - Game of the Year Edition</td>\n",
       "      <td>2012-09-07</td>\n",
       "      <td>[Action, Open World, Batman, Adventure, Stealt...</td>\n",
       "      <td>[Single-player, Steam Achievements, Steam Trad...</td>\n",
       "      <td>19.99</td>\n",
       "      <td>NaN</td>\n",
       "      <td>Warner Bros. Interactive Entertainment, Feral ...</td>\n",
       "      <td>http://store.steampowered.com/app/200260</td>\n",
       "    </tr>\n",
       "    <tr>\n",
       "      <th>74</th>\n",
       "      <td>NaN</td>\n",
       "      <td>NaN</td>\n",
       "      <td>NaN</td>\n",
       "      <td>NaN</td>\n",
       "      <td>NaN</td>\n",
       "      <td>19.99</td>\n",
       "      <td>NaN</td>\n",
       "      <td>NaN</td>\n",
       "      <td>http://store.steampowered.com/</td>\n",
       "    </tr>\n",
       "  </tbody>\n",
       "</table>\n",
       "</div>"
      ],
      "text/plain": [
       "                    genres                                        app_name  \\\n",
       "13894             [Action]                Wolfenstein II: The New Colossus   \n",
       "14573             [Action]                Wolfenstein II: The New Colossus   \n",
       "30961  [Action, Adventure]  Batman: Arkham City - Game of the Year Edition   \n",
       "74                     NaN                                             NaN   \n",
       "\n",
       "      release_date                                               tags  \\\n",
       "13894   2017-10-26  [Action, FPS, Gore, Violent, Alternate History...   \n",
       "14573   2017-10-26  [Action, FPS, Gore, Violent, Alternate History...   \n",
       "30961   2012-09-07  [Action, Open World, Batman, Adventure, Stealt...   \n",
       "74             NaN                                                NaN   \n",
       "\n",
       "                                                   specs  price      id  \\\n",
       "13894  [Single-player, Steam Achievements, Full contr...  59.99  612880   \n",
       "14573  [Single-player, Steam Achievements, Full contr...  59.99  612880   \n",
       "30961  [Single-player, Steam Achievements, Steam Trad...  19.99     NaN   \n",
       "74                                                   NaN  19.99     NaN   \n",
       "\n",
       "                                               publisher  \\\n",
       "13894                                 Bethesda Softworks   \n",
       "14573                                 Bethesda Softworks   \n",
       "30961  Warner Bros. Interactive Entertainment, Feral ...   \n",
       "74                                                   NaN   \n",
       "\n",
       "                                                     url  \n",
       "13894          http://store.steampowered.com/app/612880/  \n",
       "14573  http://store.steampowered.com/app/612880/Wolfe...  \n",
       "30961           http://store.steampowered.com/app/200260  \n",
       "74                        http://store.steampowered.com/  "
      ]
     },
     "execution_count": 35,
     "metadata": {},
     "output_type": "execute_result"
    }
   ],
   "source": [
    "# me pregunto si habrá videojuegos duplicado, procedo a filtrarlos\n",
    "data_games1[data_games1.duplicated(\n",
    "    subset=['id'], keep=False)].sort_values(by='publisher')"
   ]
  },
  {
   "cell_type": "markdown",
   "metadata": {},
   "source": [
    "y los elimino"
   ]
  },
  {
   "cell_type": "code",
   "execution_count": 36,
   "metadata": {},
   "outputs": [],
   "source": [
    "data_games1.drop_duplicates(subset=['id'], ignore_index=True, inplace=True)"
   ]
  },
  {
   "cell_type": "code",
   "execution_count": 37,
   "metadata": {},
   "outputs": [
    {
     "data": {
      "text/html": [
       "<div>\n",
       "<style scoped>\n",
       "    .dataframe tbody tr th:only-of-type {\n",
       "        vertical-align: middle;\n",
       "    }\n",
       "\n",
       "    .dataframe tbody tr th {\n",
       "        vertical-align: top;\n",
       "    }\n",
       "\n",
       "    .dataframe thead th {\n",
       "        text-align: right;\n",
       "    }\n",
       "</style>\n",
       "<table border=\"1\" class=\"dataframe\">\n",
       "  <thead>\n",
       "    <tr style=\"text-align: right;\">\n",
       "      <th></th>\n",
       "      <th>genres</th>\n",
       "      <th>app_name</th>\n",
       "      <th>release_date</th>\n",
       "      <th>tags</th>\n",
       "      <th>specs</th>\n",
       "      <th>price</th>\n",
       "      <th>id</th>\n",
       "      <th>publisher</th>\n",
       "      <th>url</th>\n",
       "    </tr>\n",
       "  </thead>\n",
       "  <tbody>\n",
       "  </tbody>\n",
       "</table>\n",
       "</div>"
      ],
      "text/plain": [
       "Empty DataFrame\n",
       "Columns: [genres, app_name, release_date, tags, specs, price, id, publisher, url]\n",
       "Index: []"
      ]
     },
     "execution_count": 37,
     "metadata": {},
     "output_type": "execute_result"
    }
   ],
   "source": [
    "data_games1[data_games1.duplicated(\n",
    "    subset=['id'], keep=False)].sort_values(by='publisher')"
   ]
  },
  {
   "cell_type": "code",
   "execution_count": 38,
   "metadata": {},
   "outputs": [
    {
     "data": {
      "text/html": [
       "<div>\n",
       "<style scoped>\n",
       "    .dataframe tbody tr th:only-of-type {\n",
       "        vertical-align: middle;\n",
       "    }\n",
       "\n",
       "    .dataframe tbody tr th {\n",
       "        vertical-align: top;\n",
       "    }\n",
       "\n",
       "    .dataframe thead th {\n",
       "        text-align: right;\n",
       "    }\n",
       "</style>\n",
       "<table border=\"1\" class=\"dataframe\">\n",
       "  <thead>\n",
       "    <tr style=\"text-align: right;\">\n",
       "      <th></th>\n",
       "      <th>genres</th>\n",
       "      <th>app_name</th>\n",
       "      <th>release_date</th>\n",
       "      <th>tags</th>\n",
       "      <th>specs</th>\n",
       "      <th>price</th>\n",
       "      <th>id</th>\n",
       "      <th>publisher</th>\n",
       "      <th>url</th>\n",
       "    </tr>\n",
       "  </thead>\n",
       "  <tbody>\n",
       "    <tr>\n",
       "      <th>74</th>\n",
       "      <td>NaN</td>\n",
       "      <td>NaN</td>\n",
       "      <td>NaN</td>\n",
       "      <td>NaN</td>\n",
       "      <td>NaN</td>\n",
       "      <td>19.99</td>\n",
       "      <td>NaN</td>\n",
       "      <td>NaN</td>\n",
       "      <td>http://store.steampowered.com/</td>\n",
       "    </tr>\n",
       "  </tbody>\n",
       "</table>\n",
       "</div>"
      ],
      "text/plain": [
       "   genres app_name release_date tags specs  price   id publisher  \\\n",
       "74    NaN      NaN          NaN  NaN   NaN  19.99  NaN       NaN   \n",
       "\n",
       "                               url  \n",
       "74  http://store.steampowered.com/  "
      ]
     },
     "execution_count": 38,
     "metadata": {},
     "output_type": "execute_result"
    }
   ],
   "source": [
    "data_games1[data_games1.id.isna()]"
   ]
  },
  {
   "cell_type": "code",
   "execution_count": 39,
   "metadata": {},
   "outputs": [
    {
     "data": {
      "text/plain": [
       "genres          3283\n",
       "app_name           2\n",
       "release_date    2067\n",
       "tags             163\n",
       "specs            670\n",
       "price           1377\n",
       "id                 1\n",
       "publisher       8052\n",
       "url                0\n",
       "dtype: int64"
      ]
     },
     "execution_count": 39,
     "metadata": {},
     "output_type": "execute_result"
    }
   ],
   "source": [
    "# Cuantas valores faltantes data_games.isna().sum()\n",
    "data_games1.isna().sum()"
   ]
  },
  {
   "cell_type": "markdown",
   "metadata": {},
   "source": [
    "Necesito conocer cual es el juego más popular, para medir esto necesito determinar cuantos usuarios lo juegan y cuantas horas lo han jugado cada uno."
   ]
  },
  {
   "cell_type": "code",
   "execution_count": 40,
   "metadata": {},
   "outputs": [
    {
     "name": "stdout",
     "output_type": "stream",
     "text": [
      "(31862, 9)\n"
     ]
    },
    {
     "name": "stderr",
     "output_type": "stream",
     "text": [
      "<ipython-input-40-e5b5ab29bcdb>:2: UserWarning: Boolean Series key will be reindexed to match DataFrame index.\n",
      "  data_games1 = data_games1[~isNan_genre_tag]\n"
     ]
    }
   ],
   "source": [
    "isNan_genre_tag = data_games1.genres.isna() & data_games.specs.isna()\n",
    "data_games1 = data_games1[~isNan_genre_tag]\n",
    "print(data_games1.shape)"
   ]
  },
  {
   "cell_type": "code",
   "execution_count": 41,
   "metadata": {},
   "outputs": [
    {
     "data": {
      "text/plain": [
       "genres          3012\n",
       "app_name           1\n",
       "release_date    2040\n",
       "tags             155\n",
       "specs            437\n",
       "price           1373\n",
       "id                 0\n",
       "publisher       7783\n",
       "url                0\n",
       "dtype: int64"
      ]
     },
     "execution_count": 41,
     "metadata": {},
     "output_type": "execute_result"
    }
   ],
   "source": [
    "data_games1.isna().sum()"
   ]
  },
  {
   "cell_type": "markdown",
   "metadata": {},
   "source": [
    "### Filtrado de categoría"
   ]
  },
  {
   "cell_type": "code",
   "execution_count": 42,
   "metadata": {},
   "outputs": [
    {
     "name": "stdout",
     "output_type": "stream",
     "text": [
      "(31711, 9)\n"
     ]
    }
   ],
   "source": [
    "# Filtraremos las categorías que tienen valores nulos en genres y specs\n",
    "isNan_genre_tag = data_games1.genres.isna() & data_games1.specs.isna()\n",
    "data_games1 = data_games1[~isNan_genre_tag]\n",
    "print(data_games1.shape)"
   ]
  },
  {
   "cell_type": "code",
   "execution_count": 43,
   "metadata": {},
   "outputs": [
    {
     "data": {
      "text/plain": [
       "genres          2861\n",
       "app_name           1\n",
       "release_date    2040\n",
       "tags             152\n",
       "specs            286\n",
       "price           1369\n",
       "id                 0\n",
       "publisher       7632\n",
       "url                0\n",
       "dtype: int64"
      ]
     },
     "execution_count": 43,
     "metadata": {},
     "output_type": "execute_result"
    }
   ],
   "source": [
    "data_games1.isna().sum()"
   ]
  },
  {
   "cell_type": "code",
   "execution_count": 44,
   "metadata": {},
   "outputs": [],
   "source": [
    "#Pienso en rellenar con una lista vacía los valores faltantes en 'genres','tags','specs' que son los que me servirá para\n",
    "#conocer la similitud de los juegos\n",
    "for col in ['genres', 'tags', 'specs']:\n",
    "    data_games1[col].fillna({i: [] for i in data_games1.index}, inplace=True)"
   ]
  },
  {
   "cell_type": "code",
   "execution_count": 45,
   "metadata": {},
   "outputs": [
    {
     "data": {
      "text/plain": [
       "genres             0\n",
       "app_name           1\n",
       "release_date    2040\n",
       "tags               0\n",
       "specs              0\n",
       "price           1369\n",
       "id                 0\n",
       "publisher       7632\n",
       "url                0\n",
       "dtype: int64"
      ]
     },
     "execution_count": 45,
     "metadata": {},
     "output_type": "execute_result"
    }
   ],
   "source": [
    "data_games1.isna().sum()"
   ]
  },
  {
   "cell_type": "code",
   "execution_count": 46,
   "metadata": {},
   "outputs": [],
   "source": [
    "#Para trabajar con los arrays que encuentro en las columnas genres, tags y specs debo importar numpy\n",
    "\n",
    "import numpy as np\n",
    "\n",
    "#Todas las categorías\n",
    "data_games1['categories'] = data_games1['genres'] + data_games1['tags'] + data_games1['specs']\n"
   ]
  },
  {
   "cell_type": "code",
   "execution_count": 47,
   "metadata": {},
   "outputs": [
    {
     "data": {
      "text/html": [
       "<div>\n",
       "<style scoped>\n",
       "    .dataframe tbody tr th:only-of-type {\n",
       "        vertical-align: middle;\n",
       "    }\n",
       "\n",
       "    .dataframe tbody tr th {\n",
       "        vertical-align: top;\n",
       "    }\n",
       "\n",
       "    .dataframe thead th {\n",
       "        text-align: right;\n",
       "    }\n",
       "</style>\n",
       "<table border=\"1\" class=\"dataframe\">\n",
       "  <thead>\n",
       "    <tr style=\"text-align: right;\">\n",
       "      <th></th>\n",
       "      <th>genres</th>\n",
       "      <th>app_name</th>\n",
       "      <th>release_date</th>\n",
       "      <th>tags</th>\n",
       "      <th>specs</th>\n",
       "      <th>price</th>\n",
       "      <th>id</th>\n",
       "      <th>publisher</th>\n",
       "      <th>url</th>\n",
       "      <th>categories</th>\n",
       "    </tr>\n",
       "  </thead>\n",
       "  <tbody>\n",
       "    <tr>\n",
       "      <th>0</th>\n",
       "      <td>[Action, Casual, Indie, Simulation, Strategy]</td>\n",
       "      <td>Lost Summoner Kitty</td>\n",
       "      <td>2018-01-04</td>\n",
       "      <td>[Strategy, Action, Indie, Casual, Simulation]</td>\n",
       "      <td>[Single-player]</td>\n",
       "      <td>4.99</td>\n",
       "      <td>761140</td>\n",
       "      <td>Kotoshiro</td>\n",
       "      <td>http://store.steampowered.com/app/761140/Lost_...</td>\n",
       "      <td>[Action, Casual, Indie, Simulation, Strategy, ...</td>\n",
       "    </tr>\n",
       "    <tr>\n",
       "      <th>1</th>\n",
       "      <td>[Free to Play, Indie, RPG, Strategy]</td>\n",
       "      <td>Ironbound</td>\n",
       "      <td>2018-01-04</td>\n",
       "      <td>[Free to Play, Strategy, Indie, RPG, Card Game...</td>\n",
       "      <td>[Single-player, Multi-player, Online Multi-Pla...</td>\n",
       "      <td>Free To Play</td>\n",
       "      <td>643980</td>\n",
       "      <td>Making Fun, Inc.</td>\n",
       "      <td>http://store.steampowered.com/app/643980/Ironb...</td>\n",
       "      <td>[Free to Play, Indie, RPG, Strategy, Free to P...</td>\n",
       "    </tr>\n",
       "  </tbody>\n",
       "</table>\n",
       "</div>"
      ],
      "text/plain": [
       "                                          genres             app_name  \\\n",
       "0  [Action, Casual, Indie, Simulation, Strategy]  Lost Summoner Kitty   \n",
       "1           [Free to Play, Indie, RPG, Strategy]            Ironbound   \n",
       "\n",
       "  release_date                                               tags  \\\n",
       "0   2018-01-04      [Strategy, Action, Indie, Casual, Simulation]   \n",
       "1   2018-01-04  [Free to Play, Strategy, Indie, RPG, Card Game...   \n",
       "\n",
       "                                               specs         price      id  \\\n",
       "0                                    [Single-player]          4.99  761140   \n",
       "1  [Single-player, Multi-player, Online Multi-Pla...  Free To Play  643980   \n",
       "\n",
       "          publisher                                                url  \\\n",
       "0         Kotoshiro  http://store.steampowered.com/app/761140/Lost_...   \n",
       "1  Making Fun, Inc.  http://store.steampowered.com/app/643980/Ironb...   \n",
       "\n",
       "                                          categories  \n",
       "0  [Action, Casual, Indie, Simulation, Strategy, ...  \n",
       "1  [Free to Play, Indie, RPG, Strategy, Free to P...  "
      ]
     },
     "execution_count": 47,
     "metadata": {},
     "output_type": "execute_result"
    }
   ],
   "source": [
    "data_games1.head(2)"
   ]
  },
  {
   "cell_type": "code",
   "execution_count": 48,
   "metadata": {},
   "outputs": [
    {
     "data": {
      "text/plain": [
       "array(['1980s', \"1990's\", '2.5D', '2D', '2D Fighter', '360 Video',\n",
       "       '3D Platformer', '3D Vision', '4 Player Local', '4X', '6DOF',\n",
       "       'Abstract', 'Accounting', 'Action', 'Action RPG',\n",
       "       'Action-Adventure', 'Adventure', 'Agriculture', 'Aliens',\n",
       "       'Alternate History', 'America', 'Animation & Modeling',\n",
       "       'Animation &amp; Modeling', 'Anime', 'Arcade', 'Arena Shooter',\n",
       "       'Artificial Intelligence', 'Assassin', 'Asynchronous Multiplayer',\n",
       "       'Atmospheric', 'Audio Production', 'Base Building',\n",
       "       'Based On A Novel', 'Basketball', 'Batman', \"Beat 'em up\",\n",
       "       'Benchmark', 'Bikes', 'Blood', 'Board Game', 'Bowling', 'Building',\n",
       "       'Bullet Hell', 'Bullet Time', 'CRPG', 'Capitalism',\n",
       "       'Captions available', 'Card Game', 'Cartoon', 'Cartoony', 'Casual',\n",
       "       'Character Action Game', 'Character Customization', 'Chess',\n",
       "       'Choices Matter', 'Choose Your Own Adventure', 'Cinematic',\n",
       "       'City Builder', 'Class-Based', 'Classic', 'Clicker', 'Co-op',\n",
       "       'Co-op Campaign', 'Cold War', 'Colorful', 'Comedy', 'Comic Book',\n",
       "       'Commentary available', 'Competitive', 'Conspiracy', 'Controller',\n",
       "       'Conversation', 'Crafting', 'Crime', 'Cross-Platform Multiplayer',\n",
       "       'Crowdfunded', 'Cult Classic', 'Cute', 'Cyberpunk', 'Cycling',\n",
       "       'Dark', 'Dark Comedy', 'Dark Fantasy', 'Dark Humor', 'Dating Sim',\n",
       "       'Demons', 'Design & Illustration', 'Design &amp; Illustration',\n",
       "       'Destruction', 'Detective', 'Difficult', 'Dinosaurs', 'Diplomacy',\n",
       "       'Documentary', 'Downloadable Content', 'Dragons', 'Drama',\n",
       "       'Driving', 'Dungeon Crawler', 'Dynamic Narration', 'Dystopian',\n",
       "       'Early Access', 'Economy', 'Education', 'Episodic', 'Experience',\n",
       "       'Experimental', 'Exploration', 'FMV', 'FPS', 'Faith',\n",
       "       'Family Friendly', 'Fantasy', 'Fast-Paced', 'Feature Film',\n",
       "       'Female Protagonist', 'Fighting', 'First-Person', 'Fishing',\n",
       "       'Flight', 'Football', 'Foreign', 'Free to Play',\n",
       "       'Full controller support', 'Funny', 'Futuristic', 'Gambling',\n",
       "       'Game Development', 'Game demo', 'GameMaker', 'Gamepad',\n",
       "       'Games Workshop', 'Gaming', 'God Game', 'Golf', 'Gore', 'Gothic',\n",
       "       'Grand Strategy', 'Great Soundtrack', 'Grid-Based Movement',\n",
       "       'Gun Customization', 'HTC Vive', 'Hack and Slash', 'Hacking',\n",
       "       'Hand-drawn', 'Hardware', 'Heist', 'Hex Grid', 'Hidden Object',\n",
       "       'Historical', 'Horror', 'Horses', 'Hunting', 'Illuminati',\n",
       "       'In-App Purchases', 'Includes Source SDK', 'Includes level editor',\n",
       "       'Indie', 'Intentionally Awkward Controls', 'Interactive Fiction',\n",
       "       'Inventory Management', 'Investigation', 'Isometric', 'JRPG',\n",
       "       'Keyboard / Mouse', 'Kickstarter', 'LEGO', 'Lara Croft',\n",
       "       'Lemmings', 'Level Editor', 'Linear', 'Local Co-Op', 'Local Co-op',\n",
       "       'Local Multi-Player', 'Local Multiplayer', 'Loot', 'Lore-Rich',\n",
       "       'Lovecraftian', 'MMO', 'MMORPG', 'MOBA', 'Magic', 'Management',\n",
       "       'Mars', 'Martial Arts', 'Massively Multiplayer', 'Match 3',\n",
       "       'Mature', 'Mechs', 'Medieval', 'Memes', 'Metroidvania', 'Military',\n",
       "       'Mini Golf', 'Minimalist', 'Mining', 'Mod', 'Moddable', 'Modern',\n",
       "       'Mods', 'Mods (require HL1)', 'Mods (require HL2)', 'Mouse only',\n",
       "       'Movie', 'Multi-player', 'Multiplayer', 'Multiple Endings',\n",
       "       'Music', 'Music-Based Procedural Generation', 'Mystery',\n",
       "       'Mystery Dungeon', 'Mythology', 'NSFW', 'Narration', 'Naval',\n",
       "       'Ninja', 'Noir', 'Nonlinear', 'Nudity', 'Oculus Rift', 'Offroad',\n",
       "       'On-Rails Shooter', 'Online Co-Op', 'Online Co-op',\n",
       "       'Online Multi-Player', 'Open World', 'Otome', 'Parkour', 'Parody',\n",
       "       'Partial Controller Support', 'Party-Based RPG', 'Perma Death',\n",
       "       'Philisophical', 'Photo Editing', 'Physics', 'Pinball', 'Pirates',\n",
       "       'Pixel Graphics', 'Platformer', 'Point & Click', 'Political',\n",
       "       'Politics', 'Pool', 'Post-apocalyptic', 'Procedural Generation',\n",
       "       'Programming', 'Psychedelic', 'Psychological',\n",
       "       'Psychological Horror', 'Puzzle', 'Puzzle-Platformer', 'PvE',\n",
       "       'PvP', 'Quick-Time Events', 'RPG', 'RPGMaker', 'RTS', 'Racing',\n",
       "       'Real Time Tactics', 'Real-Time', 'Real-Time with Pause',\n",
       "       'Realistic', 'Relaxing', 'Remake', 'Replay Value',\n",
       "       'Resource Management', 'Retro', 'Rhythm', 'Robots', 'Rogue-like',\n",
       "       'Rogue-lite', 'Romance', 'Rome', 'Room-Scale', 'Runner', 'Sailing',\n",
       "       'Sandbox', 'Satire', 'Sci-fi', 'Science', 'Score Attack', 'Seated',\n",
       "       'Sexual Content', 'Shared/Split Screen', \"Shoot 'Em Up\", 'Shooter',\n",
       "       'Short', 'Side Scroller', 'Silent Protagonist', 'Simulation',\n",
       "       'Single-player', 'Singleplayer', 'Sniper', 'Soccer', 'Software',\n",
       "       'Software Training', 'Sokoban', 'Soundtrack', 'Space', 'Space Sim',\n",
       "       'Spectacle fighter', 'Spelling', 'Split Screen', 'Sports',\n",
       "       'Standing', 'Star Wars', 'Stats', 'Stealth', 'Steam Achievements',\n",
       "       'Steam Cloud', 'Steam Leaderboards', 'Steam Machine',\n",
       "       'Steam Trading Cards', 'Steam Turn Notifications',\n",
       "       'Steam Workshop', 'SteamVR Collectibles', 'Steampunk',\n",
       "       'Story Rich', 'Strategy', 'Strategy RPG', 'Stylized', 'Superhero',\n",
       "       'Supernatural', 'Surreal', 'Survival', 'Survival Horror',\n",
       "       'Swordplay', 'Tactical', 'Tactical RPG', 'Tanks', 'Team-Based',\n",
       "       'Text-Based', 'Third Person', 'Third-Person Shooter', 'Thriller',\n",
       "       'Time Attack', 'Time Manipulation', 'Time Travel', 'Top-Down',\n",
       "       'Top-Down Shooter', 'Touch-Friendly', 'Tower Defense', 'TrackIR',\n",
       "       'Tracked Motion Controllers', 'Trading', 'Trading Card Game',\n",
       "       'Trains', 'Transhumanism', 'Turn-Based', 'Turn-Based Combat',\n",
       "       'Turn-Based Strategy', 'Turn-Based Tactics', 'Tutorial',\n",
       "       'Twin Stick Shooter', 'Typing', 'Underground', 'Underwater',\n",
       "       'Utilities', 'VR', 'Valve Anti-Cheat enabled', 'Vampire',\n",
       "       'Video Production', 'Villain Protagonist', 'Violent',\n",
       "       'Visual Novel', 'Voice Control', 'Voxel', 'Walking Simulator',\n",
       "       'War', 'Wargame', 'Warhammer 40K', 'Web Publishing', 'Werewolves',\n",
       "       'Western', 'Windows Mixed Reality', 'Word Game', 'World War I',\n",
       "       'World War II', 'Wrestling', 'Zombies', 'e-sports'], dtype='<U33')"
      ]
     },
     "execution_count": 48,
     "metadata": {},
     "output_type": "execute_result"
    }
   ],
   "source": [
    "import itertools\n",
    "\n",
    "#Obtencion de categorías únicas\n",
    "data_games1['categories'] = [np.unique(cat) for cat in data_games1.categories]\n",
    "\n",
    "\n",
    "#Obtencion de categorías únicas\n",
    "np.unique(list(itertools.chain(*data_games1.categories)))"
   ]
  },
  {
   "cell_type": "code",
   "execution_count": 49,
   "metadata": {},
   "outputs": [],
   "source": [
    "#Removiendo caracteres, ej: Single-player singleplayer, Multiplayer, MultiPlayer, Multi-Player\n",
    "data_games1['categories'] = [[re.sub(r'[^\\w\\s]', '', subcat).lower() for subcat in cat] \n",
    "                            for cat in data_games1.categories]"
   ]
  },
  {
   "cell_type": "code",
   "execution_count": 50,
   "metadata": {},
   "outputs": [
    {
     "data": {
      "text/plain": [
       "0        [action, casual, indie, simulation, singleplay...\n",
       "1        [2d, board game, card game, character customiz...\n",
       "2        [casual, free to play, inapp purchases, indie,...\n",
       "3                [action, adventure, casual, singleplayer]\n",
       "4        [action, casual, full controller support, htc ...\n",
       "                               ...                        \n",
       "32128    [casual, indie, simulation, singleplayer, stea...\n",
       "32129    [casual, indie, singleplayer, stats, steam ach...\n",
       "32130    [indie, racing, simulation, singleplayer, stea...\n",
       "32131    [atmospheric, casual, indie, puzzle, relaxing,...\n",
       "32132    [action, adventure, early access, htc vive, in...\n",
       "Name: categories, Length: 31711, dtype: object"
      ]
     },
     "execution_count": 50,
     "metadata": {},
     "output_type": "execute_result"
    }
   ],
   "source": [
    "data_games1['categories']"
   ]
  },
  {
   "cell_type": "code",
   "execution_count": 51,
   "metadata": {},
   "outputs": [],
   "source": [
    "#Haciendo una revisión de todos las categorías de manera manual, elimino las que no considero \"games\"\n",
    "INVALID_CATEGORIES = ['photo editing', 'game development', 'documentary', 'video production', 'tutorial', 'software',\n",
    "                      'movie', 'software training', 'soundtrack', 'utilities', 'accounting', 'downloadable content']"
   ]
  },
  {
   "cell_type": "code",
   "execution_count": 52,
   "metadata": {},
   "outputs": [],
   "source": [
    "def getTuplesPandas(search_list):\n",
    "    return pd.DataFrame([game for game in data_games1.itertuples()\n",
    "            if np.isin(search_list, game.categories).sum() > 0])"
   ]
  },
  {
   "cell_type": "code",
   "execution_count": 53,
   "metadata": {},
   "outputs": [
    {
     "name": "stderr",
     "output_type": "stream",
     "text": [
      "<ipython-input-53-5c110f7cc1d2>:1: UserWarning: Boolean Series key will be reindexed to match DataFrame index.\n",
      "  data_games1 = data_games1[~data_games.id.isin(getTuplesPandas(INVALID_CATEGORIES).id)]\n"
     ]
    }
   ],
   "source": [
    "\n",
    "data_games1 = data_games1[~data_games.id.isin(getTuplesPandas(INVALID_CATEGORIES).id)]\n"
   ]
  },
  {
   "cell_type": "code",
   "execution_count": 54,
   "metadata": {},
   "outputs": [
    {
     "data": {
      "text/plain": [
       "(18037, 10)"
      ]
     },
     "execution_count": 54,
     "metadata": {},
     "output_type": "execute_result"
    }
   ],
   "source": [
    "data_games1.shape"
   ]
  },
  {
   "cell_type": "markdown",
   "metadata": {},
   "source": [
    "* Nos quedó un dataframe de 18037 juegos y 10 columnas; Dado que Spec y tags los resumimos en categories, las vamos a eliminar"
   ]
  },
  {
   "cell_type": "code",
   "execution_count": 55,
   "metadata": {},
   "outputs": [],
   "source": [
    "data_games1.drop(['specs', 'tags'], inplace=True, axis=1)"
   ]
  },
  {
   "cell_type": "code",
   "execution_count": 56,
   "metadata": {
    "id": "lWZhtUxEWTzj"
   },
   "outputs": [],
   "source": [
    "import seaborn as sns\n",
    "import matplotlib.pyplot as plt\n",
    "from sklearn.metrics.pairwise import cosine_similarity\n",
    "from scipy import sparse\n",
    "\n",
    "def parse(path):\n",
    "    g = gzip.open(path, 'r')\n",
    "    for l in g:\n",
    "        yield eval(l)"
   ]
  },
  {
   "cell_type": "code",
   "execution_count": 57,
   "metadata": {},
   "outputs": [
    {
     "data": {
      "text/html": [
       "<div>\n",
       "<style scoped>\n",
       "    .dataframe tbody tr th:only-of-type {\n",
       "        vertical-align: middle;\n",
       "    }\n",
       "\n",
       "    .dataframe tbody tr th {\n",
       "        vertical-align: top;\n",
       "    }\n",
       "\n",
       "    .dataframe thead th {\n",
       "        text-align: right;\n",
       "    }\n",
       "</style>\n",
       "<table border=\"1\" class=\"dataframe\">\n",
       "  <thead>\n",
       "    <tr style=\"text-align: right;\">\n",
       "      <th></th>\n",
       "      <th>genres</th>\n",
       "      <th>app_name</th>\n",
       "      <th>release_date</th>\n",
       "      <th>price</th>\n",
       "      <th>id</th>\n",
       "      <th>publisher</th>\n",
       "      <th>url</th>\n",
       "      <th>categories</th>\n",
       "    </tr>\n",
       "  </thead>\n",
       "  <tbody>\n",
       "    <tr>\n",
       "      <th>0</th>\n",
       "      <td>[Action, Casual, Indie, Simulation, Strategy]</td>\n",
       "      <td>Lost Summoner Kitty</td>\n",
       "      <td>2018-01-04</td>\n",
       "      <td>4.99</td>\n",
       "      <td>761140</td>\n",
       "      <td>Kotoshiro</td>\n",
       "      <td>http://store.steampowered.com/app/761140/Lost_...</td>\n",
       "      <td>[action, casual, indie, simulation, singleplay...</td>\n",
       "    </tr>\n",
       "    <tr>\n",
       "      <th>1</th>\n",
       "      <td>[Free to Play, Indie, RPG, Strategy]</td>\n",
       "      <td>Ironbound</td>\n",
       "      <td>2018-01-04</td>\n",
       "      <td>Free To Play</td>\n",
       "      <td>643980</td>\n",
       "      <td>Making Fun, Inc.</td>\n",
       "      <td>http://store.steampowered.com/app/643980/Ironb...</td>\n",
       "      <td>[2d, board game, card game, character customiz...</td>\n",
       "    </tr>\n",
       "    <tr>\n",
       "      <th>2</th>\n",
       "      <td>[Casual, Free to Play, Indie, Simulation, Sports]</td>\n",
       "      <td>Real Pool 3D - Poolians</td>\n",
       "      <td>2017-07-24</td>\n",
       "      <td>Free to Play</td>\n",
       "      <td>670290</td>\n",
       "      <td>Poolians.com</td>\n",
       "      <td>http://store.steampowered.com/app/670290/Real_...</td>\n",
       "      <td>[casual, free to play, inapp purchases, indie,...</td>\n",
       "    </tr>\n",
       "    <tr>\n",
       "      <th>3</th>\n",
       "      <td>[Action, Adventure, Casual]</td>\n",
       "      <td>弹炸人2222</td>\n",
       "      <td>2017-12-07</td>\n",
       "      <td>0.99</td>\n",
       "      <td>767400</td>\n",
       "      <td>彼岸领域</td>\n",
       "      <td>http://store.steampowered.com/app/767400/2222/</td>\n",
       "      <td>[action, adventure, casual, singleplayer]</td>\n",
       "    </tr>\n",
       "    <tr>\n",
       "      <th>4</th>\n",
       "      <td>[]</td>\n",
       "      <td>Log Challenge</td>\n",
       "      <td>NaN</td>\n",
       "      <td>2.99</td>\n",
       "      <td>773570</td>\n",
       "      <td>NaN</td>\n",
       "      <td>http://store.steampowered.com/app/773570/Log_C...</td>\n",
       "      <td>[action, casual, full controller support, htc ...</td>\n",
       "    </tr>\n",
       "  </tbody>\n",
       "</table>\n",
       "</div>"
      ],
      "text/plain": [
       "                                              genres                 app_name  \\\n",
       "0      [Action, Casual, Indie, Simulation, Strategy]      Lost Summoner Kitty   \n",
       "1               [Free to Play, Indie, RPG, Strategy]                Ironbound   \n",
       "2  [Casual, Free to Play, Indie, Simulation, Sports]  Real Pool 3D - Poolians   \n",
       "3                        [Action, Adventure, Casual]                  弹炸人2222   \n",
       "4                                                 []            Log Challenge   \n",
       "\n",
       "  release_date         price      id         publisher  \\\n",
       "0   2018-01-04          4.99  761140         Kotoshiro   \n",
       "1   2018-01-04  Free To Play  643980  Making Fun, Inc.   \n",
       "2   2017-07-24  Free to Play  670290      Poolians.com   \n",
       "3   2017-12-07          0.99  767400              彼岸领域   \n",
       "4          NaN          2.99  773570               NaN   \n",
       "\n",
       "                                                 url  \\\n",
       "0  http://store.steampowered.com/app/761140/Lost_...   \n",
       "1  http://store.steampowered.com/app/643980/Ironb...   \n",
       "2  http://store.steampowered.com/app/670290/Real_...   \n",
       "3     http://store.steampowered.com/app/767400/2222/   \n",
       "4  http://store.steampowered.com/app/773570/Log_C...   \n",
       "\n",
       "                                          categories  \n",
       "0  [action, casual, indie, simulation, singleplay...  \n",
       "1  [2d, board game, card game, character customiz...  \n",
       "2  [casual, free to play, inapp purchases, indie,...  \n",
       "3          [action, adventure, casual, singleplayer]  \n",
       "4  [action, casual, full controller support, htc ...  "
      ]
     },
     "execution_count": 57,
     "metadata": {},
     "output_type": "execute_result"
    }
   ],
   "source": [
    "data_games1.head()"
   ]
  },
  {
   "cell_type": "code",
   "execution_count": 58,
   "metadata": {},
   "outputs": [],
   "source": [
    "data_games1['genres'] = data_games1['genres'].apply(lambda x: np.nan if len(x) == 0 else x)"
   ]
  },
  {
   "cell_type": "code",
   "execution_count": 59,
   "metadata": {},
   "outputs": [
    {
     "data": {
      "text/plain": [
       "genres          1838\n",
       "app_name           1\n",
       "release_date    1614\n",
       "price            883\n",
       "id                 0\n",
       "publisher       2909\n",
       "url                0\n",
       "categories         0\n",
       "dtype: int64"
      ]
     },
     "execution_count": 59,
     "metadata": {},
     "output_type": "execute_result"
    }
   ],
   "source": [
    "data_games1.isna().sum()"
   ]
  },
  {
   "cell_type": "markdown",
   "metadata": {},
   "source": [
    "#### Transformando precios"
   ]
  },
  {
   "cell_type": "code",
   "execution_count": 60,
   "metadata": {},
   "outputs": [],
   "source": [
    "#La columna price está conformada por valores numéricos y categóricos\n",
    "category_prices = lambda x: np.unique(np.array([i for i in list(x) if type(i) == str]))"
   ]
  },
  {
   "cell_type": "code",
   "execution_count": 61,
   "metadata": {},
   "outputs": [
    {
     "data": {
      "text/plain": [
       "array(['Free', 'Free Demo', 'Free HITMAN™ Holiday Pack', 'Free Mod',\n",
       "       'Free Movie', 'Free To Play', 'Free to Play', 'Play Now',\n",
       "       'Play WARMACHINE: Tactics Demo', 'Play for Free!', 'Third-party'],\n",
       "      dtype='<U29')"
      ]
     },
     "execution_count": 61,
     "metadata": {},
     "output_type": "execute_result"
    }
   ],
   "source": [
    "category_prices(data_games1.price)"
   ]
  },
  {
   "cell_type": "code",
   "execution_count": 62,
   "metadata": {},
   "outputs": [],
   "source": [
    "def transform_prices(df):\n",
    "    df['category_price'] = df.price.apply(\n",
    "        lambda p: 'paid' if (type(p) == float or p.startswith('Starting')) else 'free')\n",
    "    df.drop('price', axis=1, inplace=True)"
   ]
  },
  {
   "cell_type": "code",
   "execution_count": 63,
   "metadata": {},
   "outputs": [
    {
     "data": {
      "text/html": [
       "<div>\n",
       "<style scoped>\n",
       "    .dataframe tbody tr th:only-of-type {\n",
       "        vertical-align: middle;\n",
       "    }\n",
       "\n",
       "    .dataframe tbody tr th {\n",
       "        vertical-align: top;\n",
       "    }\n",
       "\n",
       "    .dataframe thead th {\n",
       "        text-align: right;\n",
       "    }\n",
       "</style>\n",
       "<table border=\"1\" class=\"dataframe\">\n",
       "  <thead>\n",
       "    <tr style=\"text-align: right;\">\n",
       "      <th></th>\n",
       "      <th>genres</th>\n",
       "      <th>app_name</th>\n",
       "      <th>release_date</th>\n",
       "      <th>id</th>\n",
       "      <th>publisher</th>\n",
       "      <th>url</th>\n",
       "      <th>categories</th>\n",
       "      <th>category_price</th>\n",
       "    </tr>\n",
       "  </thead>\n",
       "  <tbody>\n",
       "    <tr>\n",
       "      <th>0</th>\n",
       "      <td>[Action, Casual, Indie, Simulation, Strategy]</td>\n",
       "      <td>Lost Summoner Kitty</td>\n",
       "      <td>2018-01-04</td>\n",
       "      <td>761140</td>\n",
       "      <td>Kotoshiro</td>\n",
       "      <td>http://store.steampowered.com/app/761140/Lost_...</td>\n",
       "      <td>[action, casual, indie, simulation, singleplay...</td>\n",
       "      <td>paid</td>\n",
       "    </tr>\n",
       "    <tr>\n",
       "      <th>1</th>\n",
       "      <td>[Free to Play, Indie, RPG, Strategy]</td>\n",
       "      <td>Ironbound</td>\n",
       "      <td>2018-01-04</td>\n",
       "      <td>643980</td>\n",
       "      <td>Making Fun, Inc.</td>\n",
       "      <td>http://store.steampowered.com/app/643980/Ironb...</td>\n",
       "      <td>[2d, board game, card game, character customiz...</td>\n",
       "      <td>free</td>\n",
       "    </tr>\n",
       "    <tr>\n",
       "      <th>2</th>\n",
       "      <td>[Casual, Free to Play, Indie, Simulation, Sports]</td>\n",
       "      <td>Real Pool 3D - Poolians</td>\n",
       "      <td>2017-07-24</td>\n",
       "      <td>670290</td>\n",
       "      <td>Poolians.com</td>\n",
       "      <td>http://store.steampowered.com/app/670290/Real_...</td>\n",
       "      <td>[casual, free to play, inapp purchases, indie,...</td>\n",
       "      <td>free</td>\n",
       "    </tr>\n",
       "    <tr>\n",
       "      <th>3</th>\n",
       "      <td>[Action, Adventure, Casual]</td>\n",
       "      <td>弹炸人2222</td>\n",
       "      <td>2017-12-07</td>\n",
       "      <td>767400</td>\n",
       "      <td>彼岸领域</td>\n",
       "      <td>http://store.steampowered.com/app/767400/2222/</td>\n",
       "      <td>[action, adventure, casual, singleplayer]</td>\n",
       "      <td>paid</td>\n",
       "    </tr>\n",
       "    <tr>\n",
       "      <th>4</th>\n",
       "      <td>NaN</td>\n",
       "      <td>Log Challenge</td>\n",
       "      <td>NaN</td>\n",
       "      <td>773570</td>\n",
       "      <td>NaN</td>\n",
       "      <td>http://store.steampowered.com/app/773570/Log_C...</td>\n",
       "      <td>[action, casual, full controller support, htc ...</td>\n",
       "      <td>paid</td>\n",
       "    </tr>\n",
       "  </tbody>\n",
       "</table>\n",
       "</div>"
      ],
      "text/plain": [
       "                                              genres                 app_name  \\\n",
       "0      [Action, Casual, Indie, Simulation, Strategy]      Lost Summoner Kitty   \n",
       "1               [Free to Play, Indie, RPG, Strategy]                Ironbound   \n",
       "2  [Casual, Free to Play, Indie, Simulation, Sports]  Real Pool 3D - Poolians   \n",
       "3                        [Action, Adventure, Casual]                  弹炸人2222   \n",
       "4                                                NaN            Log Challenge   \n",
       "\n",
       "  release_date      id         publisher  \\\n",
       "0   2018-01-04  761140         Kotoshiro   \n",
       "1   2018-01-04  643980  Making Fun, Inc.   \n",
       "2   2017-07-24  670290      Poolians.com   \n",
       "3   2017-12-07  767400              彼岸领域   \n",
       "4          NaN  773570               NaN   \n",
       "\n",
       "                                                 url  \\\n",
       "0  http://store.steampowered.com/app/761140/Lost_...   \n",
       "1  http://store.steampowered.com/app/643980/Ironb...   \n",
       "2  http://store.steampowered.com/app/670290/Real_...   \n",
       "3     http://store.steampowered.com/app/767400/2222/   \n",
       "4  http://store.steampowered.com/app/773570/Log_C...   \n",
       "\n",
       "                                          categories category_price  \n",
       "0  [action, casual, indie, simulation, singleplay...           paid  \n",
       "1  [2d, board game, card game, character customiz...           free  \n",
       "2  [casual, free to play, inapp purchases, indie,...           free  \n",
       "3          [action, adventure, casual, singleplayer]           paid  \n",
       "4  [action, casual, full controller support, htc ...           paid  "
      ]
     },
     "execution_count": 63,
     "metadata": {},
     "output_type": "execute_result"
    }
   ],
   "source": [
    "transform_prices(data_games1)\n",
    "data_games1.head()"
   ]
  },
  {
   "cell_type": "code",
   "execution_count": 64,
   "metadata": {},
   "outputs": [
    {
     "data": {
      "text/plain": [
       "genres            1838\n",
       "app_name             1\n",
       "release_date      1614\n",
       "id                   0\n",
       "publisher         2909\n",
       "url                  0\n",
       "categories           0\n",
       "category_price       0\n",
       "dtype: int64"
      ]
     },
     "execution_count": 64,
     "metadata": {},
     "output_type": "execute_result"
    }
   ],
   "source": [
    "data_games1.isnull().sum()"
   ]
  },
  {
   "cell_type": "code",
   "execution_count": 65,
   "metadata": {},
   "outputs": [],
   "source": [
    "#Una vez preprocesado el archivo lo guardamos en otro para dejar solo la información que necesitamos\n",
    "if True:\n",
    "    data_games1.to_csv('data_games.csv', index= False)"
   ]
  },
  {
   "cell_type": "markdown",
   "metadata": {},
   "source": [
    "## Consultas"
   ]
  },
  {
   "cell_type": "markdown",
   "metadata": {},
   "source": [
    "A partir de ahora trabajaremos con los archivos procesados 'data_reviews.csv' y 'data_games.csv' - \n",
    "En el archivo data_reviews.csv pandas transforma los usuarios null en NaN, por lo tanto debemos transformar esta a string\n",
    "En el caso de data_games.csv puede ser que se hayan perdido el formato de algunos datos como los de la columna categories, por ejemplo."
   ]
  },
  {
   "cell_type": "code",
   "execution_count": 66,
   "metadata": {},
   "outputs": [],
   "source": [
    "#Importamos el nuevo archivo generado\n",
    "import pandas as pd\n",
    "data_reviews = pd.read_csv(f'data_reviews.csv', converters={'username': str, 'text': str, 'genres':str, 'categories':str})\n",
    "data_reviews.date = pd.to_datetime(data_reviews.date)"
   ]
  },
  {
   "cell_type": "code",
   "execution_count": 67,
   "metadata": {},
   "outputs": [],
   "source": [
    "def toList(x):\n",
    "    return x[1:-1].replace(\"'\", '').split(', ') if (x is not np.nan) else nan"
   ]
  },
  {
   "cell_type": "code",
   "execution_count": 68,
   "metadata": {},
   "outputs": [],
   "source": [
    "data_games = pd.read_csv(f'data_games.csv',\n",
    "                         converters={\n",
    "                             'genres': lambda x: toList(x),\n",
    "                             'tags': lambda x: toList(x),\n",
    "                             'specs': lambda x: toList(x),\n",
    "                             'categories': str\n",
    "                         })\n",
    "#data_games.release_date = pd.to_datetime(data_games.release_date)"
   ]
  },
  {
   "cell_type": "code",
   "execution_count": 69,
   "metadata": {},
   "outputs": [
    {
     "name": "stdout",
     "output_type": "stream",
     "text": [
      "Reviews:\n",
      " username              object\n",
      "hours                float64\n",
      "product_id             int64\n",
      "date          datetime64[ns]\n",
      "text                  object\n",
      "dtype: object \n",
      "\n",
      "Games\n",
      " genres            object\n",
      "app_name          object\n",
      "release_date      object\n",
      "id                 int64\n",
      "publisher         object\n",
      "url               object\n",
      "categories        object\n",
      "category_price    object\n",
      "dtype: object\n"
     ]
    }
   ],
   "source": [
    "print('Reviews:\\n', data_reviews.dtypes, '\\n')\n",
    "print('Games\\n', data_games.dtypes)"
   ]
  },
  {
   "cell_type": "code",
   "execution_count": 70,
   "metadata": {},
   "outputs": [
    {
     "data": {
      "text/html": [
       "<div>\n",
       "<style scoped>\n",
       "    .dataframe tbody tr th:only-of-type {\n",
       "        vertical-align: middle;\n",
       "    }\n",
       "\n",
       "    .dataframe tbody tr th {\n",
       "        vertical-align: top;\n",
       "    }\n",
       "\n",
       "    .dataframe thead th {\n",
       "        text-align: right;\n",
       "    }\n",
       "</style>\n",
       "<table border=\"1\" class=\"dataframe\">\n",
       "  <thead>\n",
       "    <tr style=\"text-align: right;\">\n",
       "      <th></th>\n",
       "      <th>genres</th>\n",
       "      <th>app_name</th>\n",
       "      <th>release_date</th>\n",
       "      <th>id</th>\n",
       "      <th>publisher</th>\n",
       "      <th>url</th>\n",
       "      <th>categories</th>\n",
       "      <th>category_price</th>\n",
       "    </tr>\n",
       "  </thead>\n",
       "  <tbody>\n",
       "    <tr>\n",
       "      <th>0</th>\n",
       "      <td>[Action, Casual, Indie, Simulation, Strategy]</td>\n",
       "      <td>Lost Summoner Kitty</td>\n",
       "      <td>2018-01-04</td>\n",
       "      <td>761140</td>\n",
       "      <td>Kotoshiro</td>\n",
       "      <td>http://store.steampowered.com/app/761140/Lost_...</td>\n",
       "      <td>[action, casual, indie, simulation, singleplay...</td>\n",
       "      <td>paid</td>\n",
       "    </tr>\n",
       "    <tr>\n",
       "      <th>1</th>\n",
       "      <td>[Free to Play, Indie, RPG, Strategy]</td>\n",
       "      <td>Ironbound</td>\n",
       "      <td>2018-01-04</td>\n",
       "      <td>643980</td>\n",
       "      <td>Making Fun, Inc.</td>\n",
       "      <td>http://store.steampowered.com/app/643980/Ironb...</td>\n",
       "      <td>[2d, board game, card game, character customiz...</td>\n",
       "      <td>free</td>\n",
       "    </tr>\n",
       "    <tr>\n",
       "      <th>2</th>\n",
       "      <td>[Casual, Free to Play, Indie, Simulation, Sports]</td>\n",
       "      <td>Real Pool 3D - Poolians</td>\n",
       "      <td>2017-07-24</td>\n",
       "      <td>670290</td>\n",
       "      <td>Poolians.com</td>\n",
       "      <td>http://store.steampowered.com/app/670290/Real_...</td>\n",
       "      <td>[casual, free to play, inapp purchases, indie,...</td>\n",
       "      <td>free</td>\n",
       "    </tr>\n",
       "  </tbody>\n",
       "</table>\n",
       "</div>"
      ],
      "text/plain": [
       "                                              genres                 app_name  \\\n",
       "0      [Action, Casual, Indie, Simulation, Strategy]      Lost Summoner Kitty   \n",
       "1               [Free to Play, Indie, RPG, Strategy]                Ironbound   \n",
       "2  [Casual, Free to Play, Indie, Simulation, Sports]  Real Pool 3D - Poolians   \n",
       "\n",
       "  release_date      id         publisher  \\\n",
       "0   2018-01-04  761140         Kotoshiro   \n",
       "1   2018-01-04  643980  Making Fun, Inc.   \n",
       "2   2017-07-24  670290      Poolians.com   \n",
       "\n",
       "                                                 url  \\\n",
       "0  http://store.steampowered.com/app/761140/Lost_...   \n",
       "1  http://store.steampowered.com/app/643980/Ironb...   \n",
       "2  http://store.steampowered.com/app/670290/Real_...   \n",
       "\n",
       "                                          categories category_price  \n",
       "0  [action, casual, indie, simulation, singleplay...           paid  \n",
       "1  [2d, board game, card game, character customiz...           free  \n",
       "2  [casual, free to play, inapp purchases, indie,...           free  "
      ]
     },
     "execution_count": 70,
     "metadata": {},
     "output_type": "execute_result"
    }
   ],
   "source": [
    "data_games1.head(3)"
   ]
  },
  {
   "cell_type": "code",
   "execution_count": 71,
   "metadata": {},
   "outputs": [
    {
     "data": {
      "text/html": [
       "<div>\n",
       "<style scoped>\n",
       "    .dataframe tbody tr th:only-of-type {\n",
       "        vertical-align: middle;\n",
       "    }\n",
       "\n",
       "    .dataframe tbody tr th {\n",
       "        vertical-align: top;\n",
       "    }\n",
       "\n",
       "    .dataframe thead th {\n",
       "        text-align: right;\n",
       "    }\n",
       "</style>\n",
       "<table border=\"1\" class=\"dataframe\">\n",
       "  <thead>\n",
       "    <tr style=\"text-align: right;\">\n",
       "      <th></th>\n",
       "      <th>username</th>\n",
       "      <th>hours</th>\n",
       "      <th>product_id</th>\n",
       "      <th>date</th>\n",
       "      <th>text</th>\n",
       "    </tr>\n",
       "  </thead>\n",
       "  <tbody>\n",
       "    <tr>\n",
       "      <th>0</th>\n",
       "      <td>Chaos Syren</td>\n",
       "      <td>0.1</td>\n",
       "      <td>725280</td>\n",
       "      <td>2017-12-17</td>\n",
       "      <td>This would not be acceptable as an entertainme...</td>\n",
       "    </tr>\n",
       "    <tr>\n",
       "      <th>1</th>\n",
       "      <td>hello?&lt;</td>\n",
       "      <td>14.6</td>\n",
       "      <td>328100</td>\n",
       "      <td>2017-10-16</td>\n",
       "      <td>Better than Minecraft</td>\n",
       "    </tr>\n",
       "    <tr>\n",
       "      <th>2</th>\n",
       "      <td>DarklyThinking</td>\n",
       "      <td>16.6</td>\n",
       "      <td>35140</td>\n",
       "      <td>2018-01-04</td>\n",
       "      <td>Still worth playing in 2018.\\nProbably my favo...</td>\n",
       "    </tr>\n",
       "    <tr>\n",
       "      <th>3</th>\n",
       "      <td>nd</td>\n",
       "      <td>1.0</td>\n",
       "      <td>725280</td>\n",
       "      <td>2017-11-28</td>\n",
       "      <td>endless rooms of some underground complex, blo...</td>\n",
       "    </tr>\n",
       "    <tr>\n",
       "      <th>4</th>\n",
       "      <td>jimllfixitok</td>\n",
       "      <td>1.1</td>\n",
       "      <td>707610</td>\n",
       "      <td>2017-10-16</td>\n",
       "      <td>no sound. icons don't work. re-installed but n...</td>\n",
       "    </tr>\n",
       "  </tbody>\n",
       "</table>\n",
       "</div>"
      ],
      "text/plain": [
       "         username  hours  product_id       date  \\\n",
       "0     Chaos Syren    0.1      725280 2017-12-17   \n",
       "1         hello?<   14.6      328100 2017-10-16   \n",
       "2  DarklyThinking   16.6       35140 2018-01-04   \n",
       "3              nd    1.0      725280 2017-11-28   \n",
       "4    jimllfixitok    1.1      707610 2017-10-16   \n",
       "\n",
       "                                                text  \n",
       "0  This would not be acceptable as an entertainme...  \n",
       "1                              Better than Minecraft  \n",
       "2  Still worth playing in 2018.\\nProbably my favo...  \n",
       "3  endless rooms of some underground complex, blo...  \n",
       "4  no sound. icons don't work. re-installed but n...  "
      ]
     },
     "execution_count": 71,
     "metadata": {},
     "output_type": "execute_result"
    }
   ],
   "source": [
    "data_reviews.head()"
   ]
  },
  {
   "cell_type": "markdown",
   "metadata": {},
   "source": [
    "\n",
    "\n",
    "##### Es importante hacernos las preguntas que nos ayuden a entender el negocio y las evaluaciones que podemos hacer \n"
   ]
  },
  {
   "cell_type": "markdown",
   "metadata": {},
   "source": [
    "Preguntas que surgen ;\n",
    "\n",
    "*Cuales son los juegos más populares en función de la cantidad de usuarios registrados en los mismos \n",
    "\n",
    "*Cuales son los juegos que más horas se jugaron de acuerdo a la información \n",
    "\n",
    "*Cuales son los juegos menos populares en función de la cantidad de usuarios registrados en los mismos\n",
    "\n",
    "*Necesito armar una lista con los generos que utiliza cada juego para poder determinar la similaridad item-item\n",
    "\n",
    "*Que precio poner en función a las recomendaciones de los juegos que han pagado\n",
    "\n",
    "*La idea para el sistema recomendador es, de acuerdo al género, cantidad de horas jugadas y usuario, esto nos dar'a la similaridad para realizar las recomendaciones necesarias \n"
   ]
  },
  {
   "cell_type": "code",
   "execution_count": 72,
   "metadata": {},
   "outputs": [],
   "source": [
    "cantidad_por_productoId = data_reviews.groupby('product_id').product_id.count().reset_index(name='amount')"
   ]
  },
  {
   "cell_type": "markdown",
   "metadata": {},
   "source": [
    "## Usuarios únicos"
   ]
  },
  {
   "cell_type": "code",
   "execution_count": 73,
   "metadata": {},
   "outputs": [
    {
     "name": "stdout",
     "output_type": "stream",
     "text": [
      "1716724 usuarios únicos\n"
     ]
    }
   ],
   "source": [
    "print(f'{len(data_reviews.username.value_counts())} usuarios únicos')"
   ]
  },
  {
   "cell_type": "markdown",
   "metadata": {},
   "source": [
    "## Top 10 juegos más populares"
   ]
  },
  {
   "cell_type": "code",
   "execution_count": 74,
   "metadata": {},
   "outputs": [],
   "source": [
    "cantidad_por_productoId = data_reviews.groupby('product_id').product_id.count().reset_index(name='amount')"
   ]
  },
  {
   "cell_type": "markdown",
   "metadata": {},
   "source": [
    "Merge entre videojuegos y reviews:"
   ]
  },
  {
   "cell_type": "code",
   "execution_count": 75,
   "metadata": {},
   "outputs": [],
   "source": [
    "reviews_games_amount = pd.merge(cantidad_por_productoId, data_games, left_on='product_id',\n",
    "                               right_on='id').sort_values(by='amount', ascending=False)\n",
    "top10 = reviews_games_amount.head(10)"
   ]
  },
  {
   "cell_type": "code",
   "execution_count": 76,
   "metadata": {},
   "outputs": [
    {
     "data": {
      "text/html": [
       "<div>\n",
       "<style scoped>\n",
       "    .dataframe tbody tr th:only-of-type {\n",
       "        vertical-align: middle;\n",
       "    }\n",
       "\n",
       "    .dataframe tbody tr th {\n",
       "        vertical-align: top;\n",
       "    }\n",
       "\n",
       "    .dataframe thead th {\n",
       "        text-align: right;\n",
       "    }\n",
       "</style>\n",
       "<table border=\"1\" class=\"dataframe\">\n",
       "  <thead>\n",
       "    <tr style=\"text-align: right;\">\n",
       "      <th></th>\n",
       "      <th>product_id</th>\n",
       "      <th>amount</th>\n",
       "      <th>genres</th>\n",
       "      <th>app_name</th>\n",
       "      <th>release_date</th>\n",
       "      <th>id</th>\n",
       "      <th>publisher</th>\n",
       "      <th>url</th>\n",
       "      <th>categories</th>\n",
       "      <th>category_price</th>\n",
       "    </tr>\n",
       "  </thead>\n",
       "  <tbody>\n",
       "    <tr>\n",
       "      <th>19</th>\n",
       "      <td>440</td>\n",
       "      <td>76875</td>\n",
       "      <td>[Action, Free to Play]</td>\n",
       "      <td>Team Fortress 2</td>\n",
       "      <td>2007-10-10</td>\n",
       "      <td>440</td>\n",
       "      <td>Valve</td>\n",
       "      <td>http://store.steampowered.com/app/440/Team_For...</td>\n",
       "      <td>['action', 'captions available', 'cartoon', 'c...</td>\n",
       "      <td>free</td>\n",
       "    </tr>\n",
       "    <tr>\n",
       "      <th>1817</th>\n",
       "      <td>252490</td>\n",
       "      <td>43318</td>\n",
       "      <td>[Action, Adventure, Indie, Massively Multiplay...</td>\n",
       "      <td>Rust</td>\n",
       "      <td>2013-12-11</td>\n",
       "      <td>252490</td>\n",
       "      <td>Facepunch Studios</td>\n",
       "      <td>http://store.steampowered.com/app/252490/Rust/</td>\n",
       "      <td>['action', 'adventure', 'building', 'coop', 'c...</td>\n",
       "      <td>paid</td>\n",
       "    </tr>\n",
       "    <tr>\n",
       "      <th>2170</th>\n",
       "      <td>271590</td>\n",
       "      <td>25273</td>\n",
       "      <td>[Action, Adventure]</td>\n",
       "      <td>Grand Theft Auto V</td>\n",
       "      <td>2015-04-14</td>\n",
       "      <td>271590</td>\n",
       "      <td>Rockstar Games</td>\n",
       "      <td>http://store.steampowered.com/app/271590/Grand...</td>\n",
       "      <td>['action', 'adventure', 'atmospheric', 'coop',...</td>\n",
       "      <td>paid</td>\n",
       "    </tr>\n",
       "    <tr>\n",
       "      <th>2777</th>\n",
       "      <td>301520</td>\n",
       "      <td>24896</td>\n",
       "      <td>[Action, Free to Play, Indie, Massively Multip...</td>\n",
       "      <td>Robocraft</td>\n",
       "      <td>2017-08-24</td>\n",
       "      <td>301520</td>\n",
       "      <td>Freejam</td>\n",
       "      <td>http://store.steampowered.com/app/301520/Roboc...</td>\n",
       "      <td>['action', 'adventure', 'building', 'crafting'...</td>\n",
       "      <td>free</td>\n",
       "    </tr>\n",
       "    <tr>\n",
       "      <th>1417</th>\n",
       "      <td>221100</td>\n",
       "      <td>24222</td>\n",
       "      <td>[Action, Indie, Massively Multiplayer, Early A...</td>\n",
       "      <td>DayZ</td>\n",
       "      <td>2013-12-16</td>\n",
       "      <td>221100</td>\n",
       "      <td>Bohemia Interactive</td>\n",
       "      <td>http://store.steampowered.com/app/221100/DayZ/</td>\n",
       "      <td>['action', 'adventure', 'atmospheric', 'coop',...</td>\n",
       "      <td>paid</td>\n",
       "    </tr>\n",
       "  </tbody>\n",
       "</table>\n",
       "</div>"
      ],
      "text/plain": [
       "      product_id  amount                                             genres  \\\n",
       "19           440   76875                             [Action, Free to Play]   \n",
       "1817      252490   43318  [Action, Adventure, Indie, Massively Multiplay...   \n",
       "2170      271590   25273                                [Action, Adventure]   \n",
       "2777      301520   24896  [Action, Free to Play, Indie, Massively Multip...   \n",
       "1417      221100   24222  [Action, Indie, Massively Multiplayer, Early A...   \n",
       "\n",
       "                app_name release_date      id            publisher  \\\n",
       "19       Team Fortress 2   2007-10-10     440                Valve   \n",
       "1817                Rust   2013-12-11  252490    Facepunch Studios   \n",
       "2170  Grand Theft Auto V   2015-04-14  271590       Rockstar Games   \n",
       "2777           Robocraft   2017-08-24  301520              Freejam   \n",
       "1417                DayZ   2013-12-16  221100  Bohemia Interactive   \n",
       "\n",
       "                                                    url  \\\n",
       "19    http://store.steampowered.com/app/440/Team_For...   \n",
       "1817     http://store.steampowered.com/app/252490/Rust/   \n",
       "2170  http://store.steampowered.com/app/271590/Grand...   \n",
       "2777  http://store.steampowered.com/app/301520/Roboc...   \n",
       "1417     http://store.steampowered.com/app/221100/DayZ/   \n",
       "\n",
       "                                             categories category_price  \n",
       "19    ['action', 'captions available', 'cartoon', 'c...           free  \n",
       "1817  ['action', 'adventure', 'building', 'coop', 'c...           paid  \n",
       "2170  ['action', 'adventure', 'atmospheric', 'coop',...           paid  \n",
       "2777  ['action', 'adventure', 'building', 'crafting'...           free  \n",
       "1417  ['action', 'adventure', 'atmospheric', 'coop',...           paid  "
      ]
     },
     "execution_count": 76,
     "metadata": {},
     "output_type": "execute_result"
    }
   ],
   "source": [
    "top10.head()"
   ]
  },
  {
   "cell_type": "code",
   "execution_count": 77,
   "metadata": {},
   "outputs": [],
   "source": [
    "# Valores para mostrar en la leyenda de cada barra\n",
    "HOVER_DATA_COLUMNS = ['publisher', 'release_date', 'genres', 'category_price']\n"
   ]
  },
  {
   "cell_type": "code",
   "execution_count": 78,
   "metadata": {},
   "outputs": [
    {
     "name": "stdout",
     "output_type": "stream",
     "text": [
      "Requirement already satisfied: kaleido in c:\\users\\sbertaina\\miniconda3\\envs\\datascience\\lib\\site-packages (0.2.1)Note: you may need to restart the kernel to use updated packages.\n",
      "\n"
     ]
    }
   ],
   "source": [
    "pip install kaleido"
   ]
  },
  {
   "cell_type": "code",
   "execution_count": 79,
   "metadata": {},
   "outputs": [
    {
     "data": {
      "image/svg+xml": [
       "<svg xmlns=\"http://www.w3.org/2000/svg\" xmlns:xlink=\"http://www.w3.org/1999/xlink\" class=\"main-svg\" width=\"900\" height=\"450\" style=\"\" viewBox=\"0 0 900 450\"><rect x=\"0\" y=\"0\" width=\"900\" height=\"450\" style=\"fill: rgb(250, 250, 250); fill-opacity: 1;\"/><defs id=\"defs-9c520f\"><g class=\"clips\"><clipPath id=\"clip9c520fxyplot\" class=\"plotclip\"><rect width=\"554\" height=\"357\"/></clipPath><clipPath class=\"axesclip\" id=\"clip9c520fx\"><rect x=\"154\" y=\"0\" width=\"554\" height=\"450\"/></clipPath><clipPath class=\"axesclip\" id=\"clip9c520fy\"><rect x=\"0\" y=\"40\" width=\"900\" height=\"357\"/></clipPath><clipPath class=\"axesclip\" id=\"clip9c520fxy\"><rect x=\"154\" y=\"40\" width=\"554\" height=\"357\"/></clipPath></g><g class=\"gradients\"><linearGradient x1=\"0\" x2=\"0\" y1=\"1\" y2=\"0\" id=\"g9c520f-cbcoloraxis\"><stop offset=\"0%\" stop-color=\"rgb(68, 1, 84)\" stop-opacity=\"1\"/><stop offset=\"11.111111%\" stop-color=\"rgb(72, 40, 120)\" stop-opacity=\"1\"/><stop offset=\"22.222222%\" stop-color=\"rgb(62, 73, 137)\" stop-opacity=\"1\"/><stop offset=\"33.333333%\" stop-color=\"rgb(49, 104, 142)\" stop-opacity=\"1\"/><stop offset=\"44.444444%\" stop-color=\"rgb(38, 130, 142)\" stop-opacity=\"1\"/><stop offset=\"55.555556%\" stop-color=\"rgb(31, 158, 137)\" stop-opacity=\"1\"/><stop offset=\"66.666667%\" stop-color=\"rgb(53, 183, 121)\" stop-opacity=\"1\"/><stop offset=\"77.777778%\" stop-color=\"rgb(110, 206, 88)\" stop-opacity=\"1\"/><stop offset=\"88.888889%\" stop-color=\"rgb(181, 222, 43)\" stop-opacity=\"1\"/><stop offset=\"100%\" stop-color=\"rgb(253, 231, 37)\" stop-opacity=\"1\"/></linearGradient></g><g class=\"patterns\"/></defs><g class=\"bglayer\"><rect class=\"bg\" x=\"154\" y=\"40\" width=\"554\" height=\"357\" style=\"fill: rgb(229, 236, 246); fill-opacity: 1; stroke-width: 0;\"/></g><g class=\"layer-below\"><g class=\"imagelayer\"/><g class=\"shapelayer\"/></g><g class=\"cartesianlayer\"><g class=\"subplot xy\"><g class=\"layer-subplot\"><g class=\"shapelayer\"/><g class=\"imagelayer\"/></g><g class=\"gridlayer\"><g class=\"x\"><path class=\"xgrid crisp\" transform=\"translate(290.91999999999996,0)\" d=\"M0,40v357\" style=\"stroke: rgb(255, 255, 255); stroke-opacity: 1; stroke-width: 1px;\"/><path class=\"xgrid crisp\" transform=\"translate(427.85,0)\" d=\"M0,40v357\" style=\"stroke: rgb(255, 255, 255); stroke-opacity: 1; stroke-width: 1px;\"/><path class=\"xgrid crisp\" transform=\"translate(564.77,0)\" d=\"M0,40v357\" style=\"stroke: rgb(255, 255, 255); stroke-opacity: 1; stroke-width: 1px;\"/><path class=\"xgrid crisp\" transform=\"translate(701.69,0)\" d=\"M0,40v357\" style=\"stroke: rgb(255, 255, 255); stroke-opacity: 1; stroke-width: 1px;\"/></g><g class=\"y\"/></g><g class=\"zerolinelayer\"><path class=\"xzl zl crisp\" transform=\"translate(154,0)\" d=\"M0,40v357\" style=\"stroke: rgb(255, 255, 255); stroke-opacity: 1; stroke-width: 2px;\"/></g><path class=\"xlines-below\"/><path class=\"ylines-below\"/><g class=\"overlines-below\"/><g class=\"xaxislayer-below\"/><g class=\"yaxislayer-below\"/><g class=\"overaxes-below\"/><g class=\"plot\" transform=\"translate(154,40)\" clip-path=\"url(#clip9c520fxyplot)\"><g class=\"barlayer mlayer\"><g class=\"trace bars\" style=\"opacity: 1;\"><g class=\"points\"><g class=\"point\"><path d=\"M0,353.43V324.87H125.45V353.43Z\" style=\"vector-effect: non-scaling-stroke; opacity: 1; stroke-width: 0.5px; fill: rgb(68, 1, 84); fill-opacity: 1; stroke: rgb(229, 236, 246); stroke-opacity: 1;\"/></g><g class=\"point\"><path d=\"M0,317.73V289.17H130.77V317.73Z\" style=\"vector-effect: non-scaling-stroke; opacity: 1; stroke-width: 0.5px; fill: rgb(68, 6, 88); fill-opacity: 1; stroke: rgb(229, 236, 246); stroke-opacity: 1;\"/></g><g class=\"point\"><path d=\"M0,282.03V253.47H140.81V282.03Z\" style=\"vector-effect: non-scaling-stroke; opacity: 1; stroke-width: 0.5px; fill: rgb(69, 14, 96); fill-opacity: 1; stroke: rgb(229, 236, 246); stroke-opacity: 1;\"/></g><g class=\"point\"><path d=\"M0,246.33V217.77H163.43V246.33Z\" style=\"vector-effect: non-scaling-stroke; opacity: 1; stroke-width: 0.5px; fill: rgb(71, 34, 115); fill-opacity: 1; stroke: rgb(229, 236, 246); stroke-opacity: 1;\"/></g><g class=\"point\"><path d=\"M0,210.63V182.07H165.7V210.63Z\" style=\"vector-effect: non-scaling-stroke; opacity: 1; stroke-width: 0.5px; fill: rgb(72, 36, 117); fill-opacity: 1; stroke: rgb(229, 236, 246); stroke-opacity: 1;\"/></g><g class=\"point\"><path d=\"M0,174.93V146.37H165.83V174.93Z\" style=\"vector-effect: non-scaling-stroke; opacity: 1; stroke-width: 0.5px; fill: rgb(72, 36, 117); fill-opacity: 1; stroke: rgb(229, 236, 246); stroke-opacity: 1;\"/></g><g class=\"point\"><path d=\"M0,139.23V110.67H170.44V139.23Z\" style=\"vector-effect: non-scaling-stroke; opacity: 1; stroke-width: 0.5px; fill: rgb(72, 40, 120); fill-opacity: 1; stroke: rgb(229, 236, 246); stroke-opacity: 1;\"/></g><g class=\"point\"><path d=\"M0,103.53V74.97H173.02V103.53Z\" style=\"vector-effect: non-scaling-stroke; opacity: 1; stroke-width: 0.5px; fill: rgb(71, 42, 121); fill-opacity: 1; stroke: rgb(229, 236, 246); stroke-opacity: 1;\"/></g><g class=\"point\"><path d=\"M0,67.83V39.27H296.56V67.83Z\" style=\"vector-effect: non-scaling-stroke; opacity: 1; stroke-width: 0.5px; fill: rgb(40, 126, 142); fill-opacity: 1; stroke: rgb(229, 236, 246); stroke-opacity: 1;\"/></g><g class=\"point\"><path d=\"M0,32.13V3.57H526.3V32.13Z\" style=\"vector-effect: non-scaling-stroke; opacity: 1; stroke-width: 0.5px; fill: rgb(253, 231, 37); fill-opacity: 1; stroke: rgb(229, 236, 246); stroke-opacity: 1;\"/></g></g></g></g></g><g class=\"overplot\"/><path class=\"xlines-above crisp\" d=\"M0,0\" style=\"fill: none;\"/><path class=\"ylines-above crisp\" d=\"M0,0\" style=\"fill: none;\"/><g class=\"overlines-above\"/><g class=\"xaxislayer-above\"><g class=\"xtick\"><text text-anchor=\"middle\" x=\"0\" y=\"410\" transform=\"translate(154,0)\" style=\"font-family: 'Open Sans', verdana, arial, sans-serif; font-size: 12px; fill: rgb(42, 63, 95); fill-opacity: 1; white-space: pre; opacity: 1;\">0</text></g><g class=\"xtick\"><text text-anchor=\"middle\" x=\"0\" y=\"410\" style=\"font-family: 'Open Sans', verdana, arial, sans-serif; font-size: 12px; fill: rgb(42, 63, 95); fill-opacity: 1; white-space: pre; opacity: 1;\" transform=\"translate(290.91999999999996,0)\">20k</text></g><g class=\"xtick\"><text text-anchor=\"middle\" x=\"0\" y=\"410\" style=\"font-family: 'Open Sans', verdana, arial, sans-serif; font-size: 12px; fill: rgb(42, 63, 95); fill-opacity: 1; white-space: pre; opacity: 1;\" transform=\"translate(427.85,0)\">40k</text></g><g class=\"xtick\"><text text-anchor=\"middle\" x=\"0\" y=\"410\" style=\"font-family: 'Open Sans', verdana, arial, sans-serif; font-size: 12px; fill: rgb(42, 63, 95); fill-opacity: 1; white-space: pre; opacity: 1;\" transform=\"translate(564.77,0)\">60k</text></g><g class=\"xtick\"><text text-anchor=\"middle\" x=\"0\" y=\"410\" style=\"font-family: 'Open Sans', verdana, arial, sans-serif; font-size: 12px; fill: rgb(42, 63, 95); fill-opacity: 1; white-space: pre; opacity: 1;\" transform=\"translate(701.69,0)\">80k</text></g></g><g class=\"yaxislayer-above\"><g class=\"ytick\"><text text-anchor=\"end\" x=\"153\" y=\"4.199999999999999\" transform=\"translate(0,379.15)\" style=\"font-family: 'Open Sans', verdana, arial, sans-serif; font-size: 12px; fill: rgb(42, 63, 95); fill-opacity: 1; white-space: pre; opacity: 1;\">Starbound</text></g><g class=\"ytick\"><text text-anchor=\"end\" x=\"153\" y=\"4.199999999999999\" transform=\"translate(0,343.45)\" style=\"font-family: 'Open Sans', verdana, arial, sans-serif; font-size: 12px; fill: rgb(42, 63, 95); fill-opacity: 1; white-space: pre; opacity: 1;\">Heroes &amp; Generals</text></g><g class=\"ytick\"><text text-anchor=\"end\" x=\"153\" y=\"4.199999999999999\" transform=\"translate(0,307.75)\" style=\"font-family: 'Open Sans', verdana, arial, sans-serif; font-size: 12px; fill: rgb(42, 63, 95); fill-opacity: 1; white-space: pre; opacity: 1;\">Garry's Mod</text></g><g class=\"ytick\"><text text-anchor=\"end\" x=\"153\" y=\"4.199999999999999\" transform=\"translate(0,272.05)\" style=\"font-family: 'Open Sans', verdana, arial, sans-serif; font-size: 12px; fill: rgb(42, 63, 95); fill-opacity: 1; white-space: pre; opacity: 1;\">Portal 2</text></g><g class=\"ytick\"><text text-anchor=\"end\" x=\"153\" y=\"4.199999999999999\" transform=\"translate(0,236.35)\" style=\"font-family: 'Open Sans', verdana, arial, sans-serif; font-size: 12px; fill: rgb(42, 63, 95); fill-opacity: 1; white-space: pre; opacity: 1;\">Undertale</text></g><g class=\"ytick\"><text text-anchor=\"end\" x=\"153\" y=\"4.199999999999999\" transform=\"translate(0,200.65)\" style=\"font-family: 'Open Sans', verdana, arial, sans-serif; font-size: 12px; fill: rgb(42, 63, 95); fill-opacity: 1; white-space: pre; opacity: 1;\">DayZ</text></g><g class=\"ytick\"><text text-anchor=\"end\" x=\"153\" y=\"4.199999999999999\" transform=\"translate(0,164.95)\" style=\"font-family: 'Open Sans', verdana, arial, sans-serif; font-size: 12px; fill: rgb(42, 63, 95); fill-opacity: 1; white-space: pre; opacity: 1;\">Robocraft</text></g><g class=\"ytick\"><text text-anchor=\"end\" x=\"153\" y=\"4.199999999999999\" transform=\"translate(0,129.25)\" style=\"font-family: 'Open Sans', verdana, arial, sans-serif; font-size: 12px; fill: rgb(42, 63, 95); fill-opacity: 1; white-space: pre; opacity: 1;\">Grand Theft Auto V</text></g><g class=\"ytick\"><text text-anchor=\"end\" x=\"153\" y=\"4.199999999999999\" transform=\"translate(0,93.55)\" style=\"font-family: 'Open Sans', verdana, arial, sans-serif; font-size: 12px; fill: rgb(42, 63, 95); fill-opacity: 1; white-space: pre; opacity: 1;\">Rust</text></g><g class=\"ytick\"><text text-anchor=\"end\" x=\"153\" y=\"4.199999999999999\" transform=\"translate(0,57.85)\" style=\"font-family: 'Open Sans', verdana, arial, sans-serif; font-size: 12px; fill: rgb(42, 63, 95); fill-opacity: 1; white-space: pre; opacity: 1;\">Team Fortress 2</text></g></g><g class=\"overaxes-above\"/></g></g><g class=\"polarlayer\"/><g class=\"ternarylayer\"/><g class=\"geolayer\"/><g class=\"funnelarealayer\"/><g class=\"pielayer\"/><g class=\"iciclelayer\"/><g class=\"treemaplayer\"/><g class=\"sunburstlayer\"/><g class=\"glimages\"/><defs id=\"topdefs-9c520f\"><g class=\"clips\"/></defs><g class=\"layer-above\"><g class=\"imagelayer\"/><g class=\"shapelayer\"/></g><g class=\"infolayer\"><g class=\"cbcoloraxis colorbar\" transform=\"translate(154,40)\"><rect class=\"cbbg\" x=\"565\" y=\"0\" width=\"168.984375\" height=\"357\" style=\"fill: rgb(0, 0, 0); fill-opacity: 0; stroke: rgb(68, 68, 68); stroke-opacity: 1; stroke-width: 0;\"/><g class=\"cbfills\" transform=\"translate(0,32)\"><rect class=\"cbfill\" x=\"575\" width=\"30\" y=\"0\" height=\"315\" style=\"fill: url('#g9c520f-cbcoloraxis');\"/></g><g class=\"cblines\" transform=\"translate(0,32)\"/><g class=\"cbaxis crisp\" transform=\"translate(0,-40)\"><g class=\"ycbcoloraxistick\"><text text-anchor=\"start\" x=\"607.9\" y=\"4.199999999999999\" transform=\"translate(0,377.98)\" style=\"font-family: 'Open Sans', verdana, arial, sans-serif; font-size: 12px; fill: rgb(42, 63, 95); fill-opacity: 1; white-space: pre; opacity: 1;\">20k</text></g><g class=\"ycbcoloraxistick\"><text text-anchor=\"start\" x=\"607.9\" y=\"4.199999999999999\" style=\"font-family: 'Open Sans', verdana, arial, sans-serif; font-size: 12px; fill: rgb(42, 63, 95); fill-opacity: 1; white-space: pre; opacity: 1;\" transform=\"translate(0,324.18)\">30k</text></g><g class=\"ycbcoloraxistick\"><text text-anchor=\"start\" x=\"607.9\" y=\"4.199999999999999\" style=\"font-family: 'Open Sans', verdana, arial, sans-serif; font-size: 12px; fill: rgb(42, 63, 95); fill-opacity: 1; white-space: pre; opacity: 1;\" transform=\"translate(0,270.38)\">40k</text></g><g class=\"ycbcoloraxistick\"><text text-anchor=\"start\" x=\"607.9\" y=\"4.199999999999999\" style=\"font-family: 'Open Sans', verdana, arial, sans-serif; font-size: 12px; fill: rgb(42, 63, 95); fill-opacity: 1; white-space: pre; opacity: 1;\" transform=\"translate(0,216.59)\">50k</text></g><g class=\"ycbcoloraxistick\"><text text-anchor=\"start\" x=\"607.9\" y=\"4.199999999999999\" style=\"font-family: 'Open Sans', verdana, arial, sans-serif; font-size: 12px; fill: rgb(42, 63, 95); fill-opacity: 1; white-space: pre; opacity: 1;\" transform=\"translate(0,162.79000000000002)\">60k</text></g><g class=\"ycbcoloraxistick\"><text text-anchor=\"start\" x=\"607.9\" y=\"4.199999999999999\" style=\"font-family: 'Open Sans', verdana, arial, sans-serif; font-size: 12px; fill: rgb(42, 63, 95); fill-opacity: 1; white-space: pre; opacity: 1;\" transform=\"translate(0,108.99000000000001)\">70k</text></g></g><g class=\"cbtitleunshift\" transform=\"translate(-154,-40)\"><g class=\"cbtitle\" transform=\"\"><text class=\"ycbcoloraxistitle\" x=\"729.08\" y=\"63.5\" text-anchor=\"start\" style=\"font-family: 'Open Sans', verdana, arial, sans-serif; font-size: 14px; fill: rgb(42, 63, 95); opacity: 1; font-weight: normal; white-space: pre;\">Cantidad de usuarios</text></g></g><rect class=\"cboutline\" x=\"575\" y=\"32\" width=\"30\" height=\"315\" style=\"stroke: rgb(68, 68, 68); stroke-opacity: 1; fill: none; stroke-width: 0;\"/></g><g class=\"g-gtitle\"><text class=\"gtitle\" x=\"45\" y=\"20\" text-anchor=\"start\" dy=\"0em\" style=\"font-family: 'Open Sans', verdana, arial, sans-serif; font-size: 17px; fill: rgb(42, 63, 95); opacity: 1; font-weight: normal; white-space: pre;\">Videojuegos más populares</text></g><g class=\"g-xtitle\"><text class=\"xtitle\" x=\"431\" y=\"437.8\" text-anchor=\"middle\" style=\"font-family: 'Open Sans', verdana, arial, sans-serif; font-size: 14px; fill: rgb(42, 63, 95); opacity: 1; font-weight: normal; white-space: pre;\">Cantidad de usuarios</text></g><g class=\"g-ytitle\" transform=\"translate(1.9873046875,0)\"><text class=\"ytitle\" transform=\"rotate(-90,12.012499999999989,218.5)\" x=\"12.012499999999989\" y=\"218.5\" text-anchor=\"middle\" style=\"font-family: 'Open Sans', verdana, arial, sans-serif; font-size: 14px; fill: rgb(42, 63, 95); opacity: 1; font-weight: normal; white-space: pre;\">Videojuegos</text></g></g></svg>"
      ],
      "text/plain": [
       "<IPython.core.display.SVG object>"
      ]
     },
     "metadata": {},
     "output_type": "display_data"
    }
   ],
   "source": [
    "\n",
    "fig = px.bar(top10.sort_values(by='amount'), y='app_name', x='amount', color='amount', title='Videojuegos más populares',\n",
    "             color_continuous_scale='viridis',\n",
    "             labels={'app_name': 'Videojuegos',\n",
    "                     \"amount\": 'Cantidad de usuarios'},\n",
    "             hover_data=HOVER_DATA_COLUMNS,\n",
    "             width=900,\n",
    "             height=450\n",
    "             )\n",
    "fig.update_layout(paper_bgcolor='#FAFAFA',\n",
    "                  margin=dict(l=20, r=20, t=40, b=50)\n",
    "                  )\n",
    "# Jupyter\n",
    "#fig.show()\n",
    "\n",
    "# Static\n",
    "display(SVG(fig.to_image(format='svg')))"
   ]
  },
  {
   "cell_type": "code",
   "execution_count": 80,
   "metadata": {},
   "outputs": [],
   "source": [
    "# Valores para mostrar en la leyenda de cada barra\n",
    "HOVER_DATA_COLUMNS = ['publisher', 'release_date', 'genres', 'category_price']"
   ]
  },
  {
   "cell_type": "code",
   "execution_count": 81,
   "metadata": {},
   "outputs": [
    {
     "data": {
      "image/svg+xml": [
       "<svg xmlns=\"http://www.w3.org/2000/svg\" xmlns:xlink=\"http://www.w3.org/1999/xlink\" class=\"main-svg\" width=\"900\" height=\"450\" style=\"\" viewBox=\"0 0 900 450\"><rect x=\"0\" y=\"0\" width=\"900\" height=\"450\" style=\"fill: rgb(250, 250, 250); fill-opacity: 1;\"/><defs id=\"defs-d97db5\"><g class=\"clips\"><clipPath id=\"clipd97db5xyplot\" class=\"plotclip\"><rect width=\"554\" height=\"357\"/></clipPath><clipPath class=\"axesclip\" id=\"clipd97db5x\"><rect x=\"154\" y=\"0\" width=\"554\" height=\"450\"/></clipPath><clipPath class=\"axesclip\" id=\"clipd97db5y\"><rect x=\"0\" y=\"40\" width=\"900\" height=\"357\"/></clipPath><clipPath class=\"axesclip\" id=\"clipd97db5xy\"><rect x=\"154\" y=\"40\" width=\"554\" height=\"357\"/></clipPath></g><g class=\"gradients\"><linearGradient x1=\"0\" x2=\"0\" y1=\"1\" y2=\"0\" id=\"gd97db5-cbcoloraxis\"><stop offset=\"0%\" stop-color=\"rgb(68, 1, 84)\" stop-opacity=\"1\"/><stop offset=\"11.111111%\" stop-color=\"rgb(72, 40, 120)\" stop-opacity=\"1\"/><stop offset=\"22.222222%\" stop-color=\"rgb(62, 73, 137)\" stop-opacity=\"1\"/><stop offset=\"33.333333%\" stop-color=\"rgb(49, 104, 142)\" stop-opacity=\"1\"/><stop offset=\"44.444444%\" stop-color=\"rgb(38, 130, 142)\" stop-opacity=\"1\"/><stop offset=\"55.555556%\" stop-color=\"rgb(31, 158, 137)\" stop-opacity=\"1\"/><stop offset=\"66.666667%\" stop-color=\"rgb(53, 183, 121)\" stop-opacity=\"1\"/><stop offset=\"77.777778%\" stop-color=\"rgb(110, 206, 88)\" stop-opacity=\"1\"/><stop offset=\"88.888889%\" stop-color=\"rgb(181, 222, 43)\" stop-opacity=\"1\"/><stop offset=\"100%\" stop-color=\"rgb(253, 231, 37)\" stop-opacity=\"1\"/></linearGradient></g><g class=\"patterns\"/></defs><g class=\"bglayer\"><rect class=\"bg\" x=\"154\" y=\"40\" width=\"554\" height=\"357\" style=\"fill: rgb(229, 236, 246); fill-opacity: 1; stroke-width: 0;\"/></g><g class=\"layer-below\"><g class=\"imagelayer\"/><g class=\"shapelayer\"/></g><g class=\"cartesianlayer\"><g class=\"subplot xy\"><g class=\"layer-subplot\"><g class=\"shapelayer\"/><g class=\"imagelayer\"/></g><g class=\"gridlayer\"><g class=\"x\"><path class=\"xgrid crisp\" transform=\"translate(290.91999999999996,0)\" d=\"M0,40v357\" style=\"stroke: rgb(255, 255, 255); stroke-opacity: 1; stroke-width: 1px;\"/><path class=\"xgrid crisp\" transform=\"translate(427.85,0)\" d=\"M0,40v357\" style=\"stroke: rgb(255, 255, 255); stroke-opacity: 1; stroke-width: 1px;\"/><path class=\"xgrid crisp\" transform=\"translate(564.77,0)\" d=\"M0,40v357\" style=\"stroke: rgb(255, 255, 255); stroke-opacity: 1; stroke-width: 1px;\"/><path class=\"xgrid crisp\" transform=\"translate(701.69,0)\" d=\"M0,40v357\" style=\"stroke: rgb(255, 255, 255); stroke-opacity: 1; stroke-width: 1px;\"/></g><g class=\"y\"/></g><g class=\"zerolinelayer\"><path class=\"xzl zl crisp\" transform=\"translate(154,0)\" d=\"M0,40v357\" style=\"stroke: rgb(255, 255, 255); stroke-opacity: 1; stroke-width: 2px;\"/></g><path class=\"xlines-below\"/><path class=\"ylines-below\"/><g class=\"overlines-below\"/><g class=\"xaxislayer-below\"/><g class=\"yaxislayer-below\"/><g class=\"overaxes-below\"/><g class=\"plot\" transform=\"translate(154,40)\" clip-path=\"url(#clipd97db5xyplot)\"><g class=\"barlayer mlayer\"><g class=\"trace bars\" style=\"opacity: 1;\"><g class=\"points\"><g class=\"point\"><path d=\"M0,353.43V324.87H125.45V353.43Z\" style=\"vector-effect: non-scaling-stroke; opacity: 1; stroke-width: 0.5px; fill: rgb(68, 1, 84); fill-opacity: 1; stroke: rgb(229, 236, 246); stroke-opacity: 1;\"/></g><g class=\"point\"><path d=\"M0,317.73V289.17H130.77V317.73Z\" style=\"vector-effect: non-scaling-stroke; opacity: 1; stroke-width: 0.5px; fill: rgb(68, 6, 88); fill-opacity: 1; stroke: rgb(229, 236, 246); stroke-opacity: 1;\"/></g><g class=\"point\"><path d=\"M0,282.03V253.47H140.81V282.03Z\" style=\"vector-effect: non-scaling-stroke; opacity: 1; stroke-width: 0.5px; fill: rgb(69, 14, 96); fill-opacity: 1; stroke: rgb(229, 236, 246); stroke-opacity: 1;\"/></g><g class=\"point\"><path d=\"M0,246.33V217.77H163.43V246.33Z\" style=\"vector-effect: non-scaling-stroke; opacity: 1; stroke-width: 0.5px; fill: rgb(71, 34, 115); fill-opacity: 1; stroke: rgb(229, 236, 246); stroke-opacity: 1;\"/></g><g class=\"point\"><path d=\"M0,210.63V182.07H165.7V210.63Z\" style=\"vector-effect: non-scaling-stroke; opacity: 1; stroke-width: 0.5px; fill: rgb(72, 36, 117); fill-opacity: 1; stroke: rgb(229, 236, 246); stroke-opacity: 1;\"/></g><g class=\"point\"><path d=\"M0,174.93V146.37H165.83V174.93Z\" style=\"vector-effect: non-scaling-stroke; opacity: 1; stroke-width: 0.5px; fill: rgb(72, 36, 117); fill-opacity: 1; stroke: rgb(229, 236, 246); stroke-opacity: 1;\"/></g><g class=\"point\"><path d=\"M0,139.23V110.67H170.44V139.23Z\" style=\"vector-effect: non-scaling-stroke; opacity: 1; stroke-width: 0.5px; fill: rgb(72, 40, 120); fill-opacity: 1; stroke: rgb(229, 236, 246); stroke-opacity: 1;\"/></g><g class=\"point\"><path d=\"M0,103.53V74.97H173.02V103.53Z\" style=\"vector-effect: non-scaling-stroke; opacity: 1; stroke-width: 0.5px; fill: rgb(71, 42, 121); fill-opacity: 1; stroke: rgb(229, 236, 246); stroke-opacity: 1;\"/></g><g class=\"point\"><path d=\"M0,67.83V39.27H296.56V67.83Z\" style=\"vector-effect: non-scaling-stroke; opacity: 1; stroke-width: 0.5px; fill: rgb(40, 126, 142); fill-opacity: 1; stroke: rgb(229, 236, 246); stroke-opacity: 1;\"/></g><g class=\"point\"><path d=\"M0,32.13V3.57H526.3V32.13Z\" style=\"vector-effect: non-scaling-stroke; opacity: 1; stroke-width: 0.5px; fill: rgb(253, 231, 37); fill-opacity: 1; stroke: rgb(229, 236, 246); stroke-opacity: 1;\"/></g></g></g></g></g><g class=\"overplot\"/><path class=\"xlines-above crisp\" d=\"M0,0\" style=\"fill: none;\"/><path class=\"ylines-above crisp\" d=\"M0,0\" style=\"fill: none;\"/><g class=\"overlines-above\"/><g class=\"xaxislayer-above\"><g class=\"xtick\"><text text-anchor=\"middle\" x=\"0\" y=\"410\" transform=\"translate(154,0)\" style=\"font-family: 'Open Sans', verdana, arial, sans-serif; font-size: 12px; fill: rgb(42, 63, 95); fill-opacity: 1; white-space: pre; opacity: 1;\">0</text></g><g class=\"xtick\"><text text-anchor=\"middle\" x=\"0\" y=\"410\" style=\"font-family: 'Open Sans', verdana, arial, sans-serif; font-size: 12px; fill: rgb(42, 63, 95); fill-opacity: 1; white-space: pre; opacity: 1;\" transform=\"translate(290.91999999999996,0)\">20k</text></g><g class=\"xtick\"><text text-anchor=\"middle\" x=\"0\" y=\"410\" style=\"font-family: 'Open Sans', verdana, arial, sans-serif; font-size: 12px; fill: rgb(42, 63, 95); fill-opacity: 1; white-space: pre; opacity: 1;\" transform=\"translate(427.85,0)\">40k</text></g><g class=\"xtick\"><text text-anchor=\"middle\" x=\"0\" y=\"410\" style=\"font-family: 'Open Sans', verdana, arial, sans-serif; font-size: 12px; fill: rgb(42, 63, 95); fill-opacity: 1; white-space: pre; opacity: 1;\" transform=\"translate(564.77,0)\">60k</text></g><g class=\"xtick\"><text text-anchor=\"middle\" x=\"0\" y=\"410\" style=\"font-family: 'Open Sans', verdana, arial, sans-serif; font-size: 12px; fill: rgb(42, 63, 95); fill-opacity: 1; white-space: pre; opacity: 1;\" transform=\"translate(701.69,0)\">80k</text></g></g><g class=\"yaxislayer-above\"><g class=\"ytick\"><text text-anchor=\"end\" x=\"153\" y=\"4.199999999999999\" transform=\"translate(0,379.15)\" style=\"font-family: 'Open Sans', verdana, arial, sans-serif; font-size: 12px; fill: rgb(42, 63, 95); fill-opacity: 1; white-space: pre; opacity: 1;\">Starbound</text></g><g class=\"ytick\"><text text-anchor=\"end\" x=\"153\" y=\"4.199999999999999\" transform=\"translate(0,343.45)\" style=\"font-family: 'Open Sans', verdana, arial, sans-serif; font-size: 12px; fill: rgb(42, 63, 95); fill-opacity: 1; white-space: pre; opacity: 1;\">Heroes &amp; Generals</text></g><g class=\"ytick\"><text text-anchor=\"end\" x=\"153\" y=\"4.199999999999999\" transform=\"translate(0,307.75)\" style=\"font-family: 'Open Sans', verdana, arial, sans-serif; font-size: 12px; fill: rgb(42, 63, 95); fill-opacity: 1; white-space: pre; opacity: 1;\">Garry's Mod</text></g><g class=\"ytick\"><text text-anchor=\"end\" x=\"153\" y=\"4.199999999999999\" transform=\"translate(0,272.05)\" style=\"font-family: 'Open Sans', verdana, arial, sans-serif; font-size: 12px; fill: rgb(42, 63, 95); fill-opacity: 1; white-space: pre; opacity: 1;\">Portal 2</text></g><g class=\"ytick\"><text text-anchor=\"end\" x=\"153\" y=\"4.199999999999999\" transform=\"translate(0,236.35)\" style=\"font-family: 'Open Sans', verdana, arial, sans-serif; font-size: 12px; fill: rgb(42, 63, 95); fill-opacity: 1; white-space: pre; opacity: 1;\">Undertale</text></g><g class=\"ytick\"><text text-anchor=\"end\" x=\"153\" y=\"4.199999999999999\" transform=\"translate(0,200.65)\" style=\"font-family: 'Open Sans', verdana, arial, sans-serif; font-size: 12px; fill: rgb(42, 63, 95); fill-opacity: 1; white-space: pre; opacity: 1;\">DayZ</text></g><g class=\"ytick\"><text text-anchor=\"end\" x=\"153\" y=\"4.199999999999999\" transform=\"translate(0,164.95)\" style=\"font-family: 'Open Sans', verdana, arial, sans-serif; font-size: 12px; fill: rgb(42, 63, 95); fill-opacity: 1; white-space: pre; opacity: 1;\">Robocraft</text></g><g class=\"ytick\"><text text-anchor=\"end\" x=\"153\" y=\"4.199999999999999\" transform=\"translate(0,129.25)\" style=\"font-family: 'Open Sans', verdana, arial, sans-serif; font-size: 12px; fill: rgb(42, 63, 95); fill-opacity: 1; white-space: pre; opacity: 1;\">Grand Theft Auto V</text></g><g class=\"ytick\"><text text-anchor=\"end\" x=\"153\" y=\"4.199999999999999\" transform=\"translate(0,93.55)\" style=\"font-family: 'Open Sans', verdana, arial, sans-serif; font-size: 12px; fill: rgb(42, 63, 95); fill-opacity: 1; white-space: pre; opacity: 1;\">Rust</text></g><g class=\"ytick\"><text text-anchor=\"end\" x=\"153\" y=\"4.199999999999999\" transform=\"translate(0,57.85)\" style=\"font-family: 'Open Sans', verdana, arial, sans-serif; font-size: 12px; fill: rgb(42, 63, 95); fill-opacity: 1; white-space: pre; opacity: 1;\">Team Fortress 2</text></g></g><g class=\"overaxes-above\"/></g></g><g class=\"polarlayer\"/><g class=\"ternarylayer\"/><g class=\"geolayer\"/><g class=\"funnelarealayer\"/><g class=\"pielayer\"/><g class=\"iciclelayer\"/><g class=\"treemaplayer\"/><g class=\"sunburstlayer\"/><g class=\"glimages\"/><defs id=\"topdefs-d97db5\"><g class=\"clips\"/></defs><g class=\"layer-above\"><g class=\"imagelayer\"/><g class=\"shapelayer\"/></g><g class=\"infolayer\"><g class=\"cbcoloraxis colorbar\" transform=\"translate(154,40)\"><rect class=\"cbbg\" x=\"565\" y=\"0\" width=\"168.984375\" height=\"357\" style=\"fill: rgb(0, 0, 0); fill-opacity: 0; stroke: rgb(68, 68, 68); stroke-opacity: 1; stroke-width: 0;\"/><g class=\"cbfills\" transform=\"translate(0,32)\"><rect class=\"cbfill\" x=\"575\" width=\"30\" y=\"0\" height=\"315\" style=\"fill: url('#gd97db5-cbcoloraxis');\"/></g><g class=\"cblines\" transform=\"translate(0,32)\"/><g class=\"cbaxis crisp\" transform=\"translate(0,-40)\"><g class=\"ycbcoloraxistick\"><text text-anchor=\"start\" x=\"607.9\" y=\"4.199999999999999\" transform=\"translate(0,377.98)\" style=\"font-family: 'Open Sans', verdana, arial, sans-serif; font-size: 12px; fill: rgb(42, 63, 95); fill-opacity: 1; white-space: pre; opacity: 1;\">20k</text></g><g class=\"ycbcoloraxistick\"><text text-anchor=\"start\" x=\"607.9\" y=\"4.199999999999999\" style=\"font-family: 'Open Sans', verdana, arial, sans-serif; font-size: 12px; fill: rgb(42, 63, 95); fill-opacity: 1; white-space: pre; opacity: 1;\" transform=\"translate(0,324.18)\">30k</text></g><g class=\"ycbcoloraxistick\"><text text-anchor=\"start\" x=\"607.9\" y=\"4.199999999999999\" style=\"font-family: 'Open Sans', verdana, arial, sans-serif; font-size: 12px; fill: rgb(42, 63, 95); fill-opacity: 1; white-space: pre; opacity: 1;\" transform=\"translate(0,270.38)\">40k</text></g><g class=\"ycbcoloraxistick\"><text text-anchor=\"start\" x=\"607.9\" y=\"4.199999999999999\" style=\"font-family: 'Open Sans', verdana, arial, sans-serif; font-size: 12px; fill: rgb(42, 63, 95); fill-opacity: 1; white-space: pre; opacity: 1;\" transform=\"translate(0,216.59)\">50k</text></g><g class=\"ycbcoloraxistick\"><text text-anchor=\"start\" x=\"607.9\" y=\"4.199999999999999\" style=\"font-family: 'Open Sans', verdana, arial, sans-serif; font-size: 12px; fill: rgb(42, 63, 95); fill-opacity: 1; white-space: pre; opacity: 1;\" transform=\"translate(0,162.79000000000002)\">60k</text></g><g class=\"ycbcoloraxistick\"><text text-anchor=\"start\" x=\"607.9\" y=\"4.199999999999999\" style=\"font-family: 'Open Sans', verdana, arial, sans-serif; font-size: 12px; fill: rgb(42, 63, 95); fill-opacity: 1; white-space: pre; opacity: 1;\" transform=\"translate(0,108.99000000000001)\">70k</text></g></g><g class=\"cbtitleunshift\" transform=\"translate(-154,-40)\"><g class=\"cbtitle\" transform=\"\"><text class=\"ycbcoloraxistitle\" x=\"729.08\" y=\"63.5\" text-anchor=\"start\" style=\"font-family: 'Open Sans', verdana, arial, sans-serif; font-size: 14px; fill: rgb(42, 63, 95); opacity: 1; font-weight: normal; white-space: pre;\">Cantidad de usuarios</text></g></g><rect class=\"cboutline\" x=\"575\" y=\"32\" width=\"30\" height=\"315\" style=\"stroke: rgb(68, 68, 68); stroke-opacity: 1; fill: none; stroke-width: 0;\"/></g><g class=\"g-gtitle\"><text class=\"gtitle\" x=\"45\" y=\"20\" text-anchor=\"start\" dy=\"0em\" style=\"font-family: 'Open Sans', verdana, arial, sans-serif; font-size: 17px; fill: rgb(42, 63, 95); opacity: 1; font-weight: normal; white-space: pre;\">Videojuegos más populares</text></g><g class=\"g-xtitle\"><text class=\"xtitle\" x=\"431\" y=\"437.8\" text-anchor=\"middle\" style=\"font-family: 'Open Sans', verdana, arial, sans-serif; font-size: 14px; fill: rgb(42, 63, 95); opacity: 1; font-weight: normal; white-space: pre;\">Cantidad de usuarios</text></g><g class=\"g-ytitle\" transform=\"translate(1.9873046875,0)\"><text class=\"ytitle\" transform=\"rotate(-90,12.012499999999989,218.5)\" x=\"12.012499999999989\" y=\"218.5\" text-anchor=\"middle\" style=\"font-family: 'Open Sans', verdana, arial, sans-serif; font-size: 14px; fill: rgb(42, 63, 95); opacity: 1; font-weight: normal; white-space: pre;\">Videojuegos</text></g></g></svg>"
      ],
      "text/plain": [
       "<IPython.core.display.SVG object>"
      ]
     },
     "metadata": {},
     "output_type": "display_data"
    }
   ],
   "source": [
    "fig = px.bar(top10.sort_values(by='amount'), y='app_name', x='amount', color='amount', title='Videojuegos más populares',\n",
    "             color_continuous_scale='viridis',\n",
    "             labels={'app_name': 'Videojuegos',\n",
    "                     \"amount\": 'Cantidad de usuarios'},\n",
    "             hover_data=HOVER_DATA_COLUMNS,\n",
    "             width=900,\n",
    "             height=450\n",
    "             )\n",
    "fig.update_layout(paper_bgcolor='#FAFAFA',\n",
    "                  margin=dict(l=20, r=20, t=40, b=50)\n",
    "                  )\n",
    "# Jupyter\n",
    "#fig.show()\n",
    "\n",
    "# Static\n",
    "display(SVG(fig.to_image(format='svg')))"
   ]
  },
  {
   "cell_type": "markdown",
   "metadata": {},
   "source": [
    "Videos con más tiempo de juego"
   ]
  },
  {
   "cell_type": "code",
   "execution_count": 82,
   "metadata": {},
   "outputs": [],
   "source": [
    "hours_by_productId = data_reviews.groupby('product_id', as_index=False).hours.sum()\n",
    "\n",
    "reviews_games_hours = pd.merge(hours_by_productId, data_games, left_on='product_id',\n",
    "                               right_on='id').sort_values(by='hours', ascending=False)\n",
    "\n",
    "hours10 = reviews_games_hours.head(10).sort_values(by='hours')"
   ]
  },
  {
   "cell_type": "code",
   "execution_count": 83,
   "metadata": {},
   "outputs": [
    {
     "name": "stderr",
     "output_type": "stream",
     "text": [
      "C:\\Users\\sbertaina\\Miniconda3\\envs\\datascience\\lib\\site-packages\\seaborn\\distributions.py:2551: FutureWarning:\n",
      "\n",
      "`distplot` is a deprecated function and will be removed in a future version. Please adapt your code to use either `displot` (a figure-level function with similar flexibility) or `histplot` (an axes-level function for histograms).\n",
      "\n"
     ]
    },
    {
     "data": {
      "text/plain": [
       "<AxesSubplot:xlabel='product_id', ylabel='Density'>"
      ]
     },
     "execution_count": 83,
     "metadata": {},
     "output_type": "execute_result"
    },
    {
     "data": {
      "image/png": "[encoded data removed]",
      "text/plain": [
       "<Figure size 432x288 with 1 Axes>"
      ]
     },
     "metadata": {
      "needs_background": "light"
     },
     "output_type": "display_data"
    }
   ],
   "source": [
    "sns.distplot(hours_by_productId['product_id'], bins = 20)"
   ]
  },
  {
   "cell_type": "markdown",
   "metadata": {},
   "source": [
    "### Género más popular"
   ]
  },
  {
   "cell_type": "code",
   "execution_count": 84,
   "metadata": {},
   "outputs": [],
   "source": [
    "all_genres = list(itertools.chain(*data_games.genres))\n",
    "value, count = np.unique(all_genres, return_counts=True)\n",
    "order = np.argsort(count)"
   ]
  },
  {
   "cell_type": "code",
   "execution_count": 85,
   "metadata": {},
   "outputs": [
    {
     "data": {
      "image/svg+xml": [
       "<svg xmlns=\"http://www.w3.org/2000/svg\" xmlns:xlink=\"http://www.w3.org/1999/xlink\" class=\"main-svg\" width=\"850\" height=\"550\" style=\"\" viewBox=\"0 0 850 550\"><rect x=\"0\" y=\"0\" width=\"850\" height=\"550\" style=\"fill: rgb(250, 250, 250); fill-opacity: 1;\"/><defs id=\"defs-67f534\"><g class=\"clips\"><clipPath id=\"clip67f534xyplot\" class=\"plotclip\"><rect width=\"582\" height=\"416\"/></clipPath><clipPath class=\"axesclip\" id=\"clip67f534x\"><rect x=\"164\" y=\"0\" width=\"582\" height=\"550\"/></clipPath><clipPath class=\"axesclip\" id=\"clip67f534y\"><rect x=\"0\" y=\"54\" width=\"850\" height=\"416\"/></clipPath><clipPath class=\"axesclip\" id=\"clip67f534xy\"><rect x=\"164\" y=\"54\" width=\"582\" height=\"416\"/></clipPath></g><g class=\"gradients\"><linearGradient x1=\"0\" x2=\"0\" y1=\"1\" y2=\"0\" id=\"g67f534-cbcoloraxis\"><stop offset=\"0%\" stop-color=\"rgb(211, 242, 163)\" stop-opacity=\"1\"/><stop offset=\"16.666667%\" stop-color=\"rgb(151, 225, 150)\" stop-opacity=\"1\"/><stop offset=\"33.333333%\" stop-color=\"rgb(108, 192, 139)\" stop-opacity=\"1\"/><stop offset=\"50%\" stop-color=\"rgb(76, 155, 130)\" stop-opacity=\"1\"/><stop offset=\"66.666667%\" stop-color=\"rgb(33, 122, 121)\" stop-opacity=\"1\"/><stop offset=\"83.333333%\" stop-color=\"rgb(16, 89, 101)\" stop-opacity=\"1\"/><stop offset=\"100%\" stop-color=\"rgb(7, 64, 80)\" stop-opacity=\"1\"/></linearGradient></g><g class=\"patterns\"/></defs><g class=\"bglayer\"><rect class=\"bg\" x=\"164\" y=\"54\" width=\"582\" height=\"416\" style=\"fill: rgb(229, 236, 246); fill-opacity: 1; stroke-width: 0;\"/></g><g class=\"layer-below\"><g class=\"imagelayer\"/><g class=\"shapelayer\"/></g><g class=\"cartesianlayer\"><g class=\"subplot xy\"><g class=\"layer-subplot\"><g class=\"shapelayer\"/><g class=\"imagelayer\"/></g><g class=\"gridlayer\"><g class=\"x\"><path class=\"xgrid crisp\" transform=\"translate(271.43,0)\" d=\"M0,54v416\" style=\"stroke: rgb(255, 255, 255); stroke-opacity: 1; stroke-width: 1px;\"/><path class=\"xgrid crisp\" transform=\"translate(378.86,0)\" d=\"M0,54v416\" style=\"stroke: rgb(255, 255, 255); stroke-opacity: 1; stroke-width: 1px;\"/><path class=\"xgrid crisp\" transform=\"translate(486.3,0)\" d=\"M0,54v416\" style=\"stroke: rgb(255, 255, 255); stroke-opacity: 1; stroke-width: 1px;\"/><path class=\"xgrid crisp\" transform=\"translate(593.73,0)\" d=\"M0,54v416\" style=\"stroke: rgb(255, 255, 255); stroke-opacity: 1; stroke-width: 1px;\"/><path class=\"xgrid crisp\" transform=\"translate(701.16,0)\" d=\"M0,54v416\" style=\"stroke: rgb(255, 255, 255); stroke-opacity: 1; stroke-width: 1px;\"/></g><g class=\"y\"/></g><g class=\"zerolinelayer\"><path class=\"xzl zl crisp\" transform=\"translate(164,0)\" d=\"M0,54v416\" style=\"stroke: rgb(255, 255, 255); stroke-opacity: 1; stroke-width: 2px;\"/></g><path class=\"xlines-below\"/><path class=\"ylines-below\"/><g class=\"overlines-below\"/><g class=\"xaxislayer-below\"/><g class=\"yaxislayer-below\"/><g class=\"overaxes-below\"/><g class=\"plot\" transform=\"translate(164,54)\" clip-path=\"url(#clip67f534xyplot)\"><g class=\"barlayer mlayer\"><g class=\"trace bars\" style=\"opacity: 1;\"><g class=\"points\"><g class=\"point\"><path d=\"M0,414.19V399.72H0.11V414.19Z\" style=\"vector-effect: non-scaling-stroke; opacity: 1; stroke-width: 0.5px; fill: rgb(211, 242, 163); fill-opacity: 1; stroke: rgb(229, 236, 246); stroke-opacity: 1;\"/></g><g class=\"point\"><path d=\"M0,396.1V381.63H1.24V396.1Z\" style=\"vector-effect: non-scaling-stroke; opacity: 1; stroke-width: 0.5px; fill: rgb(210, 242, 163); fill-opacity: 1; stroke: rgb(229, 236, 246); stroke-opacity: 1;\"/></g><g class=\"point\"><path d=\"M0,378.02V363.55H1.45V378.02Z\" style=\"vector-effect: non-scaling-stroke; opacity: 1; stroke-width: 0.5px; fill: rgb(210, 242, 163); fill-opacity: 1; stroke: rgb(229, 236, 246); stroke-opacity: 1;\"/></g><g class=\"point\"><path d=\"M0,359.93V345.46H1.72V359.93Z\" style=\"vector-effect: non-scaling-stroke; opacity: 1; stroke-width: 0.5px; fill: rgb(210, 242, 163); fill-opacity: 1; stroke: rgb(229, 236, 246); stroke-opacity: 1;\"/></g><g class=\"point\"><path d=\"M0,341.84V327.37H1.88V341.84Z\" style=\"vector-effect: non-scaling-stroke; opacity: 1; stroke-width: 0.5px; fill: rgb(210, 242, 163); fill-opacity: 1; stroke: rgb(229, 236, 246); stroke-opacity: 1;\"/></g><g class=\"point\"><path d=\"M0,323.76V309.29H2.26V323.76Z\" style=\"vector-effect: non-scaling-stroke; opacity: 1; stroke-width: 0.5px; fill: rgb(210, 242, 163); fill-opacity: 1; stroke: rgb(229, 236, 246); stroke-opacity: 1;\"/></g><g class=\"point\"><path d=\"M0,305.67V291.2H3.33V305.67Z\" style=\"vector-effect: non-scaling-stroke; opacity: 1; stroke-width: 0.5px; fill: rgb(209, 241, 163); fill-opacity: 1; stroke: rgb(229, 236, 246); stroke-opacity: 1;\"/></g><g class=\"point\"><path d=\"M0,287.58V273.11H3.44V287.58Z\" style=\"vector-effect: non-scaling-stroke; opacity: 1; stroke-width: 0.5px; fill: rgb(209, 241, 163); fill-opacity: 1; stroke: rgb(229, 236, 246); stroke-opacity: 1;\"/></g><g class=\"point\"><path d=\"M0,269.5V255.03H5.86V269.5Z\" style=\"vector-effect: non-scaling-stroke; opacity: 1; stroke-width: 0.5px; fill: rgb(207, 241, 162); fill-opacity: 1; stroke: rgb(229, 236, 246); stroke-opacity: 1;\"/></g><g class=\"point\"><path d=\"M0,251.41V236.94H7.36V251.41Z\" style=\"vector-effect: non-scaling-stroke; opacity: 1; stroke-width: 0.5px; fill: rgb(206, 241, 162); fill-opacity: 1; stroke: rgb(229, 236, 246); stroke-opacity: 1;\"/></g><g class=\"point\"><path d=\"M0,233.32V218.85H28.36V233.32Z\" style=\"vector-effect: non-scaling-stroke; opacity: 1; stroke-width: 0.5px; fill: rgb(193, 237, 159); fill-opacity: 1; stroke: rgb(229, 236, 246); stroke-opacity: 1;\"/></g><g class=\"point\"><path d=\"M0,215.23V200.77H32.12V215.23Z\" style=\"vector-effect: non-scaling-stroke; opacity: 1; stroke-width: 0.5px; fill: rgb(190, 236, 158); fill-opacity: 1; stroke: rgb(229, 236, 246); stroke-opacity: 1;\"/></g><g class=\"point\"><path d=\"M0,197.15V182.68H35.51V197.15Z\" style=\"vector-effect: non-scaling-stroke; opacity: 1; stroke-width: 0.5px; fill: rgb(188, 235, 158); fill-opacity: 1; stroke: rgb(229, 236, 246); stroke-opacity: 1;\"/></g><g class=\"point\"><path d=\"M0,179.06V164.59H52.75V179.06Z\" style=\"vector-effect: non-scaling-stroke; opacity: 1; stroke-width: 0.5px; fill: rgb(177, 232, 156); fill-opacity: 1; stroke: rgb(229, 236, 246); stroke-opacity: 1;\"/></g><g class=\"point\"><path d=\"M0,160.97V146.5H65.1V160.97Z\" style=\"vector-effect: non-scaling-stroke; opacity: 1; stroke-width: 0.5px; fill: rgb(169, 230, 154); fill-opacity: 1; stroke: rgb(229, 236, 246); stroke-opacity: 1;\"/></g><g class=\"point\"><path d=\"M0,142.89V128.42H98.73V142.89Z\" style=\"vector-effect: non-scaling-stroke; opacity: 1; stroke-width: 0.5px; fill: rgb(148, 223, 149); fill-opacity: 1; stroke: rgb(229, 236, 246); stroke-opacity: 1;\"/></g><g class=\"point\"><path d=\"M0,124.8V110.33H157.66V124.8Z\" style=\"vector-effect: non-scaling-stroke; opacity: 1; stroke-width: 0.5px; fill: rgb(120, 202, 142); fill-opacity: 1; stroke: rgb(229, 236, 246); stroke-opacity: 1;\"/></g><g class=\"point\"><path d=\"M0,106.71V92.24H162.28V106.71Z\" style=\"vector-effect: non-scaling-stroke; opacity: 1; stroke-width: 0.5px; fill: rgb(118, 200, 142); fill-opacity: 1; stroke: rgb(229, 236, 246); stroke-opacity: 1;\"/></g><g class=\"point\"><path d=\"M0,88.63V74.16H197.62V88.63Z\" style=\"vector-effect: non-scaling-stroke; opacity: 1; stroke-width: 0.5px; fill: rgb(103, 187, 138); fill-opacity: 1; stroke: rgb(229, 236, 246); stroke-opacity: 1;\"/></g><g class=\"point\"><path d=\"M0,70.54V56.07H269.23V70.54Z\" style=\"vector-effect: non-scaling-stroke; opacity: 1; stroke-width: 0.5px; fill: rgb(79, 158, 131); fill-opacity: 1; stroke: rgb(229, 236, 246); stroke-opacity: 1;\"/></g><g class=\"point\"><path d=\"M0,52.45V37.98H291.84V52.45Z\" style=\"vector-effect: non-scaling-stroke; opacity: 1; stroke-width: 0.5px; fill: rgb(69, 150, 129); fill-opacity: 1; stroke: rgb(229, 236, 246); stroke-opacity: 1;\"/></g><g class=\"point\"><path d=\"M0,34.37V19.9H362.69V34.37Z\" style=\"vector-effect: non-scaling-stroke; opacity: 1; stroke-width: 0.5px; fill: rgb(36, 124, 122); fill-opacity: 1; stroke: rgb(229, 236, 246); stroke-opacity: 1;\"/></g><g class=\"point\"><path d=\"M0,16.28V1.81H552.9V16.28Z\" style=\"vector-effect: non-scaling-stroke; opacity: 1; stroke-width: 0.5px; fill: rgb(7, 64, 80); fill-opacity: 1; stroke: rgb(229, 236, 246); stroke-opacity: 1;\"/></g></g></g></g></g><g class=\"overplot\"/><path class=\"xlines-above crisp\" d=\"M0,0\" style=\"fill: none;\"/><path class=\"ylines-above crisp\" d=\"M0,0\" style=\"fill: none;\"/><g class=\"overlines-above\"/><g class=\"xaxislayer-above\"><g class=\"xtick\"><text text-anchor=\"middle\" x=\"0\" y=\"483\" transform=\"translate(164,0)\" style=\"font-family: 'Open Sans', verdana, arial, sans-serif; font-size: 12px; fill: rgb(42, 63, 95); fill-opacity: 1; white-space: pre; opacity: 1;\">0</text></g><g class=\"xtick\"><text text-anchor=\"middle\" x=\"0\" y=\"483\" style=\"font-family: 'Open Sans', verdana, arial, sans-serif; font-size: 12px; fill: rgb(42, 63, 95); fill-opacity: 1; white-space: pre; opacity: 1;\" transform=\"translate(271.43,0)\">2k</text></g><g class=\"xtick\"><text text-anchor=\"middle\" x=\"0\" y=\"483\" style=\"font-family: 'Open Sans', verdana, arial, sans-serif; font-size: 12px; fill: rgb(42, 63, 95); fill-opacity: 1; white-space: pre; opacity: 1;\" transform=\"translate(378.86,0)\">4k</text></g><g class=\"xtick\"><text text-anchor=\"middle\" x=\"0\" y=\"483\" style=\"font-family: 'Open Sans', verdana, arial, sans-serif; font-size: 12px; fill: rgb(42, 63, 95); fill-opacity: 1; white-space: pre; opacity: 1;\" transform=\"translate(486.3,0)\">6k</text></g><g class=\"xtick\"><text text-anchor=\"middle\" x=\"0\" y=\"483\" style=\"font-family: 'Open Sans', verdana, arial, sans-serif; font-size: 12px; fill: rgb(42, 63, 95); fill-opacity: 1; white-space: pre; opacity: 1;\" transform=\"translate(593.73,0)\">8k</text></g><g class=\"xtick\"><text text-anchor=\"middle\" x=\"0\" y=\"483\" style=\"font-family: 'Open Sans', verdana, arial, sans-serif; font-size: 12px; fill: rgb(42, 63, 95); fill-opacity: 1; white-space: pre; opacity: 1;\" transform=\"translate(701.16,0)\">10k</text></g></g><g class=\"yaxislayer-above\"><g class=\"ytick\"><text text-anchor=\"end\" x=\"163\" y=\"4.199999999999999\" transform=\"translate(0,460.96)\" style=\"font-family: 'Open Sans', verdana, arial, sans-serif; font-size: 12px; fill: rgb(42, 63, 95); fill-opacity: 1; white-space: pre; opacity: 1;\">Accounting</text></g><g class=\"ytick\"><text text-anchor=\"end\" x=\"163\" y=\"4.199999999999999\" transform=\"translate(0,442.87)\" style=\"font-family: 'Open Sans', verdana, arial, sans-serif; font-size: 12px; fill: rgb(42, 63, 95); fill-opacity: 1; white-space: pre; opacity: 1;\">Software Training</text></g><g class=\"ytick\"><text text-anchor=\"end\" x=\"163\" y=\"4.199999999999999\" transform=\"translate(0,424.78)\" style=\"font-family: 'Open Sans', verdana, arial, sans-serif; font-size: 12px; fill: rgb(42, 63, 95); fill-opacity: 1; white-space: pre; opacity: 1;\">Photo Editing</text></g><g class=\"ytick\"><text text-anchor=\"end\" x=\"163\" y=\"4.199999999999999\" transform=\"translate(0,406.7)\" style=\"font-family: 'Open Sans', verdana, arial, sans-serif; font-size: 12px; fill: rgb(42, 63, 95); fill-opacity: 1; white-space: pre; opacity: 1;\">Video Production</text></g><g class=\"ytick\"><text text-anchor=\"end\" x=\"163\" y=\"4.199999999999999\" transform=\"translate(0,388.61)\" style=\"font-family: 'Open Sans', verdana, arial, sans-serif; font-size: 12px; fill: rgb(42, 63, 95); fill-opacity: 1; white-space: pre; opacity: 1;\">Audio Production</text></g><g class=\"ytick\"><text text-anchor=\"end\" x=\"163\" y=\"4.199999999999999\" transform=\"translate(0,370.52)\" style=\"font-family: 'Open Sans', verdana, arial, sans-serif; font-size: 12px; fill: rgb(42, 63, 95); fill-opacity: 1; white-space: pre; opacity: 1;\">Education</text></g><g class=\"ytick\"><text text-anchor=\"end\" x=\"163\" y=\"4.199999999999999\" transform=\"translate(0,352.43)\" style=\"font-family: 'Open Sans', verdana, arial, sans-serif; font-size: 12px; fill: rgb(42, 63, 95); fill-opacity: 1; white-space: pre; opacity: 1;\">Web Publishing</text></g><g class=\"ytick\"><text text-anchor=\"end\" x=\"163\" y=\"4.199999999999999\" transform=\"translate(0,334.35)\" style=\"font-family: 'Open Sans', verdana, arial, sans-serif; font-size: 12px; fill: rgb(42, 63, 95); fill-opacity: 1; white-space: pre; opacity: 1;\">Animation &amp; Modeling</text></g><g class=\"ytick\"><text text-anchor=\"end\" x=\"163\" y=\"4.199999999999999\" transform=\"translate(0,316.26)\" style=\"font-family: 'Open Sans', verdana, arial, sans-serif; font-size: 12px; fill: rgb(42, 63, 95); fill-opacity: 1; white-space: pre; opacity: 1;\">Utilities</text></g><g class=\"ytick\"><text text-anchor=\"end\" x=\"163\" y=\"4.199999999999999\" transform=\"translate(0,298.16999999999996)\" style=\"font-family: 'Open Sans', verdana, arial, sans-serif; font-size: 12px; fill: rgb(42, 63, 95); fill-opacity: 1; white-space: pre; opacity: 1;\">Design &amp; Illustration</text></g><g class=\"ytick\"><text text-anchor=\"end\" x=\"163\" y=\"4.199999999999999\" transform=\"translate(0,280.09000000000003)\" style=\"font-family: 'Open Sans', verdana, arial, sans-serif; font-size: 12px; fill: rgb(42, 63, 95); fill-opacity: 1; white-space: pre; opacity: 1;\">Massively Multiplayer</text></g><g class=\"ytick\"><text text-anchor=\"end\" x=\"163\" y=\"4.199999999999999\" transform=\"translate(0,262)\" style=\"font-family: 'Open Sans', verdana, arial, sans-serif; font-size: 12px; fill: rgb(42, 63, 95); fill-opacity: 1; white-space: pre; opacity: 1;\">Racing</text></g><g class=\"ytick\"><text text-anchor=\"end\" x=\"163\" y=\"4.199999999999999\" transform=\"translate(0,243.91)\" style=\"font-family: 'Open Sans', verdana, arial, sans-serif; font-size: 12px; fill: rgb(42, 63, 95); fill-opacity: 1; white-space: pre; opacity: 1;\">Sports</text></g><g class=\"ytick\"><text text-anchor=\"end\" x=\"163\" y=\"4.199999999999999\" transform=\"translate(0,225.83)\" style=\"font-family: 'Open Sans', verdana, arial, sans-serif; font-size: 12px; fill: rgb(42, 63, 95); fill-opacity: 1; white-space: pre; opacity: 1;\">Free to Play</text></g><g class=\"ytick\"><text text-anchor=\"end\" x=\"163\" y=\"4.199999999999999\" transform=\"translate(0,207.74)\" style=\"font-family: 'Open Sans', verdana, arial, sans-serif; font-size: 12px; fill: rgb(42, 63, 95); fill-opacity: 1; white-space: pre; opacity: 1;\">Early Access</text></g><g class=\"ytick\"><text text-anchor=\"end\" x=\"163\" y=\"4.199999999999999\" transform=\"translate(0,189.65)\" style=\"font-family: 'Open Sans', verdana, arial, sans-serif; font-size: 12px; fill: rgb(42, 63, 95); fill-opacity: 1; white-space: pre; opacity: 1;\"/></g><g class=\"ytick\"><text text-anchor=\"end\" x=\"163\" y=\"4.199999999999999\" transform=\"translate(0,171.57)\" style=\"font-family: 'Open Sans', verdana, arial, sans-serif; font-size: 12px; fill: rgb(42, 63, 95); fill-opacity: 1; white-space: pre; opacity: 1;\">RPG</text></g><g class=\"ytick\"><text text-anchor=\"end\" x=\"163\" y=\"4.199999999999999\" transform=\"translate(0,153.48000000000002)\" style=\"font-family: 'Open Sans', verdana, arial, sans-serif; font-size: 12px; fill: rgb(42, 63, 95); fill-opacity: 1; white-space: pre; opacity: 1;\">Simulation</text></g><g class=\"ytick\"><text text-anchor=\"end\" x=\"163\" y=\"4.199999999999999\" transform=\"translate(0,135.39)\" style=\"font-family: 'Open Sans', verdana, arial, sans-serif; font-size: 12px; fill: rgb(42, 63, 95); fill-opacity: 1; white-space: pre; opacity: 1;\">Strategy</text></g><g class=\"ytick\"><text text-anchor=\"end\" x=\"163\" y=\"4.199999999999999\" transform=\"translate(0,117.3)\" style=\"font-family: 'Open Sans', verdana, arial, sans-serif; font-size: 12px; fill: rgb(42, 63, 95); fill-opacity: 1; white-space: pre; opacity: 1;\">Casual</text></g><g class=\"ytick\"><text text-anchor=\"end\" x=\"163\" y=\"4.199999999999999\" transform=\"translate(0,99.22)\" style=\"font-family: 'Open Sans', verdana, arial, sans-serif; font-size: 12px; fill: rgb(42, 63, 95); fill-opacity: 1; white-space: pre; opacity: 1;\">Adventure</text></g><g class=\"ytick\"><text text-anchor=\"end\" x=\"163\" y=\"4.199999999999999\" transform=\"translate(0,81.13)\" style=\"font-family: 'Open Sans', verdana, arial, sans-serif; font-size: 12px; fill: rgb(42, 63, 95); fill-opacity: 1; white-space: pre; opacity: 1;\">Action</text></g><g class=\"ytick\"><text text-anchor=\"end\" x=\"163\" y=\"4.199999999999999\" transform=\"translate(0,63.04)\" style=\"font-family: 'Open Sans', verdana, arial, sans-serif; font-size: 12px; fill: rgb(42, 63, 95); fill-opacity: 1; white-space: pre; opacity: 1;\">Indie</text></g></g><g class=\"overaxes-above\"/></g></g><g class=\"polarlayer\"/><g class=\"ternarylayer\"/><g class=\"geolayer\"/><g class=\"funnelarealayer\"/><g class=\"pielayer\"/><g class=\"iciclelayer\"/><g class=\"treemaplayer\"/><g class=\"sunburstlayer\"/><g class=\"glimages\"/><defs id=\"topdefs-67f534\"><g class=\"clips\"/></defs><g class=\"layer-above\"><g class=\"imagelayer\"/><g class=\"shapelayer\"/></g><g class=\"infolayer\"><g class=\"cbcoloraxis colorbar\" transform=\"translate(164,54)\"><rect class=\"cbbg\" x=\"594\" y=\"0\" width=\"81.90625\" height=\"416\" style=\"fill: rgb(0, 0, 0); fill-opacity: 0; stroke: rgb(68, 68, 68); stroke-opacity: 1; stroke-width: 0;\"/><g class=\"cbfills\" transform=\"translate(0,32)\"><rect class=\"cbfill\" x=\"604\" width=\"30\" y=\"0\" height=\"374\" style=\"fill: url('#g67f534-cbcoloraxis');\"/></g><g class=\"cblines\" transform=\"translate(0,32)\"/><g class=\"cbaxis crisp\" transform=\"translate(0,-54)\"><g class=\"ycbcoloraxistick\"><text text-anchor=\"start\" x=\"636.9\" y=\"4.199999999999999\" transform=\"translate(0,387.39)\" style=\"font-family: 'Open Sans', verdana, arial, sans-serif; font-size: 12px; fill: rgb(42, 63, 95); fill-opacity: 1; white-space: pre; opacity: 1;\">2k</text></g><g class=\"ycbcoloraxistick\"><text text-anchor=\"start\" x=\"636.9\" y=\"4.199999999999999\" style=\"font-family: 'Open Sans', verdana, arial, sans-serif; font-size: 12px; fill: rgb(42, 63, 95); fill-opacity: 1; white-space: pre; opacity: 1;\" transform=\"translate(0,314.70000000000005)\">4k</text></g><g class=\"ycbcoloraxistick\"><text text-anchor=\"start\" x=\"636.9\" y=\"4.199999999999999\" style=\"font-family: 'Open Sans', verdana, arial, sans-serif; font-size: 12px; fill: rgb(42, 63, 95); fill-opacity: 1; white-space: pre; opacity: 1;\" transform=\"translate(0,242.02000000000004)\">6k</text></g><g class=\"ycbcoloraxistick\"><text text-anchor=\"start\" x=\"636.9\" y=\"4.199999999999999\" style=\"font-family: 'Open Sans', verdana, arial, sans-serif; font-size: 12px; fill: rgb(42, 63, 95); fill-opacity: 1; white-space: pre; opacity: 1;\" transform=\"translate(0,169.33000000000004)\">8k</text></g><g class=\"ycbcoloraxistick\"><text text-anchor=\"start\" x=\"636.9\" y=\"4.199999999999999\" style=\"font-family: 'Open Sans', verdana, arial, sans-serif; font-size: 12px; fill: rgb(42, 63, 95); fill-opacity: 1; white-space: pre; opacity: 1;\" transform=\"translate(0,96.65000000000003)\">10k</text></g></g><g class=\"cbtitleunshift\" transform=\"translate(-164,-54)\"><g class=\"cbtitle\" transform=\"\"><text class=\"ycbcoloraxistitle\" x=\"767.64\" y=\"77.50000000000001\" text-anchor=\"start\" style=\"font-family: 'Open Sans', verdana, arial, sans-serif; font-size: 14px; fill: rgb(42, 63, 95); opacity: 1; font-weight: normal; white-space: pre;\">Cantidad</text></g></g><rect class=\"cboutline\" x=\"604\" y=\"32\" width=\"30\" height=\"374\" style=\"stroke: rgb(68, 68, 68); stroke-opacity: 1; fill: none; stroke-width: 0;\"/></g><g class=\"g-gtitle\"><text class=\"gtitle\" x=\"42.5\" y=\"27\" text-anchor=\"start\" dy=\"0em\" style=\"font-family: 'Open Sans', verdana, arial, sans-serif; font-size: 17px; fill: rgb(42, 63, 95); opacity: 1; font-weight: normal; white-space: pre;\">Géneros</text></g><g class=\"g-xtitle\"><text class=\"xtitle\" x=\"455\" y=\"510.8\" text-anchor=\"middle\" style=\"font-family: 'Open Sans', verdana, arial, sans-serif; font-size: 14px; fill: rgb(42, 63, 95); opacity: 1; font-weight: normal; white-space: pre;\">Cantidad de videojuegos</text></g><g class=\"g-ytitle\" transform=\"translate(38.7998046875,0)\"><text class=\"ytitle\" transform=\"rotate(-90,-24.80000000000001,262)\" x=\"-24.80000000000001\" y=\"262\" text-anchor=\"middle\" style=\"font-family: 'Open Sans', verdana, arial, sans-serif; font-size: 14px; fill: rgb(42, 63, 95); opacity: 1; font-weight: normal; white-space: pre;\">Generos</text></g></g></svg>"
      ],
      "text/plain": [
       "<IPython.core.display.SVG object>"
      ]
     },
     "metadata": {},
     "output_type": "display_data"
    }
   ],
   "source": [
    "fig = px.bar(x=count[order], y=value[order], color=count[order],\n",
    "             color_continuous_scale='emrld',\n",
    "             title='Géneros',\n",
    "             labels={\n",
    "                 'x': 'Cantidad de videojuegos',\n",
    "                 'y': 'Generos', 'color': 'Cantidad'},\n",
    "             width=850,\n",
    "             height=550,\n",
    "             # log_x=True,\n",
    "             )\n",
    "fig.update_layout(paper_bgcolor='#FAFAFA',\n",
    "                  margin=dict(l=10, r=20, t=54)\n",
    "                  )\n",
    "#fig.show()\n",
    "display(SVG(fig.to_image(format='svg')))"
   ]
  },
  {
   "cell_type": "markdown",
   "metadata": {},
   "source": [
    "### Juegos de pago más jugados"
   ]
  },
  {
   "cell_type": "code",
   "execution_count": 86,
   "metadata": {},
   "outputs": [],
   "source": [
    "df_items = data_games.query('category_price==\"paid\"')\n",
    "merge_paid_games = pd.merge(cantidad_por_productoId, df_items, left_on='product_id',\n",
    "                            right_on='id').sort_values(by='amount', ascending=False).head(10)"
   ]
  },
  {
   "cell_type": "code",
   "execution_count": 87,
   "metadata": {},
   "outputs": [
    {
     "data": {
      "image/svg+xml": [
       "<svg xmlns=\"http://www.w3.org/2000/svg\" xmlns:xlink=\"http://www.w3.org/1999/xlink\" class=\"main-svg\" width=\"800\" height=\"500\" style=\"\" viewBox=\"0 0 800 500\"><rect x=\"0\" y=\"0\" width=\"800\" height=\"500\" style=\"fill: rgb(250, 250, 250); fill-opacity: 1;\"/><defs id=\"defs-765a44\"><g class=\"clips\"><clipPath id=\"clip765a44xyplot\" class=\"plotclip\"><rect width=\"548\" height=\"328\"/></clipPath><clipPath class=\"axesclip\" id=\"clip765a44x\"><rect x=\"60\" y=\"0\" width=\"548\" height=\"500\"/></clipPath><clipPath class=\"axesclip\" id=\"clip765a44y\"><rect x=\"0\" y=\"40\" width=\"800\" height=\"328\"/></clipPath><clipPath class=\"axesclip\" id=\"clip765a44xy\"><rect x=\"60\" y=\"40\" width=\"548\" height=\"328\"/></clipPath></g><g class=\"gradients\"><linearGradient x1=\"0\" x2=\"0\" y1=\"1\" y2=\"0\" id=\"g765a44-cbcoloraxis\"><stop offset=\"0%\" stop-color=\"rgb(255, 255, 204)\" stop-opacity=\"1\"/><stop offset=\"12.5%\" stop-color=\"rgb(255, 237, 160)\" stop-opacity=\"1\"/><stop offset=\"25%\" stop-color=\"rgb(254, 217, 118)\" stop-opacity=\"1\"/><stop offset=\"37.5%\" stop-color=\"rgb(254, 178, 76)\" stop-opacity=\"1\"/><stop offset=\"50%\" stop-color=\"rgb(253, 141, 60)\" stop-opacity=\"1\"/><stop offset=\"62.5%\" stop-color=\"rgb(252, 78, 42)\" stop-opacity=\"1\"/><stop offset=\"75%\" stop-color=\"rgb(227, 26, 28)\" stop-opacity=\"1\"/><stop offset=\"87.5%\" stop-color=\"rgb(189, 0, 38)\" stop-opacity=\"1\"/><stop offset=\"100%\" stop-color=\"rgb(128, 0, 38)\" stop-opacity=\"1\"/></linearGradient></g><g class=\"patterns\"/></defs><g class=\"bglayer\"><rect class=\"bg\" x=\"60\" y=\"40\" width=\"548\" height=\"328\" style=\"fill: rgb(229, 236, 246); fill-opacity: 1; stroke-width: 0;\"/></g><g class=\"layer-below\"><g class=\"imagelayer\"/><g class=\"shapelayer\"/></g><g class=\"cartesianlayer\"><g class=\"subplot xy\"><g class=\"layer-subplot\"><g class=\"shapelayer\"/><g class=\"imagelayer\"/></g><g class=\"gridlayer\"><g class=\"x\"/><g class=\"y\"><path class=\"ygrid crisp\" transform=\"translate(0,332.03)\" d=\"M60,0h548\" style=\"stroke: rgb(255, 255, 255); stroke-opacity: 1; stroke-width: 1px;\"/><path class=\"ygrid crisp\" transform=\"translate(0,296.07)\" d=\"M60,0h548\" style=\"stroke: rgb(255, 255, 255); stroke-opacity: 1; stroke-width: 1px;\"/><path class=\"ygrid crisp\" transform=\"translate(0,260.1)\" d=\"M60,0h548\" style=\"stroke: rgb(255, 255, 255); stroke-opacity: 1; stroke-width: 1px;\"/><path class=\"ygrid crisp\" transform=\"translate(0,224.13)\" d=\"M60,0h548\" style=\"stroke: rgb(255, 255, 255); stroke-opacity: 1; stroke-width: 1px;\"/><path class=\"ygrid crisp\" transform=\"translate(0,188.17)\" d=\"M60,0h548\" style=\"stroke: rgb(255, 255, 255); stroke-opacity: 1; stroke-width: 1px;\"/><path class=\"ygrid crisp\" transform=\"translate(0,152.2)\" d=\"M60,0h548\" style=\"stroke: rgb(255, 255, 255); stroke-opacity: 1; stroke-width: 1px;\"/><path class=\"ygrid crisp\" transform=\"translate(0,116.23)\" d=\"M60,0h548\" style=\"stroke: rgb(255, 255, 255); stroke-opacity: 1; stroke-width: 1px;\"/><path class=\"ygrid crisp\" transform=\"translate(0,80.27000000000001)\" d=\"M60,0h548\" style=\"stroke: rgb(255, 255, 255); stroke-opacity: 1; stroke-width: 1px;\"/><path class=\"ygrid crisp\" transform=\"translate(0,44.3)\" d=\"M60,0h548\" style=\"stroke: rgb(255, 255, 255); stroke-opacity: 1; stroke-width: 1px;\"/></g></g><g class=\"zerolinelayer\"><path class=\"yzl zl crisp\" transform=\"translate(0,368)\" d=\"M60,0h548\" style=\"stroke: rgb(255, 255, 255); stroke-opacity: 1; stroke-width: 2px;\"/></g><path class=\"xlines-below\"/><path class=\"ylines-below\"/><g class=\"overlines-below\"/><g class=\"xaxislayer-below\"/><g class=\"yaxislayer-below\"/><g class=\"overaxes-below\"/><g class=\"plot\" transform=\"translate(60,40)\" clip-path=\"url(#clip765a44xyplot)\"><g class=\"barlayer mlayer\"><g class=\"trace bars\" style=\"opacity: 1;\"><g class=\"points\"><g class=\"point\"><path d=\"M5.48,328V16.4H49.32V328Z\" style=\"vector-effect: non-scaling-stroke; opacity: 1; stroke-width: 0.5px; fill: rgb(128, 0, 38); fill-opacity: 1; stroke: rgb(229, 236, 246); stroke-opacity: 1;\"/></g><g class=\"point\"><path d=\"M60.28,328V146.2H104.12V328Z\" style=\"vector-effect: non-scaling-stroke; opacity: 1; stroke-width: 0.5px; fill: rgb(254, 188, 86); fill-opacity: 1; stroke: rgb(229, 236, 246); stroke-opacity: 1;\"/></g><g class=\"point\"><path d=\"M115.08,328V153.76H158.92V328Z\" style=\"vector-effect: non-scaling-stroke; opacity: 1; stroke-width: 0.5px; fill: rgb(254, 200, 99); fill-opacity: 1; stroke: rgb(229, 236, 246); stroke-opacity: 1;\"/></g><g class=\"point\"><path d=\"M169.88,328V153.89H213.72V328Z\" style=\"vector-effect: non-scaling-stroke; opacity: 1; stroke-width: 0.5px; fill: rgb(254, 200, 99); fill-opacity: 1; stroke: rgb(229, 236, 246); stroke-opacity: 1;\"/></g><g class=\"point\"><path d=\"M224.68,328V156.29H268.52V328Z\" style=\"vector-effect: non-scaling-stroke; opacity: 1; stroke-width: 0.5px; fill: rgb(254, 204, 103); fill-opacity: 1; stroke: rgb(229, 236, 246); stroke-opacity: 1;\"/></g><g class=\"point\"><path d=\"M279.48,328V180.06H323.32V328Z\" style=\"vector-effect: non-scaling-stroke; opacity: 1; stroke-width: 0.5px; fill: rgb(255, 229, 144); fill-opacity: 1; stroke: rgb(229, 236, 246); stroke-opacity: 1;\"/></g><g class=\"point\"><path d=\"M334.28,328V196.19H378.12V328Z\" style=\"vector-effect: non-scaling-stroke; opacity: 1; stroke-width: 0.5px; fill: rgb(255, 242, 172); fill-opacity: 1; stroke: rgb(229, 236, 246); stroke-opacity: 1;\"/></g><g class=\"point\"><path d=\"M389.08,328V196.24H432.92V328Z\" style=\"vector-effect: non-scaling-stroke; opacity: 1; stroke-width: 0.5px; fill: rgb(255, 242, 172); fill-opacity: 1; stroke: rgb(229, 236, 246); stroke-opacity: 1;\"/></g><g class=\"point\"><path d=\"M443.88,328V196.51H487.72V328Z\" style=\"vector-effect: non-scaling-stroke; opacity: 1; stroke-width: 0.5px; fill: rgb(255, 242, 172); fill-opacity: 1; stroke: rgb(229, 236, 246); stroke-opacity: 1;\"/></g><g class=\"point\"><path d=\"M498.68,328V214.33H542.52V328Z\" style=\"vector-effect: non-scaling-stroke; opacity: 1; stroke-width: 0.5px; fill: rgb(255, 255, 204); fill-opacity: 1; stroke: rgb(229, 236, 246); stroke-opacity: 1;\"/></g></g></g></g></g><g class=\"overplot\"/><path class=\"xlines-above crisp\" d=\"M0,0\" style=\"fill: none;\"/><path class=\"ylines-above crisp\" d=\"M0,0\" style=\"fill: none;\"/><g class=\"overlines-above\"/><g class=\"xaxislayer-above\"><g class=\"xtick\"><text text-anchor=\"start\" x=\"0\" y=\"381\" transform=\"translate(87.4,0) rotate(30,0,375)\" style=\"font-family: 'Open Sans', verdana, arial, sans-serif; font-size: 12px; fill: rgb(42, 63, 95); fill-opacity: 1; white-space: pre; opacity: 1;\">Rust</text></g><g class=\"xtick\"><text text-anchor=\"start\" x=\"0\" y=\"381\" transform=\"translate(142.2,0) rotate(30,0,375)\" style=\"font-family: 'Open Sans', verdana, arial, sans-serif; font-size: 12px; fill: rgb(42, 63, 95); fill-opacity: 1; white-space: pre; opacity: 1;\">Grand Theft Auto V</text></g><g class=\"xtick\"><text text-anchor=\"start\" x=\"0\" y=\"381\" transform=\"translate(197,0) rotate(30,0,375)\" style=\"font-family: 'Open Sans', verdana, arial, sans-serif; font-size: 12px; fill: rgb(42, 63, 95); fill-opacity: 1; white-space: pre; opacity: 1;\">DayZ</text></g><g class=\"xtick\"><text text-anchor=\"start\" x=\"0\" y=\"381\" transform=\"translate(251.8,0) rotate(30,0,375)\" style=\"font-family: 'Open Sans', verdana, arial, sans-serif; font-size: 12px; fill: rgb(42, 63, 95); fill-opacity: 1; white-space: pre; opacity: 1;\">Undertale</text></g><g class=\"xtick\"><text text-anchor=\"start\" x=\"0\" y=\"381\" transform=\"translate(306.6,0) rotate(30,0,375)\" style=\"font-family: 'Open Sans', verdana, arial, sans-serif; font-size: 12px; fill: rgb(42, 63, 95); fill-opacity: 1; white-space: pre; opacity: 1;\">Portal 2</text></g><g class=\"xtick\"><text text-anchor=\"start\" x=\"0\" y=\"381\" transform=\"translate(361.4,0) rotate(30,0,375)\" style=\"font-family: 'Open Sans', verdana, arial, sans-serif; font-size: 12px; fill: rgb(42, 63, 95); fill-opacity: 1; white-space: pre; opacity: 1;\">Garry's Mod</text></g><g class=\"xtick\"><text text-anchor=\"start\" x=\"0\" y=\"381\" transform=\"translate(416.2,0) rotate(30,0,375)\" style=\"font-family: 'Open Sans', verdana, arial, sans-serif; font-size: 12px; fill: rgb(42, 63, 95); fill-opacity: 1; white-space: pre; opacity: 1;\">Starbound</text></g><g class=\"xtick\"><text text-anchor=\"start\" x=\"0\" y=\"381\" transform=\"translate(471,0) rotate(30,0,375)\" style=\"font-family: 'Open Sans', verdana, arial, sans-serif; font-size: 12px; fill: rgb(42, 63, 95); fill-opacity: 1; white-space: pre; opacity: 1;\">ARK: Survival Evolved</text></g><g class=\"xtick\"><text text-anchor=\"start\" x=\"0\" y=\"381\" transform=\"translate(525.8,0) rotate(30,0,375)\" style=\"font-family: 'Open Sans', verdana, arial, sans-serif; font-size: 12px; fill: rgb(42, 63, 95); fill-opacity: 1; white-space: pre; opacity: 1;\">H1Z1</text></g><g class=\"xtick\"><text text-anchor=\"start\" x=\"0\" y=\"381\" transform=\"translate(580.6,0) rotate(30,0,375)\" style=\"font-family: 'Open Sans', verdana, arial, sans-serif; font-size: 12px; fill: rgb(42, 63, 95); fill-opacity: 1; white-space: pre; opacity: 1;\">Sid Meier's Civilization® V</text></g></g><g class=\"yaxislayer-above\"><g class=\"ytick\"><text text-anchor=\"end\" x=\"59\" y=\"4.199999999999999\" transform=\"translate(0,368)\" style=\"font-family: 'Open Sans', verdana, arial, sans-serif; font-size: 12px; fill: rgb(42, 63, 95); fill-opacity: 1; white-space: pre; opacity: 1;\">0</text></g><g class=\"ytick\"><text text-anchor=\"end\" x=\"59\" y=\"4.199999999999999\" style=\"font-family: 'Open Sans', verdana, arial, sans-serif; font-size: 12px; fill: rgb(42, 63, 95); fill-opacity: 1; white-space: pre; opacity: 1;\" transform=\"translate(0,332.03)\">5k</text></g><g class=\"ytick\"><text text-anchor=\"end\" x=\"59\" y=\"4.199999999999999\" style=\"font-family: 'Open Sans', verdana, arial, sans-serif; font-size: 12px; fill: rgb(42, 63, 95); fill-opacity: 1; white-space: pre; opacity: 1;\" transform=\"translate(0,296.07)\">10k</text></g><g class=\"ytick\"><text text-anchor=\"end\" x=\"59\" y=\"4.199999999999999\" style=\"font-family: 'Open Sans', verdana, arial, sans-serif; font-size: 12px; fill: rgb(42, 63, 95); fill-opacity: 1; white-space: pre; opacity: 1;\" transform=\"translate(0,260.1)\">15k</text></g><g class=\"ytick\"><text text-anchor=\"end\" x=\"59\" y=\"4.199999999999999\" style=\"font-family: 'Open Sans', verdana, arial, sans-serif; font-size: 12px; fill: rgb(42, 63, 95); fill-opacity: 1; white-space: pre; opacity: 1;\" transform=\"translate(0,224.13)\">20k</text></g><g class=\"ytick\"><text text-anchor=\"end\" x=\"59\" y=\"4.199999999999999\" style=\"font-family: 'Open Sans', verdana, arial, sans-serif; font-size: 12px; fill: rgb(42, 63, 95); fill-opacity: 1; white-space: pre; opacity: 1;\" transform=\"translate(0,188.17)\">25k</text></g><g class=\"ytick\"><text text-anchor=\"end\" x=\"59\" y=\"4.199999999999999\" style=\"font-family: 'Open Sans', verdana, arial, sans-serif; font-size: 12px; fill: rgb(42, 63, 95); fill-opacity: 1; white-space: pre; opacity: 1;\" transform=\"translate(0,152.2)\">30k</text></g><g class=\"ytick\"><text text-anchor=\"end\" x=\"59\" y=\"4.199999999999999\" style=\"font-family: 'Open Sans', verdana, arial, sans-serif; font-size: 12px; fill: rgb(42, 63, 95); fill-opacity: 1; white-space: pre; opacity: 1;\" transform=\"translate(0,116.23)\">35k</text></g><g class=\"ytick\"><text text-anchor=\"end\" x=\"59\" y=\"4.199999999999999\" style=\"font-family: 'Open Sans', verdana, arial, sans-serif; font-size: 12px; fill: rgb(42, 63, 95); fill-opacity: 1; white-space: pre; opacity: 1;\" transform=\"translate(0,80.27000000000001)\">40k</text></g><g class=\"ytick\"><text text-anchor=\"end\" x=\"59\" y=\"4.199999999999999\" style=\"font-family: 'Open Sans', verdana, arial, sans-serif; font-size: 12px; fill: rgb(42, 63, 95); fill-opacity: 1; white-space: pre; opacity: 1;\" transform=\"translate(0,44.3)\">45k</text></g></g><g class=\"overaxes-above\"/></g></g><g class=\"polarlayer\"/><g class=\"ternarylayer\"/><g class=\"geolayer\"/><g class=\"funnelarealayer\"/><g class=\"pielayer\"/><g class=\"iciclelayer\"/><g class=\"treemaplayer\"/><g class=\"sunburstlayer\"/><g class=\"glimages\"/><defs id=\"topdefs-765a44\"><g class=\"clips\"/></defs><g class=\"layer-above\"><g class=\"imagelayer\"/><g class=\"shapelayer\"/></g><g class=\"infolayer\"><g class=\"cbcoloraxis colorbar\" transform=\"translate(60,40)\"><rect class=\"cbbg\" x=\"559\" y=\"0\" width=\"168.859375\" height=\"328\" style=\"fill: rgb(0, 0, 0); fill-opacity: 0; stroke: rgb(68, 68, 68); stroke-opacity: 1; stroke-width: 0;\"/><g class=\"cbfills\" transform=\"translate(0,32)\"><rect class=\"cbfill\" x=\"569\" width=\"30\" y=\"0\" height=\"286\" style=\"fill: url('#g765a44-cbcoloraxis');\"/></g><g class=\"cblines\" transform=\"translate(0,32)\"/><g class=\"cbaxis crisp\" transform=\"translate(0,-40)\"><g class=\"ycbcoloraxistick\"><text text-anchor=\"start\" x=\"601.9\" y=\"4.199999999999999\" transform=\"translate(0,314.37)\" style=\"font-family: 'Open Sans', verdana, arial, sans-serif; font-size: 12px; fill: rgb(42, 63, 95); fill-opacity: 1; white-space: pre; opacity: 1;\">20k</text></g><g class=\"ycbcoloraxistick\"><text text-anchor=\"start\" x=\"601.9\" y=\"4.199999999999999\" style=\"font-family: 'Open Sans', verdana, arial, sans-serif; font-size: 12px; fill: rgb(42, 63, 95); fill-opacity: 1; white-space: pre; opacity: 1;\" transform=\"translate(0,262.40000000000003)\">25k</text></g><g class=\"ycbcoloraxistick\"><text text-anchor=\"start\" x=\"601.9\" y=\"4.199999999999999\" style=\"font-family: 'Open Sans', verdana, arial, sans-serif; font-size: 12px; fill: rgb(42, 63, 95); fill-opacity: 1; white-space: pre; opacity: 1;\" transform=\"translate(0,210.43000000000004)\">30k</text></g><g class=\"ycbcoloraxistick\"><text text-anchor=\"start\" x=\"601.9\" y=\"4.199999999999999\" style=\"font-family: 'Open Sans', verdana, arial, sans-serif; font-size: 12px; fill: rgb(42, 63, 95); fill-opacity: 1; white-space: pre; opacity: 1;\" transform=\"translate(0,158.46000000000004)\">35k</text></g><g class=\"ycbcoloraxistick\"><text text-anchor=\"start\" x=\"601.9\" y=\"4.199999999999999\" style=\"font-family: 'Open Sans', verdana, arial, sans-serif; font-size: 12px; fill: rgb(42, 63, 95); fill-opacity: 1; white-space: pre; opacity: 1;\" transform=\"translate(0,106.49000000000004)\">40k</text></g></g><g class=\"cbtitleunshift\" transform=\"translate(-60,-40)\"><g class=\"cbtitle\" transform=\"\"><text class=\"ycbcoloraxistitle\" x=\"628.9599999999999\" y=\"63.50000000000001\" text-anchor=\"start\" style=\"font-family: 'Open Sans', verdana, arial, sans-serif; font-size: 14px; fill: rgb(42, 63, 95); opacity: 1; font-weight: normal; white-space: pre;\">Cantidad de usuarios</text></g></g><rect class=\"cboutline\" x=\"569\" y=\"32\" width=\"30\" height=\"286\" style=\"stroke: rgb(68, 68, 68); stroke-opacity: 1; fill: none; stroke-width: 0;\"/></g><g class=\"g-gtitle\"><text class=\"gtitle\" x=\"40\" y=\"20\" text-anchor=\"start\" dy=\"0em\" style=\"font-family: 'Open Sans', verdana, arial, sans-serif; font-size: 17px; fill: rgb(42, 63, 95); opacity: 1; font-weight: normal; white-space: pre;\">Videojuegos de pago mas jugados</text></g><g class=\"g-xtitle\"><text class=\"xtitle\" x=\"334\" y=\"487.5939453125\" text-anchor=\"middle\" style=\"font-family: 'Open Sans', verdana, arial, sans-serif; font-size: 14px; fill: rgb(42, 63, 95); opacity: 1; font-weight: normal; white-space: pre;\">Videojuegos</text></g><g class=\"g-ytitle\" transform=\"translate(2.1591796875,0)\"><text class=\"ytitle\" transform=\"rotate(-90,11.840625000000003,204)\" x=\"11.840625000000003\" y=\"204\" text-anchor=\"middle\" style=\"font-family: 'Open Sans', verdana, arial, sans-serif; font-size: 14px; fill: rgb(42, 63, 95); opacity: 1; font-weight: normal; white-space: pre;\">Cantidad de usuarios</text></g></g></svg>"
      ],
      "text/plain": [
       "<IPython.core.display.SVG object>"
      ]
     },
     "metadata": {},
     "output_type": "display_data"
    }
   ],
   "source": [
    "fig = px.bar(data_frame=merge_paid_games, x='app_name', y='amount', title='Videojuegos de pago mas jugados',\n",
    "             labels={'app_name': 'Videojuegos',\n",
    "                     'amount': 'Cantidad de usuarios'},\n",
    "             hover_data=HOVER_DATA_COLUMNS,\n",
    "             color=merge_paid_games.amount, color_continuous_scale='ylorrd',\n",
    "             width=800,\n",
    "             height=500\n",
    "             )\n",
    "\n",
    "fig.update_layout(paper_bgcolor='#FAFAFA',\n",
    "                  margin=dict(l=30, r=20, t=40, b=30)\n",
    "                  )\n",
    "#fig.show()\n",
    "display(SVG(fig.to_image(format='svg')))"
   ]
  },
  {
   "cell_type": "markdown",
   "metadata": {},
   "source": [
    "### Juegos gratis más jugados"
   ]
  },
  {
   "cell_type": "code",
   "execution_count": 88,
   "metadata": {},
   "outputs": [],
   "source": [
    "df_items = data_games.query('category_price==\"free\"')\n",
    "merge_free_games = pd.merge(cantidad_por_productoId, df_items, left_on='product_id',\n",
    "                            right_on='id').sort_values(by='amount', ascending=False).head(10)"
   ]
  },
  {
   "cell_type": "code",
   "execution_count": 89,
   "metadata": {},
   "outputs": [
    {
     "data": {
      "image/svg+xml": [
       "<svg xmlns=\"http://www.w3.org/2000/svg\" xmlns:xlink=\"http://www.w3.org/1999/xlink\" class=\"main-svg\" width=\"800\" height=\"500\" style=\"\" viewBox=\"0 0 800 500\"><rect x=\"0\" y=\"0\" width=\"800\" height=\"500\" style=\"fill: rgb(250, 250, 250); fill-opacity: 1;\"/><defs id=\"defs-e16b9e\"><g class=\"clips\"><clipPath id=\"clipe16b9exyplot\" class=\"plotclip\"><rect width=\"548\" height=\"341\"/></clipPath><clipPath class=\"axesclip\" id=\"clipe16b9ex\"><rect x=\"60\" y=\"0\" width=\"548\" height=\"500\"/></clipPath><clipPath class=\"axesclip\" id=\"clipe16b9ey\"><rect x=\"0\" y=\"40\" width=\"800\" height=\"341\"/></clipPath><clipPath class=\"axesclip\" id=\"clipe16b9exy\"><rect x=\"60\" y=\"40\" width=\"548\" height=\"341\"/></clipPath></g><g class=\"gradients\"><linearGradient x1=\"0\" x2=\"0\" y1=\"1\" y2=\"0\" id=\"ge16b9e-cbcoloraxis\"><stop offset=\"0%\" stop-color=\"rgb(255, 255, 204)\" stop-opacity=\"1\"/><stop offset=\"12.5%\" stop-color=\"rgb(255, 237, 160)\" stop-opacity=\"1\"/><stop offset=\"25%\" stop-color=\"rgb(254, 217, 118)\" stop-opacity=\"1\"/><stop offset=\"37.5%\" stop-color=\"rgb(254, 178, 76)\" stop-opacity=\"1\"/><stop offset=\"50%\" stop-color=\"rgb(253, 141, 60)\" stop-opacity=\"1\"/><stop offset=\"62.5%\" stop-color=\"rgb(252, 78, 42)\" stop-opacity=\"1\"/><stop offset=\"75%\" stop-color=\"rgb(227, 26, 28)\" stop-opacity=\"1\"/><stop offset=\"87.5%\" stop-color=\"rgb(189, 0, 38)\" stop-opacity=\"1\"/><stop offset=\"100%\" stop-color=\"rgb(128, 0, 38)\" stop-opacity=\"1\"/></linearGradient></g><g class=\"patterns\"/></defs><g class=\"bglayer\"><rect class=\"bg\" x=\"60\" y=\"40\" width=\"548\" height=\"341\" style=\"fill: rgb(229, 236, 246); fill-opacity: 1; stroke-width: 0;\"/></g><g class=\"layer-below\"><g class=\"imagelayer\"/><g class=\"shapelayer\"/></g><g class=\"cartesianlayer\"><g class=\"subplot xy\"><g class=\"layer-subplot\"><g class=\"shapelayer\"/><g class=\"imagelayer\"/></g><g class=\"gridlayer\"><g class=\"x\"/><g class=\"y\"><path class=\"ygrid crisp\" transform=\"translate(0,338.86)\" d=\"M60,0h548\" style=\"stroke: rgb(255, 255, 255); stroke-opacity: 1; stroke-width: 1px;\"/><path class=\"ygrid crisp\" transform=\"translate(0,296.72)\" d=\"M60,0h548\" style=\"stroke: rgb(255, 255, 255); stroke-opacity: 1; stroke-width: 1px;\"/><path class=\"ygrid crisp\" transform=\"translate(0,254.58)\" d=\"M60,0h548\" style=\"stroke: rgb(255, 255, 255); stroke-opacity: 1; stroke-width: 1px;\"/><path class=\"ygrid crisp\" transform=\"translate(0,212.44)\" d=\"M60,0h548\" style=\"stroke: rgb(255, 255, 255); stroke-opacity: 1; stroke-width: 1px;\"/><path class=\"ygrid crisp\" transform=\"translate(0,170.3)\" d=\"M60,0h548\" style=\"stroke: rgb(255, 255, 255); stroke-opacity: 1; stroke-width: 1px;\"/><path class=\"ygrid crisp\" transform=\"translate(0,128.16)\" d=\"M60,0h548\" style=\"stroke: rgb(255, 255, 255); stroke-opacity: 1; stroke-width: 1px;\"/><path class=\"ygrid crisp\" transform=\"translate(0,86.02000000000001)\" d=\"M60,0h548\" style=\"stroke: rgb(255, 255, 255); stroke-opacity: 1; stroke-width: 1px;\"/><path class=\"ygrid crisp\" transform=\"translate(0,43.88)\" d=\"M60,0h548\" style=\"stroke: rgb(255, 255, 255); stroke-opacity: 1; stroke-width: 1px;\"/></g></g><g class=\"zerolinelayer\"><path class=\"yzl zl crisp\" transform=\"translate(0,381)\" d=\"M60,0h548\" style=\"stroke: rgb(255, 255, 255); stroke-opacity: 1; stroke-width: 2px;\"/></g><path class=\"xlines-below\"/><path class=\"ylines-below\"/><g class=\"overlines-below\"/><g class=\"xaxislayer-below\"/><g class=\"yaxislayer-below\"/><g class=\"overaxes-below\"/><g class=\"plot\" transform=\"translate(60,40)\" clip-path=\"url(#clipe16b9exyplot)\"><g class=\"barlayer mlayer\"><g class=\"trace bars\" style=\"opacity: 1;\"><g class=\"points\"><g class=\"point\"><path d=\"M5.48,341V17.05H49.32V341Z\" style=\"vector-effect: non-scaling-stroke; opacity: 1; stroke-width: 0.5px; fill: rgb(128, 0, 38); fill-opacity: 1; stroke: rgb(229, 236, 246); stroke-opacity: 1;\"/></g><g class=\"point\"><path d=\"M60.28,341V236.09H104.12V341Z\" style=\"vector-effect: non-scaling-stroke; opacity: 1; stroke-width: 0.5px; fill: rgb(254, 218, 120); fill-opacity: 1; stroke: rgb(229, 236, 246); stroke-opacity: 1;\"/></g><g class=\"point\"><path d=\"M115.08,341V260.51H158.92V341Z\" style=\"vector-effect: non-scaling-stroke; opacity: 1; stroke-width: 0.5px; fill: rgb(255, 231, 148); fill-opacity: 1; stroke: rgb(229, 236, 246); stroke-opacity: 1;\"/></g><g class=\"point\"><path d=\"M169.88,341V271.69H213.72V341Z\" style=\"vector-effect: non-scaling-stroke; opacity: 1; stroke-width: 0.5px; fill: rgb(255, 237, 161); fill-opacity: 1; stroke: rgb(229, 236, 246); stroke-opacity: 1;\"/></g><g class=\"point\"><path d=\"M224.68,341V284.93H268.52V341Z\" style=\"vector-effect: non-scaling-stroke; opacity: 1; stroke-width: 0.5px; fill: rgb(255, 244, 177); fill-opacity: 1; stroke: rgb(229, 236, 246); stroke-opacity: 1;\"/></g><g class=\"point\"><path d=\"M279.48,341V286.8H323.32V341Z\" style=\"vector-effect: non-scaling-stroke; opacity: 1; stroke-width: 0.5px; fill: rgb(255, 245, 179); fill-opacity: 1; stroke: rgb(229, 236, 246); stroke-opacity: 1;\"/></g><g class=\"point\"><path d=\"M334.28,341V298.95H378.12V341Z\" style=\"vector-effect: non-scaling-stroke; opacity: 1; stroke-width: 0.5px; fill: rgb(255, 251, 194); fill-opacity: 1; stroke: rgb(229, 236, 246); stroke-opacity: 1;\"/></g><g class=\"point\"><path d=\"M389.08,341V302.69H432.92V341Z\" style=\"vector-effect: non-scaling-stroke; opacity: 1; stroke-width: 0.5px; fill: rgb(255, 253, 199); fill-opacity: 1; stroke: rgb(229, 236, 246); stroke-opacity: 1;\"/></g><g class=\"point\"><path d=\"M443.88,341V306.42H487.72V341Z\" style=\"vector-effect: non-scaling-stroke; opacity: 1; stroke-width: 0.5px; fill: rgb(255, 255, 203); fill-opacity: 1; stroke: rgb(229, 236, 246); stroke-opacity: 1;\"/></g><g class=\"point\"><path d=\"M498.68,341V307.02H542.52V341Z\" style=\"vector-effect: non-scaling-stroke; opacity: 1; stroke-width: 0.5px; fill: rgb(255, 255, 204); fill-opacity: 1; stroke: rgb(229, 236, 246); stroke-opacity: 1;\"/></g></g></g></g></g><g class=\"overplot\"/><path class=\"xlines-above crisp\" d=\"M0,0\" style=\"fill: none;\"/><path class=\"ylines-above crisp\" d=\"M0,0\" style=\"fill: none;\"/><g class=\"overlines-above\"/><g class=\"xaxislayer-above\"><g class=\"xtick\"><text text-anchor=\"start\" x=\"0\" y=\"394\" transform=\"translate(87.4,0) rotate(30,0,388)\" style=\"font-family: 'Open Sans', verdana, arial, sans-serif; font-size: 12px; fill: rgb(42, 63, 95); fill-opacity: 1; white-space: pre; opacity: 1;\">Team Fortress 2</text></g><g class=\"xtick\"><text text-anchor=\"start\" x=\"0\" y=\"394\" transform=\"translate(142.2,0) rotate(30,0,388)\" style=\"font-family: 'Open Sans', verdana, arial, sans-serif; font-size: 12px; fill: rgb(42, 63, 95); fill-opacity: 1; white-space: pre; opacity: 1;\">Robocraft</text></g><g class=\"xtick\"><text text-anchor=\"start\" x=\"0\" y=\"394\" transform=\"translate(197,0) rotate(30,0,388)\" style=\"font-family: 'Open Sans', verdana, arial, sans-serif; font-size: 12px; fill: rgb(42, 63, 95); fill-opacity: 1; white-space: pre; opacity: 1;\">Heroes &amp; Generals</text></g><g class=\"xtick\"><text text-anchor=\"start\" x=\"0\" y=\"394\" transform=\"translate(251.8,0) rotate(30,0,388)\" style=\"font-family: 'Open Sans', verdana, arial, sans-serif; font-size: 12px; fill: rgb(42, 63, 95); fill-opacity: 1; white-space: pre; opacity: 1;\">Paladins®</text></g><g class=\"xtick\"><text text-anchor=\"start\" x=\"0\" y=\"394\" transform=\"translate(306.6,0) rotate(30,0,388)\" style=\"font-family: 'Open Sans', verdana, arial, sans-serif; font-size: 12px; fill: rgb(42, 63, 95); fill-opacity: 1; white-space: pre; opacity: 1;\">Brawlhalla</text></g><g class=\"xtick\"><text text-anchor=\"start\" x=\"0\" y=\"394\" transform=\"translate(361.4,0) rotate(30,0,388)\" style=\"font-family: 'Open Sans', verdana, arial, sans-serif; font-size: 12px; fill: rgb(42, 63, 95); fill-opacity: 1; white-space: pre; opacity: 1;\">Trove</text></g><g class=\"xtick\"><text text-anchor=\"start\" x=\"0\" y=\"394\" transform=\"translate(416.2,0) rotate(30,0,388)\" style=\"font-family: 'Open Sans', verdana, arial, sans-serif; font-size: 12px; fill: rgb(42, 63, 95); fill-opacity: 1; white-space: pre; opacity: 1;\">Emily is Away</text></g><g class=\"xtick\"><text text-anchor=\"start\" x=\"0\" y=\"394\" transform=\"translate(471,0) rotate(30,0,388)\" style=\"font-family: 'Open Sans', verdana, arial, sans-serif; font-size: 12px; fill: rgb(42, 63, 95); fill-opacity: 1; white-space: pre; opacity: 1;\">Clicker Heroes</text></g><g class=\"xtick\"><text text-anchor=\"start\" x=\"0\" y=\"394\" transform=\"translate(525.8,0) rotate(30,0,388)\" style=\"font-family: 'Open Sans', verdana, arial, sans-serif; font-size: 12px; fill: rgb(42, 63, 95); fill-opacity: 1; white-space: pre; opacity: 1;\">Realm of the Mad God</text></g><g class=\"xtick\"><text text-anchor=\"start\" x=\"0\" y=\"394\" transform=\"translate(580.6,0) rotate(30,0,388)\" style=\"font-family: 'Open Sans', verdana, arial, sans-serif; font-size: 12px; fill: rgb(42, 63, 95); fill-opacity: 1; white-space: pre; opacity: 1;\">SMITE®</text></g></g><g class=\"yaxislayer-above\"><g class=\"ytick\"><text text-anchor=\"end\" x=\"59\" y=\"4.199999999999999\" transform=\"translate(0,381)\" style=\"font-family: 'Open Sans', verdana, arial, sans-serif; font-size: 12px; fill: rgb(42, 63, 95); fill-opacity: 1; white-space: pre; opacity: 1;\">0</text></g><g class=\"ytick\"><text text-anchor=\"end\" x=\"59\" y=\"4.199999999999999\" style=\"font-family: 'Open Sans', verdana, arial, sans-serif; font-size: 12px; fill: rgb(42, 63, 95); fill-opacity: 1; white-space: pre; opacity: 1;\" transform=\"translate(0,338.86)\">10k</text></g><g class=\"ytick\"><text text-anchor=\"end\" x=\"59\" y=\"4.199999999999999\" style=\"font-family: 'Open Sans', verdana, arial, sans-serif; font-size: 12px; fill: rgb(42, 63, 95); fill-opacity: 1; white-space: pre; opacity: 1;\" transform=\"translate(0,296.72)\">20k</text></g><g class=\"ytick\"><text text-anchor=\"end\" x=\"59\" y=\"4.199999999999999\" style=\"font-family: 'Open Sans', verdana, arial, sans-serif; font-size: 12px; fill: rgb(42, 63, 95); fill-opacity: 1; white-space: pre; opacity: 1;\" transform=\"translate(0,254.58)\">30k</text></g><g class=\"ytick\"><text text-anchor=\"end\" x=\"59\" y=\"4.199999999999999\" style=\"font-family: 'Open Sans', verdana, arial, sans-serif; font-size: 12px; fill: rgb(42, 63, 95); fill-opacity: 1; white-space: pre; opacity: 1;\" transform=\"translate(0,212.44)\">40k</text></g><g class=\"ytick\"><text text-anchor=\"end\" x=\"59\" y=\"4.199999999999999\" style=\"font-family: 'Open Sans', verdana, arial, sans-serif; font-size: 12px; fill: rgb(42, 63, 95); fill-opacity: 1; white-space: pre; opacity: 1;\" transform=\"translate(0,170.3)\">50k</text></g><g class=\"ytick\"><text text-anchor=\"end\" x=\"59\" y=\"4.199999999999999\" style=\"font-family: 'Open Sans', verdana, arial, sans-serif; font-size: 12px; fill: rgb(42, 63, 95); fill-opacity: 1; white-space: pre; opacity: 1;\" transform=\"translate(0,128.16)\">60k</text></g><g class=\"ytick\"><text text-anchor=\"end\" x=\"59\" y=\"4.199999999999999\" style=\"font-family: 'Open Sans', verdana, arial, sans-serif; font-size: 12px; fill: rgb(42, 63, 95); fill-opacity: 1; white-space: pre; opacity: 1;\" transform=\"translate(0,86.02000000000001)\">70k</text></g><g class=\"ytick\"><text text-anchor=\"end\" x=\"59\" y=\"4.199999999999999\" style=\"font-family: 'Open Sans', verdana, arial, sans-serif; font-size: 12px; fill: rgb(42, 63, 95); fill-opacity: 1; white-space: pre; opacity: 1;\" transform=\"translate(0,43.88)\">80k</text></g></g><g class=\"overaxes-above\"/></g></g><g class=\"polarlayer\"/><g class=\"ternarylayer\"/><g class=\"geolayer\"/><g class=\"funnelarealayer\"/><g class=\"pielayer\"/><g class=\"iciclelayer\"/><g class=\"treemaplayer\"/><g class=\"sunburstlayer\"/><g class=\"glimages\"/><defs id=\"topdefs-e16b9e\"><g class=\"clips\"/></defs><g class=\"layer-above\"><g class=\"imagelayer\"/><g class=\"shapelayer\"/></g><g class=\"infolayer\"><g class=\"cbcoloraxis colorbar\" transform=\"translate(60,40)\"><rect class=\"cbbg\" x=\"559\" y=\"0\" width=\"168.859375\" height=\"341\" style=\"fill: rgb(0, 0, 0); fill-opacity: 0; stroke: rgb(68, 68, 68); stroke-opacity: 1; stroke-width: 0;\"/><g class=\"cbfills\" transform=\"translate(0,32)\"><rect class=\"cbfill\" x=\"569\" width=\"30\" y=\"0\" height=\"299\" style=\"fill: url('#ge16b9e-cbcoloraxis');\"/></g><g class=\"cblines\" transform=\"translate(0,32)\"/><g class=\"cbaxis crisp\" transform=\"translate(0,-40)\"><g class=\"ycbcoloraxistick\"><text text-anchor=\"start\" x=\"601.9\" y=\"4.199999999999999\" transform=\"translate(0,362.5799999999999)\" style=\"font-family: 'Open Sans', verdana, arial, sans-serif; font-size: 12px; fill: rgb(42, 63, 95); fill-opacity: 1; white-space: pre; opacity: 1;\">10k</text></g><g class=\"ycbcoloraxistick\"><text text-anchor=\"start\" x=\"601.9\" y=\"4.199999999999999\" style=\"font-family: 'Open Sans', verdana, arial, sans-serif; font-size: 12px; fill: rgb(42, 63, 95); fill-opacity: 1; white-space: pre; opacity: 1;\" transform=\"translate(0,319.13)\">20k</text></g><g class=\"ycbcoloraxistick\"><text text-anchor=\"start\" x=\"601.9\" y=\"4.199999999999999\" style=\"font-family: 'Open Sans', verdana, arial, sans-serif; font-size: 12px; fill: rgb(42, 63, 95); fill-opacity: 1; white-space: pre; opacity: 1;\" transform=\"translate(0,275.67999999999995)\">30k</text></g><g class=\"ycbcoloraxistick\"><text text-anchor=\"start\" x=\"601.9\" y=\"4.199999999999999\" style=\"font-family: 'Open Sans', verdana, arial, sans-serif; font-size: 12px; fill: rgb(42, 63, 95); fill-opacity: 1; white-space: pre; opacity: 1;\" transform=\"translate(0,232.22999999999996)\">40k</text></g><g class=\"ycbcoloraxistick\"><text text-anchor=\"start\" x=\"601.9\" y=\"4.199999999999999\" style=\"font-family: 'Open Sans', verdana, arial, sans-serif; font-size: 12px; fill: rgb(42, 63, 95); fill-opacity: 1; white-space: pre; opacity: 1;\" transform=\"translate(0,188.77999999999997)\">50k</text></g><g class=\"ycbcoloraxistick\"><text text-anchor=\"start\" x=\"601.9\" y=\"4.199999999999999\" style=\"font-family: 'Open Sans', verdana, arial, sans-serif; font-size: 12px; fill: rgb(42, 63, 95); fill-opacity: 1; white-space: pre; opacity: 1;\" transform=\"translate(0,145.31999999999996)\">60k</text></g><g class=\"ycbcoloraxistick\"><text text-anchor=\"start\" x=\"601.9\" y=\"4.199999999999999\" style=\"font-family: 'Open Sans', verdana, arial, sans-serif; font-size: 12px; fill: rgb(42, 63, 95); fill-opacity: 1; white-space: pre; opacity: 1;\" transform=\"translate(0,101.86999999999998)\">70k</text></g></g><g class=\"cbtitleunshift\" transform=\"translate(-60,-40)\"><g class=\"cbtitle\" transform=\"\"><text class=\"ycbcoloraxistitle\" x=\"628.9599999999999\" y=\"63.49999999999999\" text-anchor=\"start\" style=\"font-family: 'Open Sans', verdana, arial, sans-serif; font-size: 14px; fill: rgb(42, 63, 95); opacity: 1; font-weight: normal; white-space: pre;\">Cantidad de usuarios</text></g></g><rect class=\"cboutline\" x=\"569\" y=\"32\" width=\"30\" height=\"299\" style=\"stroke: rgb(68, 68, 68); stroke-opacity: 1; fill: none; stroke-width: 0;\"/></g><g class=\"g-gtitle\"><text class=\"gtitle\" x=\"40\" y=\"20\" text-anchor=\"start\" dy=\"0em\" style=\"font-family: 'Open Sans', verdana, arial, sans-serif; font-size: 17px; fill: rgb(42, 63, 95); opacity: 1; font-weight: normal; white-space: pre;\">Videojuegos gratis mas jugados</text></g><g class=\"g-xtitle\"><text class=\"xtitle\" x=\"334\" y=\"487.6408203125\" text-anchor=\"middle\" style=\"font-family: 'Open Sans', verdana, arial, sans-serif; font-size: 14px; fill: rgb(42, 63, 95); opacity: 1; font-weight: normal; white-space: pre;\">Videojuegos</text></g><g class=\"g-ytitle\" transform=\"translate(2.1591796875,0)\"><text class=\"ytitle\" transform=\"rotate(-90,11.840625000000003,210.5)\" x=\"11.840625000000003\" y=\"210.5\" text-anchor=\"middle\" style=\"font-family: 'Open Sans', verdana, arial, sans-serif; font-size: 14px; fill: rgb(42, 63, 95); opacity: 1; font-weight: normal; white-space: pre;\">Cantidad de usuarios</text></g></g></svg>"
      ],
      "text/plain": [
       "<IPython.core.display.SVG object>"
      ]
     },
     "metadata": {},
     "output_type": "display_data"
    }
   ],
   "source": [
    "fig = px.bar(data_frame=merge_free_games, x='app_name', y='amount', title='Videojuegos gratis mas jugados',\n",
    "             labels={'app_name': 'Videojuegos',\n",
    "                     'amount': 'Cantidad de usuarios', 'color': 'Cantidad'},\n",
    "             hover_data=HOVER_DATA_COLUMNS,\n",
    "             color=merge_free_games.amount, color_continuous_scale='ylorrd',\n",
    "             width=800,\n",
    "             height=500)\n",
    "\n",
    "fig.update_layout(paper_bgcolor='#FAFAFA',\n",
    "                  margin=dict(l=20, r=20, t=40, b=30)\n",
    "                  )\n",
    "#fig.show()\n",
    "display(SVG(fig.to_image(format='svg')))"
   ]
  },
  {
   "cell_type": "markdown",
   "metadata": {},
   "source": [
    "### Porcentaje de usuarios por precio de video juegos"
   ]
  },
  {
   "cell_type": "code",
   "execution_count": 90,
   "metadata": {},
   "outputs": [
    {
     "data": {
      "image/svg+xml": [
       "<svg xmlns=\"http://www.w3.org/2000/svg\" xmlns:xlink=\"http://www.w3.org/1999/xlink\" class=\"main-svg\" width=\"450\" height=\"350\" style=\"\" viewBox=\"0 0 450 350\"><rect x=\"0\" y=\"0\" width=\"450\" height=\"350\" style=\"fill: rgb(237, 242, 244); fill-opacity: 1;\"/><defs id=\"defs-e75322\"><g class=\"clips\"/><g class=\"gradients\"/><g class=\"patterns\"/></defs><g class=\"bglayer\"/><g class=\"layer-below\"><g class=\"imagelayer\"/><g class=\"shapelayer\"/></g><g class=\"cartesianlayer\"/><g class=\"polarlayer\"/><g class=\"ternarylayer\"/><g class=\"geolayer\"/><g class=\"funnelarealayer\"/><g class=\"pielayer\"><g class=\"trace\" stroke-linejoin=\"round\" style=\"opacity: 1;\"><g class=\"slice\"><path class=\"surface\" d=\"M167.77936562597935,171.3312004449453a56.400000000000006,56.400000000000006 0 1 0 53.220634374020655,-37.73120044494529l0,-84.6a141,141 0 1 1 -133.05158593505163,94.32800111236321Z\" style=\"pointer-events: all; stroke-width: 0; fill: rgb(38, 70, 83); fill-opacity: 1; stroke: rgb(68, 68, 68); stroke-opacity: 1;\"/><g class=\"slicetext\"><text data-notex=\"1\" class=\"slicetext\" transform=\"translate(278.04474254509654,267.21319375362845)\" text-anchor=\"middle\" x=\"0\" y=\"0\" style=\"font-family: 'Open Sans', verdana, arial, sans-serif; font-size: 12px; fill: rgb(255, 255, 255); fill-opacity: 1; white-space: pre;\"><tspan class=\"line\" dy=\"0em\" x=\"0\" y=\"0\">paid</tspan><tspan class=\"line\" dy=\"1.3em\" x=\"0\" y=\"0\">80.4%</tspan></text></g></g><g class=\"slice\"><path class=\"surface\" d=\"M221,133.6a56.400000000000006,56.400000000000006 0 0 0 -53.220634374020655,37.73120044494529l-79.83095156103097,-28.003199332582078a141,141 0 0 1 133.05158593505163,-94.32800111236321Z\" style=\"pointer-events: all; stroke-width: 0; fill: rgb(230, 57, 70); fill-opacity: 1; stroke: rgb(68, 68, 68); stroke-opacity: 1;\"/><g class=\"slicetext\"><text data-notex=\"1\" class=\"slicetext\" transform=\"translate(163.8771324549035,106.17743124637154)\" text-anchor=\"middle\" x=\"0\" y=\"0\" style=\"font-family: 'Open Sans', verdana, arial, sans-serif; font-size: 12px; fill: rgb(255, 255, 255); fill-opacity: 1; white-space: pre;\"><tspan class=\"line\" dy=\"0em\" x=\"0\" y=\"0\">free</tspan><tspan class=\"line\" dy=\"1.3em\" x=\"0\" y=\"0\">19.6%</tspan></text></g></g></g></g><g class=\"iciclelayer\"/><g class=\"treemaplayer\"/><g class=\"sunburstlayer\"/><g class=\"glimages\"/><defs id=\"topdefs-e75322\"><g class=\"clips\"/><clipPath id=\"legende75322\"><rect width=\"82\" height=\"61\" x=\"0\" y=\"0\"/></clipPath></defs><g class=\"layer-above\"><g class=\"imagelayer\"/><g class=\"shapelayer\"/></g><g class=\"infolayer\"><g class=\"legend\" pointer-events=\"all\" transform=\"translate(367.64,30)\"><rect class=\"bg\" shape-rendering=\"crispEdges\" style=\"stroke: rgb(68, 68, 68); stroke-opacity: 1; fill: rgb(237, 242, 244); fill-opacity: 1; stroke-width: 0px;\" width=\"82\" height=\"61\" x=\"0\" y=\"0\"/><g class=\"scrollbox\" transform=\"\" clip-path=\"url(#legende75322)\"><g class=\"groups\"><g class=\"traces\" transform=\"translate(0,17.55)\" style=\"opacity: 1;\"><text class=\"legendtext\" text-anchor=\"start\" x=\"40\" y=\"6.63\" style=\"font-family: 'Open Sans', verdana, arial, sans-serif; font-size: 17px; fill: rgb(42, 63, 95); fill-opacity: 1; white-space: pre;\">paid</text><g class=\"layers\" style=\"opacity: 1;\"><g class=\"legendfill\"/><g class=\"legendlines\"/><g class=\"legendsymbols\"><g class=\"legendpoints\"><path class=\"legendpie\" d=\"M6,6H-6V-6H6Z\" transform=\"translate(20,0)\" style=\"stroke-width: 0; fill: rgb(38, 70, 83); fill-opacity: 1; stroke: rgb(68, 68, 68); stroke-opacity: 1;\"/></g></g></g><rect class=\"legendtoggle\" x=\"0\" y=\"-12.55\" width=\"76.0625\" height=\"25.1\" style=\"fill: rgb(0, 0, 0); fill-opacity: 0;\"/></g><g class=\"traces\" transform=\"translate(0,42.650000000000006)\" style=\"opacity: 1;\"><text class=\"legendtext\" text-anchor=\"start\" x=\"40\" y=\"6.63\" style=\"font-family: 'Open Sans', verdana, arial, sans-serif; font-size: 17px; fill: rgb(42, 63, 95); fill-opacity: 1; white-space: pre;\">free</text><g class=\"layers\" style=\"opacity: 1;\"><g class=\"legendfill\"/><g class=\"legendlines\"/><g class=\"legendsymbols\"><g class=\"legendpoints\"><path class=\"legendpie\" d=\"M6,6H-6V-6H6Z\" transform=\"translate(20,0)\" style=\"stroke-width: 0; fill: rgb(230, 57, 70); fill-opacity: 1; stroke: rgb(68, 68, 68); stroke-opacity: 1;\"/></g></g></g><rect class=\"legendtoggle\" x=\"0\" y=\"-12.55\" width=\"76.0625\" height=\"25.1\" style=\"fill: rgb(0, 0, 0); fill-opacity: 0;\"/></g></g></g><rect class=\"scrollbar\" rx=\"20\" ry=\"3\" width=\"0\" height=\"0\" style=\"fill: rgb(128, 139, 164); fill-opacity: 1;\" x=\"0\" y=\"0\"/></g><g class=\"g-gtitle\"><text class=\"gtitle\" x=\"22.5\" y=\"15\" text-anchor=\"start\" dy=\"0em\" style=\"font-family: 'Open Sans', verdana, arial, sans-serif; font-size: 17px; fill: rgb(42, 63, 95); opacity: 1; font-weight: normal; white-space: pre;\">% Usuarios por precio</text></g></g></svg>"
      ],
      "text/plain": [
       "<IPython.core.display.SVG object>"
      ]
     },
     "metadata": {},
     "output_type": "display_data"
    }
   ],
   "source": [
    "fig = px.pie(reviews_games_amount,\n",
    "             names='category_price',\n",
    "             values='amount',\n",
    "             title='% Usuarios por precio',\n",
    "             width=450,\n",
    "             height=350,\n",
    "             hole=0.4,\n",
    "             color_discrete_sequence=('#264653', '#E63946'),\n",
    "             labels={'category_price': 'Tipo Precio', 'amount': 'Cantidad'}\n",
    "             )\n",
    "\n",
    "fig.update_layout(\n",
    "    margin=dict(t=30, b=0),\n",
    "    legend=dict(font=dict(size=17)),\n",
    "    paper_bgcolor='#edf2f4'\n",
    ")\n",
    "fig.update_traces(textposition='inside', textinfo='percent+label')\n",
    "#fig.show()\n",
    "display(SVG(fig.to_image(format='svg')))"
   ]
  },
  {
   "cell_type": "markdown",
   "metadata": {},
   "source": [
    "###  Sistemas de Recomendación"
   ]
  },
  {
   "cell_type": "markdown",
   "metadata": {},
   "source": [
    "#### Nuevos Usuarios"
   ]
  },
  {
   "cell_type": "markdown",
   "metadata": {},
   "source": [
    "A los nuevos usuarios se les recomendará automáticamente los videojuegos más populares, al consumirlos serán tenidos en cuenta por el algoritmo recomendador para futuras recomendaciones:"
   ]
  },
  {
   "cell_type": "code",
   "execution_count": 91,
   "metadata": {},
   "outputs": [],
   "source": [
    "def plot_table(df):\n",
    "    COLUMNS_FOR_USER = ['app_name', 'url', 'category_price']\n",
    "    fig = go.Figure(go.Table(\n",
    "        header=dict(values=['Videojuego', 'Sitio web', 'Tipo de precio'],\n",
    "                    fill_color='#ffd166',\n",
    "                    font=dict(size=13)),\n",
    "        cells=dict(values=np.vstack(df[COLUMNS_FOR_USER].values).T,\n",
    "                   fill_color='#264653',\n",
    "                   line_color='black',\n",
    "                   line_width=.4,\n",
    "                   font=dict(color='#f1faee'),\n",
    "                   height=30),\n",
    "        columnwidth=[1.5, 4, 1]))\n",
    "\n",
    "    fig.update_layout(width=1000, height=370, margin=dict(t=10, b=0, l=0))\n",
    "    return display(SVG(fig.to_image('svg')))"
   ]
  },
  {
   "cell_type": "code",
   "execution_count": 92,
   "metadata": {},
   "outputs": [
    {
     "data": {
      "image/svg+xml": [
       "<svg xmlns=\"http://www.w3.org/2000/svg\" xmlns:xlink=\"http://www.w3.org/1999/xlink\" class=\"main-svg\" width=\"1000\" height=\"370\" style=\"\" viewBox=\"0 0 1000 370\"><rect x=\"0\" y=\"0\" width=\"1000\" height=\"370\" style=\"fill: rgb(255, 255, 255); fill-opacity: 1;\"/><defs id=\"defs-d50dd1\"><g class=\"clips\"/><g class=\"gradients\"/><g class=\"patterns\"/></defs><g class=\"bglayer\"/><g class=\"layer-below\"><g class=\"imagelayer\"/><g class=\"shapelayer\"/></g><g class=\"cartesianlayer\"/><g class=\"polarlayer\"/><g class=\"ternarylayer\"/><g class=\"geolayer\"/><g class=\"funnelarealayer\"/><g class=\"pielayer\"/><g class=\"iciclelayer\"/><g class=\"treemaplayer\"/><g class=\"sunburstlayer\"/><g class=\"glimages\"/><g class=\"table\" overflow=\"visible\" width=\"1000\" height=\"370\" transform=\"\" style=\"box-sizing: content-box; position: absolute; left: 0px; overflow: visible; shape-rendering: crispedges; pointer-events: all;\"><g class=\"table-control-view\" transform=\"translate(0,10)\" clip-path=\"url(#clipd50dd1_scrollAreaBottomClip_0b4fe9true)\" style=\"box-sizing: content-box;\"><rect class=\"scroll-background\" fill=\"none\" width=\"920\" height=\"360\"/><g class=\"y-column\" transform=\"\" clip-path=\"url(#clipd50dd1_columnBoundaryClippath_0b4fe9true_0)\"><g class=\"column-block\" id=\"cells1\" transform=\"\" style=\"cursor: default;\"><g class=\"column-cells\"><g class=\"column-cell\" transform=\"translate(0,28)\"><rect class=\"cell-rect\" width=\"212.30769230769232\" stroke-width=\"0.4\" style=\"stroke: rgb(0, 0, 0); stroke-opacity: 1; fill: rgb(38, 70, 83); fill-opacity: 1;\" height=\"30\"/><g class=\"cell-text-holder\" transform=\"translate(106.15384615384616,8)\" text-anchor=\"middle\" style=\"shape-rendering: geometricprecision;\"><text class=\"cell-text\" dy=\"0.75em\" x=\"0\" y=\"0\" style=\"cursor: auto; font-family: 'Open Sans', verdana, arial, sans-serif; font-size: 12px; fill: rgb(241, 250, 238); fill-opacity: 1; white-space: pre;\">Team Fortress 2</text></g></g><g class=\"column-cell\" transform=\"translate(0,58)\"><rect class=\"cell-rect\" width=\"212.30769230769232\" stroke-width=\"0.4\" style=\"stroke: rgb(0, 0, 0); stroke-opacity: 1; fill: rgb(38, 70, 83); fill-opacity: 1;\" height=\"30\"/><g class=\"cell-text-holder\" transform=\"translate(106.15384615384616,8)\" text-anchor=\"middle\" style=\"shape-rendering: geometricprecision;\"><text class=\"cell-text\" dy=\"0.75em\" style=\"cursor: auto; font-family: 'Open Sans', verdana, arial, sans-serif; font-size: 12px; fill: rgb(241, 250, 238); fill-opacity: 1;\">Rust</text></g></g><g class=\"column-cell\" transform=\"translate(0,88)\"><rect class=\"cell-rect\" width=\"212.30769230769232\" stroke-width=\"0.4\" style=\"stroke: rgb(0, 0, 0); stroke-opacity: 1; fill: rgb(38, 70, 83); fill-opacity: 1;\" height=\"30\"/><g class=\"cell-text-holder\" transform=\"translate(106.15384615384616,8)\" text-anchor=\"middle\" style=\"shape-rendering: geometricprecision;\"><text class=\"cell-text\" dy=\"0.75em\" x=\"0\" y=\"0\" style=\"cursor: auto; font-family: 'Open Sans', verdana, arial, sans-serif; font-size: 12px; fill: rgb(241, 250, 238); fill-opacity: 1; white-space: pre;\">Grand Theft Auto V</text></g></g><g class=\"column-cell\" transform=\"translate(0,118)\"><rect class=\"cell-rect\" width=\"212.30769230769232\" stroke-width=\"0.4\" style=\"stroke: rgb(0, 0, 0); stroke-opacity: 1; fill: rgb(38, 70, 83); fill-opacity: 1;\" height=\"30\"/><g class=\"cell-text-holder\" transform=\"translate(106.15384615384616,8)\" text-anchor=\"middle\" style=\"shape-rendering: geometricprecision;\"><text class=\"cell-text\" dy=\"0.75em\" style=\"cursor: auto; font-family: 'Open Sans', verdana, arial, sans-serif; font-size: 12px; fill: rgb(241, 250, 238); fill-opacity: 1;\">Robocraft</text></g></g><g class=\"column-cell\" transform=\"translate(0,148)\"><rect class=\"cell-rect\" width=\"212.30769230769232\" stroke-width=\"0.4\" style=\"stroke: rgb(0, 0, 0); stroke-opacity: 1; fill: rgb(38, 70, 83); fill-opacity: 1;\" height=\"30\"/><g class=\"cell-text-holder\" transform=\"translate(106.15384615384616,8)\" text-anchor=\"middle\" style=\"shape-rendering: geometricprecision;\"><text class=\"cell-text\" dy=\"0.75em\" style=\"cursor: auto; font-family: 'Open Sans', verdana, arial, sans-serif; font-size: 12px; fill: rgb(241, 250, 238); fill-opacity: 1;\">DayZ</text></g></g><g class=\"column-cell\" transform=\"translate(0,178)\"><rect class=\"cell-rect\" width=\"212.30769230769232\" stroke-width=\"0.4\" style=\"stroke: rgb(0, 0, 0); stroke-opacity: 1; fill: rgb(38, 70, 83); fill-opacity: 1;\" height=\"30\"/><g class=\"cell-text-holder\" transform=\"translate(106.15384615384616,8)\" text-anchor=\"middle\" style=\"shape-rendering: geometricprecision;\"><text class=\"cell-text\" dy=\"0.75em\" style=\"cursor: auto; font-family: 'Open Sans', verdana, arial, sans-serif; font-size: 12px; fill: rgb(241, 250, 238); fill-opacity: 1;\">Undertale</text></g></g><g class=\"column-cell\" transform=\"translate(0,208)\"><rect class=\"cell-rect\" width=\"212.30769230769232\" stroke-width=\"0.4\" style=\"stroke: rgb(0, 0, 0); stroke-opacity: 1; fill: rgb(38, 70, 83); fill-opacity: 1;\" height=\"30\"/><g class=\"cell-text-holder\" transform=\"translate(106.15384615384616,8)\" text-anchor=\"middle\" style=\"shape-rendering: geometricprecision;\"><text class=\"cell-text\" dy=\"0.75em\" x=\"0\" y=\"0\" style=\"cursor: auto; font-family: 'Open Sans', verdana, arial, sans-serif; font-size: 12px; fill: rgb(241, 250, 238); fill-opacity: 1; white-space: pre;\">Portal 2</text></g></g><g class=\"column-cell\" transform=\"translate(0,238)\"><rect class=\"cell-rect\" width=\"212.30769230769232\" stroke-width=\"0.4\" style=\"stroke: rgb(0, 0, 0); stroke-opacity: 1; fill: rgb(38, 70, 83); fill-opacity: 1;\" height=\"30\"/><g class=\"cell-text-holder\" transform=\"translate(106.15384615384616,8)\" text-anchor=\"middle\" style=\"shape-rendering: geometricprecision;\"><text class=\"cell-text\" dy=\"0.75em\" x=\"0\" y=\"0\" style=\"cursor: auto; font-family: 'Open Sans', verdana, arial, sans-serif; font-size: 12px; fill: rgb(241, 250, 238); fill-opacity: 1; white-space: pre;\">Garry's Mod</text></g></g><g class=\"column-cell\" transform=\"translate(0,268)\"><rect class=\"cell-rect\" width=\"212.30769230769232\" stroke-width=\"0.4\" style=\"stroke: rgb(0, 0, 0); stroke-opacity: 1; fill: rgb(38, 70, 83); fill-opacity: 1;\" height=\"31\"/><g class=\"cell-text-holder\" transform=\"translate(49.78665865384616,20)\" style=\"shape-rendering: geometricprecision;\"><text class=\"cell-text\" dy=\"0\" x=\"0\" y=\"0\" style=\"cursor: auto; font-family: 'Open Sans', verdana, arial, sans-serif; font-size: 12px; fill: rgb(241, 250, 238); fill-opacity: 1; white-space: pre;\">Heroes &amp; Generals</text></g></g><g class=\"column-cell\" transform=\"translate(0,299)\"><rect class=\"cell-rect\" width=\"212.30769230769232\" stroke-width=\"0.4\" style=\"stroke: rgb(0, 0, 0); stroke-opacity: 1; fill: rgb(38, 70, 83); fill-opacity: 1;\" height=\"30\"/><g class=\"cell-text-holder\" transform=\"translate(106.15384615384616,8)\" text-anchor=\"middle\" style=\"shape-rendering: geometricprecision;\"><text class=\"cell-text\" dy=\"0.75em\" style=\"cursor: auto; font-family: 'Open Sans', verdana, arial, sans-serif; font-size: 12px; fill: rgb(241, 250, 238); fill-opacity: 1;\">Starbound</text></g></g></g></g><g class=\"column-block\" id=\"cells2\" transform=\"\" style=\"cursor: default;\"><g class=\"column-cells\"/></g><g class=\"column-block\" id=\"header\" style=\"cursor: ew-resize;\"><g class=\"column-cells\"><g class=\"column-cell\" transform=\"\"><rect class=\"cell-rect\" width=\"212.30769230769232\" stroke-width=\"1\" style=\"stroke: rgb(255, 255, 255); stroke-opacity: 1; fill: rgb(255, 209, 102); fill-opacity: 1;\" height=\"28\"/><g class=\"cell-text-holder\" transform=\"translate(106.15384615384616,8)\" text-anchor=\"middle\" style=\"shape-rendering: geometricprecision;\"><text class=\"cell-text\" dy=\"0.75em\" style=\"cursor: auto; font-family: 'Open Sans', verdana, arial, sans-serif; font-size: 13px; fill: rgb(42, 63, 95); fill-opacity: 1;\">Videojuego</text></g></g></g></g><g class=\"column-boundary\"/><clipPath class=\"column-boundary-clippath\" id=\"clipd50dd1_columnBoundaryClippath_0b4fe9true_0\"><rect class=\"column-boundary-rect\" fill=\"none\" width=\"214.30769230769232\" height=\"367\" x=\"-1\" y=\"-1\"/></clipPath></g><g class=\"y-column\" transform=\"translate(212.30769230769232,0)\" clip-path=\"url(#clipd50dd1_columnBoundaryClippath_0b4fe9true_1)\"><g class=\"column-block\" id=\"cells1\" transform=\"\" style=\"cursor: default;\"><g class=\"column-cells\"><g class=\"column-cell\" transform=\"translate(0,28)\"><rect class=\"cell-rect\" width=\"566.1538461538462\" stroke-width=\"0.4\" style=\"stroke: rgb(0, 0, 0); stroke-opacity: 1; fill: rgb(38, 70, 83); fill-opacity: 1;\" height=\"30\"/><g class=\"cell-text-holder\" transform=\"translate(283.0769230769231,8)\" text-anchor=\"middle\" style=\"shape-rendering: geometricprecision;\"><text class=\"cell-text\" dy=\"0.75em\" style=\"cursor: auto; font-family: 'Open Sans', verdana, arial, sans-serif; font-size: 12px; fill: rgb(241, 250, 238); fill-opacity: 1;\">http://store.steampowered.com/app/440/Team_Fortress_2/</text></g></g><g class=\"column-cell\" transform=\"translate(0,58)\"><rect class=\"cell-rect\" width=\"566.1538461538462\" stroke-width=\"0.4\" style=\"stroke: rgb(0, 0, 0); stroke-opacity: 1; fill: rgb(38, 70, 83); fill-opacity: 1;\" height=\"30\"/><g class=\"cell-text-holder\" transform=\"translate(283.0769230769231,8)\" text-anchor=\"middle\" style=\"shape-rendering: geometricprecision;\"><text class=\"cell-text\" dy=\"0.75em\" style=\"cursor: auto; font-family: 'Open Sans', verdana, arial, sans-serif; font-size: 12px; fill: rgb(241, 250, 238); fill-opacity: 1;\">http://store.steampowered.com/app/252490/Rust/</text></g></g><g class=\"column-cell\" transform=\"translate(0,88)\"><rect class=\"cell-rect\" width=\"566.1538461538462\" stroke-width=\"0.4\" style=\"stroke: rgb(0, 0, 0); stroke-opacity: 1; fill: rgb(38, 70, 83); fill-opacity: 1;\" height=\"30\"/><g class=\"cell-text-holder\" transform=\"translate(283.0769230769231,8)\" text-anchor=\"middle\" style=\"shape-rendering: geometricprecision;\"><text class=\"cell-text\" dy=\"0.75em\" style=\"cursor: auto; font-family: 'Open Sans', verdana, arial, sans-serif; font-size: 12px; fill: rgb(241, 250, 238); fill-opacity: 1;\">http://store.steampowered.com/app/271590/Grand_Theft_Auto_V/</text></g></g><g class=\"column-cell\" transform=\"translate(0,118)\"><rect class=\"cell-rect\" width=\"566.1538461538462\" stroke-width=\"0.4\" style=\"stroke: rgb(0, 0, 0); stroke-opacity: 1; fill: rgb(38, 70, 83); fill-opacity: 1;\" height=\"30\"/><g class=\"cell-text-holder\" transform=\"translate(283.0769230769231,8)\" text-anchor=\"middle\" style=\"shape-rendering: geometricprecision;\"><text class=\"cell-text\" dy=\"0.75em\" style=\"cursor: auto; font-family: 'Open Sans', verdana, arial, sans-serif; font-size: 12px; fill: rgb(241, 250, 238); fill-opacity: 1;\">http://store.steampowered.com/app/301520/Robocraft/</text></g></g><g class=\"column-cell\" transform=\"translate(0,148)\"><rect class=\"cell-rect\" width=\"566.1538461538462\" stroke-width=\"0.4\" style=\"stroke: rgb(0, 0, 0); stroke-opacity: 1; fill: rgb(38, 70, 83); fill-opacity: 1;\" height=\"30\"/><g class=\"cell-text-holder\" transform=\"translate(283.0769230769231,8)\" text-anchor=\"middle\" style=\"shape-rendering: geometricprecision;\"><text class=\"cell-text\" dy=\"0.75em\" style=\"cursor: auto; font-family: 'Open Sans', verdana, arial, sans-serif; font-size: 12px; fill: rgb(241, 250, 238); fill-opacity: 1;\">http://store.steampowered.com/app/221100/DayZ/</text></g></g><g class=\"column-cell\" transform=\"translate(0,178)\"><rect class=\"cell-rect\" width=\"566.1538461538462\" stroke-width=\"0.4\" style=\"stroke: rgb(0, 0, 0); stroke-opacity: 1; fill: rgb(38, 70, 83); fill-opacity: 1;\" height=\"30\"/><g class=\"cell-text-holder\" transform=\"translate(283.0769230769231,8)\" text-anchor=\"middle\" style=\"shape-rendering: geometricprecision;\"><text class=\"cell-text\" dy=\"0.75em\" style=\"cursor: auto; font-family: 'Open Sans', verdana, arial, sans-serif; font-size: 12px; fill: rgb(241, 250, 238); fill-opacity: 1;\">http://store.steampowered.com/app/391540/Undertale/</text></g></g><g class=\"column-cell\" transform=\"translate(0,208)\"><rect class=\"cell-rect\" width=\"566.1538461538462\" stroke-width=\"0.4\" style=\"stroke: rgb(0, 0, 0); stroke-opacity: 1; fill: rgb(38, 70, 83); fill-opacity: 1;\" height=\"30\"/><g class=\"cell-text-holder\" transform=\"translate(283.0769230769231,8)\" text-anchor=\"middle\" style=\"shape-rendering: geometricprecision;\"><text class=\"cell-text\" dy=\"0.75em\" style=\"cursor: auto; font-family: 'Open Sans', verdana, arial, sans-serif; font-size: 12px; fill: rgb(241, 250, 238); fill-opacity: 1;\">http://store.steampowered.com/app/620/Portal_2/</text></g></g><g class=\"column-cell\" transform=\"translate(0,238)\"><rect class=\"cell-rect\" width=\"566.1538461538462\" stroke-width=\"0.4\" style=\"stroke: rgb(0, 0, 0); stroke-opacity: 1; fill: rgb(38, 70, 83); fill-opacity: 1;\" height=\"30\"/><g class=\"cell-text-holder\" transform=\"translate(283.0769230769231,8)\" text-anchor=\"middle\" style=\"shape-rendering: geometricprecision;\"><text class=\"cell-text\" dy=\"0.75em\" style=\"cursor: auto; font-family: 'Open Sans', verdana, arial, sans-serif; font-size: 12px; fill: rgb(241, 250, 238); fill-opacity: 1;\">http://store.steampowered.com/app/4000/Garrys_Mod/</text></g></g><g class=\"column-cell\" transform=\"translate(0,268)\"><rect class=\"cell-rect\" width=\"566.1538461538462\" stroke-width=\"0.4\" style=\"stroke: rgb(0, 0, 0); stroke-opacity: 1; fill: rgb(38, 70, 83); fill-opacity: 1;\" height=\"31\"/><g class=\"cell-text-holder\" transform=\"translate(283.0769230769231,8)\" text-anchor=\"middle\" style=\"shape-rendering: geometricprecision;\"><text class=\"cell-text\" dy=\"0.75em\" style=\"cursor: auto; font-family: 'Open Sans', verdana, arial, sans-serif; font-size: 12px; fill: rgb(241, 250, 238); fill-opacity: 1;\">http://store.steampowered.com/app/227940/Heroes__Generals/</text></g></g><g class=\"column-cell\" transform=\"translate(0,299)\"><rect class=\"cell-rect\" width=\"566.1538461538462\" stroke-width=\"0.4\" style=\"stroke: rgb(0, 0, 0); stroke-opacity: 1; fill: rgb(38, 70, 83); fill-opacity: 1;\" height=\"30\"/><g class=\"cell-text-holder\" transform=\"translate(283.0769230769231,8)\" text-anchor=\"middle\" style=\"shape-rendering: geometricprecision;\"><text class=\"cell-text\" dy=\"0.75em\" style=\"cursor: auto; font-family: 'Open Sans', verdana, arial, sans-serif; font-size: 12px; fill: rgb(241, 250, 238); fill-opacity: 1;\">http://store.steampowered.com/app/211820/Starbound/</text></g></g></g></g><g class=\"column-block\" id=\"cells2\" transform=\"\" style=\"cursor: default;\"><g class=\"column-cells\"/></g><g class=\"column-block\" id=\"header\" style=\"cursor: ew-resize;\"><g class=\"column-cells\"><g class=\"column-cell\" transform=\"\"><rect class=\"cell-rect\" width=\"566.1538461538462\" stroke-width=\"1\" style=\"stroke: rgb(255, 255, 255); stroke-opacity: 1; fill: rgb(255, 209, 102); fill-opacity: 1;\" height=\"28\"/><g class=\"cell-text-holder\" transform=\"translate(283.0769230769231,8)\" text-anchor=\"middle\" style=\"shape-rendering: geometricprecision;\"><text class=\"cell-text\" dy=\"0.75em\" x=\"0\" y=\"0\" style=\"cursor: auto; font-family: 'Open Sans', verdana, arial, sans-serif; font-size: 13px; fill: rgb(42, 63, 95); fill-opacity: 1; white-space: pre;\">Sitio web</text></g></g></g></g><g class=\"column-boundary\"/><clipPath class=\"column-boundary-clippath\" id=\"clipd50dd1_columnBoundaryClippath_0b4fe9true_1\"><rect class=\"column-boundary-rect\" fill=\"none\" width=\"568.1538461538462\" height=\"367\" x=\"-1\" y=\"-1\"/></clipPath></g><g class=\"y-column\" transform=\"translate(778.4615384615386,0)\" clip-path=\"url(#clipd50dd1_columnBoundaryClippath_0b4fe9true_2)\"><g class=\"column-block\" id=\"cells1\" transform=\"\" style=\"cursor: default;\"><g class=\"column-cells\"><g class=\"column-cell\" transform=\"translate(0,28)\"><rect class=\"cell-rect\" width=\"141.53846153846155\" stroke-width=\"0.4\" style=\"stroke: rgb(0, 0, 0); stroke-opacity: 1; fill: rgb(38, 70, 83); fill-opacity: 1;\" height=\"30\"/><g class=\"cell-text-holder\" transform=\"translate(70.76923076923077,8)\" text-anchor=\"middle\" style=\"shape-rendering: geometricprecision;\"><text class=\"cell-text\" dy=\"0.75em\" style=\"cursor: auto; font-family: 'Open Sans', verdana, arial, sans-serif; font-size: 12px; fill: rgb(241, 250, 238); fill-opacity: 1;\">free</text></g></g><g class=\"column-cell\" transform=\"translate(0,58)\"><rect class=\"cell-rect\" width=\"141.53846153846155\" stroke-width=\"0.4\" style=\"stroke: rgb(0, 0, 0); stroke-opacity: 1; fill: rgb(38, 70, 83); fill-opacity: 1;\" height=\"30\"/><g class=\"cell-text-holder\" transform=\"translate(70.76923076923077,8)\" text-anchor=\"middle\" style=\"shape-rendering: geometricprecision;\"><text class=\"cell-text\" dy=\"0.75em\" style=\"cursor: auto; font-family: 'Open Sans', verdana, arial, sans-serif; font-size: 12px; fill: rgb(241, 250, 238); fill-opacity: 1;\">paid</text></g></g><g class=\"column-cell\" transform=\"translate(0,88)\"><rect class=\"cell-rect\" width=\"141.53846153846155\" stroke-width=\"0.4\" style=\"stroke: rgb(0, 0, 0); stroke-opacity: 1; fill: rgb(38, 70, 83); fill-opacity: 1;\" height=\"30\"/><g class=\"cell-text-holder\" transform=\"translate(70.76923076923077,8)\" text-anchor=\"middle\" style=\"shape-rendering: geometricprecision;\"><text class=\"cell-text\" dy=\"0.75em\" style=\"cursor: auto; font-family: 'Open Sans', verdana, arial, sans-serif; font-size: 12px; fill: rgb(241, 250, 238); fill-opacity: 1;\">paid</text></g></g><g class=\"column-cell\" transform=\"translate(0,118)\"><rect class=\"cell-rect\" width=\"141.53846153846155\" stroke-width=\"0.4\" style=\"stroke: rgb(0, 0, 0); stroke-opacity: 1; fill: rgb(38, 70, 83); fill-opacity: 1;\" height=\"30\"/><g class=\"cell-text-holder\" transform=\"translate(70.76923076923077,8)\" text-anchor=\"middle\" style=\"shape-rendering: geometricprecision;\"><text class=\"cell-text\" dy=\"0.75em\" style=\"cursor: auto; font-family: 'Open Sans', verdana, arial, sans-serif; font-size: 12px; fill: rgb(241, 250, 238); fill-opacity: 1;\">free</text></g></g><g class=\"column-cell\" transform=\"translate(0,148)\"><rect class=\"cell-rect\" width=\"141.53846153846155\" stroke-width=\"0.4\" style=\"stroke: rgb(0, 0, 0); stroke-opacity: 1; fill: rgb(38, 70, 83); fill-opacity: 1;\" height=\"30\"/><g class=\"cell-text-holder\" transform=\"translate(70.76923076923077,8)\" text-anchor=\"middle\" style=\"shape-rendering: geometricprecision;\"><text class=\"cell-text\" dy=\"0.75em\" style=\"cursor: auto; font-family: 'Open Sans', verdana, arial, sans-serif; font-size: 12px; fill: rgb(241, 250, 238); fill-opacity: 1;\">paid</text></g></g><g class=\"column-cell\" transform=\"translate(0,178)\"><rect class=\"cell-rect\" width=\"141.53846153846155\" stroke-width=\"0.4\" style=\"stroke: rgb(0, 0, 0); stroke-opacity: 1; fill: rgb(38, 70, 83); fill-opacity: 1;\" height=\"30\"/><g class=\"cell-text-holder\" transform=\"translate(70.76923076923077,8)\" text-anchor=\"middle\" style=\"shape-rendering: geometricprecision;\"><text class=\"cell-text\" dy=\"0.75em\" style=\"cursor: auto; font-family: 'Open Sans', verdana, arial, sans-serif; font-size: 12px; fill: rgb(241, 250, 238); fill-opacity: 1;\">paid</text></g></g><g class=\"column-cell\" transform=\"translate(0,208)\"><rect class=\"cell-rect\" width=\"141.53846153846155\" stroke-width=\"0.4\" style=\"stroke: rgb(0, 0, 0); stroke-opacity: 1; fill: rgb(38, 70, 83); fill-opacity: 1;\" height=\"30\"/><g class=\"cell-text-holder\" transform=\"translate(70.76923076923077,8)\" text-anchor=\"middle\" style=\"shape-rendering: geometricprecision;\"><text class=\"cell-text\" dy=\"0.75em\" style=\"cursor: auto; font-family: 'Open Sans', verdana, arial, sans-serif; font-size: 12px; fill: rgb(241, 250, 238); fill-opacity: 1;\">paid</text></g></g><g class=\"column-cell\" transform=\"translate(0,238)\"><rect class=\"cell-rect\" width=\"141.53846153846155\" stroke-width=\"0.4\" style=\"stroke: rgb(0, 0, 0); stroke-opacity: 1; fill: rgb(38, 70, 83); fill-opacity: 1;\" height=\"30\"/><g class=\"cell-text-holder\" transform=\"translate(70.76923076923077,8)\" text-anchor=\"middle\" style=\"shape-rendering: geometricprecision;\"><text class=\"cell-text\" dy=\"0.75em\" style=\"cursor: auto; font-family: 'Open Sans', verdana, arial, sans-serif; font-size: 12px; fill: rgb(241, 250, 238); fill-opacity: 1;\">paid</text></g></g><g class=\"column-cell\" transform=\"translate(0,268)\"><rect class=\"cell-rect\" width=\"141.53846153846155\" stroke-width=\"0.4\" style=\"stroke: rgb(0, 0, 0); stroke-opacity: 1; fill: rgb(38, 70, 83); fill-opacity: 1;\" height=\"31\"/><g class=\"cell-text-holder\" transform=\"translate(70.76923076923077,8)\" text-anchor=\"middle\" style=\"shape-rendering: geometricprecision;\"><text class=\"cell-text\" dy=\"0.75em\" style=\"cursor: auto; font-family: 'Open Sans', verdana, arial, sans-serif; font-size: 12px; fill: rgb(241, 250, 238); fill-opacity: 1;\">free</text></g></g><g class=\"column-cell\" transform=\"translate(0,299)\"><rect class=\"cell-rect\" width=\"141.53846153846155\" stroke-width=\"0.4\" style=\"stroke: rgb(0, 0, 0); stroke-opacity: 1; fill: rgb(38, 70, 83); fill-opacity: 1;\" height=\"30\"/><g class=\"cell-text-holder\" transform=\"translate(70.76923076923077,8)\" text-anchor=\"middle\" style=\"shape-rendering: geometricprecision;\"><text class=\"cell-text\" dy=\"0.75em\" style=\"cursor: auto; font-family: 'Open Sans', verdana, arial, sans-serif; font-size: 12px; fill: rgb(241, 250, 238); fill-opacity: 1;\">paid</text></g></g></g></g><g class=\"column-block\" id=\"cells2\" transform=\"\" style=\"cursor: default;\"><g class=\"column-cells\"/></g><g class=\"column-block\" id=\"header\" style=\"cursor: ew-resize;\"><g class=\"column-cells\"><g class=\"column-cell\" transform=\"\"><rect class=\"cell-rect\" width=\"141.53846153846155\" stroke-width=\"1\" style=\"stroke: rgb(255, 255, 255); stroke-opacity: 1; fill: rgb(255, 209, 102); fill-opacity: 1;\" height=\"28\"/><g class=\"cell-text-holder\" transform=\"translate(70.76923076923077,8)\" text-anchor=\"middle\" style=\"shape-rendering: geometricprecision;\"><text class=\"cell-text\" dy=\"0.75em\" x=\"0\" y=\"0\" style=\"cursor: auto; font-family: 'Open Sans', verdana, arial, sans-serif; font-size: 13px; fill: rgb(42, 63, 95); fill-opacity: 1; white-space: pre;\">Tipo de precio</text></g></g></g></g><g class=\"column-boundary\"/><clipPath class=\"column-boundary-clippath\" id=\"clipd50dd1_columnBoundaryClippath_0b4fe9true_2\"><rect class=\"column-boundary-rect\" fill=\"none\" width=\"143.53846153846155\" height=\"367\" x=\"-1\" y=\"-1\"/></clipPath></g><g class=\"scrollbar-kit\" transform=\"translate(929,28)\" style=\"shape-rendering: geometricprecision;\"><g class=\"scrollbar\"><g class=\"scrollbar-slider\" transform=\"\"/></g></g><clipPath class=\"scroll-area-clip\" id=\"clipd50dd1_scrollAreaBottomClip_0b4fe9true\"><rect class=\"scroll-area-clip-rect\" x=\"-45\" y=\"-5\" fill=\"none\" width=\"1010\" height=\"365\"/></clipPath></g></g><defs id=\"topdefs-d50dd1\"><g class=\"clips\"/></defs><g class=\"layer-above\"><g class=\"imagelayer\"/><g class=\"shapelayer\"/></g><g class=\"infolayer\"><g class=\"g-gtitle\"/></g></svg>"
      ],
      "text/plain": [
       "<IPython.core.display.SVG object>"
      ]
     },
     "metadata": {},
     "output_type": "display_data"
    }
   ],
   "source": [
    "plot_table(reviews_games_amount.head(10))"
   ]
  },
  {
   "cell_type": "markdown",
   "metadata": {},
   "source": [
    "## Benchmark"
   ]
  },
  {
   "cell_type": "markdown",
   "metadata": {},
   "source": [
    "Como Benchmark, me parece importante poder recomendar juegos en base a cuales fueron los más jugados es decir los más \n",
    "populares, sin tener en cuenta, ni item-item, ni usuario-usuario, ni usuario-item"
   ]
  },
  {
   "cell_type": "code",
   "execution_count": 93,
   "metadata": {},
   "outputs": [],
   "source": [
    "def get_popularity_recommendations(username, top=10):\n",
    "    df_recs = reviews_games_amount[~reviews_games_amount.id.isin(\n",
    "        data_reviews.query('username==@username').product_id)]\n",
    "    plot_table(df_recs.head(top))"
   ]
  },
  {
   "cell_type": "code",
   "execution_count": 94,
   "metadata": {},
   "outputs": [
    {
     "data": {
      "image/svg+xml": [
       "<svg xmlns=\"http://www.w3.org/2000/svg\" xmlns:xlink=\"http://www.w3.org/1999/xlink\" class=\"main-svg\" width=\"1000\" height=\"370\" style=\"\" viewBox=\"0 0 1000 370\"><rect x=\"0\" y=\"0\" width=\"1000\" height=\"370\" style=\"fill: rgb(255, 255, 255); fill-opacity: 1;\"/><defs id=\"defs-f44bcf\"><g class=\"clips\"/><g class=\"gradients\"/><g class=\"patterns\"/></defs><g class=\"bglayer\"/><g class=\"layer-below\"><g class=\"imagelayer\"/><g class=\"shapelayer\"/></g><g class=\"cartesianlayer\"/><g class=\"polarlayer\"/><g class=\"ternarylayer\"/><g class=\"geolayer\"/><g class=\"funnelarealayer\"/><g class=\"pielayer\"/><g class=\"iciclelayer\"/><g class=\"treemaplayer\"/><g class=\"sunburstlayer\"/><g class=\"glimages\"/><g class=\"table\" overflow=\"visible\" width=\"1000\" height=\"370\" transform=\"\" style=\"box-sizing: content-box; position: absolute; left: 0px; overflow: visible; shape-rendering: crispedges; pointer-events: all;\"><g class=\"table-control-view\" transform=\"translate(0,10)\" clip-path=\"url(#clipf44bcf_scrollAreaBottomClip_bec4f9true)\" style=\"box-sizing: content-box;\"><rect class=\"scroll-background\" fill=\"none\" width=\"920\" height=\"360\"/><g class=\"y-column\" transform=\"\" clip-path=\"url(#clipf44bcf_columnBoundaryClippath_bec4f9true_0)\"><g class=\"column-block\" id=\"cells1\" transform=\"\" style=\"cursor: default;\"><g class=\"column-cells\"><g class=\"column-cell\" transform=\"translate(0,28)\"><rect class=\"cell-rect\" width=\"212.30769230769232\" stroke-width=\"0.4\" style=\"stroke: rgb(0, 0, 0); stroke-opacity: 1; fill: rgb(38, 70, 83); fill-opacity: 1;\" height=\"30\"/><g class=\"cell-text-holder\" transform=\"translate(106.15384615384616,8)\" text-anchor=\"middle\" style=\"shape-rendering: geometricprecision;\"><text class=\"cell-text\" dy=\"0.75em\" x=\"0\" y=\"0\" style=\"cursor: auto; font-family: 'Open Sans', verdana, arial, sans-serif; font-size: 12px; fill: rgb(241, 250, 238); fill-opacity: 1; white-space: pre;\">Team Fortress 2</text></g></g><g class=\"column-cell\" transform=\"translate(0,58)\"><rect class=\"cell-rect\" width=\"212.30769230769232\" stroke-width=\"0.4\" style=\"stroke: rgb(0, 0, 0); stroke-opacity: 1; fill: rgb(38, 70, 83); fill-opacity: 1;\" height=\"30\"/><g class=\"cell-text-holder\" transform=\"translate(106.15384615384616,8)\" text-anchor=\"middle\" style=\"shape-rendering: geometricprecision;\"><text class=\"cell-text\" dy=\"0.75em\" style=\"cursor: auto; font-family: 'Open Sans', verdana, arial, sans-serif; font-size: 12px; fill: rgb(241, 250, 238); fill-opacity: 1;\">Rust</text></g></g><g class=\"column-cell\" transform=\"translate(0,88)\"><rect class=\"cell-rect\" width=\"212.30769230769232\" stroke-width=\"0.4\" style=\"stroke: rgb(0, 0, 0); stroke-opacity: 1; fill: rgb(38, 70, 83); fill-opacity: 1;\" height=\"30\"/><g class=\"cell-text-holder\" transform=\"translate(106.15384615384616,8)\" text-anchor=\"middle\" style=\"shape-rendering: geometricprecision;\"><text class=\"cell-text\" dy=\"0.75em\" x=\"0\" y=\"0\" style=\"cursor: auto; font-family: 'Open Sans', verdana, arial, sans-serif; font-size: 12px; fill: rgb(241, 250, 238); fill-opacity: 1; white-space: pre;\">Grand Theft Auto V</text></g></g><g class=\"column-cell\" transform=\"translate(0,118)\"><rect class=\"cell-rect\" width=\"212.30769230769232\" stroke-width=\"0.4\" style=\"stroke: rgb(0, 0, 0); stroke-opacity: 1; fill: rgb(38, 70, 83); fill-opacity: 1;\" height=\"30\"/><g class=\"cell-text-holder\" transform=\"translate(106.15384615384616,8)\" text-anchor=\"middle\" style=\"shape-rendering: geometricprecision;\"><text class=\"cell-text\" dy=\"0.75em\" style=\"cursor: auto; font-family: 'Open Sans', verdana, arial, sans-serif; font-size: 12px; fill: rgb(241, 250, 238); fill-opacity: 1;\">Robocraft</text></g></g><g class=\"column-cell\" transform=\"translate(0,148)\"><rect class=\"cell-rect\" width=\"212.30769230769232\" stroke-width=\"0.4\" style=\"stroke: rgb(0, 0, 0); stroke-opacity: 1; fill: rgb(38, 70, 83); fill-opacity: 1;\" height=\"30\"/><g class=\"cell-text-holder\" transform=\"translate(106.15384615384616,8)\" text-anchor=\"middle\" style=\"shape-rendering: geometricprecision;\"><text class=\"cell-text\" dy=\"0.75em\" style=\"cursor: auto; font-family: 'Open Sans', verdana, arial, sans-serif; font-size: 12px; fill: rgb(241, 250, 238); fill-opacity: 1;\">DayZ</text></g></g><g class=\"column-cell\" transform=\"translate(0,178)\"><rect class=\"cell-rect\" width=\"212.30769230769232\" stroke-width=\"0.4\" style=\"stroke: rgb(0, 0, 0); stroke-opacity: 1; fill: rgb(38, 70, 83); fill-opacity: 1;\" height=\"30\"/><g class=\"cell-text-holder\" transform=\"translate(106.15384615384616,8)\" text-anchor=\"middle\" style=\"shape-rendering: geometricprecision;\"><text class=\"cell-text\" dy=\"0.75em\" style=\"cursor: auto; font-family: 'Open Sans', verdana, arial, sans-serif; font-size: 12px; fill: rgb(241, 250, 238); fill-opacity: 1;\">Undertale</text></g></g><g class=\"column-cell\" transform=\"translate(0,208)\"><rect class=\"cell-rect\" width=\"212.30769230769232\" stroke-width=\"0.4\" style=\"stroke: rgb(0, 0, 0); stroke-opacity: 1; fill: rgb(38, 70, 83); fill-opacity: 1;\" height=\"30\"/><g class=\"cell-text-holder\" transform=\"translate(106.15384615384616,8)\" text-anchor=\"middle\" style=\"shape-rendering: geometricprecision;\"><text class=\"cell-text\" dy=\"0.75em\" x=\"0\" y=\"0\" style=\"cursor: auto; font-family: 'Open Sans', verdana, arial, sans-serif; font-size: 12px; fill: rgb(241, 250, 238); fill-opacity: 1; white-space: pre;\">Portal 2</text></g></g><g class=\"column-cell\" transform=\"translate(0,238)\"><rect class=\"cell-rect\" width=\"212.30769230769232\" stroke-width=\"0.4\" style=\"stroke: rgb(0, 0, 0); stroke-opacity: 1; fill: rgb(38, 70, 83); fill-opacity: 1;\" height=\"30\"/><g class=\"cell-text-holder\" transform=\"translate(106.15384615384616,8)\" text-anchor=\"middle\" style=\"shape-rendering: geometricprecision;\"><text class=\"cell-text\" dy=\"0.75em\" x=\"0\" y=\"0\" style=\"cursor: auto; font-family: 'Open Sans', verdana, arial, sans-serif; font-size: 12px; fill: rgb(241, 250, 238); fill-opacity: 1; white-space: pre;\">Garry's Mod</text></g></g><g class=\"column-cell\" transform=\"translate(0,268)\"><rect class=\"cell-rect\" width=\"212.30769230769232\" stroke-width=\"0.4\" style=\"stroke: rgb(0, 0, 0); stroke-opacity: 1; fill: rgb(38, 70, 83); fill-opacity: 1;\" height=\"31\"/><g class=\"cell-text-holder\" transform=\"translate(49.78665865384616,20)\" style=\"shape-rendering: geometricprecision;\"><text class=\"cell-text\" dy=\"0\" x=\"0\" y=\"0\" style=\"cursor: auto; font-family: 'Open Sans', verdana, arial, sans-serif; font-size: 12px; fill: rgb(241, 250, 238); fill-opacity: 1; white-space: pre;\">Heroes &amp; Generals</text></g></g><g class=\"column-cell\" transform=\"translate(0,299)\"><rect class=\"cell-rect\" width=\"212.30769230769232\" stroke-width=\"0.4\" style=\"stroke: rgb(0, 0, 0); stroke-opacity: 1; fill: rgb(38, 70, 83); fill-opacity: 1;\" height=\"30\"/><g class=\"cell-text-holder\" transform=\"translate(106.15384615384616,8)\" text-anchor=\"middle\" style=\"shape-rendering: geometricprecision;\"><text class=\"cell-text\" dy=\"0.75em\" style=\"cursor: auto; font-family: 'Open Sans', verdana, arial, sans-serif; font-size: 12px; fill: rgb(241, 250, 238); fill-opacity: 1;\">Starbound</text></g></g></g></g><g class=\"column-block\" id=\"cells2\" transform=\"\" style=\"cursor: default;\"><g class=\"column-cells\"/></g><g class=\"column-block\" id=\"header\" style=\"cursor: ew-resize;\"><g class=\"column-cells\"><g class=\"column-cell\" transform=\"\"><rect class=\"cell-rect\" width=\"212.30769230769232\" stroke-width=\"1\" style=\"stroke: rgb(255, 255, 255); stroke-opacity: 1; fill: rgb(255, 209, 102); fill-opacity: 1;\" height=\"28\"/><g class=\"cell-text-holder\" transform=\"translate(106.15384615384616,8)\" text-anchor=\"middle\" style=\"shape-rendering: geometricprecision;\"><text class=\"cell-text\" dy=\"0.75em\" style=\"cursor: auto; font-family: 'Open Sans', verdana, arial, sans-serif; font-size: 13px; fill: rgb(42, 63, 95); fill-opacity: 1;\">Videojuego</text></g></g></g></g><g class=\"column-boundary\"/><clipPath class=\"column-boundary-clippath\" id=\"clipf44bcf_columnBoundaryClippath_bec4f9true_0\"><rect class=\"column-boundary-rect\" fill=\"none\" width=\"214.30769230769232\" height=\"367\" x=\"-1\" y=\"-1\"/></clipPath></g><g class=\"y-column\" transform=\"translate(212.30769230769232,0)\" clip-path=\"url(#clipf44bcf_columnBoundaryClippath_bec4f9true_1)\"><g class=\"column-block\" id=\"cells1\" transform=\"\" style=\"cursor: default;\"><g class=\"column-cells\"><g class=\"column-cell\" transform=\"translate(0,28)\"><rect class=\"cell-rect\" width=\"566.1538461538462\" stroke-width=\"0.4\" style=\"stroke: rgb(0, 0, 0); stroke-opacity: 1; fill: rgb(38, 70, 83); fill-opacity: 1;\" height=\"30\"/><g class=\"cell-text-holder\" transform=\"translate(283.0769230769231,8)\" text-anchor=\"middle\" style=\"shape-rendering: geometricprecision;\"><text class=\"cell-text\" dy=\"0.75em\" style=\"cursor: auto; font-family: 'Open Sans', verdana, arial, sans-serif; font-size: 12px; fill: rgb(241, 250, 238); fill-opacity: 1;\">http://store.steampowered.com/app/440/Team_Fortress_2/</text></g></g><g class=\"column-cell\" transform=\"translate(0,58)\"><rect class=\"cell-rect\" width=\"566.1538461538462\" stroke-width=\"0.4\" style=\"stroke: rgb(0, 0, 0); stroke-opacity: 1; fill: rgb(38, 70, 83); fill-opacity: 1;\" height=\"30\"/><g class=\"cell-text-holder\" transform=\"translate(283.0769230769231,8)\" text-anchor=\"middle\" style=\"shape-rendering: geometricprecision;\"><text class=\"cell-text\" dy=\"0.75em\" style=\"cursor: auto; font-family: 'Open Sans', verdana, arial, sans-serif; font-size: 12px; fill: rgb(241, 250, 238); fill-opacity: 1;\">http://store.steampowered.com/app/252490/Rust/</text></g></g><g class=\"column-cell\" transform=\"translate(0,88)\"><rect class=\"cell-rect\" width=\"566.1538461538462\" stroke-width=\"0.4\" style=\"stroke: rgb(0, 0, 0); stroke-opacity: 1; fill: rgb(38, 70, 83); fill-opacity: 1;\" height=\"30\"/><g class=\"cell-text-holder\" transform=\"translate(283.0769230769231,8)\" text-anchor=\"middle\" style=\"shape-rendering: geometricprecision;\"><text class=\"cell-text\" dy=\"0.75em\" style=\"cursor: auto; font-family: 'Open Sans', verdana, arial, sans-serif; font-size: 12px; fill: rgb(241, 250, 238); fill-opacity: 1;\">http://store.steampowered.com/app/271590/Grand_Theft_Auto_V/</text></g></g><g class=\"column-cell\" transform=\"translate(0,118)\"><rect class=\"cell-rect\" width=\"566.1538461538462\" stroke-width=\"0.4\" style=\"stroke: rgb(0, 0, 0); stroke-opacity: 1; fill: rgb(38, 70, 83); fill-opacity: 1;\" height=\"30\"/><g class=\"cell-text-holder\" transform=\"translate(283.0769230769231,8)\" text-anchor=\"middle\" style=\"shape-rendering: geometricprecision;\"><text class=\"cell-text\" dy=\"0.75em\" style=\"cursor: auto; font-family: 'Open Sans', verdana, arial, sans-serif; font-size: 12px; fill: rgb(241, 250, 238); fill-opacity: 1;\">http://store.steampowered.com/app/301520/Robocraft/</text></g></g><g class=\"column-cell\" transform=\"translate(0,148)\"><rect class=\"cell-rect\" width=\"566.1538461538462\" stroke-width=\"0.4\" style=\"stroke: rgb(0, 0, 0); stroke-opacity: 1; fill: rgb(38, 70, 83); fill-opacity: 1;\" height=\"30\"/><g class=\"cell-text-holder\" transform=\"translate(283.0769230769231,8)\" text-anchor=\"middle\" style=\"shape-rendering: geometricprecision;\"><text class=\"cell-text\" dy=\"0.75em\" style=\"cursor: auto; font-family: 'Open Sans', verdana, arial, sans-serif; font-size: 12px; fill: rgb(241, 250, 238); fill-opacity: 1;\">http://store.steampowered.com/app/221100/DayZ/</text></g></g><g class=\"column-cell\" transform=\"translate(0,178)\"><rect class=\"cell-rect\" width=\"566.1538461538462\" stroke-width=\"0.4\" style=\"stroke: rgb(0, 0, 0); stroke-opacity: 1; fill: rgb(38, 70, 83); fill-opacity: 1;\" height=\"30\"/><g class=\"cell-text-holder\" transform=\"translate(283.0769230769231,8)\" text-anchor=\"middle\" style=\"shape-rendering: geometricprecision;\"><text class=\"cell-text\" dy=\"0.75em\" style=\"cursor: auto; font-family: 'Open Sans', verdana, arial, sans-serif; font-size: 12px; fill: rgb(241, 250, 238); fill-opacity: 1;\">http://store.steampowered.com/app/391540/Undertale/</text></g></g><g class=\"column-cell\" transform=\"translate(0,208)\"><rect class=\"cell-rect\" width=\"566.1538461538462\" stroke-width=\"0.4\" style=\"stroke: rgb(0, 0, 0); stroke-opacity: 1; fill: rgb(38, 70, 83); fill-opacity: 1;\" height=\"30\"/><g class=\"cell-text-holder\" transform=\"translate(283.0769230769231,8)\" text-anchor=\"middle\" style=\"shape-rendering: geometricprecision;\"><text class=\"cell-text\" dy=\"0.75em\" style=\"cursor: auto; font-family: 'Open Sans', verdana, arial, sans-serif; font-size: 12px; fill: rgb(241, 250, 238); fill-opacity: 1;\">http://store.steampowered.com/app/620/Portal_2/</text></g></g><g class=\"column-cell\" transform=\"translate(0,238)\"><rect class=\"cell-rect\" width=\"566.1538461538462\" stroke-width=\"0.4\" style=\"stroke: rgb(0, 0, 0); stroke-opacity: 1; fill: rgb(38, 70, 83); fill-opacity: 1;\" height=\"30\"/><g class=\"cell-text-holder\" transform=\"translate(283.0769230769231,8)\" text-anchor=\"middle\" style=\"shape-rendering: geometricprecision;\"><text class=\"cell-text\" dy=\"0.75em\" style=\"cursor: auto; font-family: 'Open Sans', verdana, arial, sans-serif; font-size: 12px; fill: rgb(241, 250, 238); fill-opacity: 1;\">http://store.steampowered.com/app/4000/Garrys_Mod/</text></g></g><g class=\"column-cell\" transform=\"translate(0,268)\"><rect class=\"cell-rect\" width=\"566.1538461538462\" stroke-width=\"0.4\" style=\"stroke: rgb(0, 0, 0); stroke-opacity: 1; fill: rgb(38, 70, 83); fill-opacity: 1;\" height=\"31\"/><g class=\"cell-text-holder\" transform=\"translate(283.0769230769231,8)\" text-anchor=\"middle\" style=\"shape-rendering: geometricprecision;\"><text class=\"cell-text\" dy=\"0.75em\" style=\"cursor: auto; font-family: 'Open Sans', verdana, arial, sans-serif; font-size: 12px; fill: rgb(241, 250, 238); fill-opacity: 1;\">http://store.steampowered.com/app/227940/Heroes__Generals/</text></g></g><g class=\"column-cell\" transform=\"translate(0,299)\"><rect class=\"cell-rect\" width=\"566.1538461538462\" stroke-width=\"0.4\" style=\"stroke: rgb(0, 0, 0); stroke-opacity: 1; fill: rgb(38, 70, 83); fill-opacity: 1;\" height=\"30\"/><g class=\"cell-text-holder\" transform=\"translate(283.0769230769231,8)\" text-anchor=\"middle\" style=\"shape-rendering: geometricprecision;\"><text class=\"cell-text\" dy=\"0.75em\" style=\"cursor: auto; font-family: 'Open Sans', verdana, arial, sans-serif; font-size: 12px; fill: rgb(241, 250, 238); fill-opacity: 1;\">http://store.steampowered.com/app/211820/Starbound/</text></g></g></g></g><g class=\"column-block\" id=\"cells2\" transform=\"\" style=\"cursor: default;\"><g class=\"column-cells\"/></g><g class=\"column-block\" id=\"header\" style=\"cursor: ew-resize;\"><g class=\"column-cells\"><g class=\"column-cell\" transform=\"\"><rect class=\"cell-rect\" width=\"566.1538461538462\" stroke-width=\"1\" style=\"stroke: rgb(255, 255, 255); stroke-opacity: 1; fill: rgb(255, 209, 102); fill-opacity: 1;\" height=\"28\"/><g class=\"cell-text-holder\" transform=\"translate(283.0769230769231,8)\" text-anchor=\"middle\" style=\"shape-rendering: geometricprecision;\"><text class=\"cell-text\" dy=\"0.75em\" x=\"0\" y=\"0\" style=\"cursor: auto; font-family: 'Open Sans', verdana, arial, sans-serif; font-size: 13px; fill: rgb(42, 63, 95); fill-opacity: 1; white-space: pre;\">Sitio web</text></g></g></g></g><g class=\"column-boundary\"/><clipPath class=\"column-boundary-clippath\" id=\"clipf44bcf_columnBoundaryClippath_bec4f9true_1\"><rect class=\"column-boundary-rect\" fill=\"none\" width=\"568.1538461538462\" height=\"367\" x=\"-1\" y=\"-1\"/></clipPath></g><g class=\"y-column\" transform=\"translate(778.4615384615386,0)\" clip-path=\"url(#clipf44bcf_columnBoundaryClippath_bec4f9true_2)\"><g class=\"column-block\" id=\"cells1\" transform=\"\" style=\"cursor: default;\"><g class=\"column-cells\"><g class=\"column-cell\" transform=\"translate(0,28)\"><rect class=\"cell-rect\" width=\"141.53846153846155\" stroke-width=\"0.4\" style=\"stroke: rgb(0, 0, 0); stroke-opacity: 1; fill: rgb(38, 70, 83); fill-opacity: 1;\" height=\"30\"/><g class=\"cell-text-holder\" transform=\"translate(70.76923076923077,8)\" text-anchor=\"middle\" style=\"shape-rendering: geometricprecision;\"><text class=\"cell-text\" dy=\"0.75em\" style=\"cursor: auto; font-family: 'Open Sans', verdana, arial, sans-serif; font-size: 12px; fill: rgb(241, 250, 238); fill-opacity: 1;\">free</text></g></g><g class=\"column-cell\" transform=\"translate(0,58)\"><rect class=\"cell-rect\" width=\"141.53846153846155\" stroke-width=\"0.4\" style=\"stroke: rgb(0, 0, 0); stroke-opacity: 1; fill: rgb(38, 70, 83); fill-opacity: 1;\" height=\"30\"/><g class=\"cell-text-holder\" transform=\"translate(70.76923076923077,8)\" text-anchor=\"middle\" style=\"shape-rendering: geometricprecision;\"><text class=\"cell-text\" dy=\"0.75em\" style=\"cursor: auto; font-family: 'Open Sans', verdana, arial, sans-serif; font-size: 12px; fill: rgb(241, 250, 238); fill-opacity: 1;\">paid</text></g></g><g class=\"column-cell\" transform=\"translate(0,88)\"><rect class=\"cell-rect\" width=\"141.53846153846155\" stroke-width=\"0.4\" style=\"stroke: rgb(0, 0, 0); stroke-opacity: 1; fill: rgb(38, 70, 83); fill-opacity: 1;\" height=\"30\"/><g class=\"cell-text-holder\" transform=\"translate(70.76923076923077,8)\" text-anchor=\"middle\" style=\"shape-rendering: geometricprecision;\"><text class=\"cell-text\" dy=\"0.75em\" style=\"cursor: auto; font-family: 'Open Sans', verdana, arial, sans-serif; font-size: 12px; fill: rgb(241, 250, 238); fill-opacity: 1;\">paid</text></g></g><g class=\"column-cell\" transform=\"translate(0,118)\"><rect class=\"cell-rect\" width=\"141.53846153846155\" stroke-width=\"0.4\" style=\"stroke: rgb(0, 0, 0); stroke-opacity: 1; fill: rgb(38, 70, 83); fill-opacity: 1;\" height=\"30\"/><g class=\"cell-text-holder\" transform=\"translate(70.76923076923077,8)\" text-anchor=\"middle\" style=\"shape-rendering: geometricprecision;\"><text class=\"cell-text\" dy=\"0.75em\" style=\"cursor: auto; font-family: 'Open Sans', verdana, arial, sans-serif; font-size: 12px; fill: rgb(241, 250, 238); fill-opacity: 1;\">free</text></g></g><g class=\"column-cell\" transform=\"translate(0,148)\"><rect class=\"cell-rect\" width=\"141.53846153846155\" stroke-width=\"0.4\" style=\"stroke: rgb(0, 0, 0); stroke-opacity: 1; fill: rgb(38, 70, 83); fill-opacity: 1;\" height=\"30\"/><g class=\"cell-text-holder\" transform=\"translate(70.76923076923077,8)\" text-anchor=\"middle\" style=\"shape-rendering: geometricprecision;\"><text class=\"cell-text\" dy=\"0.75em\" style=\"cursor: auto; font-family: 'Open Sans', verdana, arial, sans-serif; font-size: 12px; fill: rgb(241, 250, 238); fill-opacity: 1;\">paid</text></g></g><g class=\"column-cell\" transform=\"translate(0,178)\"><rect class=\"cell-rect\" width=\"141.53846153846155\" stroke-width=\"0.4\" style=\"stroke: rgb(0, 0, 0); stroke-opacity: 1; fill: rgb(38, 70, 83); fill-opacity: 1;\" height=\"30\"/><g class=\"cell-text-holder\" transform=\"translate(70.76923076923077,8)\" text-anchor=\"middle\" style=\"shape-rendering: geometricprecision;\"><text class=\"cell-text\" dy=\"0.75em\" style=\"cursor: auto; font-family: 'Open Sans', verdana, arial, sans-serif; font-size: 12px; fill: rgb(241, 250, 238); fill-opacity: 1;\">paid</text></g></g><g class=\"column-cell\" transform=\"translate(0,208)\"><rect class=\"cell-rect\" width=\"141.53846153846155\" stroke-width=\"0.4\" style=\"stroke: rgb(0, 0, 0); stroke-opacity: 1; fill: rgb(38, 70, 83); fill-opacity: 1;\" height=\"30\"/><g class=\"cell-text-holder\" transform=\"translate(70.76923076923077,8)\" text-anchor=\"middle\" style=\"shape-rendering: geometricprecision;\"><text class=\"cell-text\" dy=\"0.75em\" style=\"cursor: auto; font-family: 'Open Sans', verdana, arial, sans-serif; font-size: 12px; fill: rgb(241, 250, 238); fill-opacity: 1;\">paid</text></g></g><g class=\"column-cell\" transform=\"translate(0,238)\"><rect class=\"cell-rect\" width=\"141.53846153846155\" stroke-width=\"0.4\" style=\"stroke: rgb(0, 0, 0); stroke-opacity: 1; fill: rgb(38, 70, 83); fill-opacity: 1;\" height=\"30\"/><g class=\"cell-text-holder\" transform=\"translate(70.76923076923077,8)\" text-anchor=\"middle\" style=\"shape-rendering: geometricprecision;\"><text class=\"cell-text\" dy=\"0.75em\" style=\"cursor: auto; font-family: 'Open Sans', verdana, arial, sans-serif; font-size: 12px; fill: rgb(241, 250, 238); fill-opacity: 1;\">paid</text></g></g><g class=\"column-cell\" transform=\"translate(0,268)\"><rect class=\"cell-rect\" width=\"141.53846153846155\" stroke-width=\"0.4\" style=\"stroke: rgb(0, 0, 0); stroke-opacity: 1; fill: rgb(38, 70, 83); fill-opacity: 1;\" height=\"31\"/><g class=\"cell-text-holder\" transform=\"translate(70.76923076923077,8)\" text-anchor=\"middle\" style=\"shape-rendering: geometricprecision;\"><text class=\"cell-text\" dy=\"0.75em\" style=\"cursor: auto; font-family: 'Open Sans', verdana, arial, sans-serif; font-size: 12px; fill: rgb(241, 250, 238); fill-opacity: 1;\">free</text></g></g><g class=\"column-cell\" transform=\"translate(0,299)\"><rect class=\"cell-rect\" width=\"141.53846153846155\" stroke-width=\"0.4\" style=\"stroke: rgb(0, 0, 0); stroke-opacity: 1; fill: rgb(38, 70, 83); fill-opacity: 1;\" height=\"30\"/><g class=\"cell-text-holder\" transform=\"translate(70.76923076923077,8)\" text-anchor=\"middle\" style=\"shape-rendering: geometricprecision;\"><text class=\"cell-text\" dy=\"0.75em\" style=\"cursor: auto; font-family: 'Open Sans', verdana, arial, sans-serif; font-size: 12px; fill: rgb(241, 250, 238); fill-opacity: 1;\">paid</text></g></g></g></g><g class=\"column-block\" id=\"cells2\" transform=\"\" style=\"cursor: default;\"><g class=\"column-cells\"/></g><g class=\"column-block\" id=\"header\" style=\"cursor: ew-resize;\"><g class=\"column-cells\"><g class=\"column-cell\" transform=\"\"><rect class=\"cell-rect\" width=\"141.53846153846155\" stroke-width=\"1\" style=\"stroke: rgb(255, 255, 255); stroke-opacity: 1; fill: rgb(255, 209, 102); fill-opacity: 1;\" height=\"28\"/><g class=\"cell-text-holder\" transform=\"translate(70.76923076923077,8)\" text-anchor=\"middle\" style=\"shape-rendering: geometricprecision;\"><text class=\"cell-text\" dy=\"0.75em\" x=\"0\" y=\"0\" style=\"cursor: auto; font-family: 'Open Sans', verdana, arial, sans-serif; font-size: 13px; fill: rgb(42, 63, 95); fill-opacity: 1; white-space: pre;\">Tipo de precio</text></g></g></g></g><g class=\"column-boundary\"/><clipPath class=\"column-boundary-clippath\" id=\"clipf44bcf_columnBoundaryClippath_bec4f9true_2\"><rect class=\"column-boundary-rect\" fill=\"none\" width=\"143.53846153846155\" height=\"367\" x=\"-1\" y=\"-1\"/></clipPath></g><g class=\"scrollbar-kit\" transform=\"translate(929,28)\" style=\"shape-rendering: geometricprecision;\"><g class=\"scrollbar\"><g class=\"scrollbar-slider\" transform=\"\"/></g></g><clipPath class=\"scroll-area-clip\" id=\"clipf44bcf_scrollAreaBottomClip_bec4f9true\"><rect class=\"scroll-area-clip-rect\" x=\"-45\" y=\"-5\" fill=\"none\" width=\"1010\" height=\"365\"/></clipPath></g></g><defs id=\"topdefs-f44bcf\"><g class=\"clips\"/></defs><g class=\"layer-above\"><g class=\"imagelayer\"/><g class=\"shapelayer\"/></g><g class=\"infolayer\"><g class=\"g-gtitle\"/></g></svg>"
      ],
      "text/plain": [
       "<IPython.core.display.SVG object>"
      ]
     },
     "metadata": {},
     "output_type": "display_data"
    }
   ],
   "source": [
    "get_popularity_recommendations('nd')"
   ]
  },
  {
   "cell_type": "markdown",
   "metadata": {},
   "source": [
    "## Filtro colaborativo\n",
    "La implementación de un filtro colaboratorio conlleva muchos retos, algunos de ellos se han estado solucionando en pasos anteriores con la limpieza y procesamiento de los datos, sin embargo, para el desarrollo de éste proyecto se realizó una etapa de investigación adicional para solucionar la ausencia de calificaciones entre los pares usuario-item el cual era un campo esperado cuando se importaron los datos.\n",
    "Desde luego, en el consumo de contenidos digitales los usuarios no suelen brindar una calificación explícita que cuantifique su gusto o apreciación hacia cierto producto, un hecho que nos lleva a mirar este desafio como un problema que se volvería a repetir en un caso real.\n",
    "\n"
   ]
  },
  {
   "cell_type": "code",
   "execution_count": 95,
   "metadata": {},
   "outputs": [
    {
     "data": {
      "text/html": [
       "<div>\n",
       "<style scoped>\n",
       "    .dataframe tbody tr th:only-of-type {\n",
       "        vertical-align: middle;\n",
       "    }\n",
       "\n",
       "    .dataframe tbody tr th {\n",
       "        vertical-align: top;\n",
       "    }\n",
       "\n",
       "    .dataframe thead th {\n",
       "        text-align: right;\n",
       "    }\n",
       "</style>\n",
       "<table border=\"1\" class=\"dataframe\">\n",
       "  <thead>\n",
       "    <tr style=\"text-align: right;\">\n",
       "      <th></th>\n",
       "      <th>genres</th>\n",
       "      <th>app_name</th>\n",
       "      <th>release_date</th>\n",
       "      <th>id</th>\n",
       "      <th>publisher</th>\n",
       "      <th>url</th>\n",
       "      <th>categories</th>\n",
       "      <th>category_price</th>\n",
       "    </tr>\n",
       "  </thead>\n",
       "  <tbody>\n",
       "    <tr>\n",
       "      <th>0</th>\n",
       "      <td>[Action, Casual, Indie, Simulation, Strategy]</td>\n",
       "      <td>Lost Summoner Kitty</td>\n",
       "      <td>2018-01-04</td>\n",
       "      <td>761140</td>\n",
       "      <td>Kotoshiro</td>\n",
       "      <td>http://store.steampowered.com/app/761140/Lost_...</td>\n",
       "      <td>['action', 'casual', 'indie', 'simulation', 's...</td>\n",
       "      <td>paid</td>\n",
       "    </tr>\n",
       "    <tr>\n",
       "      <th>1</th>\n",
       "      <td>[Free to Play, Indie, RPG, Strategy]</td>\n",
       "      <td>Ironbound</td>\n",
       "      <td>2018-01-04</td>\n",
       "      <td>643980</td>\n",
       "      <td>Making Fun, Inc.</td>\n",
       "      <td>http://store.steampowered.com/app/643980/Ironb...</td>\n",
       "      <td>['2d', 'board game', 'card game', 'character c...</td>\n",
       "      <td>free</td>\n",
       "    </tr>\n",
       "    <tr>\n",
       "      <th>2</th>\n",
       "      <td>[Casual, Free to Play, Indie, Simulation, Sports]</td>\n",
       "      <td>Real Pool 3D - Poolians</td>\n",
       "      <td>2017-07-24</td>\n",
       "      <td>670290</td>\n",
       "      <td>Poolians.com</td>\n",
       "      <td>http://store.steampowered.com/app/670290/Real_...</td>\n",
       "      <td>['casual', 'free to play', 'inapp purchases', ...</td>\n",
       "      <td>free</td>\n",
       "    </tr>\n",
       "    <tr>\n",
       "      <th>3</th>\n",
       "      <td>[Action, Adventure, Casual]</td>\n",
       "      <td>弹炸人2222</td>\n",
       "      <td>2017-12-07</td>\n",
       "      <td>767400</td>\n",
       "      <td>彼岸领域</td>\n",
       "      <td>http://store.steampowered.com/app/767400/2222/</td>\n",
       "      <td>['action', 'adventure', 'casual', 'singleplayer']</td>\n",
       "      <td>paid</td>\n",
       "    </tr>\n",
       "    <tr>\n",
       "      <th>4</th>\n",
       "      <td>[]</td>\n",
       "      <td>Log Challenge</td>\n",
       "      <td>NaN</td>\n",
       "      <td>773570</td>\n",
       "      <td>NaN</td>\n",
       "      <td>http://store.steampowered.com/app/773570/Log_C...</td>\n",
       "      <td>['action', 'casual', 'full controller support'...</td>\n",
       "      <td>paid</td>\n",
       "    </tr>\n",
       "  </tbody>\n",
       "</table>\n",
       "</div>"
      ],
      "text/plain": [
       "                                              genres                 app_name  \\\n",
       "0      [Action, Casual, Indie, Simulation, Strategy]      Lost Summoner Kitty   \n",
       "1               [Free to Play, Indie, RPG, Strategy]                Ironbound   \n",
       "2  [Casual, Free to Play, Indie, Simulation, Sports]  Real Pool 3D - Poolians   \n",
       "3                        [Action, Adventure, Casual]                  弹炸人2222   \n",
       "4                                                 []            Log Challenge   \n",
       "\n",
       "  release_date      id         publisher  \\\n",
       "0   2018-01-04  761140         Kotoshiro   \n",
       "1   2018-01-04  643980  Making Fun, Inc.   \n",
       "2   2017-07-24  670290      Poolians.com   \n",
       "3   2017-12-07  767400              彼岸领域   \n",
       "4          NaN  773570               NaN   \n",
       "\n",
       "                                                 url  \\\n",
       "0  http://store.steampowered.com/app/761140/Lost_...   \n",
       "1  http://store.steampowered.com/app/643980/Ironb...   \n",
       "2  http://store.steampowered.com/app/670290/Real_...   \n",
       "3     http://store.steampowered.com/app/767400/2222/   \n",
       "4  http://store.steampowered.com/app/773570/Log_C...   \n",
       "\n",
       "                                          categories category_price  \n",
       "0  ['action', 'casual', 'indie', 'simulation', 's...           paid  \n",
       "1  ['2d', 'board game', 'card game', 'character c...           free  \n",
       "2  ['casual', 'free to play', 'inapp purchases', ...           free  \n",
       "3  ['action', 'adventure', 'casual', 'singleplayer']           paid  \n",
       "4  ['action', 'casual', 'full controller support'...           paid  "
      ]
     },
     "execution_count": 95,
     "metadata": {},
     "output_type": "execute_result"
    }
   ],
   "source": [
    "data_games.head()"
   ]
  },
  {
   "cell_type": "code",
   "execution_count": 96,
   "metadata": {},
   "outputs": [
    {
     "data": {
      "text/plain": [
       "genres            object\n",
       "app_name          object\n",
       "release_date      object\n",
       "id                 int64\n",
       "publisher         object\n",
       "url               object\n",
       "categories        object\n",
       "category_price    object\n",
       "dtype: object"
      ]
     },
     "execution_count": 96,
     "metadata": {},
     "output_type": "execute_result"
    }
   ],
   "source": [
    "data_games.dtypes\n"
   ]
  },
  {
   "cell_type": "code",
   "execution_count": 97,
   "metadata": {},
   "outputs": [
    {
     "data": {
      "text/html": [
       "<div>\n",
       "<style scoped>\n",
       "    .dataframe tbody tr th:only-of-type {\n",
       "        vertical-align: middle;\n",
       "    }\n",
       "\n",
       "    .dataframe tbody tr th {\n",
       "        vertical-align: top;\n",
       "    }\n",
       "\n",
       "    .dataframe thead th {\n",
       "        text-align: right;\n",
       "    }\n",
       "</style>\n",
       "<table border=\"1\" class=\"dataframe\">\n",
       "  <thead>\n",
       "    <tr style=\"text-align: right;\">\n",
       "      <th></th>\n",
       "      <th>username</th>\n",
       "      <th>hours</th>\n",
       "      <th>product_id</th>\n",
       "      <th>date</th>\n",
       "      <th>text</th>\n",
       "    </tr>\n",
       "  </thead>\n",
       "  <tbody>\n",
       "    <tr>\n",
       "      <th>0</th>\n",
       "      <td>Chaos Syren</td>\n",
       "      <td>0.1</td>\n",
       "      <td>725280</td>\n",
       "      <td>2017-12-17</td>\n",
       "      <td>This would not be acceptable as an entertainme...</td>\n",
       "    </tr>\n",
       "    <tr>\n",
       "      <th>1</th>\n",
       "      <td>hello?&lt;</td>\n",
       "      <td>14.6</td>\n",
       "      <td>328100</td>\n",
       "      <td>2017-10-16</td>\n",
       "      <td>Better than Minecraft</td>\n",
       "    </tr>\n",
       "    <tr>\n",
       "      <th>2</th>\n",
       "      <td>DarklyThinking</td>\n",
       "      <td>16.6</td>\n",
       "      <td>35140</td>\n",
       "      <td>2018-01-04</td>\n",
       "      <td>Still worth playing in 2018.\\nProbably my favo...</td>\n",
       "    </tr>\n",
       "    <tr>\n",
       "      <th>3</th>\n",
       "      <td>nd</td>\n",
       "      <td>1.0</td>\n",
       "      <td>725280</td>\n",
       "      <td>2017-11-28</td>\n",
       "      <td>endless rooms of some underground complex, blo...</td>\n",
       "    </tr>\n",
       "    <tr>\n",
       "      <th>4</th>\n",
       "      <td>jimllfixitok</td>\n",
       "      <td>1.1</td>\n",
       "      <td>707610</td>\n",
       "      <td>2017-10-16</td>\n",
       "      <td>no sound. icons don't work. re-installed but n...</td>\n",
       "    </tr>\n",
       "  </tbody>\n",
       "</table>\n",
       "</div>"
      ],
      "text/plain": [
       "         username  hours  product_id       date  \\\n",
       "0     Chaos Syren    0.1      725280 2017-12-17   \n",
       "1         hello?<   14.6      328100 2017-10-16   \n",
       "2  DarklyThinking   16.6       35140 2018-01-04   \n",
       "3              nd    1.0      725280 2017-11-28   \n",
       "4    jimllfixitok    1.1      707610 2017-10-16   \n",
       "\n",
       "                                                text  \n",
       "0  This would not be acceptable as an entertainme...  \n",
       "1                              Better than Minecraft  \n",
       "2  Still worth playing in 2018.\\nProbably my favo...  \n",
       "3  endless rooms of some underground complex, blo...  \n",
       "4  no sound. icons don't work. re-installed but n...  "
      ]
     },
     "execution_count": 97,
     "metadata": {},
     "output_type": "execute_result"
    }
   ],
   "source": [
    "data_reviews.head()"
   ]
  },
  {
   "cell_type": "code",
   "execution_count": 98,
   "metadata": {},
   "outputs": [
    {
     "data": {
      "text/plain": [
       "username              object\n",
       "hours                float64\n",
       "product_id             int64\n",
       "date          datetime64[ns]\n",
       "text                  object\n",
       "dtype: object"
      ]
     },
     "execution_count": 98,
     "metadata": {},
     "output_type": "execute_result"
    }
   ],
   "source": [
    "data_reviews.dtypes"
   ]
  },
  {
   "cell_type": "code",
   "execution_count": 99,
   "metadata": {},
   "outputs": [],
   "source": [
    "data_games['id'] = data_games['id'].astype(pd.Int64Dtype())\n"
   ]
  },
  {
   "cell_type": "code",
   "execution_count": 100,
   "metadata": {},
   "outputs": [],
   "source": [
    "#Ordeno las columnas de data_games y data_reviews por 'id' que es la llave que utilizaré para hacer merge\n",
    "data_reviews = data_reviews.sort_values('product_id')\n",
    "data_games = data_games.sort_values('id')"
   ]
  },
  {
   "cell_type": "code",
   "execution_count": 101,
   "metadata": {},
   "outputs": [],
   "source": [
    "reviews_games = pd.merge(data_reviews, data_games[['app_name','id', 'category_price', 'categories']],\n",
    "                        left_on='product_id',\n",
    "                        right_on='id',\n",
    "                        how='left')\n"
   ]
  },
  {
   "cell_type": "code",
   "execution_count": 102,
   "metadata": {},
   "outputs": [],
   "source": [
    "reviews_games.head()\n",
    "reviews_games['id'] = reviews_games['id'].astype(pd.Int64Dtype())"
   ]
  },
  {
   "cell_type": "code",
   "execution_count": 103,
   "metadata": {},
   "outputs": [
    {
     "data": {
      "text/html": [
       "<div>\n",
       "<style scoped>\n",
       "    .dataframe tbody tr th:only-of-type {\n",
       "        vertical-align: middle;\n",
       "    }\n",
       "\n",
       "    .dataframe tbody tr th {\n",
       "        vertical-align: top;\n",
       "    }\n",
       "\n",
       "    .dataframe thead th {\n",
       "        text-align: right;\n",
       "    }\n",
       "</style>\n",
       "<table border=\"1\" class=\"dataframe\">\n",
       "  <thead>\n",
       "    <tr style=\"text-align: right;\">\n",
       "      <th></th>\n",
       "      <th>username</th>\n",
       "      <th>hours</th>\n",
       "      <th>product_id</th>\n",
       "      <th>date</th>\n",
       "      <th>text</th>\n",
       "      <th>app_name</th>\n",
       "      <th>id</th>\n",
       "      <th>category_price</th>\n",
       "      <th>categories</th>\n",
       "    </tr>\n",
       "  </thead>\n",
       "  <tbody>\n",
       "    <tr>\n",
       "      <th>0</th>\n",
       "      <td>twitch.tv/miljoo</td>\n",
       "      <td>110.2</td>\n",
       "      <td>10</td>\n",
       "      <td>2017-12-26</td>\n",
       "      <td>i suck at this game</td>\n",
       "      <td>Counter-Strike</td>\n",
       "      <td>10</td>\n",
       "      <td>paid</td>\n",
       "      <td>['1980s', '1990s', 'action', 'assassin', 'clas...</td>\n",
       "    </tr>\n",
       "    <tr>\n",
       "      <th>1</th>\n",
       "      <td>[NC] Cake</td>\n",
       "      <td>1.6</td>\n",
       "      <td>10</td>\n",
       "      <td>2017-12-29</td>\n",
       "      <td>Good</td>\n",
       "      <td>Counter-Strike</td>\n",
       "      <td>10</td>\n",
       "      <td>paid</td>\n",
       "      <td>['1980s', '1990s', 'action', 'assassin', 'clas...</td>\n",
       "    </tr>\n",
       "    <tr>\n",
       "      <th>2</th>\n",
       "      <td>Matuzka</td>\n",
       "      <td>1.6</td>\n",
       "      <td>10</td>\n",
       "      <td>2017-12-29</td>\n",
       "      <td>Good old times!</td>\n",
       "      <td>Counter-Strike</td>\n",
       "      <td>10</td>\n",
       "      <td>paid</td>\n",
       "      <td>['1980s', '1990s', 'action', 'assassin', 'clas...</td>\n",
       "    </tr>\n",
       "    <tr>\n",
       "      <th>3</th>\n",
       "      <td>smselby27</td>\n",
       "      <td>19.1</td>\n",
       "      <td>10</td>\n",
       "      <td>2017-12-29</td>\n",
       "      <td>i love this game so much i love it too much</td>\n",
       "      <td>Counter-Strike</td>\n",
       "      <td>10</td>\n",
       "      <td>paid</td>\n",
       "      <td>['1980s', '1990s', 'action', 'assassin', 'clas...</td>\n",
       "    </tr>\n",
       "    <tr>\n",
       "      <th>4</th>\n",
       "      <td>japa</td>\n",
       "      <td>1360.7</td>\n",
       "      <td>10</td>\n",
       "      <td>2017-12-29</td>\n",
       "      <td>best game ever !</td>\n",
       "      <td>Counter-Strike</td>\n",
       "      <td>10</td>\n",
       "      <td>paid</td>\n",
       "      <td>['1980s', '1990s', 'action', 'assassin', 'clas...</td>\n",
       "    </tr>\n",
       "  </tbody>\n",
       "</table>\n",
       "</div>"
      ],
      "text/plain": [
       "           username   hours  product_id       date  \\\n",
       "0  twitch.tv/miljoo   110.2          10 2017-12-26   \n",
       "1         [NC] Cake     1.6          10 2017-12-29   \n",
       "2           Matuzka     1.6          10 2017-12-29   \n",
       "3         smselby27    19.1          10 2017-12-29   \n",
       "4              japa  1360.7          10 2017-12-29   \n",
       "\n",
       "                                          text        app_name  id  \\\n",
       "0                          i suck at this game  Counter-Strike  10   \n",
       "1                                         Good  Counter-Strike  10   \n",
       "2                              Good old times!  Counter-Strike  10   \n",
       "3  i love this game so much i love it too much  Counter-Strike  10   \n",
       "4                             best game ever !  Counter-Strike  10   \n",
       "\n",
       "  category_price                                         categories  \n",
       "0           paid  ['1980s', '1990s', 'action', 'assassin', 'clas...  \n",
       "1           paid  ['1980s', '1990s', 'action', 'assassin', 'clas...  \n",
       "2           paid  ['1980s', '1990s', 'action', 'assassin', 'clas...  \n",
       "3           paid  ['1980s', '1990s', 'action', 'assassin', 'clas...  \n",
       "4           paid  ['1980s', '1990s', 'action', 'assassin', 'clas...  "
      ]
     },
     "execution_count": 103,
     "metadata": {},
     "output_type": "execute_result"
    }
   ],
   "source": [
    "reviews_games.head()"
   ]
  },
  {
   "cell_type": "code",
   "execution_count": 104,
   "metadata": {},
   "outputs": [
    {
     "data": {
      "text/plain": [
       "username                  object\n",
       "hours                    float64\n",
       "product_id                 int64\n",
       "date              datetime64[ns]\n",
       "text                      object\n",
       "app_name                  object\n",
       "id                         Int64\n",
       "category_price            object\n",
       "categories                object\n",
       "dtype: object"
      ]
     },
     "execution_count": 104,
     "metadata": {},
     "output_type": "execute_result"
    }
   ],
   "source": [
    "reviews_games.dtypes"
   ]
  },
  {
   "cell_type": "code",
   "execution_count": 105,
   "metadata": {},
   "outputs": [
    {
     "data": {
      "text/plain": [
       "username               0\n",
       "hours                  0\n",
       "product_id             0\n",
       "date                   0\n",
       "text                   0\n",
       "app_name          879178\n",
       "id                879178\n",
       "category_price    879178\n",
       "categories        879178\n",
       "dtype: int64"
      ]
     },
     "execution_count": 105,
     "metadata": {},
     "output_type": "execute_result"
    }
   ],
   "source": [
    "reviews_games.isna().sum()"
   ]
  },
  {
   "cell_type": "code",
   "execution_count": 106,
   "metadata": {},
   "outputs": [
    {
     "data": {
      "text/plain": [
       "(3681082, 9)"
      ]
     },
     "execution_count": 106,
     "metadata": {},
     "output_type": "execute_result"
    }
   ],
   "source": [
    "reviews_games.shape"
   ]
  },
  {
   "cell_type": "code",
   "execution_count": 107,
   "metadata": {},
   "outputs": [],
   "source": [
    "reviews_games = reviews_games.dropna(axis=0, subset=['id'])"
   ]
  },
  {
   "cell_type": "code",
   "execution_count": 108,
   "metadata": {},
   "outputs": [
    {
     "data": {
      "text/plain": [
       "username          0\n",
       "hours             0\n",
       "product_id        0\n",
       "date              0\n",
       "text              0\n",
       "app_name          0\n",
       "id                0\n",
       "category_price    0\n",
       "categories        0\n",
       "dtype: int64"
      ]
     },
     "execution_count": 108,
     "metadata": {},
     "output_type": "execute_result"
    }
   ],
   "source": [
    "reviews_games.isna().sum()"
   ]
  },
  {
   "cell_type": "code",
   "execution_count": 109,
   "metadata": {},
   "outputs": [],
   "source": [
    "import string\n"
   ]
  },
  {
   "cell_type": "code",
   "execution_count": 110,
   "metadata": {},
   "outputs": [],
   "source": [
    "reviews_games['n_categories'] = reviews_games['categories'].str.replace('[{}]'.format(string.punctuation),' ')"
   ]
  },
  {
   "cell_type": "code",
   "execution_count": 111,
   "metadata": {},
   "outputs": [
    {
     "data": {
      "text/html": [
       "<div>\n",
       "<style scoped>\n",
       "    .dataframe tbody tr th:only-of-type {\n",
       "        vertical-align: middle;\n",
       "    }\n",
       "\n",
       "    .dataframe tbody tr th {\n",
       "        vertical-align: top;\n",
       "    }\n",
       "\n",
       "    .dataframe thead th {\n",
       "        text-align: right;\n",
       "    }\n",
       "</style>\n",
       "<table border=\"1\" class=\"dataframe\">\n",
       "  <thead>\n",
       "    <tr style=\"text-align: right;\">\n",
       "      <th></th>\n",
       "      <th>username</th>\n",
       "      <th>hours</th>\n",
       "      <th>product_id</th>\n",
       "      <th>date</th>\n",
       "      <th>text</th>\n",
       "      <th>app_name</th>\n",
       "      <th>id</th>\n",
       "      <th>category_price</th>\n",
       "      <th>categories</th>\n",
       "      <th>n_categories</th>\n",
       "    </tr>\n",
       "  </thead>\n",
       "  <tbody>\n",
       "    <tr>\n",
       "      <th>0</th>\n",
       "      <td>twitch.tv/miljoo</td>\n",
       "      <td>110.2</td>\n",
       "      <td>10</td>\n",
       "      <td>2017-12-26</td>\n",
       "      <td>i suck at this game</td>\n",
       "      <td>Counter-Strike</td>\n",
       "      <td>10</td>\n",
       "      <td>paid</td>\n",
       "      <td>['1980s', '1990s', 'action', 'assassin', 'clas...</td>\n",
       "      <td>1980s    1990s    action    assassin    clas...</td>\n",
       "    </tr>\n",
       "    <tr>\n",
       "      <th>1</th>\n",
       "      <td>[NC] Cake</td>\n",
       "      <td>1.6</td>\n",
       "      <td>10</td>\n",
       "      <td>2017-12-29</td>\n",
       "      <td>Good</td>\n",
       "      <td>Counter-Strike</td>\n",
       "      <td>10</td>\n",
       "      <td>paid</td>\n",
       "      <td>['1980s', '1990s', 'action', 'assassin', 'clas...</td>\n",
       "      <td>1980s    1990s    action    assassin    clas...</td>\n",
       "    </tr>\n",
       "    <tr>\n",
       "      <th>2</th>\n",
       "      <td>Matuzka</td>\n",
       "      <td>1.6</td>\n",
       "      <td>10</td>\n",
       "      <td>2017-12-29</td>\n",
       "      <td>Good old times!</td>\n",
       "      <td>Counter-Strike</td>\n",
       "      <td>10</td>\n",
       "      <td>paid</td>\n",
       "      <td>['1980s', '1990s', 'action', 'assassin', 'clas...</td>\n",
       "      <td>1980s    1990s    action    assassin    clas...</td>\n",
       "    </tr>\n",
       "    <tr>\n",
       "      <th>3</th>\n",
       "      <td>smselby27</td>\n",
       "      <td>19.1</td>\n",
       "      <td>10</td>\n",
       "      <td>2017-12-29</td>\n",
       "      <td>i love this game so much i love it too much</td>\n",
       "      <td>Counter-Strike</td>\n",
       "      <td>10</td>\n",
       "      <td>paid</td>\n",
       "      <td>['1980s', '1990s', 'action', 'assassin', 'clas...</td>\n",
       "      <td>1980s    1990s    action    assassin    clas...</td>\n",
       "    </tr>\n",
       "    <tr>\n",
       "      <th>4</th>\n",
       "      <td>japa</td>\n",
       "      <td>1360.7</td>\n",
       "      <td>10</td>\n",
       "      <td>2017-12-29</td>\n",
       "      <td>best game ever !</td>\n",
       "      <td>Counter-Strike</td>\n",
       "      <td>10</td>\n",
       "      <td>paid</td>\n",
       "      <td>['1980s', '1990s', 'action', 'assassin', 'clas...</td>\n",
       "      <td>1980s    1990s    action    assassin    clas...</td>\n",
       "    </tr>\n",
       "  </tbody>\n",
       "</table>\n",
       "</div>"
      ],
      "text/plain": [
       "           username   hours  product_id       date  \\\n",
       "0  twitch.tv/miljoo   110.2          10 2017-12-26   \n",
       "1         [NC] Cake     1.6          10 2017-12-29   \n",
       "2           Matuzka     1.6          10 2017-12-29   \n",
       "3         smselby27    19.1          10 2017-12-29   \n",
       "4              japa  1360.7          10 2017-12-29   \n",
       "\n",
       "                                          text        app_name  id  \\\n",
       "0                          i suck at this game  Counter-Strike  10   \n",
       "1                                         Good  Counter-Strike  10   \n",
       "2                              Good old times!  Counter-Strike  10   \n",
       "3  i love this game so much i love it too much  Counter-Strike  10   \n",
       "4                             best game ever !  Counter-Strike  10   \n",
       "\n",
       "  category_price                                         categories  \\\n",
       "0           paid  ['1980s', '1990s', 'action', 'assassin', 'clas...   \n",
       "1           paid  ['1980s', '1990s', 'action', 'assassin', 'clas...   \n",
       "2           paid  ['1980s', '1990s', 'action', 'assassin', 'clas...   \n",
       "3           paid  ['1980s', '1990s', 'action', 'assassin', 'clas...   \n",
       "4           paid  ['1980s', '1990s', 'action', 'assassin', 'clas...   \n",
       "\n",
       "                                        n_categories  \n",
       "0    1980s    1990s    action    assassin    clas...  \n",
       "1    1980s    1990s    action    assassin    clas...  \n",
       "2    1980s    1990s    action    assassin    clas...  \n",
       "3    1980s    1990s    action    assassin    clas...  \n",
       "4    1980s    1990s    action    assassin    clas...  "
      ]
     },
     "execution_count": 111,
     "metadata": {},
     "output_type": "execute_result"
    }
   ],
   "source": [
    "reviews_games.head()"
   ]
  },
  {
   "cell_type": "code",
   "execution_count": 112,
   "metadata": {},
   "outputs": [
    {
     "name": "stdout",
     "output_type": "stream",
     "text": [
      "2801904\n"
     ]
    }
   ],
   "source": [
    "cant_filas = len(reviews_games['categories'])\n",
    "print(cant_filas)\n",
    "#reviews_games['categories'][1]"
   ]
  },
  {
   "cell_type": "code",
   "execution_count": 113,
   "metadata": {},
   "outputs": [
    {
     "data": {
      "text/html": [
       "<div>\n",
       "<style scoped>\n",
       "    .dataframe tbody tr th:only-of-type {\n",
       "        vertical-align: middle;\n",
       "    }\n",
       "\n",
       "    .dataframe tbody tr th {\n",
       "        vertical-align: top;\n",
       "    }\n",
       "\n",
       "    .dataframe thead th {\n",
       "        text-align: right;\n",
       "    }\n",
       "</style>\n",
       "<table border=\"1\" class=\"dataframe\">\n",
       "  <thead>\n",
       "    <tr style=\"text-align: right;\">\n",
       "      <th></th>\n",
       "      <th>username</th>\n",
       "      <th>hours</th>\n",
       "      <th>product_id</th>\n",
       "      <th>date</th>\n",
       "      <th>text</th>\n",
       "      <th>app_name</th>\n",
       "      <th>id</th>\n",
       "      <th>category_price</th>\n",
       "      <th>categories</th>\n",
       "      <th>n_categories</th>\n",
       "    </tr>\n",
       "  </thead>\n",
       "  <tbody>\n",
       "    <tr>\n",
       "      <th>0</th>\n",
       "      <td>twitch.tv/miljoo</td>\n",
       "      <td>110.2</td>\n",
       "      <td>10</td>\n",
       "      <td>2017-12-26</td>\n",
       "      <td>i suck at this game</td>\n",
       "      <td>Counter-Strike</td>\n",
       "      <td>10</td>\n",
       "      <td>paid</td>\n",
       "      <td>['1980s', '1990s', 'action', 'assassin', 'clas...</td>\n",
       "      <td>1980s    1990s    action    assassin    clas...</td>\n",
       "    </tr>\n",
       "    <tr>\n",
       "      <th>1</th>\n",
       "      <td>[NC] Cake</td>\n",
       "      <td>1.6</td>\n",
       "      <td>10</td>\n",
       "      <td>2017-12-29</td>\n",
       "      <td>Good</td>\n",
       "      <td>Counter-Strike</td>\n",
       "      <td>10</td>\n",
       "      <td>paid</td>\n",
       "      <td>['1980s', '1990s', 'action', 'assassin', 'clas...</td>\n",
       "      <td>1980s    1990s    action    assassin    clas...</td>\n",
       "    </tr>\n",
       "    <tr>\n",
       "      <th>2</th>\n",
       "      <td>Matuzka</td>\n",
       "      <td>1.6</td>\n",
       "      <td>10</td>\n",
       "      <td>2017-12-29</td>\n",
       "      <td>Good old times!</td>\n",
       "      <td>Counter-Strike</td>\n",
       "      <td>10</td>\n",
       "      <td>paid</td>\n",
       "      <td>['1980s', '1990s', 'action', 'assassin', 'clas...</td>\n",
       "      <td>1980s    1990s    action    assassin    clas...</td>\n",
       "    </tr>\n",
       "    <tr>\n",
       "      <th>3</th>\n",
       "      <td>smselby27</td>\n",
       "      <td>19.1</td>\n",
       "      <td>10</td>\n",
       "      <td>2017-12-29</td>\n",
       "      <td>i love this game so much i love it too much</td>\n",
       "      <td>Counter-Strike</td>\n",
       "      <td>10</td>\n",
       "      <td>paid</td>\n",
       "      <td>['1980s', '1990s', 'action', 'assassin', 'clas...</td>\n",
       "      <td>1980s    1990s    action    assassin    clas...</td>\n",
       "    </tr>\n",
       "    <tr>\n",
       "      <th>4</th>\n",
       "      <td>japa</td>\n",
       "      <td>1360.7</td>\n",
       "      <td>10</td>\n",
       "      <td>2017-12-29</td>\n",
       "      <td>best game ever !</td>\n",
       "      <td>Counter-Strike</td>\n",
       "      <td>10</td>\n",
       "      <td>paid</td>\n",
       "      <td>['1980s', '1990s', 'action', 'assassin', 'clas...</td>\n",
       "      <td>1980s    1990s    action    assassin    clas...</td>\n",
       "    </tr>\n",
       "  </tbody>\n",
       "</table>\n",
       "</div>"
      ],
      "text/plain": [
       "           username   hours  product_id       date  \\\n",
       "0  twitch.tv/miljoo   110.2          10 2017-12-26   \n",
       "1         [NC] Cake     1.6          10 2017-12-29   \n",
       "2           Matuzka     1.6          10 2017-12-29   \n",
       "3         smselby27    19.1          10 2017-12-29   \n",
       "4              japa  1360.7          10 2017-12-29   \n",
       "\n",
       "                                          text        app_name  id  \\\n",
       "0                          i suck at this game  Counter-Strike  10   \n",
       "1                                         Good  Counter-Strike  10   \n",
       "2                              Good old times!  Counter-Strike  10   \n",
       "3  i love this game so much i love it too much  Counter-Strike  10   \n",
       "4                             best game ever !  Counter-Strike  10   \n",
       "\n",
       "  category_price                                         categories  \\\n",
       "0           paid  ['1980s', '1990s', 'action', 'assassin', 'clas...   \n",
       "1           paid  ['1980s', '1990s', 'action', 'assassin', 'clas...   \n",
       "2           paid  ['1980s', '1990s', 'action', 'assassin', 'clas...   \n",
       "3           paid  ['1980s', '1990s', 'action', 'assassin', 'clas...   \n",
       "4           paid  ['1980s', '1990s', 'action', 'assassin', 'clas...   \n",
       "\n",
       "                                        n_categories  \n",
       "0    1980s    1990s    action    assassin    clas...  \n",
       "1    1980s    1990s    action    assassin    clas...  \n",
       "2    1980s    1990s    action    assassin    clas...  \n",
       "3    1980s    1990s    action    assassin    clas...  \n",
       "4    1980s    1990s    action    assassin    clas...  "
      ]
     },
     "execution_count": 113,
     "metadata": {},
     "output_type": "execute_result"
    }
   ],
   "source": [
    "reviews_games.head()"
   ]
  },
  {
   "cell_type": "markdown",
   "metadata": {},
   "source": [
    "Para trabajar con indice de Jaccard o Similitud coseno, podría comparar las similaridades entre las categorias de los juegos que juega cada usuario"
   ]
  },
  {
   "cell_type": "code",
   "execution_count": 114,
   "metadata": {},
   "outputs": [
    {
     "name": "stdout",
     "output_type": "stream",
     "text": [
      "  1980s    1990s    action    assassin    classic    competitive    fps    firstperson    military    multiplayer    multiplayer    ninja    pvp    score attack    shooter    strategy    survival    tactical    teambased    tower defense    valve anticheat enabled    esports  \n"
     ]
    }
   ],
   "source": [
    " print(reviews_games['n_categories'][0])"
   ]
  },
  {
   "cell_type": "markdown",
   "metadata": {},
   "source": [
    "### Para evitar cálculos excesivos vamos a armar un dataframe con las columnas: username, product_id, app_name, category_price y n_categories y tomando solamente un % de la cantidad de juegos"
   ]
  },
  {
   "cell_type": "code",
   "execution_count": 115,
   "metadata": {},
   "outputs": [],
   "source": [
    "Df =pd.DataFrame(reviews_games, columns=['username', 'id','app_name','category_price','n_categories'])"
   ]
  },
  {
   "cell_type": "code",
   "execution_count": 116,
   "metadata": {},
   "outputs": [
    {
     "data": {
      "text/html": [
       "<div>\n",
       "<style scoped>\n",
       "    .dataframe tbody tr th:only-of-type {\n",
       "        vertical-align: middle;\n",
       "    }\n",
       "\n",
       "    .dataframe tbody tr th {\n",
       "        vertical-align: top;\n",
       "    }\n",
       "\n",
       "    .dataframe thead th {\n",
       "        text-align: right;\n",
       "    }\n",
       "</style>\n",
       "<table border=\"1\" class=\"dataframe\">\n",
       "  <thead>\n",
       "    <tr style=\"text-align: right;\">\n",
       "      <th></th>\n",
       "      <th>username</th>\n",
       "      <th>id</th>\n",
       "      <th>app_name</th>\n",
       "      <th>category_price</th>\n",
       "      <th>n_categories</th>\n",
       "    </tr>\n",
       "  </thead>\n",
       "  <tbody>\n",
       "    <tr>\n",
       "      <th>0</th>\n",
       "      <td>twitch.tv/miljoo</td>\n",
       "      <td>10</td>\n",
       "      <td>Counter-Strike</td>\n",
       "      <td>paid</td>\n",
       "      <td>1980s    1990s    action    assassin    clas...</td>\n",
       "    </tr>\n",
       "    <tr>\n",
       "      <th>1</th>\n",
       "      <td>[NC] Cake</td>\n",
       "      <td>10</td>\n",
       "      <td>Counter-Strike</td>\n",
       "      <td>paid</td>\n",
       "      <td>1980s    1990s    action    assassin    clas...</td>\n",
       "    </tr>\n",
       "    <tr>\n",
       "      <th>2</th>\n",
       "      <td>Matuzka</td>\n",
       "      <td>10</td>\n",
       "      <td>Counter-Strike</td>\n",
       "      <td>paid</td>\n",
       "      <td>1980s    1990s    action    assassin    clas...</td>\n",
       "    </tr>\n",
       "    <tr>\n",
       "      <th>3</th>\n",
       "      <td>smselby27</td>\n",
       "      <td>10</td>\n",
       "      <td>Counter-Strike</td>\n",
       "      <td>paid</td>\n",
       "      <td>1980s    1990s    action    assassin    clas...</td>\n",
       "    </tr>\n",
       "    <tr>\n",
       "      <th>4</th>\n",
       "      <td>japa</td>\n",
       "      <td>10</td>\n",
       "      <td>Counter-Strike</td>\n",
       "      <td>paid</td>\n",
       "      <td>1980s    1990s    action    assassin    clas...</td>\n",
       "    </tr>\n",
       "  </tbody>\n",
       "</table>\n",
       "</div>"
      ],
      "text/plain": [
       "           username  id        app_name category_price  \\\n",
       "0  twitch.tv/miljoo  10  Counter-Strike           paid   \n",
       "1         [NC] Cake  10  Counter-Strike           paid   \n",
       "2           Matuzka  10  Counter-Strike           paid   \n",
       "3         smselby27  10  Counter-Strike           paid   \n",
       "4              japa  10  Counter-Strike           paid   \n",
       "\n",
       "                                        n_categories  \n",
       "0    1980s    1990s    action    assassin    clas...  \n",
       "1    1980s    1990s    action    assassin    clas...  \n",
       "2    1980s    1990s    action    assassin    clas...  \n",
       "3    1980s    1990s    action    assassin    clas...  \n",
       "4    1980s    1990s    action    assassin    clas...  "
      ]
     },
     "execution_count": 116,
     "metadata": {},
     "output_type": "execute_result"
    }
   ],
   "source": [
    "Df.head()"
   ]
  },
  {
   "cell_type": "code",
   "execution_count": 117,
   "metadata": {},
   "outputs": [],
   "source": [
    "#Fraccionamos el Dataframe para no hacerlo tan pesado en la carga.\n",
    "df = Df.sample(frac=0.0001)\n",
    "df = df.reset_index(drop=True)"
   ]
  },
  {
   "cell_type": "code",
   "execution_count": 118,
   "metadata": {},
   "outputs": [
    {
     "name": "stdout",
     "output_type": "stream",
     "text": [
      "(280, 5)\n"
     ]
    }
   ],
   "source": [
    "print(df.shape)"
   ]
  },
  {
   "cell_type": "code",
   "execution_count": 119,
   "metadata": {},
   "outputs": [],
   "source": [
    "#importamos la librería stop_word, para realizar procesamiento de lenguaje natural de la columna 'categories'\n",
    "from stop_words import get_stop_words\n",
    "stop_words = get_stop_words ('english')"
   ]
  },
  {
   "cell_type": "code",
   "execution_count": 120,
   "metadata": {},
   "outputs": [],
   "source": [
    "#Importamos también las librerías necesarias de sklearn\n",
    "from sklearn.feature_extraction.text import CountVectorizer\n",
    "vectorizer = CountVectorizer()"
   ]
  },
  {
   "cell_type": "code",
   "execution_count": 121,
   "metadata": {},
   "outputs": [],
   "source": [
    "from sklearn.feature_extraction.text import TfidfVectorizer"
   ]
  },
  {
   "cell_type": "code",
   "execution_count": 122,
   "metadata": {},
   "outputs": [],
   "source": [
    "# Creo la matriz de frecuencia Vectorizo y aplico fit_transform a la columna 'categories' para evaluar cada uno de los vectores\n",
    "vectorizer=TfidfVectorizer()\n",
    "X_Tfidf = vectorizer.fit_transform(df['n_categories'])"
   ]
  },
  {
   "cell_type": "code",
   "execution_count": 123,
   "metadata": {},
   "outputs": [
    {
     "name": "stdout",
     "output_type": "stream",
     "text": [
      "(280, 332)\n"
     ]
    }
   ],
   "source": [
    "print(X_Tfidf.shape)"
   ]
  },
  {
   "cell_type": "markdown",
   "metadata": {},
   "source": [
    "Ahora comenzamos a trabajar con similaridad coseno"
   ]
  },
  {
   "cell_type": "code",
   "execution_count": 124,
   "metadata": {},
   "outputs": [],
   "source": [
    "from sklearn.metrics.pairwise import linear_kernel\n",
    "cosine_sim = linear_kernel(X_Tfidf,X_Tfidf)"
   ]
  },
  {
   "cell_type": "code",
   "execution_count": 125,
   "metadata": {},
   "outputs": [],
   "source": [
    "indices = pd.Series(df.index, index = df['app_name']).drop_duplicates()\n",
    "\n",
    "df = df.dropna()"
   ]
  },
  {
   "cell_type": "code",
   "execution_count": 126,
   "metadata": {},
   "outputs": [
    {
     "name": "stdout",
     "output_type": "stream",
     "text": [
      "Tu SeleccionasteMuv-Luvy tus recomendaciones son:\n",
      "142      Trick and Treat - Visual Novel\n",
      "144      Trick and Treat - Visual Novel\n",
      "215    AKIBA'S TRIP: Undead ＆ Undressed\n",
      "216           Always Sometimes Monsters\n",
      "Name: app_name, dtype: object\n"
     ]
    }
   ],
   "source": [
    "#Defino una función que tome los scores similares de acuerdo a la similaridad coseno e imprima la recomendación:\n",
    "\n",
    "def get_recomenndations (app_name, cosine_sim = cosine_sim):\n",
    "    idx = indices [app_name]\n",
    "    sim_scores = list(enumerate(cosine_sim[idx]))\n",
    "    sim_scores = sorted(sim_scores, key = lambda x: x[1], reverse = True)\n",
    "    sim_scores = sim_scores [1:5]\n",
    "    games_indices = [i[0]for i in sim_scores]\n",
    "    return df['app_name'].iloc[games_indices]\n",
    "games = str(df.iloc[3]['app_name'])\n",
    "print ('Tu Seleccionaste' + games + 'y tus recomendaciones son:')\n",
    "print (get_recomenndations(games))"
   ]
  },
  {
   "cell_type": "markdown",
   "metadata": {},
   "source": [
    "## Surprise"
   ]
  },
  {
   "cell_type": "code",
   "execution_count": 127,
   "metadata": {},
   "outputs": [],
   "source": [
    "from tqdm.notebook import tqdm\n",
    "from surprise.model_selection import cross_validate, RandomizedSearchCV, train_test_split\n",
    "from surprise.reader import Reader\n",
    "from surprise import Dataset\n",
    "from surprise import SVD"
   ]
  },
  {
   "cell_type": "code",
   "execution_count": 128,
   "metadata": {},
   "outputs": [
    {
     "data": {
      "text/plain": [
       "Index(['username', 'hours', 'product_id', 'date', 'text'], dtype='object')"
      ]
     },
     "execution_count": 128,
     "metadata": {},
     "output_type": "execute_result"
    }
   ],
   "source": [
    "data_reviews.columns"
   ]
  },
  {
   "cell_type": "code",
   "execution_count": 129,
   "metadata": {},
   "outputs": [],
   "source": [
    "indices1 = pd.Series(data_reviews.index, index = data_reviews['hours']).drop_duplicates()\n",
    "\n"
   ]
  },
  {
   "cell_type": "code",
   "execution_count": 130,
   "metadata": {},
   "outputs": [
    {
     "data": {
      "text/plain": [
       "(3681082, 5)"
      ]
     },
     "execution_count": 130,
     "metadata": {},
     "output_type": "execute_result"
    }
   ],
   "source": [
    "data_reviews.shape"
   ]
  },
  {
   "cell_type": "code",
   "execution_count": 131,
   "metadata": {
    "ExecuteTime": {
     "end_time": "2021-04-04T19:18:28.636382Z",
     "start_time": "2021-04-04T19:18:28.618384Z"
    }
   },
   "outputs": [],
   "source": [
    "def get_ratings_by_group(dataframe):\n",
    "    '''\n",
    "    Parameters:\n",
    "    dataframe: Dataframe must include columns: product_id and hours\n",
    "    Return:\n",
    "    Return list of dataframe representing groups of items.\n",
    "    '''\n",
    "    ratings = []\n",
    "    for product_id, group in tqdm(dataframe.groupby('product_id')):\n",
    "        group['f'] = group['hours'] / group['hours'].sum() #Frequencies\n",
    "        group = group.sort_values('f', ascending=False)\n",
    "        group['f'] = group['f'].shift(fill_value=0).cumsum()\n",
    "        group['f'] = 4*(1 - group['f']) + 1\n",
    "        ratings.append(group)\n",
    "    return ratings"
   ]
  },
  {
   "cell_type": "code",
   "execution_count": 132,
   "metadata": {},
   "outputs": [
    {
     "data": {
      "application/vnd.jupyter.widget-view+json": {
       "model_id": "ef0705bdca4a43f59cc6081afff00aca",
       "version_major": 2,
       "version_minor": 0
      },
      "text/plain": [
       "  0%|          | 0/14970 [00:00<?, ?it/s]"
      ]
     },
     "metadata": {},
     "output_type": "display_data"
    }
   ],
   "source": [
    "ratings = pd.concat(get_ratings_by_group(data_reviews))"
   ]
  },
  {
   "cell_type": "code",
   "execution_count": 133,
   "metadata": {},
   "outputs": [
    {
     "data": {
      "text/html": [
       "<div>\n",
       "<style scoped>\n",
       "    .dataframe tbody tr th:only-of-type {\n",
       "        vertical-align: middle;\n",
       "    }\n",
       "\n",
       "    .dataframe tbody tr th {\n",
       "        vertical-align: top;\n",
       "    }\n",
       "\n",
       "    .dataframe thead th {\n",
       "        text-align: right;\n",
       "    }\n",
       "</style>\n",
       "<table border=\"1\" class=\"dataframe\">\n",
       "  <thead>\n",
       "    <tr style=\"text-align: right;\">\n",
       "      <th></th>\n",
       "      <th>username</th>\n",
       "      <th>hours</th>\n",
       "      <th>product_id</th>\n",
       "      <th>date</th>\n",
       "      <th>text</th>\n",
       "      <th>f</th>\n",
       "    </tr>\n",
       "  </thead>\n",
       "  <tbody>\n",
       "    <tr>\n",
       "      <th>1952522</th>\n",
       "      <td>GIANI VERSACE</td>\n",
       "      <td>4660.8</td>\n",
       "      <td>10</td>\n",
       "      <td>2017-12-28</td>\n",
       "      <td>BEST GAME EVER !</td>\n",
       "      <td>5.000000</td>\n",
       "    </tr>\n",
       "    <tr>\n",
       "      <th>1952966</th>\n",
       "      <td>-NiP-fQrest -A-</td>\n",
       "      <td>4452.8</td>\n",
       "      <td>10</td>\n",
       "      <td>2017-12-27</td>\n",
       "      <td>Y</td>\n",
       "      <td>4.556257</td>\n",
       "    </tr>\n",
       "    <tr>\n",
       "      <th>1953188</th>\n",
       "      <td>^DeaLer</td>\n",
       "      <td>3331.8</td>\n",
       "      <td>10</td>\n",
       "      <td>2017-12-25</td>\n",
       "      <td>Pekne :))</td>\n",
       "      <td>4.132317</td>\n",
       "    </tr>\n",
       "    <tr>\n",
       "      <th>1950698</th>\n",
       "      <td>DAMMescu</td>\n",
       "      <td>2700.0</td>\n",
       "      <td>10</td>\n",
       "      <td>2018-01-03</td>\n",
       "      <td>The greatest shooter of all times! &lt;3 :D</td>\n",
       "      <td>3.815105</td>\n",
       "    </tr>\n",
       "    <tr>\n",
       "      <th>1953185</th>\n",
       "      <td>KWC | Babban</td>\n",
       "      <td>2597.9</td>\n",
       "      <td>10</td>\n",
       "      <td>2017-12-26</td>\n",
       "      <td>Crazy game</td>\n",
       "      <td>3.558044</td>\n",
       "    </tr>\n",
       "    <tr>\n",
       "      <th>1950378</th>\n",
       "      <td>laki.k@n</td>\n",
       "      <td>2464.9</td>\n",
       "      <td>10</td>\n",
       "      <td>2018-01-04</td>\n",
       "      <td>Game for all times!</td>\n",
       "      <td>3.310705</td>\n",
       "    </tr>\n",
       "    <tr>\n",
       "      <th>1950777</th>\n",
       "      <td>LEOZERA -Hero.Challenge-</td>\n",
       "      <td>2305.6</td>\n",
       "      <td>10</td>\n",
       "      <td>2018-01-02</td>\n",
       "      <td>topzera</td>\n",
       "      <td>3.076028</td>\n",
       "    </tr>\n",
       "    <tr>\n",
       "      <th>1950377</th>\n",
       "      <td>☢ Анђеo ☢</td>\n",
       "      <td>1609.0</td>\n",
       "      <td>10</td>\n",
       "      <td>2018-01-04</td>\n",
       "      <td>Game for all times !</td>\n",
       "      <td>2.856518</td>\n",
       "    </tr>\n",
       "    <tr>\n",
       "      <th>1950458</th>\n",
       "      <td>Alone~</td>\n",
       "      <td>1598.4</td>\n",
       "      <td>10</td>\n",
       "      <td>2018-01-04</td>\n",
       "      <td>It was the best game ever &lt;3 my childhood was ...</td>\n",
       "      <td>2.703329</td>\n",
       "    </tr>\n",
       "    <tr>\n",
       "      <th>1951943</th>\n",
       "      <td>japa</td>\n",
       "      <td>1360.7</td>\n",
       "      <td>10</td>\n",
       "      <td>2017-12-29</td>\n",
       "      <td>best game ever !</td>\n",
       "      <td>2.551149</td>\n",
       "    </tr>\n",
       "  </tbody>\n",
       "</table>\n",
       "</div>"
      ],
      "text/plain": [
       "                         username   hours  product_id       date  \\\n",
       "1952522             GIANI VERSACE  4660.8          10 2017-12-28   \n",
       "1952966           -NiP-fQrest -A-  4452.8          10 2017-12-27   \n",
       "1953188                   ^DeaLer  3331.8          10 2017-12-25   \n",
       "1950698                  DAMMescu  2700.0          10 2018-01-03   \n",
       "1953185              KWC | Babban  2597.9          10 2017-12-26   \n",
       "1950378                  laki.k@n  2464.9          10 2018-01-04   \n",
       "1950777  LEOZERA -Hero.Challenge-  2305.6          10 2018-01-02   \n",
       "1950377                 ☢ Анђеo ☢  1609.0          10 2018-01-04   \n",
       "1950458                    Alone~  1598.4          10 2018-01-04   \n",
       "1951943                      japa  1360.7          10 2017-12-29   \n",
       "\n",
       "                                                      text         f  \n",
       "1952522                                   BEST GAME EVER !  5.000000  \n",
       "1952966                                                  Y  4.556257  \n",
       "1953188                                          Pekne :))  4.132317  \n",
       "1950698           The greatest shooter of all times! <3 :D  3.815105  \n",
       "1953185                                         Crazy game  3.558044  \n",
       "1950378                                Game for all times!  3.310705  \n",
       "1950777                                            topzera  3.076028  \n",
       "1950377                               Game for all times !  2.856518  \n",
       "1950458  It was the best game ever <3 my childhood was ...  2.703329  \n",
       "1951943                                   best game ever !  2.551149  "
      ]
     },
     "execution_count": 133,
     "metadata": {},
     "output_type": "execute_result"
    }
   ],
   "source": [
    "ratings.head(10)"
   ]
  },
  {
   "cell_type": "code",
   "execution_count": 134,
   "metadata": {},
   "outputs": [
    {
     "data": {
      "text/plain": [
       "username      0\n",
       "hours         0\n",
       "product_id    0\n",
       "date          0\n",
       "text          0\n",
       "f             3\n",
       "dtype: int64"
      ]
     },
     "execution_count": 134,
     "metadata": {},
     "output_type": "execute_result"
    }
   ],
   "source": [
    "ratings.isna().sum()"
   ]
  },
  {
   "cell_type": "code",
   "execution_count": 135,
   "metadata": {},
   "outputs": [
    {
     "name": "stdout",
     "output_type": "stream",
     "text": [
      "username              object\n",
      "hours                float64\n",
      "product_id             int64\n",
      "date          datetime64[ns]\n",
      "text                  object\n",
      "f                    float32\n",
      "dtype: object\n"
     ]
    }
   ],
   "source": [
    "#Reduzco el uso de memoria transformando a flotante de 32 bits\n",
    "ratings.f=ratings.f.astype('float32')\n",
    "print(ratings.dtypes)"
   ]
  },
  {
   "cell_type": "code",
   "execution_count": 136,
   "metadata": {},
   "outputs": [
    {
     "data": {
      "text/html": [
       "<div>\n",
       "<style scoped>\n",
       "    .dataframe tbody tr th:only-of-type {\n",
       "        vertical-align: middle;\n",
       "    }\n",
       "\n",
       "    .dataframe tbody tr th {\n",
       "        vertical-align: top;\n",
       "    }\n",
       "\n",
       "    .dataframe thead th {\n",
       "        text-align: right;\n",
       "    }\n",
       "</style>\n",
       "<table border=\"1\" class=\"dataframe\">\n",
       "  <thead>\n",
       "    <tr style=\"text-align: right;\">\n",
       "      <th></th>\n",
       "      <th>genres</th>\n",
       "      <th>app_name</th>\n",
       "      <th>release_date</th>\n",
       "      <th>id</th>\n",
       "      <th>publisher</th>\n",
       "      <th>url</th>\n",
       "      <th>categories</th>\n",
       "      <th>category_price</th>\n",
       "    </tr>\n",
       "  </thead>\n",
       "  <tbody>\n",
       "    <tr>\n",
       "      <th>18012</th>\n",
       "      <td>[Action]</td>\n",
       "      <td>Counter-Strike</td>\n",
       "      <td>2000-11-01</td>\n",
       "      <td>10</td>\n",
       "      <td>Valve</td>\n",
       "      <td>http://store.steampowered.com/app/10/CounterSt...</td>\n",
       "      <td>['1980s', '1990s', 'action', 'assassin', 'clas...</td>\n",
       "      <td>paid</td>\n",
       "    </tr>\n",
       "    <tr>\n",
       "      <th>18009</th>\n",
       "      <td>[Action]</td>\n",
       "      <td>Team Fortress Classic</td>\n",
       "      <td>1999-04-01</td>\n",
       "      <td>20</td>\n",
       "      <td>Valve</td>\n",
       "      <td>http://store.steampowered.com/app/20/Team_Fort...</td>\n",
       "      <td>['1990s', 'action', 'adventure', 'casual', 'cl...</td>\n",
       "      <td>paid</td>\n",
       "    </tr>\n",
       "    <tr>\n",
       "      <th>18020</th>\n",
       "      <td>[Action]</td>\n",
       "      <td>Day of Defeat</td>\n",
       "      <td>2003-05-01</td>\n",
       "      <td>30</td>\n",
       "      <td>Valve</td>\n",
       "      <td>http://store.steampowered.com/app/30/Day_of_De...</td>\n",
       "      <td>['action', 'classbased', 'classic', 'coop', 'f...</td>\n",
       "      <td>paid</td>\n",
       "    </tr>\n",
       "  </tbody>\n",
       "</table>\n",
       "</div>"
      ],
      "text/plain": [
       "         genres               app_name release_date  id publisher  \\\n",
       "18012  [Action]         Counter-Strike   2000-11-01  10     Valve   \n",
       "18009  [Action]  Team Fortress Classic   1999-04-01  20     Valve   \n",
       "18020  [Action]          Day of Defeat   2003-05-01  30     Valve   \n",
       "\n",
       "                                                     url  \\\n",
       "18012  http://store.steampowered.com/app/10/CounterSt...   \n",
       "18009  http://store.steampowered.com/app/20/Team_Fort...   \n",
       "18020  http://store.steampowered.com/app/30/Day_of_De...   \n",
       "\n",
       "                                              categories category_price  \n",
       "18012  ['1980s', '1990s', 'action', 'assassin', 'clas...           paid  \n",
       "18009  ['1990s', 'action', 'adventure', 'casual', 'cl...           paid  \n",
       "18020  ['action', 'classbased', 'classic', 'coop', 'f...           paid  "
      ]
     },
     "execution_count": 136,
     "metadata": {},
     "output_type": "execute_result"
    }
   ],
   "source": [
    "data_games.head(3)"
   ]
  },
  {
   "cell_type": "code",
   "execution_count": 137,
   "metadata": {},
   "outputs": [
    {
     "data": {
      "text/plain": [
       "product_id\n",
       "10      1.267867\n",
       "20      1.150021\n",
       "30      1.247924\n",
       "40      1.208082\n",
       "50      1.544334\n",
       "          ...   \n",
       "3300    1.411695\n",
       "3310    1.685827\n",
       "3320    1.457629\n",
       "3330    1.177839\n",
       "3340    1.530147\n",
       "Name: f, Length: 100, dtype: float32"
      ]
     },
     "execution_count": 137,
     "metadata": {},
     "output_type": "execute_result"
    }
   ],
   "source": [
    "# Agrupando por ID de videojuego, por cada grupo se obtiene el promedio de calificaciones\n",
    "mean_ratings = ratings[['product_id','f']].groupby('product_id').f.mean() #Serie\n",
    "mean_ratings.head(100)"
   ]
  },
  {
   "cell_type": "code",
   "execution_count": 139,
   "metadata": {},
   "outputs": [],
   "source": [
    "reader = Reader()"
   ]
  },
  {
   "cell_type": "code",
   "execution_count": 140,
   "metadata": {},
   "outputs": [],
   "source": [
    "dataset = Dataset.load_from_df(ratings[['username','product_id','f']], reader)"
   ]
  },
  {
   "cell_type": "code",
   "execution_count": 141,
   "metadata": {},
   "outputs": [],
   "source": [
    "# Separando el Dataset en train y test\n",
    "trainset, testset = train_test_split(dataset, random_state=42, shuffle=True)"
   ]
  },
  {
   "cell_type": "code",
   "execution_count": 142,
   "metadata": {},
   "outputs": [],
   "source": [
    "svd = SVD(verbose=True, random_state=42)"
   ]
  },
  {
   "cell_type": "code",
   "execution_count": 143,
   "metadata": {},
   "outputs": [
    {
     "name": "stdout",
     "output_type": "stream",
     "text": [
      "Processing epoch 0\n",
      "Processing epoch 1\n",
      "Processing epoch 2\n",
      "Processing epoch 3\n",
      "Processing epoch 4\n",
      "Processing epoch 5\n",
      "Processing epoch 6\n",
      "Processing epoch 7\n",
      "Processing epoch 8\n",
      "Processing epoch 9\n",
      "Processing epoch 10\n",
      "Processing epoch 11\n",
      "Processing epoch 12\n",
      "Processing epoch 13\n",
      "Processing epoch 14\n",
      "Processing epoch 15\n",
      "Processing epoch 16\n",
      "Processing epoch 17\n",
      "Processing epoch 18\n",
      "Processing epoch 19\n"
     ]
    },
    {
     "data": {
      "text/plain": [
       "<surprise.prediction_algorithms.matrix_factorization.SVD at 0x23416d56220>"
      ]
     },
     "execution_count": 143,
     "metadata": {},
     "output_type": "execute_result"
    }
   ],
   "source": [
    "svd.fit(trainset)"
   ]
  },
  {
   "cell_type": "code",
   "execution_count": 144,
   "metadata": {},
   "outputs": [],
   "source": [
    "predictions = svd.test(testset)"
   ]
  },
  {
   "cell_type": "code",
   "execution_count": 145,
   "metadata": {},
   "outputs": [
    {
     "name": "stdout",
     "output_type": "stream",
     "text": [
      "user: M3M3S      item: 4000       r_ui = 2.62   est = 5.00   {'was_impossible': False}\n",
      "user: Maxwell    item: 366910     r_ui = 5.00   est = 5.00   {'was_impossible': False}\n",
      "user: Aleksa     item: 253710     r_ui = 1.00   est = 5.00   {'was_impossible': False}\n",
      "user: ExtraThicc item: 313120     r_ui = 1.00   est = 5.00   {'was_impossible': False}\n"
     ]
    }
   ],
   "source": [
    "for preds in np.random.randint(0, len(predictions), 4):\n",
    "    print(predictions[preds])"
   ]
  },
  {
   "cell_type": "code",
   "execution_count": 146,
   "metadata": {},
   "outputs": [
    {
     "data": {
      "text/html": [
       "<div>\n",
       "<style scoped>\n",
       "    .dataframe tbody tr th:only-of-type {\n",
       "        vertical-align: middle;\n",
       "    }\n",
       "\n",
       "    .dataframe tbody tr th {\n",
       "        vertical-align: top;\n",
       "    }\n",
       "\n",
       "    .dataframe thead th {\n",
       "        text-align: right;\n",
       "    }\n",
       "</style>\n",
       "<table border=\"1\" class=\"dataframe\">\n",
       "  <thead>\n",
       "    <tr style=\"text-align: right;\">\n",
       "      <th></th>\n",
       "      <th>username</th>\n",
       "      <th>hours</th>\n",
       "      <th>product_id</th>\n",
       "      <th>date</th>\n",
       "      <th>text</th>\n",
       "      <th>f</th>\n",
       "    </tr>\n",
       "  </thead>\n",
       "  <tbody>\n",
       "    <tr>\n",
       "      <th>1952522</th>\n",
       "      <td>GIANI VERSACE</td>\n",
       "      <td>4660.8</td>\n",
       "      <td>10</td>\n",
       "      <td>2017-12-28</td>\n",
       "      <td>BEST GAME EVER !</td>\n",
       "      <td>5.0</td>\n",
       "    </tr>\n",
       "  </tbody>\n",
       "</table>\n",
       "</div>"
      ],
      "text/plain": [
       "              username   hours  product_id       date              text    f\n",
       "1952522  GIANI VERSACE  4660.8          10 2017-12-28  BEST GAME EVER !  5.0"
      ]
     },
     "execution_count": 146,
     "metadata": {},
     "output_type": "execute_result"
    }
   ],
   "source": [
    "ratings[ratings.username=='GIANI VERSACE'].head(3)"
   ]
  },
  {
   "cell_type": "code",
   "execution_count": 147,
   "metadata": {},
   "outputs": [
    {
     "data": {
      "text/plain": [
       "Prediction(uid='GIANI VERSACE', iid=1952522, r_ui=None, est=5, details={'was_impossible': False})"
      ]
     },
     "execution_count": 147,
     "metadata": {},
     "output_type": "execute_result"
    }
   ],
   "source": [
    "svd.predict('GIANI VERSACE', 1952522)"
   ]
  },
  {
   "cell_type": "code",
   "execution_count": 148,
   "metadata": {},
   "outputs": [],
   "source": [
    "from surprise import accuracy"
   ]
  },
  {
   "cell_type": "code",
   "execution_count": 149,
   "metadata": {},
   "outputs": [
    {
     "name": "stdout",
     "output_type": "stream",
     "text": [
      "RMSE: nan\n"
     ]
    },
    {
     "data": {
      "text/plain": [
       "nan"
      ]
     },
     "execution_count": 149,
     "metadata": {},
     "output_type": "execute_result"
    }
   ],
   "source": [
    "accuracy.rmse(predictions, verbose=True)"
   ]
  },
  {
   "cell_type": "markdown",
   "metadata": {},
   "source": [
    "## Optimización Hiperparámetros"
   ]
  },
  {
   "cell_type": "code",
   "execution_count": 150,
   "metadata": {},
   "outputs": [
    {
     "data": {
      "application/vnd.jupyter.widget-view+json": {
       "model_id": "529d5bbdab104fc797bd747e0eae1617",
       "version_major": 2,
       "version_minor": 0
      },
      "text/plain": [
       "  0%|          | 0/4 [00:00<?, ?it/s]"
      ]
     },
     "metadata": {},
     "output_type": "display_data"
    },
    {
     "name": "stdout",
     "output_type": "stream",
     "text": [
      "RMSE: nan\n",
      "RMSE: nan\n",
      "RMSE: nan\n",
      "RMSE: nan\n"
     ]
    }
   ],
   "source": [
    "rmse_test = []\n",
    "factores = np.arange(1, 5)\n",
    "\n",
    "for i in tqdm(factores):\n",
    "    algo = SVD(n_factors=i).fit(trainset)\n",
    "    predict_test = algo.test(testset)\n",
    "    rmse_test.append(accuracy.rmse(predict_test))"
   ]
  },
  {
   "cell_type": "code",
   "execution_count": 151,
   "metadata": {},
   "outputs": [],
   "source": [
    "import seaborn as sns"
   ]
  },
  {
   "cell_type": "code",
   "execution_count": 152,
   "metadata": {},
   "outputs": [
    {
     "name": "stderr",
     "output_type": "stream",
     "text": [
      "C:\\Users\\sbertaina\\Miniconda3\\envs\\datascience\\lib\\site-packages\\seaborn\\_decorators.py:36: FutureWarning:\n",
      "\n",
      "Pass the following variables as keyword args: x, y. From version 0.12, the only valid positional argument will be `data`, and passing other arguments without an explicit keyword will result in an error or misinterpretation.\n",
      "\n"
     ]
    },
    {
     "data": {
      "text/plain": [
       "<AxesSubplot:xlabel='Factores', ylabel='RMSE'>"
      ]
     },
     "execution_count": 152,
     "metadata": {},
     "output_type": "execute_result"
    },
    {
     "data": {
      "image/png": "[encoded data removed]",
      "text/plain": [
       "<Figure size 432x288 with 1 Axes>"
      ]
     },
     "metadata": {
      "needs_background": "light"
     },
     "output_type": "display_data"
    }
   ],
   "source": [
    "plt.xlabel('Factores')\n",
    "plt.ylabel('RMSE')\n",
    "sns.set()\n",
    "sns.scatterplot(factores, rmse_test)"
   ]
  },
  {
   "cell_type": "code",
   "execution_count": 153,
   "metadata": {},
   "outputs": [
    {
     "name": "stdout",
     "output_type": "stream",
     "text": [
      "RMSE con 1 factor nan\n"
     ]
    }
   ],
   "source": [
    "print('RMSE con 1 factor', rmse_test[0])"
   ]
  },
  {
   "cell_type": "markdown",
   "metadata": {},
   "source": [
    "Como conclusión, una vez estudiado el estado del arte, pude realizar el EDA correspondiente, relicé las preguntas que me parecían interesantes, apliqué indice similaridad coseno para la matriz, de manera que pude predecir, en base a procesamiento de lenguaje natural, similitudes entre los juegos, y definí una función que prediga en base al juego que seleccionaba el jugador, y sus gustos 5 juegos.\n",
    "También pude generar una evaluación del puntaje asignado a cada juego en función de las horas jugadas por los distintos jugadores y un puntaje asignado por el mismo."
   ]
  },
  {
   "cell_type": "markdown",
   "metadata": {},
   "source": [
    "Para pensar, investigar y, opcionalmente, implementar\n",
    "¿Cómo harías para ponerle un valor a la calificación?\n",
    "¿Cómo harías para agregar contenido? Por ejemplo, cuentas con el género, precio, fecha de lanzamiento y más información de los juegos.\n",
    "¿Hay algo que te gustaría investigar o probar?\n",
    "\n",
    "## PARTE C - Próximos pasos\n",
    "\n",
    "### Rehacer. Agregar preguntas extras a responder con el dataset, indicando que metodología seguiría para implementarlo.\n",
    "## PARTE C - Resultados esperados\n",
    "\n",
    "### Rehacer. Para el nuevo problema a resolver, indicar que se espera obtener como resultado una vez implementado.\n",
    "\n",
    "En función a la devolución recibida, envío la resolución que a mi parecer resulta faltante.\n",
    "\n",
    "Preguntas extras a responder con el Dataset:\n",
    "Cuando se produce la mayoría de lanzamientos de videojuegos cada año en las plataformas.\n",
    "Cuantos videojuegos se han publicados por año\n",
    "Como fue el Crecimiento de lanzamiento de los mismos.  \n",
    "Cuando se produce el mayor tiempo de juego de los usuarios.\n",
    "\n",
    "Lo que se busca responder es cual es el momento ideal para lanzar un videojuego y cuando hacer las promociones de descuentos en función de los momentos que crece con mayor fuerza la cantidad de horas jugadas para maximizar los ingresos.\n",
    "\n"
   ]
  },
  {
   "cell_type": "markdown",
   "metadata": {},
   "source": [
    "Realicemos un relevamiento de horas faltantes Las mismas representan el 0.37 del total de datos del dataframe, por lo tanto, con calcular el promedio de cada usuario sería una buen medida para imputarles a cada uno de ellos esas horas. Esto nos permitirá determinar las horas de todos los jugadores."
   ]
  },
  {
   "cell_type": "code",
   "execution_count": 194,
   "metadata": {},
   "outputs": [],
   "source": [
    "ordinalCategories = OrdinalEncoder(dtype=int).fit_transform(data_reviews[['username', 'product_id']])\n",
    "X = np.c_[ordinalCategories, data_reviews.hours]\n",
    "                                                            \n",
    "data_imputed = IterativeImputer(random_state=42).fit_transform(X)"
   ]
  },
  {
   "cell_type": "code",
   "execution_count": 195,
   "metadata": {},
   "outputs": [],
   "source": [
    "# Reemplazado valores imputados en la serie\n",
    "data_reviews.hours = data_imputed[:,2]"
   ]
  },
  {
   "cell_type": "markdown",
   "metadata": {},
   "source": [
    "#### Procesamiento de fecha de lanzamiento"
   ]
  },
  {
   "cell_type": "markdown",
   "metadata": {},
   "source": [
    "En éste apartado, se transformarán algunas fechas del dataset de videojuegos al formato correcto, la columna release_date además de contener fechas de tipo datetime y valores faltantes, tiene valores categóricos del cual es posible convertirlos a datetime gracias a que algunos de ellos siguen el mismo patrón o comportamiento. \n",
    "Para el dataset de utilidades, no será necesario éste tipo de tratamiento."
   ]
  },
  {
   "cell_type": "code",
   "execution_count": 158,
   "metadata": {},
   "outputs": [
    {
     "data": {
      "text/plain": [
       "2017-10-31    47\n",
       "2017-12-01    44\n",
       "2017-09-01    42\n",
       "2017-09-15    40\n",
       "2017-12-15    40\n",
       "              ..\n",
       "2005-05-01     1\n",
       "2008-03-19     1\n",
       "2008-08-31     1\n",
       "2011-01-28     1\n",
       "1996-06-17     1\n",
       "Name: release_date, Length: 3136, dtype: int64"
      ]
     },
     "execution_count": 158,
     "metadata": {},
     "output_type": "execute_result"
    }
   ],
   "source": [
    "data_games.release_date.value_counts()"
   ]
  },
  {
   "cell_type": "markdown",
   "metadata": {},
   "source": [
    "La siguiente función servirá para obtener aquellos valores que no corresponden a fechas válidas para poder examinar los valores categóricos:"
   ]
  },
  {
   "cell_type": "code",
   "execution_count": 159,
   "metadata": {},
   "outputs": [],
   "source": [
    "def isDateValid(x): \n",
    "    try:\n",
    "        return datetime.datetime.strptime(x, '%Y-%m-%d')        \n",
    "    except:\n",
    "        return False"
   ]
  },
  {
   "cell_type": "code",
   "execution_count": 160,
   "metadata": {},
   "outputs": [
    {
     "data": {
      "text/plain": [
       "0                Feb 2011\n",
       "1                Jul 2010\n",
       "2                Jun 2009\n",
       "3                Jan 2010\n",
       "4                Jun 2009\n",
       "              ...        \n",
       "231                  Soon\n",
       "232                Soon..\n",
       "233          January 2018\n",
       "234    Please wait warmly\n",
       "235               H2 2018\n",
       "Name: release_date, Length: 236, dtype: object"
      ]
     },
     "execution_count": 160,
     "metadata": {},
     "output_type": "execute_result"
    }
   ],
   "source": [
    "invalid_date_games = data_games.query('release_date.notna()', engine='python')\n",
    "invalid_date_games = pd.DataFrame([i for i in invalid_date_games.itertuples() \n",
    "                                   if not isDateValid(i.release_date)])\n",
    "invalid_date_games.release_date"
   ]
  },
  {
   "cell_type": "markdown",
   "metadata": {},
   "source": [
    "De las categorías mostradas, las que tienen el nombre del mes (completo o abreviado) y año es posible convertirlas. El nombre de la temporada y el año presentan el mismo caso. **Ejemplos: Nov 2020, November 2020, Winter 2020, Summer 2020...**"
   ]
  },
  {
   "cell_type": "markdown",
   "metadata": {},
   "source": [
    "* Para empezar, la función a continuación retorna el número del mes basado en el nombre, gracias a una de las librerías incluidas en Python."
   ]
  },
  {
   "cell_type": "code",
   "execution_count": 161,
   "metadata": {},
   "outputs": [],
   "source": [
    "def get_month(month):\n",
    "    if len(month) > 3:\n",
    "        return strptime(month, '%B').tm_mon\n",
    "    else:\n",
    "        return strptime(month, '%b').tm_mon"
   ]
  },
  {
   "cell_type": "code",
   "execution_count": 162,
   "metadata": {},
   "outputs": [
    {
     "name": "stdout",
     "output_type": "stream",
     "text": [
      "Noviembre: 11\n",
      "Noviembre: 11\n",
      "Abril: 4\n",
      "Abril: 4\n"
     ]
    }
   ],
   "source": [
    "print('Noviembre:', get_month('Nov'))\n",
    "print('Noviembre:', get_month('November'))\n",
    "print('Abril:', get_month('Apr'))\n",
    "print('Abril:', get_month('April'))"
   ]
  },
  {
   "cell_type": "markdown",
   "metadata": {},
   "source": [
    "* Ésta función obtiene una fecha como variable categórica y la transforma a datetime, si no corresponde al patron detectado la convierte a valor faltante. El resto de fechas no están definidas por un comportamiento, por lo tanto no es posible transformarlas una por una, y son mas de 100 categorías."
   ]
  },
  {
   "cell_type": "code",
   "execution_count": 163,
   "metadata": {},
   "outputs": [],
   "source": [
    "def get_date(date_sring):\n",
    "    try:\n",
    "        #Las temporadas se definirarán según el país, en éste caso es Estados Unidos. \n",
    "        #El diccionario contiene el nombre de la temporada y el mes en que inicia:\n",
    "        SEASONS = {'Winter': 12, 'Summer': 7, 'Fall': 10, 'Spring': 4}\n",
    "        sep = date_sring.split()\n",
    "        # Primero verifica si es una temporada\n",
    "        if sep[0] in SEASONS.keys():\n",
    "            return datetime.datetime(year=int(sep[1]), month=SEASONS.get(sep[0]), day=1).date()\n",
    "\n",
    "        # Sino, utiliza la función anterior para obtener el número del mes a partir del nombre.\n",
    "        return datetime.datetime(year=int(sep[1]), month=get_month(sep[0]), day=1).date()\n",
    "    except:\n",
    "        # Retorna valor faltante si no se cumplen los dos casos, no es posible hacer más magia!!\n",
    "        return np.nan"
   ]
  },
  {
   "cell_type": "code",
   "execution_count": 164,
   "metadata": {},
   "outputs": [
    {
     "name": "stdout",
     "output_type": "stream",
     "text": [
      "Noviembre 2020-11-01\n",
      "Noviembre 2020-11-01\n",
      "Verano 2020-07-01\n",
      "Winter 2020-12-01\n"
     ]
    }
   ],
   "source": [
    "print('Noviembre', get_date('Nov 2020'))\n",
    "print('Noviembre', get_date('November 2020'))\n",
    "print('Verano', get_date('Summer 2020'))\n",
    "print('Winter', get_date('Winter 2020'))"
   ]
  },
  {
   "cell_type": "markdown",
   "metadata": {},
   "source": [
    "* Transformando fechas categóricas:\n"
   ]
  },
  {
   "cell_type": "code",
   "execution_count": 165,
   "metadata": {},
   "outputs": [
    {
     "data": {
      "text/plain": [
       "0      2011-02-01\n",
       "1      2010-07-01\n",
       "2      2009-06-01\n",
       "3      2010-01-01\n",
       "4      2009-06-01\n",
       "          ...    \n",
       "231           nan\n",
       "232           nan\n",
       "233    2018-01-01\n",
       "234           nan\n",
       "235           nan\n",
       "Name: release_date, Length: 236, dtype: object"
      ]
     },
     "execution_count": 165,
     "metadata": {},
     "output_type": "execute_result"
    }
   ],
   "source": [
    "invalid_date_games.release_date = invalid_date_games.release_date.apply(lambda x: f'{get_date(x)}')\n",
    "invalid_date_games.release_date"
   ]
  },
  {
   "cell_type": "markdown",
   "metadata": {},
   "source": [
    "* Aplicando cambios sobre el dataframe original"
   ]
  },
  {
   "cell_type": "code",
   "execution_count": 166,
   "metadata": {},
   "outputs": [],
   "source": [
    "invalid_idx = invalid_date_games.Index.values\n",
    "data_games.loc[invalid_idx,\n",
    "               'release_date'] = invalid_date_games.release_date.values"
   ]
  },
  {
   "cell_type": "markdown",
   "metadata": {},
   "source": [
    "* Verificando los cambios en los índices donde previamente existían éstas categorías:"
   ]
  },
  {
   "cell_type": "code",
   "execution_count": 167,
   "metadata": {},
   "outputs": [
    {
     "data": {
      "text/html": [
       "<div>\n",
       "<style scoped>\n",
       "    .dataframe tbody tr th:only-of-type {\n",
       "        vertical-align: middle;\n",
       "    }\n",
       "\n",
       "    .dataframe tbody tr th {\n",
       "        vertical-align: top;\n",
       "    }\n",
       "\n",
       "    .dataframe thead th {\n",
       "        text-align: right;\n",
       "    }\n",
       "</style>\n",
       "<table border=\"1\" class=\"dataframe\">\n",
       "  <thead>\n",
       "    <tr style=\"text-align: right;\">\n",
       "      <th></th>\n",
       "      <th>genres</th>\n",
       "      <th>app_name</th>\n",
       "      <th>release_date</th>\n",
       "      <th>id</th>\n",
       "      <th>publisher</th>\n",
       "      <th>url</th>\n",
       "      <th>categories</th>\n",
       "      <th>category_price</th>\n",
       "    </tr>\n",
       "  </thead>\n",
       "  <tbody>\n",
       "    <tr>\n",
       "      <th>520</th>\n",
       "      <td>[Racing]</td>\n",
       "      <td>Test Drive Unlimited 2</td>\n",
       "      <td>2011-02-01</td>\n",
       "      <td>9930</td>\n",
       "      <td>Atari</td>\n",
       "      <td>http://store.steampowered.com/app/9930/Test_Dr...</td>\n",
       "      <td>['action', 'adventure', 'arcade', 'atmospheric...</td>\n",
       "      <td>paid</td>\n",
       "    </tr>\n",
       "    <tr>\n",
       "      <th>17404</th>\n",
       "      <td>[Action]</td>\n",
       "      <td>Aliens vs Predator™ Bughunt Map Pack</td>\n",
       "      <td>2010-07-01</td>\n",
       "      <td>10697</td>\n",
       "      <td>SEGA</td>\n",
       "      <td>http://store.steampowered.com/app/10697/Aliens...</td>\n",
       "      <td>['action', 'coop', 'downloadable content', 'mu...</td>\n",
       "      <td>paid</td>\n",
       "    </tr>\n",
       "    <tr>\n",
       "      <th>17604</th>\n",
       "      <td>[Sports, Action]</td>\n",
       "      <td>Smashball</td>\n",
       "      <td>2009-06-01</td>\n",
       "      <td>17730</td>\n",
       "      <td>Smashball Labs LLC</td>\n",
       "      <td>http://store.steampowered.com/app/17730/Smashb...</td>\n",
       "      <td>['action', 'fps', 'free to play', 'mod', 'mods...</td>\n",
       "      <td>free</td>\n",
       "    </tr>\n",
       "    <tr>\n",
       "      <th>17467</th>\n",
       "      <td>[Strategy, Simulation]</td>\n",
       "      <td>Grand Ages: Rome - Reign of Augustus</td>\n",
       "      <td>2010-01-01</td>\n",
       "      <td>23455</td>\n",
       "      <td>Kalypso Media Digital</td>\n",
       "      <td>http://store.steampowered.com/app/23455/Grand_...</td>\n",
       "      <td>['city builder', 'historical', 'multiplayer', ...</td>\n",
       "      <td>paid</td>\n",
       "    </tr>\n",
       "    <tr>\n",
       "      <th>227</th>\n",
       "      <td>[Adventure, Indie]</td>\n",
       "      <td>Blueberry Garden</td>\n",
       "      <td>2009-06-01</td>\n",
       "      <td>29160</td>\n",
       "      <td>Erik Svedäng</td>\n",
       "      <td>http://store.steampowered.com/app/29160/Bluebe...</td>\n",
       "      <td>['adventure', 'indie', 'puzzle', 'short', 'sin...</td>\n",
       "      <td>paid</td>\n",
       "    </tr>\n",
       "  </tbody>\n",
       "</table>\n",
       "</div>"
      ],
      "text/plain": [
       "                       genres                              app_name  \\\n",
       "520                  [Racing]                Test Drive Unlimited 2   \n",
       "17404                [Action]  Aliens vs Predator™ Bughunt Map Pack   \n",
       "17604        [Sports, Action]                             Smashball   \n",
       "17467  [Strategy, Simulation]  Grand Ages: Rome - Reign of Augustus   \n",
       "227        [Adventure, Indie]                      Blueberry Garden   \n",
       "\n",
       "      release_date     id              publisher  \\\n",
       "520     2011-02-01   9930                  Atari   \n",
       "17404   2010-07-01  10697                   SEGA   \n",
       "17604   2009-06-01  17730     Smashball Labs LLC   \n",
       "17467   2010-01-01  23455  Kalypso Media Digital   \n",
       "227     2009-06-01  29160           Erik Svedäng   \n",
       "\n",
       "                                                     url  \\\n",
       "520    http://store.steampowered.com/app/9930/Test_Dr...   \n",
       "17404  http://store.steampowered.com/app/10697/Aliens...   \n",
       "17604  http://store.steampowered.com/app/17730/Smashb...   \n",
       "17467  http://store.steampowered.com/app/23455/Grand_...   \n",
       "227    http://store.steampowered.com/app/29160/Bluebe...   \n",
       "\n",
       "                                              categories category_price  \n",
       "520    ['action', 'adventure', 'arcade', 'atmospheric...           paid  \n",
       "17404  ['action', 'coop', 'downloadable content', 'mu...           paid  \n",
       "17604  ['action', 'fps', 'free to play', 'mod', 'mods...           free  \n",
       "17467  ['city builder', 'historical', 'multiplayer', ...           paid  \n",
       "227    ['adventure', 'indie', 'puzzle', 'short', 'sin...           paid  "
      ]
     },
     "execution_count": 167,
     "metadata": {},
     "output_type": "execute_result"
    }
   ],
   "source": [
    "data_games.loc[invalid_idx].head()"
   ]
  },
  {
   "cell_type": "markdown",
   "metadata": {},
   "source": [
    "Se ha completado el procedimiento de transformación de fecha de lanzamiento, con ésto es posible realizar un análisis exploratorio que conlleve Series de tiempo."
   ]
  },
  {
   "cell_type": "code",
   "execution_count": 168,
   "metadata": {},
   "outputs": [
    {
     "data": {
      "text/plain": [
       "genres               0\n",
       "app_name             1\n",
       "release_date      1614\n",
       "id                   0\n",
       "publisher         2915\n",
       "url                  0\n",
       "categories           0\n",
       "category_price       0\n",
       "dtype: int64"
      ]
     },
     "execution_count": 168,
     "metadata": {},
     "output_type": "execute_result"
    }
   ],
   "source": [
    "data_games.isna().sum()"
   ]
  },
  {
   "cell_type": "code",
   "execution_count": 174,
   "metadata": {},
   "outputs": [
    {
     "data": {
      "text/plain": [
       "genres            object\n",
       "app_name          object\n",
       "release_date      object\n",
       "id                 Int64\n",
       "publisher         object\n",
       "url               object\n",
       "categories        object\n",
       "category_price    object\n",
       "dtype: object"
      ]
     },
     "execution_count": 174,
     "metadata": {},
     "output_type": "execute_result"
    }
   ],
   "source": [
    "data_games.dtypes"
   ]
  },
  {
   "cell_type": "code",
   "execution_count": 175,
   "metadata": {},
   "outputs": [],
   "source": [
    "data_games['release_date'] = pd.to_datetime(data_games['release_date'], errors ='coerce')"
   ]
  },
  {
   "cell_type": "code",
   "execution_count": 176,
   "metadata": {},
   "outputs": [
    {
     "data": {
      "text/plain": [
       "genres                    object\n",
       "app_name                  object\n",
       "release_date      datetime64[ns]\n",
       "id                         Int64\n",
       "publisher                 object\n",
       "url                       object\n",
       "categories                object\n",
       "category_price            object\n",
       "dtype: object"
      ]
     },
     "execution_count": 176,
     "metadata": {},
     "output_type": "execute_result"
    }
   ],
   "source": [
    "data_games.dtypes"
   ]
  },
  {
   "cell_type": "code",
   "execution_count": 177,
   "metadata": {},
   "outputs": [],
   "source": [
    "# Creando nueva columna para nombre del mes\n",
    "games = data_games.assign(\n",
    "    month_name=data_games.release_date.dt.month_name(),\n",
    "    year=data_games.release_date.dt.year\n",
    ")"
   ]
  },
  {
   "cell_type": "code",
   "execution_count": 178,
   "metadata": {},
   "outputs": [],
   "source": [
    "# Frecuencia de cada mes\n",
    "games_month = games.month_name.value_counts()\n",
    "\n",
    "# Pasando objeto value_counts a DataFrame\n",
    "games_month = pd.DataFrame(\n",
    "    {'month_name': games_month.index, 'amount': games_month.values})\n",
    "\n",
    "# Creando el numero del mes\n",
    "games_month['n_month'] = pd.to_datetime(\n",
    "    games_month.month_name, format='%B', errors='coerce').dt.month\n",
    "\n",
    "# Ordenando por numero de mes\n",
    "games_month.sort_values(by='n_month', inplace=True)"
   ]
  },
  {
   "cell_type": "code",
   "execution_count": 179,
   "metadata": {},
   "outputs": [
    {
     "data": {
      "image/svg+xml": [
       "<svg xmlns=\"http://www.w3.org/2000/svg\" xmlns:xlink=\"http://www.w3.org/1999/xlink\" class=\"main-svg\" width=\"900\" height=\"500\" style=\"\" viewBox=\"0 0 900 500\"><rect x=\"0\" y=\"0\" width=\"900\" height=\"500\" style=\"fill: rgb(250, 250, 250); fill-opacity: 1;\"/><defs id=\"defs-0a2d68\"><g class=\"clips\"><clipPath id=\"clip0a2d68xyplot\" class=\"plotclip\"><rect width=\"740\" height=\"312\"/></clipPath><clipPath class=\"axesclip\" id=\"clip0a2d68x\"><rect x=\"80\" y=\"0\" width=\"740\" height=\"500\"/></clipPath><clipPath class=\"axesclip\" id=\"clip0a2d68y\"><rect x=\"0\" y=\"100\" width=\"900\" height=\"312\"/></clipPath><clipPath class=\"axesclip\" id=\"clip0a2d68xy\"><rect x=\"80\" y=\"100\" width=\"740\" height=\"312\"/></clipPath></g><g class=\"gradients\"/><g class=\"patterns\"/></defs><g class=\"bglayer\"><rect class=\"bg\" x=\"80\" y=\"100\" width=\"740\" height=\"312\" style=\"fill: rgb(229, 236, 246); fill-opacity: 1; stroke-width: 0;\"/></g><g class=\"layer-below\"><g class=\"imagelayer\"/><g class=\"shapelayer\"/></g><g class=\"cartesianlayer\"><g class=\"subplot xy\"><g class=\"layer-subplot\"><g class=\"shapelayer\"/><g class=\"imagelayer\"/></g><g class=\"gridlayer\"><g class=\"x\"><path class=\"xgrid crisp\" transform=\"translate(125.13,0)\" d=\"M0,100v312\" style=\"stroke: rgb(255, 255, 255); stroke-opacity: 1; stroke-width: 1px;\"/><path class=\"xgrid crisp\" transform=\"translate(184.19,0)\" d=\"M0,100v312\" style=\"stroke: rgb(255, 255, 255); stroke-opacity: 1; stroke-width: 1px;\"/><path class=\"xgrid crisp\" transform=\"translate(243.26,0)\" d=\"M0,100v312\" style=\"stroke: rgb(255, 255, 255); stroke-opacity: 1; stroke-width: 1px;\"/><path class=\"xgrid crisp\" transform=\"translate(302.33000000000004,0)\" d=\"M0,100v312\" style=\"stroke: rgb(255, 255, 255); stroke-opacity: 1; stroke-width: 1px;\"/><path class=\"xgrid crisp\" transform=\"translate(361.4,0)\" d=\"M0,100v312\" style=\"stroke: rgb(255, 255, 255); stroke-opacity: 1; stroke-width: 1px;\"/><path class=\"xgrid crisp\" transform=\"translate(420.47,0)\" d=\"M0,100v312\" style=\"stroke: rgb(255, 255, 255); stroke-opacity: 1; stroke-width: 1px;\"/><path class=\"xgrid crisp\" transform=\"translate(479.53,0)\" d=\"M0,100v312\" style=\"stroke: rgb(255, 255, 255); stroke-opacity: 1; stroke-width: 1px;\"/><path class=\"xgrid crisp\" transform=\"translate(538.6,0)\" d=\"M0,100v312\" style=\"stroke: rgb(255, 255, 255); stroke-opacity: 1; stroke-width: 1px;\"/><path class=\"xgrid crisp\" transform=\"translate(597.67,0)\" d=\"M0,100v312\" style=\"stroke: rgb(255, 255, 255); stroke-opacity: 1; stroke-width: 1px;\"/><path class=\"xgrid crisp\" transform=\"translate(656.74,0)\" d=\"M0,100v312\" style=\"stroke: rgb(255, 255, 255); stroke-opacity: 1; stroke-width: 1px;\"/><path class=\"xgrid crisp\" transform=\"translate(715.81,0)\" d=\"M0,100v312\" style=\"stroke: rgb(255, 255, 255); stroke-opacity: 1; stroke-width: 1px;\"/><path class=\"xgrid crisp\" transform=\"translate(774.88,0)\" d=\"M0,100v312\" style=\"stroke: rgb(255, 255, 255); stroke-opacity: 1; stroke-width: 1px;\"/></g><g class=\"y\"><path class=\"ygrid crisp\" transform=\"translate(0,395.9)\" d=\"M80,0h740\" style=\"stroke: rgb(255, 255, 255); stroke-opacity: 1; stroke-width: 1px;\"/><path class=\"ygrid crisp\" transform=\"translate(0,359.61)\" d=\"M80,0h740\" style=\"stroke: rgb(255, 255, 255); stroke-opacity: 1; stroke-width: 1px;\"/><path class=\"ygrid crisp\" transform=\"translate(0,323.32)\" d=\"M80,0h740\" style=\"stroke: rgb(255, 255, 255); stroke-opacity: 1; stroke-width: 1px;\"/><path class=\"ygrid crisp\" transform=\"translate(0,287.03)\" d=\"M80,0h740\" style=\"stroke: rgb(255, 255, 255); stroke-opacity: 1; stroke-width: 1px;\"/><path class=\"ygrid crisp\" transform=\"translate(0,250.74)\" d=\"M80,0h740\" style=\"stroke: rgb(255, 255, 255); stroke-opacity: 1; stroke-width: 1px;\"/><path class=\"ygrid crisp\" transform=\"translate(0,214.45)\" d=\"M80,0h740\" style=\"stroke: rgb(255, 255, 255); stroke-opacity: 1; stroke-width: 1px;\"/><path class=\"ygrid crisp\" transform=\"translate(0,178.16)\" d=\"M80,0h740\" style=\"stroke: rgb(255, 255, 255); stroke-opacity: 1; stroke-width: 1px;\"/><path class=\"ygrid crisp\" transform=\"translate(0,141.87)\" d=\"M80,0h740\" style=\"stroke: rgb(255, 255, 255); stroke-opacity: 1; stroke-width: 1px;\"/><path class=\"ygrid crisp\" transform=\"translate(0,105.58)\" d=\"M80,0h740\" style=\"stroke: rgb(255, 255, 255); stroke-opacity: 1; stroke-width: 1px;\"/></g></g><g class=\"zerolinelayer\"/><path class=\"xlines-below\"/><path class=\"ylines-below\"/><g class=\"overlines-below\"/><g class=\"xaxislayer-below\"/><g class=\"yaxislayer-below\"/><g class=\"overaxes-below\"/><g class=\"plot\" transform=\"translate(80,100)\" clip-path=\"url(#clip0a2d68xyplot)\"><g class=\"scatterlayer mlayer\"><g class=\"trace scatter trace59700a\" style=\"stroke-miterlimit: 2; opacity: 1;\"><g class=\"fills\"/><g class=\"errorbars\"/><g class=\"lines\"><path class=\"js-line\" d=\"M45.13,288.27L104.19,282.47L163.26,225.13L222.33,239.65L281.4,214.24L340.47,231.66L399.53,155.46L458.6,101.02L517.67,57.84L576.74,23.72L635.81,86.14L694.88,101.75\" style=\"vector-effect: non-scaling-stroke; fill: none; stroke: rgb(99, 110, 250); stroke-opacity: 1; stroke-width: 2px; opacity: 1;\"/></g><g class=\"points\"><path class=\"point\" transform=\"translate(45.13,288.27)\" d=\"M6.5,0A6.5,6.5 0 1,1 0,-6.5A6.5,6.5 0 0,1 6.5,0Z\" style=\"opacity: 0.7; stroke-width: 0px; fill: rgb(99, 110, 250); fill-opacity: 1;\"/><path class=\"point\" transform=\"translate(104.19,282.47)\" d=\"M6.5,0A6.5,6.5 0 1,1 0,-6.5A6.5,6.5 0 0,1 6.5,0Z\" style=\"opacity: 0.7; stroke-width: 0px; fill: rgb(99, 110, 250); fill-opacity: 1;\"/><path class=\"point\" transform=\"translate(163.26,225.13)\" d=\"M6.5,0A6.5,6.5 0 1,1 0,-6.5A6.5,6.5 0 0,1 6.5,0Z\" style=\"opacity: 0.7; stroke-width: 0px; fill: rgb(99, 110, 250); fill-opacity: 1;\"/><path class=\"point\" transform=\"translate(222.33,239.65)\" d=\"M6.5,0A6.5,6.5 0 1,1 0,-6.5A6.5,6.5 0 0,1 6.5,0Z\" style=\"opacity: 0.7; stroke-width: 0px; fill: rgb(99, 110, 250); fill-opacity: 1;\"/><path class=\"point\" transform=\"translate(281.4,214.24)\" d=\"M6.5,0A6.5,6.5 0 1,1 0,-6.5A6.5,6.5 0 0,1 6.5,0Z\" style=\"opacity: 0.7; stroke-width: 0px; fill: rgb(99, 110, 250); fill-opacity: 1;\"/><path class=\"point\" transform=\"translate(340.47,231.66)\" d=\"M6.5,0A6.5,6.5 0 1,1 0,-6.5A6.5,6.5 0 0,1 6.5,0Z\" style=\"opacity: 0.7; stroke-width: 0px; fill: rgb(99, 110, 250); fill-opacity: 1;\"/><path class=\"point\" transform=\"translate(399.53,155.46)\" d=\"M6.5,0A6.5,6.5 0 1,1 0,-6.5A6.5,6.5 0 0,1 6.5,0Z\" style=\"opacity: 0.7; stroke-width: 0px; fill: rgb(99, 110, 250); fill-opacity: 1;\"/><path class=\"point\" transform=\"translate(458.6,101.02)\" d=\"M6.5,0A6.5,6.5 0 1,1 0,-6.5A6.5,6.5 0 0,1 6.5,0Z\" style=\"opacity: 0.7; stroke-width: 0px; fill: rgb(99, 110, 250); fill-opacity: 1;\"/><path class=\"point\" transform=\"translate(517.67,57.84)\" d=\"M6.5,0A6.5,6.5 0 1,1 0,-6.5A6.5,6.5 0 0,1 6.5,0Z\" style=\"opacity: 0.7; stroke-width: 0px; fill: rgb(99, 110, 250); fill-opacity: 1;\"/><path class=\"point\" transform=\"translate(576.74,23.72)\" d=\"M6.5,0A6.5,6.5 0 1,1 0,-6.5A6.5,6.5 0 0,1 6.5,0Z\" style=\"opacity: 0.7; stroke-width: 0px; fill: rgb(99, 110, 250); fill-opacity: 1;\"/><path class=\"point\" transform=\"translate(635.81,86.14)\" d=\"M6.5,0A6.5,6.5 0 1,1 0,-6.5A6.5,6.5 0 0,1 6.5,0Z\" style=\"opacity: 0.7; stroke-width: 0px; fill: rgb(99, 110, 250); fill-opacity: 1;\"/><path class=\"point\" transform=\"translate(694.88,101.75)\" d=\"M6.5,0A6.5,6.5 0 1,1 0,-6.5A6.5,6.5 0 0,1 6.5,0Z\" style=\"opacity: 0.7; stroke-width: 0px; fill: rgb(99, 110, 250); fill-opacity: 1;\"/></g><g class=\"text\"/></g></g></g><g class=\"overplot\"/><path class=\"xlines-above crisp\" d=\"M0,0\" style=\"fill: none;\"/><path class=\"ylines-above crisp\" d=\"M0,0\" style=\"fill: none;\"/><g class=\"overlines-above\"/><g class=\"xaxislayer-above\"><g class=\"xtick\"><text text-anchor=\"start\" x=\"0\" y=\"425\" transform=\"translate(125.13,0) rotate(30,0,419)\" style=\"font-family: 'Open Sans', verdana, arial, sans-serif; font-size: 12px; fill: rgb(42, 63, 95); fill-opacity: 1; white-space: pre; opacity: 1;\">January</text></g><g class=\"xtick\"><text text-anchor=\"start\" x=\"0\" y=\"425\" transform=\"translate(184.19,0) rotate(30,0,419)\" style=\"font-family: 'Open Sans', verdana, arial, sans-serif; font-size: 12px; fill: rgb(42, 63, 95); fill-opacity: 1; white-space: pre; opacity: 1;\">February</text></g><g class=\"xtick\"><text text-anchor=\"start\" x=\"0\" y=\"425\" transform=\"translate(243.26,0) rotate(30,0,419)\" style=\"font-family: 'Open Sans', verdana, arial, sans-serif; font-size: 12px; fill: rgb(42, 63, 95); fill-opacity: 1; white-space: pre; opacity: 1;\">March</text></g><g class=\"xtick\"><text text-anchor=\"start\" x=\"0\" y=\"425\" transform=\"translate(302.33000000000004,0) rotate(30,0,419)\" style=\"font-family: 'Open Sans', verdana, arial, sans-serif; font-size: 12px; fill: rgb(42, 63, 95); fill-opacity: 1; white-space: pre; opacity: 1;\">April</text></g><g class=\"xtick\"><text text-anchor=\"start\" x=\"0\" y=\"425\" transform=\"translate(361.4,0) rotate(30,0,419)\" style=\"font-family: 'Open Sans', verdana, arial, sans-serif; font-size: 12px; fill: rgb(42, 63, 95); fill-opacity: 1; white-space: pre; opacity: 1;\">May</text></g><g class=\"xtick\"><text text-anchor=\"start\" x=\"0\" y=\"425\" transform=\"translate(420.47,0) rotate(30,0,419)\" style=\"font-family: 'Open Sans', verdana, arial, sans-serif; font-size: 12px; fill: rgb(42, 63, 95); fill-opacity: 1; white-space: pre; opacity: 1;\">June</text></g><g class=\"xtick\"><text text-anchor=\"start\" x=\"0\" y=\"425\" transform=\"translate(479.53,0) rotate(30,0,419)\" style=\"font-family: 'Open Sans', verdana, arial, sans-serif; font-size: 12px; fill: rgb(42, 63, 95); fill-opacity: 1; white-space: pre; opacity: 1;\">July</text></g><g class=\"xtick\"><text text-anchor=\"start\" x=\"0\" y=\"425\" transform=\"translate(538.6,0) rotate(30,0,419)\" style=\"font-family: 'Open Sans', verdana, arial, sans-serif; font-size: 12px; fill: rgb(42, 63, 95); fill-opacity: 1; white-space: pre; opacity: 1;\">August</text></g><g class=\"xtick\"><text text-anchor=\"start\" x=\"0\" y=\"425\" transform=\"translate(597.67,0) rotate(30,0,419)\" style=\"font-family: 'Open Sans', verdana, arial, sans-serif; font-size: 12px; fill: rgb(42, 63, 95); fill-opacity: 1; white-space: pre; opacity: 1;\">September</text></g><g class=\"xtick\"><text text-anchor=\"start\" x=\"0\" y=\"425\" transform=\"translate(656.74,0) rotate(30,0,419)\" style=\"font-family: 'Open Sans', verdana, arial, sans-serif; font-size: 12px; fill: rgb(42, 63, 95); fill-opacity: 1; white-space: pre; opacity: 1;\">October</text></g><g class=\"xtick\"><text text-anchor=\"start\" x=\"0\" y=\"425\" transform=\"translate(715.81,0) rotate(30,0,419)\" style=\"font-family: 'Open Sans', verdana, arial, sans-serif; font-size: 12px; fill: rgb(42, 63, 95); fill-opacity: 1; white-space: pre; opacity: 1;\">November</text></g><g class=\"xtick\"><text text-anchor=\"start\" x=\"0\" y=\"425\" transform=\"translate(774.88,0) rotate(30,0,419)\" style=\"font-family: 'Open Sans', verdana, arial, sans-serif; font-size: 12px; fill: rgb(42, 63, 95); fill-opacity: 1; white-space: pre; opacity: 1;\">December</text></g></g><g class=\"yaxislayer-above\"><g class=\"ytick\"><text text-anchor=\"end\" x=\"79\" y=\"4.199999999999999\" transform=\"translate(0,395.9)\" style=\"font-family: 'Open Sans', verdana, arial, sans-serif; font-size: 12px; fill: rgb(42, 63, 95); fill-opacity: 1; white-space: pre; opacity: 1;\">1000</text></g><g class=\"ytick\"><text text-anchor=\"end\" x=\"79\" y=\"4.199999999999999\" style=\"font-family: 'Open Sans', verdana, arial, sans-serif; font-size: 12px; fill: rgb(42, 63, 95); fill-opacity: 1; white-space: pre; opacity: 1;\" transform=\"translate(0,359.61)\">1100</text></g><g class=\"ytick\"><text text-anchor=\"end\" x=\"79\" y=\"4.199999999999999\" style=\"font-family: 'Open Sans', verdana, arial, sans-serif; font-size: 12px; fill: rgb(42, 63, 95); fill-opacity: 1; white-space: pre; opacity: 1;\" transform=\"translate(0,323.32)\">1200</text></g><g class=\"ytick\"><text text-anchor=\"end\" x=\"79\" y=\"4.199999999999999\" style=\"font-family: 'Open Sans', verdana, arial, sans-serif; font-size: 12px; fill: rgb(42, 63, 95); fill-opacity: 1; white-space: pre; opacity: 1;\" transform=\"translate(0,287.03)\">1300</text></g><g class=\"ytick\"><text text-anchor=\"end\" x=\"79\" y=\"4.199999999999999\" style=\"font-family: 'Open Sans', verdana, arial, sans-serif; font-size: 12px; fill: rgb(42, 63, 95); fill-opacity: 1; white-space: pre; opacity: 1;\" transform=\"translate(0,250.74)\">1400</text></g><g class=\"ytick\"><text text-anchor=\"end\" x=\"79\" y=\"4.199999999999999\" style=\"font-family: 'Open Sans', verdana, arial, sans-serif; font-size: 12px; fill: rgb(42, 63, 95); fill-opacity: 1; white-space: pre; opacity: 1;\" transform=\"translate(0,214.45)\">1500</text></g><g class=\"ytick\"><text text-anchor=\"end\" x=\"79\" y=\"4.199999999999999\" style=\"font-family: 'Open Sans', verdana, arial, sans-serif; font-size: 12px; fill: rgb(42, 63, 95); fill-opacity: 1; white-space: pre; opacity: 1;\" transform=\"translate(0,178.16)\">1600</text></g><g class=\"ytick\"><text text-anchor=\"end\" x=\"79\" y=\"4.199999999999999\" style=\"font-family: 'Open Sans', verdana, arial, sans-serif; font-size: 12px; fill: rgb(42, 63, 95); fill-opacity: 1; white-space: pre; opacity: 1;\" transform=\"translate(0,141.87)\">1700</text></g><g class=\"ytick\"><text text-anchor=\"end\" x=\"79\" y=\"4.199999999999999\" style=\"font-family: 'Open Sans', verdana, arial, sans-serif; font-size: 12px; fill: rgb(42, 63, 95); fill-opacity: 1; white-space: pre; opacity: 1;\" transform=\"translate(0,105.58)\">1800</text></g></g><g class=\"overaxes-above\"/></g></g><g class=\"polarlayer\"/><g class=\"ternarylayer\"/><g class=\"geolayer\"/><g class=\"funnelarealayer\"/><g class=\"pielayer\"/><g class=\"iciclelayer\"/><g class=\"treemaplayer\"/><g class=\"sunburstlayer\"/><g class=\"glimages\"/><defs id=\"topdefs-0a2d68\"><g class=\"clips\"/></defs><g class=\"layer-above\"><g class=\"imagelayer\"/><g class=\"shapelayer\"/></g><g class=\"infolayer\"><g class=\"g-gtitle\"><text class=\"gtitle\" x=\"45\" y=\"50\" text-anchor=\"start\" dy=\"0em\" style=\"font-family: 'Open Sans', verdana, arial, sans-serif; font-size: 17px; fill: rgb(42, 63, 95); opacity: 1; font-weight: normal; white-space: pre;\">Videojuegos / Fechas de lanzamiento</text></g><g class=\"g-xtitle\"><text class=\"xtitle\" x=\"450\" y=\"487.9017578125\" text-anchor=\"middle\" style=\"font-family: 'Open Sans', verdana, arial, sans-serif; font-size: 18px; fill: rgb(42, 63, 95); opacity: 1; font-weight: normal; white-space: pre;\">Meses</text></g><g class=\"g-ytitle\"><text class=\"ytitle\" transform=\"rotate(-90,23.684375000000003,256)\" x=\"23.684375000000003\" y=\"256\" text-anchor=\"middle\" style=\"font-family: 'Open Sans', verdana, arial, sans-serif; font-size: 14px; fill: rgb(42, 63, 95); opacity: 1; font-weight: normal; white-space: pre;\">Videojuegos publicados</text></g></g></svg>"
      ],
      "text/plain": [
       "<IPython.core.display.SVG object>"
      ]
     },
     "metadata": {},
     "output_type": "display_data"
    }
   ],
   "source": [
    "fig = go.Figure()\n",
    "fig.add_trace(go.Scatter(\n",
    "    x=games_month.month_name,\n",
    "    y=games_month.amount,\n",
    "    marker={'size': 13, 'opacity': .7}\n",
    "))\n",
    "fig.update_layout( \n",
    "    paper_bgcolor='#FAFAFA',\n",
    "    title='Videojuegos / Fechas de lanzamiento',\n",
    "    autosize=False,\n",
    "    height=500,\n",
    "    width=900,\n",
    "    hoverdistance=100,\n",
    "    spikedistance=1000,\n",
    "    xaxis=dict(\n",
    "        title_text='Meses',\n",
    "        titlefont=dict(size=18),\n",
    "        showspikes=True,\n",
    "        spikethickness=2,\n",
    "        spikedash=\"dot\",\n",
    "        spikecolor=\"#999999\",\n",
    "        spikemode=\"across\"),\n",
    "    yaxis=dict(title_text=\"Videojuegos publicados\")\n",
    ")\n",
    "#fig.show()\n",
    "display(SVG(fig.to_image(format='svg')))"
   ]
  },
  {
   "cell_type": "markdown",
   "metadata": {},
   "source": [
    "La mayoría de los videojuegos pueden estar siguiendo una estrategia de marketing lo cual explica que el número de publicaciones se acrecenta enormemente en los últimos meses del año."
   ]
  },
  {
   "cell_type": "markdown",
   "metadata": {},
   "source": [
    "### Videojuegos publicados por año"
   ]
  },
  {
   "cell_type": "code",
   "execution_count": 180,
   "metadata": {},
   "outputs": [
    {
     "data": {
      "image/svg+xml": [
       "<svg xmlns=\"http://www.w3.org/2000/svg\" xmlns:xlink=\"http://www.w3.org/1999/xlink\" class=\"main-svg\" width=\"900\" height=\"520\" style=\"\" viewBox=\"0 0 900 520\"><rect x=\"0\" y=\"0\" width=\"900\" height=\"520\" style=\"fill: rgb(250, 250, 250); fill-opacity: 1;\"/><defs id=\"defs-0dd74c\"><g class=\"clips\"><clipPath id=\"clip0dd74cxyplot\" class=\"plotclip\"><rect width=\"711\" height=\"326\"/></clipPath><clipPath class=\"axesclip\" id=\"clip0dd74cx\"><rect x=\"80\" y=\"0\" width=\"711\" height=\"520\"/></clipPath><clipPath class=\"axesclip\" id=\"clip0dd74cy\"><rect x=\"0\" y=\"50\" width=\"900\" height=\"326\"/></clipPath><clipPath class=\"axesclip\" id=\"clip0dd74cxy\"><rect x=\"80\" y=\"50\" width=\"711\" height=\"326\"/></clipPath></g><g class=\"gradients\"><linearGradient x1=\"0\" x2=\"0\" y1=\"1\" y2=\"0\" id=\"g0dd74c-cbcoloraxis\"><stop offset=\"0%\" stop-color=\"rgb(94, 79, 162)\" stop-opacity=\"1\"/><stop offset=\"10%\" stop-color=\"rgb(50, 136, 189)\" stop-opacity=\"1\"/><stop offset=\"20%\" stop-color=\"rgb(102, 194, 165)\" stop-opacity=\"1\"/><stop offset=\"30%\" stop-color=\"rgb(171, 221, 164)\" stop-opacity=\"1\"/><stop offset=\"40%\" stop-color=\"rgb(230, 245, 152)\" stop-opacity=\"1\"/><stop offset=\"50%\" stop-color=\"rgb(255, 255, 191)\" stop-opacity=\"1\"/><stop offset=\"60%\" stop-color=\"rgb(254, 224, 139)\" stop-opacity=\"1\"/><stop offset=\"70%\" stop-color=\"rgb(253, 174, 97)\" stop-opacity=\"1\"/><stop offset=\"80%\" stop-color=\"rgb(244, 109, 67)\" stop-opacity=\"1\"/><stop offset=\"90%\" stop-color=\"rgb(213, 62, 79)\" stop-opacity=\"1\"/><stop offset=\"100%\" stop-color=\"rgb(158, 1, 66)\" stop-opacity=\"1\"/></linearGradient></g><g class=\"patterns\"/></defs><g class=\"bglayer\"><rect class=\"bg\" x=\"80\" y=\"50\" width=\"711\" height=\"326\" style=\"fill: rgb(229, 236, 246); fill-opacity: 1; stroke-width: 0;\"/></g><g class=\"layer-below\"><g class=\"imagelayer\"/><g class=\"shapelayer\"/></g><g class=\"cartesianlayer\"><g class=\"subplot xy\"><g class=\"layer-subplot\"><g class=\"shapelayer\"/><g class=\"imagelayer\"/></g><g class=\"gridlayer\"><g class=\"x\"/><g class=\"y\"><path class=\"ygrid crisp\" transform=\"translate(0,359.7)\" d=\"M80,0h711\" style=\"stroke: rgb(255, 255, 255); stroke-opacity: 1; stroke-width: 1px;\"/><path class=\"ygrid crisp\" transform=\"translate(0,336.01)\" d=\"M80,0h711\" style=\"stroke: rgb(255, 255, 255); stroke-opacity: 1; stroke-width: 1px;\"/><path class=\"ygrid crisp\" transform=\"translate(0,304.69)\" d=\"M80,0h711\" style=\"stroke: rgb(255, 255, 255); stroke-opacity: 1; stroke-width: 1px;\"/><path class=\"ygrid crisp\" transform=\"translate(0,280.99)\" d=\"M80,0h711\" style=\"stroke: rgb(255, 255, 255); stroke-opacity: 1; stroke-width: 1px;\"/><path class=\"ygrid crisp\" transform=\"translate(0,257.3)\" d=\"M80,0h711\" style=\"stroke: rgb(255, 255, 255); stroke-opacity: 1; stroke-width: 1px;\"/><path class=\"ygrid crisp\" transform=\"translate(0,225.98)\" d=\"M80,0h711\" style=\"stroke: rgb(255, 255, 255); stroke-opacity: 1; stroke-width: 1px;\"/><path class=\"ygrid crisp\" transform=\"translate(0,202.28)\" d=\"M80,0h711\" style=\"stroke: rgb(255, 255, 255); stroke-opacity: 1; stroke-width: 1px;\"/><path class=\"ygrid crisp\" transform=\"translate(0,178.59)\" d=\"M80,0h711\" style=\"stroke: rgb(255, 255, 255); stroke-opacity: 1; stroke-width: 1px;\"/><path class=\"ygrid crisp\" transform=\"translate(0,147.26999999999998)\" d=\"M80,0h711\" style=\"stroke: rgb(255, 255, 255); stroke-opacity: 1; stroke-width: 1px;\"/><path class=\"ygrid crisp\" transform=\"translate(0,123.58)\" d=\"M80,0h711\" style=\"stroke: rgb(255, 255, 255); stroke-opacity: 1; stroke-width: 1px;\"/><path class=\"ygrid crisp\" transform=\"translate(0,99.88)\" d=\"M80,0h711\" style=\"stroke: rgb(255, 255, 255); stroke-opacity: 1; stroke-width: 1px;\"/><path class=\"ygrid crisp\" transform=\"translate(0,68.56)\" d=\"M80,0h711\" style=\"stroke: rgb(255, 255, 255); stroke-opacity: 1; stroke-width: 1px;\"/></g></g><g class=\"zerolinelayer\"/><path class=\"xlines-below\"/><path class=\"ylines-below\"/><g class=\"overlines-below\"/><g class=\"xaxislayer-below\"/><g class=\"yaxislayer-below\"/><g class=\"overaxes-below\"/><g class=\"plot\" transform=\"translate(80,50)\" clip-path=\"url(#clip0dd74cxyplot)\"><g class=\"barlayer mlayer\"><g class=\"trace bars\" style=\"opacity: 1;\"><g class=\"points\"><g class=\"point\"><path d=\"M655.27,3423V16.3H670.65V3423Z\" style=\"vector-effect: non-scaling-stroke; opacity: 1; stroke-width: 0.5px; fill: rgb(158, 1, 66); fill-opacity: 1; stroke: rgb(229, 236, 246); stroke-opacity: 1;\"/></g><g class=\"point\"><path d=\"M636.06,3423V28.73H651.43V3423Z\" style=\"vector-effect: non-scaling-stroke; opacity: 1; stroke-width: 0.5px; fill: rgb(253, 176, 99); fill-opacity: 1; stroke: rgb(229, 236, 246); stroke-opacity: 1;\"/></g><g class=\"point\"><path d=\"M616.84,3423V39.76H632.21V3423Z\" style=\"vector-effect: non-scaling-stroke; opacity: 1; stroke-width: 0.5px; fill: rgb(255, 254, 189); fill-opacity: 1; stroke: rgb(229, 236, 246); stroke-opacity: 1;\"/></g><g class=\"point\"><path d=\"M597.62,3423V61.09H613V3423Z\" style=\"vector-effect: non-scaling-stroke; opacity: 1; stroke-width: 0.5px; fill: rgb(150, 213, 164); fill-opacity: 1; stroke: rgb(229, 236, 246); stroke-opacity: 1;\"/></g><g class=\"point\"><path d=\"M578.41,3423V92.08H593.78V3423Z\" style=\"vector-effect: non-scaling-stroke; opacity: 1; stroke-width: 0.5px; fill: rgb(55, 141, 187); fill-opacity: 1; stroke: rgb(229, 236, 246); stroke-opacity: 1;\"/></g><g class=\"point\"><path d=\"M559.19,3423V101.41H574.56V3423Z\" style=\"vector-effect: non-scaling-stroke; opacity: 1; stroke-width: 0.5px; fill: rgb(58, 126, 184); fill-opacity: 1; stroke: rgb(229, 236, 246); stroke-opacity: 1;\"/></g><g class=\"point\"><path d=\"M539.98,3423V112.63H555.35V3423Z\" style=\"vector-effect: non-scaling-stroke; opacity: 1; stroke-width: 0.5px; fill: rgb(68, 113, 178); fill-opacity: 1; stroke: rgb(229, 236, 246); stroke-opacity: 1;\"/></g><g class=\"point\"><path d=\"M520.76,3423V115.07H536.13V3423Z\" style=\"vector-effect: non-scaling-stroke; opacity: 1; stroke-width: 0.5px; fill: rgb(70, 111, 177); fill-opacity: 1; stroke: rgb(229, 236, 246); stroke-opacity: 1;\"/></g><g class=\"point\"><path d=\"M501.54,3423V118.59H516.92V3423Z\" style=\"vector-effect: non-scaling-stroke; opacity: 1; stroke-width: 0.5px; fill: rgb(72, 107, 175); fill-opacity: 1; stroke: rgb(229, 236, 246); stroke-opacity: 1;\"/></g><g class=\"point\"><path d=\"M482.33,3423V131.63H497.7V3423Z\" style=\"vector-effect: non-scaling-stroke; opacity: 1; stroke-width: 0.5px; fill: rgb(79, 98, 171); fill-opacity: 1; stroke: rgb(229, 236, 246); stroke-opacity: 1;\"/></g><g class=\"point\"><path d=\"M463.11,3423V142.03H478.48V3423Z\" style=\"vector-effect: non-scaling-stroke; opacity: 1; stroke-width: 0.5px; fill: rgb(83, 93, 169); fill-opacity: 1; stroke: rgb(229, 236, 246); stroke-opacity: 1;\"/></g><g class=\"point\"><path d=\"M443.89,3423V142.03H459.27V3423Z\" style=\"vector-effect: non-scaling-stroke; opacity: 1; stroke-width: 0.5px; fill: rgb(83, 93, 169); fill-opacity: 1; stroke: rgb(229, 236, 246); stroke-opacity: 1;\"/></g><g class=\"point\"><path d=\"M424.68,3423V158.24H440.05V3423Z\" style=\"vector-effect: non-scaling-stroke; opacity: 1; stroke-width: 0.5px; fill: rgb(87, 88, 166); fill-opacity: 1; stroke: rgb(229, 236, 246); stroke-opacity: 1;\"/></g><g class=\"point\"><path d=\"M674.49,3423V158.24H689.86V3423Z\" style=\"vector-effect: non-scaling-stroke; opacity: 1; stroke-width: 0.5px; fill: rgb(87, 88, 166); fill-opacity: 1; stroke: rgb(229, 236, 246); stroke-opacity: 1;\"/></g><g class=\"point\"><path d=\"M386.25,3423V164.97H401.62V3423Z\" style=\"vector-effect: non-scaling-stroke; opacity: 1; stroke-width: 0.5px; fill: rgb(88, 86, 165); fill-opacity: 1; stroke: rgb(229, 236, 246); stroke-opacity: 1;\"/></g><g class=\"point\"><path d=\"M405.46,3423V170.9H420.84V3423Z\" style=\"vector-effect: non-scaling-stroke; opacity: 1; stroke-width: 0.5px; fill: rgb(89, 85, 165); fill-opacity: 1; stroke: rgb(229, 236, 246); stroke-opacity: 1;\"/></g><g class=\"point\"><path d=\"M347.81,3423V176.67H363.19V3423Z\" style=\"vector-effect: non-scaling-stroke; opacity: 1; stroke-width: 0.5px; fill: rgb(90, 84, 164); fill-opacity: 1; stroke: rgb(229, 236, 246); stroke-opacity: 1;\"/></g><g class=\"point\"><path d=\"M309.38,3423V180.35H324.75V3423Z\" style=\"vector-effect: non-scaling-stroke; opacity: 1; stroke-width: 0.5px; fill: rgb(90, 84, 164); fill-opacity: 1; stroke: rgb(229, 236, 246); stroke-opacity: 1;\"/></g><g class=\"point\"><path d=\"M290.16,3423V181.13H305.54V3423Z\" style=\"vector-effect: non-scaling-stroke; opacity: 1; stroke-width: 0.5px; fill: rgb(91, 83, 164); fill-opacity: 1; stroke: rgb(229, 236, 246); stroke-opacity: 1;\"/></g><g class=\"point\"><path d=\"M367.03,3423V183.61H382.4V3423Z\" style=\"vector-effect: non-scaling-stroke; opacity: 1; stroke-width: 0.5px; fill: rgb(91, 83, 164); fill-opacity: 1; stroke: rgb(229, 236, 246); stroke-opacity: 1;\"/></g><g class=\"point\"><path d=\"M251.73,3423V188.17H267.11V3423Z\" style=\"vector-effect: non-scaling-stroke; opacity: 1; stroke-width: 0.5px; fill: rgb(91, 83, 164); fill-opacity: 1; stroke: rgb(229, 236, 246); stroke-opacity: 1;\"/></g><g class=\"point\"><path d=\"M328.6,3423V190.18H343.97V3423Z\" style=\"vector-effect: non-scaling-stroke; opacity: 1; stroke-width: 0.5px; fill: rgb(91, 82, 164); fill-opacity: 1; stroke: rgb(229, 236, 246); stroke-opacity: 1;\"/></g><g class=\"point\"><path d=\"M270.95,3423V190.18H286.32V3423Z\" style=\"vector-effect: non-scaling-stroke; opacity: 1; stroke-width: 0.5px; fill: rgb(91, 82, 164); fill-opacity: 1; stroke: rgb(229, 236, 246); stroke-opacity: 1;\"/></g><g class=\"point\"><path d=\"M232.52,3423V195.8H247.89V3423Z\" style=\"vector-effect: non-scaling-stroke; opacity: 1; stroke-width: 0.5px; fill: rgb(92, 82, 163); fill-opacity: 1; stroke: rgb(229, 236, 246); stroke-opacity: 1;\"/></g><g class=\"point\"><path d=\"M213.3,3423V199.67H228.67V3423Z\" style=\"vector-effect: non-scaling-stroke; opacity: 1; stroke-width: 0.5px; fill: rgb(92, 82, 163); fill-opacity: 1; stroke: rgb(229, 236, 246); stroke-opacity: 1;\"/></g><g class=\"point\"><path d=\"M194.08,3423V201.07H209.46V3423Z\" style=\"vector-effect: non-scaling-stroke; opacity: 1; stroke-width: 0.5px; fill: rgb(92, 81, 163); fill-opacity: 1; stroke: rgb(229, 236, 246); stroke-opacity: 1;\"/></g><g class=\"point\"><path d=\"M174.87,3423V224.76H190.24V3423Z\" style=\"vector-effect: non-scaling-stroke; opacity: 1; stroke-width: 0.5px; fill: rgb(93, 80, 163); fill-opacity: 1; stroke: rgb(229, 236, 246); stroke-opacity: 1;\"/></g><g class=\"point\"><path d=\"M155.65,3423V227.73H171.02V3423Z\" style=\"vector-effect: non-scaling-stroke; opacity: 1; stroke-width: 0.5px; fill: rgb(93, 80, 163); fill-opacity: 1; stroke: rgb(229, 236, 246); stroke-opacity: 1;\"/></g><g class=\"point\"><path d=\"M136.44,3423V234.59H151.81V3423Z\" style=\"vector-effect: non-scaling-stroke; opacity: 1; stroke-width: 0.5px; fill: rgb(93, 80, 162); fill-opacity: 1; stroke: rgb(229, 236, 246); stroke-opacity: 1;\"/></g><g class=\"point\"><path d=\"M117.22,3423V243.18H132.59V3423Z\" style=\"vector-effect: non-scaling-stroke; opacity: 1; stroke-width: 0.5px; fill: rgb(94, 80, 162); fill-opacity: 1; stroke: rgb(229, 236, 246); stroke-opacity: 1;\"/></g><g class=\"point\"><path d=\"M98,3423V254.69H113.38V3423Z\" style=\"vector-effect: non-scaling-stroke; opacity: 1; stroke-width: 0.5px; fill: rgb(94, 79, 162); fill-opacity: 1; stroke: rgb(229, 236, 246); stroke-opacity: 1;\"/></g><g class=\"point\"><path d=\"M693.71,3423V262.31H709.08V3423Z\" style=\"vector-effect: non-scaling-stroke; opacity: 1; stroke-width: 0.5px; fill: rgb(94, 79, 162); fill-opacity: 1; stroke: rgb(229, 236, 246); stroke-opacity: 1;\"/></g><g class=\"point\"><path d=\"M78.79,3423V262.31H94.16V3423Z\" style=\"vector-effect: non-scaling-stroke; opacity: 1; stroke-width: 0.5px; fill: rgb(94, 79, 162); fill-opacity: 1; stroke: rgb(229, 236, 246); stroke-opacity: 1;\"/></g><g class=\"point\"><path d=\"M21.14,3423V286.01H36.51V3423Z\" style=\"vector-effect: non-scaling-stroke; opacity: 1; stroke-width: 0.5px; fill: rgb(94, 79, 162); fill-opacity: 1; stroke: rgb(229, 236, 246); stroke-opacity: 1;\"/></g><g class=\"point\"><path d=\"M59.57,3423V309.7H74.94V3423Z\" style=\"vector-effect: non-scaling-stroke; opacity: 1; stroke-width: 0.5px; fill: rgb(94, 79, 162); fill-opacity: 1; stroke: rgb(229, 236, 246); stroke-opacity: 1;\"/></g><g class=\"point\"><path d=\"M40.35,3423V309.7H55.73V3423Z\" style=\"vector-effect: non-scaling-stroke; opacity: 1; stroke-width: 0.5px; fill: rgb(94, 79, 162); fill-opacity: 1; stroke: rgb(229, 236, 246); stroke-opacity: 1;\"/></g><g class=\"point\"><path d=\"M1.92,3423V309.7H17.29V3423Z\" style=\"vector-effect: non-scaling-stroke; opacity: 1; stroke-width: 0.5px; fill: rgb(94, 79, 162); fill-opacity: 1; stroke: rgb(229, 236, 246); stroke-opacity: 1;\"/></g></g></g></g></g><g class=\"overplot\"/><path class=\"xlines-above crisp\" d=\"M0,0\" style=\"fill: none;\"/><path class=\"ylines-above crisp\" d=\"M0,0\" style=\"fill: none;\"/><g class=\"overlines-above\"/><g class=\"xaxislayer-above\"><g class=\"xtick\"><text text-anchor=\"middle\" x=\"0\" y=\"389\" transform=\"translate(128.04,0)\" style=\"font-family: 'Open Sans', verdana, arial, sans-serif; font-size: 12px; fill: rgb(42, 63, 95); fill-opacity: 1; white-space: pre; opacity: 1;\">1985</text></g><g class=\"xtick\"><text text-anchor=\"middle\" x=\"0\" y=\"389\" style=\"font-family: 'Open Sans', verdana, arial, sans-serif; font-size: 12px; fill: rgb(42, 63, 95); fill-opacity: 1; white-space: pre; opacity: 1;\" transform=\"translate(224.12,0)\">1990</text></g><g class=\"xtick\"><text text-anchor=\"middle\" x=\"0\" y=\"389\" style=\"font-family: 'Open Sans', verdana, arial, sans-serif; font-size: 12px; fill: rgb(42, 63, 95); fill-opacity: 1; white-space: pre; opacity: 1;\" transform=\"translate(320.2,0)\">1995</text></g><g class=\"xtick\"><text text-anchor=\"middle\" x=\"0\" y=\"389\" style=\"font-family: 'Open Sans', verdana, arial, sans-serif; font-size: 12px; fill: rgb(42, 63, 95); fill-opacity: 1; white-space: pre; opacity: 1;\" transform=\"translate(416.28,0)\">2000</text></g><g class=\"xtick\"><text text-anchor=\"middle\" x=\"0\" y=\"389\" style=\"font-family: 'Open Sans', verdana, arial, sans-serif; font-size: 12px; fill: rgb(42, 63, 95); fill-opacity: 1; white-space: pre; opacity: 1;\" transform=\"translate(512.36,0)\">2005</text></g><g class=\"xtick\"><text text-anchor=\"middle\" x=\"0\" y=\"389\" style=\"font-family: 'Open Sans', verdana, arial, sans-serif; font-size: 12px; fill: rgb(42, 63, 95); fill-opacity: 1; white-space: pre; opacity: 1;\" transform=\"translate(608.45,0)\">2010</text></g><g class=\"xtick\"><text text-anchor=\"middle\" x=\"0\" y=\"389\" style=\"font-family: 'Open Sans', verdana, arial, sans-serif; font-size: 12px; fill: rgb(42, 63, 95); fill-opacity: 1; white-space: pre; opacity: 1;\" transform=\"translate(704.53,0)\">2015</text></g></g><g class=\"yaxislayer-above\"><g class=\"ytick\"><text text-anchor=\"end\" x=\"79\" y=\"4.199999999999999\" transform=\"translate(0,359.7)\" style=\"font-family: 'Open Sans', verdana, arial, sans-serif; font-size: 12px; fill: rgb(42, 63, 95); fill-opacity: 1; white-space: pre; opacity: 1;\">1</text></g><g class=\"ytick\"><text text-anchor=\"end\" x=\"79\" y=\"3.15\" style=\"font-family: 'Open Sans', verdana, arial, sans-serif; font-size: 9px; fill: rgb(42, 63, 95); fill-opacity: 1; white-space: pre; opacity: 1;\" transform=\"translate(0,336.01)\">2</text></g><g class=\"ytick\"><text text-anchor=\"end\" x=\"79\" y=\"3.15\" style=\"font-family: 'Open Sans', verdana, arial, sans-serif; font-size: 9px; fill: rgb(42, 63, 95); fill-opacity: 1; white-space: pre; opacity: 1;\" transform=\"translate(0,304.69)\">5</text></g><g class=\"ytick\"><text text-anchor=\"end\" x=\"79\" y=\"4.199999999999999\" style=\"font-family: 'Open Sans', verdana, arial, sans-serif; font-size: 12px; fill: rgb(42, 63, 95); fill-opacity: 1; white-space: pre; opacity: 1;\" transform=\"translate(0,280.99)\">10</text></g><g class=\"ytick\"><text text-anchor=\"end\" x=\"79\" y=\"3.15\" style=\"font-family: 'Open Sans', verdana, arial, sans-serif; font-size: 9px; fill: rgb(42, 63, 95); fill-opacity: 1; white-space: pre; opacity: 1;\" transform=\"translate(0,257.3)\">2</text></g><g class=\"ytick\"><text text-anchor=\"end\" x=\"79\" y=\"3.15\" style=\"font-family: 'Open Sans', verdana, arial, sans-serif; font-size: 9px; fill: rgb(42, 63, 95); fill-opacity: 1; white-space: pre; opacity: 1;\" transform=\"translate(0,225.98)\">5</text></g><g class=\"ytick\"><text text-anchor=\"end\" x=\"79\" y=\"4.199999999999999\" style=\"font-family: 'Open Sans', verdana, arial, sans-serif; font-size: 12px; fill: rgb(42, 63, 95); fill-opacity: 1; white-space: pre; opacity: 1;\" transform=\"translate(0,202.28)\">100</text></g><g class=\"ytick\"><text text-anchor=\"end\" x=\"79\" y=\"3.15\" style=\"font-family: 'Open Sans', verdana, arial, sans-serif; font-size: 9px; fill: rgb(42, 63, 95); fill-opacity: 1; white-space: pre; opacity: 1;\" transform=\"translate(0,178.59)\">2</text></g><g class=\"ytick\"><text text-anchor=\"end\" x=\"79\" y=\"3.15\" style=\"font-family: 'Open Sans', verdana, arial, sans-serif; font-size: 9px; fill: rgb(42, 63, 95); fill-opacity: 1; white-space: pre; opacity: 1;\" transform=\"translate(0,147.26999999999998)\">5</text></g><g class=\"ytick\"><text text-anchor=\"end\" x=\"79\" y=\"4.199999999999999\" style=\"font-family: 'Open Sans', verdana, arial, sans-serif; font-size: 12px; fill: rgb(42, 63, 95); fill-opacity: 1; white-space: pre; opacity: 1;\" transform=\"translate(0,123.58)\">1000</text></g><g class=\"ytick\"><text text-anchor=\"end\" x=\"79\" y=\"3.15\" style=\"font-family: 'Open Sans', verdana, arial, sans-serif; font-size: 9px; fill: rgb(42, 63, 95); fill-opacity: 1; white-space: pre; opacity: 1;\" transform=\"translate(0,99.88)\">2</text></g><g class=\"ytick\"><text text-anchor=\"end\" x=\"79\" y=\"3.15\" style=\"font-family: 'Open Sans', verdana, arial, sans-serif; font-size: 9px; fill: rgb(42, 63, 95); fill-opacity: 1; white-space: pre; opacity: 1;\" transform=\"translate(0,68.56)\">5</text></g></g><g class=\"overaxes-above\"/></g></g><g class=\"polarlayer\"/><g class=\"ternarylayer\"/><g class=\"geolayer\"/><g class=\"funnelarealayer\"/><g class=\"pielayer\"/><g class=\"iciclelayer\"/><g class=\"treemaplayer\"/><g class=\"sunburstlayer\"/><g class=\"glimages\"/><defs id=\"topdefs-0dd74c\"><g class=\"clips\"/><clipPath id=\"rangesliderx-0dd74c\"><rect x=\"0\" y=\"0\" width=\"711\" height=\"63\"/></clipPath></defs><g class=\"layer-above\"><g class=\"imagelayer\"/><g class=\"shapelayer\"/></g><g class=\"infolayer\"><g class=\"cbcoloraxis colorbar\" transform=\"translate(80,50)\"><rect class=\"cbbg\" x=\"725\" y=\"0\" width=\"82.484375\" height=\"326\" style=\"fill: rgb(0, 0, 0); fill-opacity: 0; stroke: rgb(68, 68, 68); stroke-opacity: 1; stroke-width: 0;\"/><g class=\"cbfills\" transform=\"translate(0,32)\"><rect class=\"cbfill\" x=\"735\" width=\"30\" y=\"0\" height=\"284\" style=\"fill: url('#g0dd74c-cbcoloraxis');\"/></g><g class=\"cblines\" transform=\"translate(0,32)\"/><g class=\"cbaxis crisp\" transform=\"translate(0,-50)\"><g class=\"ycbcoloraxistick\"><text text-anchor=\"start\" x=\"767.9\" y=\"4.199999999999999\" transform=\"translate(0,312.88)\" style=\"font-family: 'Open Sans', verdana, arial, sans-serif; font-size: 12px; fill: rgb(42, 63, 95); fill-opacity: 1; white-space: pre; opacity: 1;\">1000</text></g><g class=\"ycbcoloraxistick\"><text text-anchor=\"start\" x=\"767.9\" y=\"4.199999999999999\" style=\"font-family: 'Open Sans', verdana, arial, sans-serif; font-size: 12px; fill: rgb(42, 63, 95); fill-opacity: 1; white-space: pre; opacity: 1;\" transform=\"translate(0,259.71000000000004)\">2000</text></g><g class=\"ycbcoloraxistick\"><text text-anchor=\"start\" x=\"767.9\" y=\"4.199999999999999\" style=\"font-family: 'Open Sans', verdana, arial, sans-serif; font-size: 12px; fill: rgb(42, 63, 95); fill-opacity: 1; white-space: pre; opacity: 1;\" transform=\"translate(0,206.53000000000003)\">3000</text></g><g class=\"ycbcoloraxistick\"><text text-anchor=\"start\" x=\"767.9\" y=\"4.199999999999999\" style=\"font-family: 'Open Sans', verdana, arial, sans-serif; font-size: 12px; fill: rgb(42, 63, 95); fill-opacity: 1; white-space: pre; opacity: 1;\" transform=\"translate(0,153.36)\">4000</text></g><g class=\"ycbcoloraxistick\"><text text-anchor=\"start\" x=\"767.9\" y=\"4.199999999999999\" style=\"font-family: 'Open Sans', verdana, arial, sans-serif; font-size: 12px; fill: rgb(42, 63, 95); fill-opacity: 1; white-space: pre; opacity: 1;\" transform=\"translate(0,100.19000000000003)\">5000</text></g></g><g class=\"cbtitleunshift\" transform=\"translate(-80,-50)\"><g class=\"cbtitle\" transform=\"\"><text class=\"ycbcoloraxistitle\" x=\"815.2199999999999\" y=\"73.50000000000001\" text-anchor=\"start\" style=\"font-family: 'Open Sans', verdana, arial, sans-serif; font-size: 14px; fill: rgb(42, 63, 95); opacity: 1; font-weight: normal; white-space: pre;\">Cantidad</text></g></g><rect class=\"cboutline\" x=\"735\" y=\"32\" width=\"30\" height=\"284\" style=\"stroke: rgb(68, 68, 68); stroke-opacity: 1; fill: none; stroke-width: 0;\"/></g><g class=\"g-gtitle\"><text class=\"gtitle\" x=\"45\" y=\"25\" text-anchor=\"start\" dy=\"0em\" style=\"font-family: 'Open Sans', verdana, arial, sans-serif; font-size: 17px; fill: rgb(42, 63, 95); opacity: 1; font-weight: normal; white-space: pre;\">Videojuegos publicados por año</text></g><g class=\"rangeslider-container\" pointer-events=\"all\" transform=\"translate(80,407)\"><rect class=\"rangeslider-bg\" x=\"0\" y=\"0\" shape-rendering=\"crispEdges\" width=\"711\" height=\"63\" transform=\"\" fill=\"#E5ECF6\" stroke=\"#444\" stroke-width=\"0\"/><g class=\"rangeslider-rangeplot xy\" clip-path=\"url(#rangesliderx-0dd74c)\"><g class=\"layer-subplot\"><g class=\"shapelayer\"/><g class=\"imagelayer\"/></g><g class=\"gridlayer\"><g class=\"x\"/><g class=\"y\"/></g><g class=\"zerolinelayer\"/><path class=\"xlines-below\"/><path class=\"ylines-below\"/><g class=\"overlines-below\"/><g class=\"xaxislayer-below\"/><g class=\"yaxislayer-below\"/><g class=\"overaxes-below\"/><g class=\"plot\"><g class=\"barlayer mlayer rangeplot\"><g class=\"trace bars\" style=\"opacity: 1;\"><g class=\"points\"><g class=\"point\"><path d=\"M655.27,661.5V3.15H670.65V661.5Z\" style=\"vector-effect: non-scaling-stroke; opacity: 1; stroke-width: 0.5px; fill: rgb(158, 1, 66); fill-opacity: 1; stroke: rgb(229, 236, 246); stroke-opacity: 1;\"/></g><g class=\"point\"><path d=\"M636.06,661.5V5.55H651.43V661.5Z\" style=\"vector-effect: non-scaling-stroke; opacity: 1; stroke-width: 0.5px; fill: rgb(253, 176, 99); fill-opacity: 1; stroke: rgb(229, 236, 246); stroke-opacity: 1;\"/></g><g class=\"point\"><path d=\"M616.84,661.5V7.68H632.21V661.5Z\" style=\"vector-effect: non-scaling-stroke; opacity: 1; stroke-width: 0.5px; fill: rgb(255, 254, 189); fill-opacity: 1; stroke: rgb(229, 236, 246); stroke-opacity: 1;\"/></g><g class=\"point\"><path d=\"M597.62,661.5V11.81H613V661.5Z\" style=\"vector-effect: non-scaling-stroke; opacity: 1; stroke-width: 0.5px; fill: rgb(150, 213, 164); fill-opacity: 1; stroke: rgb(229, 236, 246); stroke-opacity: 1;\"/></g><g class=\"point\"><path d=\"M578.41,661.5V17.79H593.78V661.5Z\" style=\"vector-effect: non-scaling-stroke; opacity: 1; stroke-width: 0.5px; fill: rgb(55, 141, 187); fill-opacity: 1; stroke: rgb(229, 236, 246); stroke-opacity: 1;\"/></g><g class=\"point\"><path d=\"M559.19,661.5V19.6H574.56V661.5Z\" style=\"vector-effect: non-scaling-stroke; opacity: 1; stroke-width: 0.5px; fill: rgb(58, 126, 184); fill-opacity: 1; stroke: rgb(229, 236, 246); stroke-opacity: 1;\"/></g><g class=\"point\"><path d=\"M539.98,661.5V21.77H555.35V661.5Z\" style=\"vector-effect: non-scaling-stroke; opacity: 1; stroke-width: 0.5px; fill: rgb(68, 113, 178); fill-opacity: 1; stroke: rgb(229, 236, 246); stroke-opacity: 1;\"/></g><g class=\"point\"><path d=\"M520.76,661.5V22.24H536.13V661.5Z\" style=\"vector-effect: non-scaling-stroke; opacity: 1; stroke-width: 0.5px; fill: rgb(70, 111, 177); fill-opacity: 1; stroke: rgb(229, 236, 246); stroke-opacity: 1;\"/></g><g class=\"point\"><path d=\"M501.54,661.5V22.92H516.92V661.5Z\" style=\"vector-effect: non-scaling-stroke; opacity: 1; stroke-width: 0.5px; fill: rgb(72, 107, 175); fill-opacity: 1; stroke: rgb(229, 236, 246); stroke-opacity: 1;\"/></g><g class=\"point\"><path d=\"M482.33,661.5V25.44H497.7V661.5Z\" style=\"vector-effect: non-scaling-stroke; opacity: 1; stroke-width: 0.5px; fill: rgb(79, 98, 171); fill-opacity: 1; stroke: rgb(229, 236, 246); stroke-opacity: 1;\"/></g><g class=\"point\"><path d=\"M463.11,661.5V27.45H478.48V661.5Z\" style=\"vector-effect: non-scaling-stroke; opacity: 1; stroke-width: 0.5px; fill: rgb(83, 93, 169); fill-opacity: 1; stroke: rgb(229, 236, 246); stroke-opacity: 1;\"/></g><g class=\"point\"><path d=\"M443.89,661.5V27.45H459.27V661.5Z\" style=\"vector-effect: non-scaling-stroke; opacity: 1; stroke-width: 0.5px; fill: rgb(83, 93, 169); fill-opacity: 1; stroke: rgb(229, 236, 246); stroke-opacity: 1;\"/></g><g class=\"point\"><path d=\"M424.68,661.5V30.58H440.05V661.5Z\" style=\"vector-effect: non-scaling-stroke; opacity: 1; stroke-width: 0.5px; fill: rgb(87, 88, 166); fill-opacity: 1; stroke: rgb(229, 236, 246); stroke-opacity: 1;\"/></g><g class=\"point\"><path d=\"M674.49,661.5V30.58H689.86V661.5Z\" style=\"vector-effect: non-scaling-stroke; opacity: 1; stroke-width: 0.5px; fill: rgb(87, 88, 166); fill-opacity: 1; stroke: rgb(229, 236, 246); stroke-opacity: 1;\"/></g><g class=\"point\"><path d=\"M386.25,661.5V31.88H401.62V661.5Z\" style=\"vector-effect: non-scaling-stroke; opacity: 1; stroke-width: 0.5px; fill: rgb(88, 86, 165); fill-opacity: 1; stroke: rgb(229, 236, 246); stroke-opacity: 1;\"/></g><g class=\"point\"><path d=\"M405.46,661.5V33.03H420.84V661.5Z\" style=\"vector-effect: non-scaling-stroke; opacity: 1; stroke-width: 0.5px; fill: rgb(89, 85, 165); fill-opacity: 1; stroke: rgb(229, 236, 246); stroke-opacity: 1;\"/></g><g class=\"point\"><path d=\"M347.81,661.5V34.14H363.19V661.5Z\" style=\"vector-effect: non-scaling-stroke; opacity: 1; stroke-width: 0.5px; fill: rgb(90, 84, 164); fill-opacity: 1; stroke: rgb(229, 236, 246); stroke-opacity: 1;\"/></g><g class=\"point\"><path d=\"M309.38,661.5V34.85H324.75V661.5Z\" style=\"vector-effect: non-scaling-stroke; opacity: 1; stroke-width: 0.5px; fill: rgb(90, 84, 164); fill-opacity: 1; stroke: rgb(229, 236, 246); stroke-opacity: 1;\"/></g><g class=\"point\"><path d=\"M290.16,661.5V35H305.54V661.5Z\" style=\"vector-effect: non-scaling-stroke; opacity: 1; stroke-width: 0.5px; fill: rgb(91, 83, 164); fill-opacity: 1; stroke: rgb(229, 236, 246); stroke-opacity: 1;\"/></g><g class=\"point\"><path d=\"M367.03,661.5V35.48H382.4V661.5Z\" style=\"vector-effect: non-scaling-stroke; opacity: 1; stroke-width: 0.5px; fill: rgb(91, 83, 164); fill-opacity: 1; stroke: rgb(229, 236, 246); stroke-opacity: 1;\"/></g><g class=\"point\"><path d=\"M251.73,661.5V36.36H267.11V661.5Z\" style=\"vector-effect: non-scaling-stroke; opacity: 1; stroke-width: 0.5px; fill: rgb(91, 83, 164); fill-opacity: 1; stroke: rgb(229, 236, 246); stroke-opacity: 1;\"/></g><g class=\"point\"><path d=\"M328.6,661.5V36.75H343.97V661.5Z\" style=\"vector-effect: non-scaling-stroke; opacity: 1; stroke-width: 0.5px; fill: rgb(91, 82, 164); fill-opacity: 1; stroke: rgb(229, 236, 246); stroke-opacity: 1;\"/></g><g class=\"point\"><path d=\"M270.95,661.5V36.75H286.32V661.5Z\" style=\"vector-effect: non-scaling-stroke; opacity: 1; stroke-width: 0.5px; fill: rgb(91, 82, 164); fill-opacity: 1; stroke: rgb(229, 236, 246); stroke-opacity: 1;\"/></g><g class=\"point\"><path d=\"M232.52,661.5V37.84H247.89V661.5Z\" style=\"vector-effect: non-scaling-stroke; opacity: 1; stroke-width: 0.5px; fill: rgb(92, 82, 163); fill-opacity: 1; stroke: rgb(229, 236, 246); stroke-opacity: 1;\"/></g><g class=\"point\"><path d=\"M213.3,661.5V38.59H228.67V661.5Z\" style=\"vector-effect: non-scaling-stroke; opacity: 1; stroke-width: 0.5px; fill: rgb(92, 82, 163); fill-opacity: 1; stroke: rgb(229, 236, 246); stroke-opacity: 1;\"/></g><g class=\"point\"><path d=\"M194.08,661.5V38.86H209.46V661.5Z\" style=\"vector-effect: non-scaling-stroke; opacity: 1; stroke-width: 0.5px; fill: rgb(92, 81, 163); fill-opacity: 1; stroke: rgb(229, 236, 246); stroke-opacity: 1;\"/></g><g class=\"point\"><path d=\"M174.87,661.5V43.44H190.24V661.5Z\" style=\"vector-effect: non-scaling-stroke; opacity: 1; stroke-width: 0.5px; fill: rgb(93, 80, 163); fill-opacity: 1; stroke: rgb(229, 236, 246); stroke-opacity: 1;\"/></g><g class=\"point\"><path d=\"M155.65,661.5V44.01H171.02V661.5Z\" style=\"vector-effect: non-scaling-stroke; opacity: 1; stroke-width: 0.5px; fill: rgb(93, 80, 163); fill-opacity: 1; stroke: rgb(229, 236, 246); stroke-opacity: 1;\"/></g><g class=\"point\"><path d=\"M136.44,661.5V45.34H151.81V661.5Z\" style=\"vector-effect: non-scaling-stroke; opacity: 1; stroke-width: 0.5px; fill: rgb(93, 80, 162); fill-opacity: 1; stroke: rgb(229, 236, 246); stroke-opacity: 1;\"/></g><g class=\"point\"><path d=\"M117.22,661.5V47H132.59V661.5Z\" style=\"vector-effect: non-scaling-stroke; opacity: 1; stroke-width: 0.5px; fill: rgb(94, 80, 162); fill-opacity: 1; stroke: rgb(229, 236, 246); stroke-opacity: 1;\"/></g><g class=\"point\"><path d=\"M98,661.5V49.22H113.38V661.5Z\" style=\"vector-effect: non-scaling-stroke; opacity: 1; stroke-width: 0.5px; fill: rgb(94, 79, 162); fill-opacity: 1; stroke: rgb(229, 236, 246); stroke-opacity: 1;\"/></g><g class=\"point\"><path d=\"M693.71,661.5V50.69H709.08V661.5Z\" style=\"vector-effect: non-scaling-stroke; opacity: 1; stroke-width: 0.5px; fill: rgb(94, 79, 162); fill-opacity: 1; stroke: rgb(229, 236, 246); stroke-opacity: 1;\"/></g><g class=\"point\"><path d=\"M78.79,661.5V50.69H94.16V661.5Z\" style=\"vector-effect: non-scaling-stroke; opacity: 1; stroke-width: 0.5px; fill: rgb(94, 79, 162); fill-opacity: 1; stroke: rgb(229, 236, 246); stroke-opacity: 1;\"/></g><g class=\"point\"><path d=\"M21.14,661.5V55.27H36.51V661.5Z\" style=\"vector-effect: non-scaling-stroke; opacity: 1; stroke-width: 0.5px; fill: rgb(94, 79, 162); fill-opacity: 1; stroke: rgb(229, 236, 246); stroke-opacity: 1;\"/></g><g class=\"point\"><path d=\"M59.57,661.5V59.85H74.94V661.5Z\" style=\"vector-effect: non-scaling-stroke; opacity: 1; stroke-width: 0.5px; fill: rgb(94, 79, 162); fill-opacity: 1; stroke: rgb(229, 236, 246); stroke-opacity: 1;\"/></g><g class=\"point\"><path d=\"M40.35,661.5V59.85H55.73V661.5Z\" style=\"vector-effect: non-scaling-stroke; opacity: 1; stroke-width: 0.5px; fill: rgb(94, 79, 162); fill-opacity: 1; stroke: rgb(229, 236, 246); stroke-opacity: 1;\"/></g><g class=\"point\"><path d=\"M1.92,661.5V59.85H17.29V661.5Z\" style=\"vector-effect: non-scaling-stroke; opacity: 1; stroke-width: 0.5px; fill: rgb(94, 79, 162); fill-opacity: 1; stroke: rgb(229, 236, 246); stroke-opacity: 1;\"/></g></g></g></g></g><g class=\"overplot\"/><path class=\"xlines-above crisp\" style=\"fill: none;\"/><path class=\"ylines-above crisp\" style=\"fill: none;\"/><g class=\"overlines-above\"/><g class=\"xaxislayer-above\"/><g class=\"yaxislayer-above\"/><g class=\"overaxes-above\"/></g><rect class=\"rangeslider-mask-min\" x=\"0\" y=\"0\" shape-rendering=\"crispEdges\" height=\"63\" width=\"0\" style=\"fill: rgb(0, 0, 0); fill-opacity: 0.4;\"/><rect class=\"rangeslider-mask-max\" y=\"0\" shape-rendering=\"crispEdges\" height=\"63\" x=\"711\" width=\"0\" style=\"fill: rgb(0, 0, 0); fill-opacity: 0.4;\"/><g class=\"rangeslider-grabber-min\" transform=\"translate(-2.5,0.5)\"><rect class=\"rangeslider-handle-min\" x=\"0\" width=\"4\" rx=\"1\" fill=\"#fff\" stroke=\"#444\" stroke-width=\"1\" shape-rendering=\"crispEdges\" y=\"16\" height=\"32\"/><rect class=\"rangeslider-grabarea-min\" width=\"10\" x=\"0\" y=\"0\" fill=\"transparent\" height=\"63\"/></g><g class=\"rangeslider-grabber-max\" transform=\"translate(709.5,0.5)\"><rect class=\"rangeslider-handle-max\" x=\"0\" width=\"4\" rx=\"1\" fill=\"#fff\" stroke=\"#444\" stroke-width=\"1\" shape-rendering=\"crispEdges\" y=\"16\" height=\"32\"/><rect class=\"rangeslider-grabarea-max\" width=\"10\" x=\"0\" y=\"0\" fill=\"transparent\" height=\"63\"/></g></g><g class=\"g-ytitle\"><text class=\"ytitle\" transform=\"rotate(-90,23.684375000000003,213)\" x=\"23.684375000000003\" y=\"213\" text-anchor=\"middle\" style=\"font-family: 'Open Sans', verdana, arial, sans-serif; font-size: 14px; fill: rgb(42, 63, 95); opacity: 1; font-weight: normal; white-space: pre;\">Cantidad</text></g><g class=\"g-xtitle\"><text class=\"xtitle\" x=\"435.5\" y=\"501\" text-anchor=\"middle\" style=\"font-family: 'Open Sans', verdana, arial, sans-serif; font-size: 14px; fill: rgb(42, 63, 95); opacity: 1; font-weight: normal; white-space: pre;\">Año</text></g></g></svg>"
      ],
      "text/plain": [
       "<IPython.core.display.SVG object>"
      ]
     },
     "metadata": {},
     "output_type": "display_data"
    }
   ],
   "source": [
    "games_year = games.year.value_counts()\n",
    "fig = px.bar(x=games_year.index, y=games_year.values, labels={\n",
    "             'x': 'Año', 'y': 'Cantidad', 'color': 'Cantidad'},\n",
    "             color=games_year.values,\n",
    "             title='Videojuegos publicados por año',\n",
    "             color_continuous_scale='spectral_r',\n",
    "             width=900,\n",
    "             height=520,\n",
    "             log_y=True\n",
    "             )\n",
    "\n",
    "fig.update_layout(paper_bgcolor='#FAFAFA',\n",
    "                  margin=dict(t=50, b=50)\n",
    "                  )\n",
    "fig.update_xaxes(rangeslider_visible=True)\n",
    "\n",
    "#fig.show()\n",
    "display(SVG(fig.to_image(format='svg')))"
   ]
  },
  {
   "cell_type": "markdown",
   "metadata": {},
   "source": [
    "La cantidad de videojuegos en escala logarítmica. Se evidencia un aumento en la producción de videojuegos al pasar de los años, sin embargo, los datos muestran un descenso brutal en los últimos dos años. "
   ]
  },
  {
   "cell_type": "code",
   "execution_count": 181,
   "metadata": {},
   "outputs": [
    {
     "data": {
      "text/html": [
       "<div>\n",
       "<style scoped>\n",
       "    .dataframe tbody tr th:only-of-type {\n",
       "        vertical-align: middle;\n",
       "    }\n",
       "\n",
       "    .dataframe tbody tr th {\n",
       "        vertical-align: top;\n",
       "    }\n",
       "\n",
       "    .dataframe thead th {\n",
       "        text-align: right;\n",
       "    }\n",
       "</style>\n",
       "<table border=\"1\" class=\"dataframe\">\n",
       "  <thead>\n",
       "    <tr style=\"text-align: right;\">\n",
       "      <th></th>\n",
       "      <th>month_name</th>\n",
       "      <th>amount</th>\n",
       "      <th>month_number</th>\n",
       "    </tr>\n",
       "  </thead>\n",
       "  <tbody>\n",
       "    <tr>\n",
       "      <th>4</th>\n",
       "      <td>January</td>\n",
       "      <td>318981</td>\n",
       "      <td>1</td>\n",
       "    </tr>\n",
       "    <tr>\n",
       "      <th>8</th>\n",
       "      <td>February</td>\n",
       "      <td>245532</td>\n",
       "      <td>2</td>\n",
       "    </tr>\n",
       "    <tr>\n",
       "      <th>10</th>\n",
       "      <td>March</td>\n",
       "      <td>231286</td>\n",
       "      <td>3</td>\n",
       "    </tr>\n",
       "    <tr>\n",
       "      <th>11</th>\n",
       "      <td>April</td>\n",
       "      <td>215250</td>\n",
       "      <td>4</td>\n",
       "    </tr>\n",
       "    <tr>\n",
       "      <th>9</th>\n",
       "      <td>May</td>\n",
       "      <td>231412</td>\n",
       "      <td>5</td>\n",
       "    </tr>\n",
       "    <tr>\n",
       "      <th>2</th>\n",
       "      <td>June</td>\n",
       "      <td>360112</td>\n",
       "      <td>6</td>\n",
       "    </tr>\n",
       "    <tr>\n",
       "      <th>3</th>\n",
       "      <td>July</td>\n",
       "      <td>330274</td>\n",
       "      <td>7</td>\n",
       "    </tr>\n",
       "    <tr>\n",
       "      <th>5</th>\n",
       "      <td>August</td>\n",
       "      <td>269507</td>\n",
       "      <td>8</td>\n",
       "    </tr>\n",
       "    <tr>\n",
       "      <th>7</th>\n",
       "      <td>September</td>\n",
       "      <td>247771</td>\n",
       "      <td>9</td>\n",
       "    </tr>\n",
       "    <tr>\n",
       "      <th>6</th>\n",
       "      <td>October</td>\n",
       "      <td>267135</td>\n",
       "      <td>10</td>\n",
       "    </tr>\n",
       "    <tr>\n",
       "      <th>0</th>\n",
       "      <td>November</td>\n",
       "      <td>498841</td>\n",
       "      <td>11</td>\n",
       "    </tr>\n",
       "    <tr>\n",
       "      <th>1</th>\n",
       "      <td>December</td>\n",
       "      <td>464981</td>\n",
       "      <td>12</td>\n",
       "    </tr>\n",
       "  </tbody>\n",
       "</table>\n",
       "</div>"
      ],
      "text/plain": [
       "   month_name  amount  month_number\n",
       "4     January  318981             1\n",
       "8    February  245532             2\n",
       "10      March  231286             3\n",
       "11      April  215250             4\n",
       "9         May  231412             5\n",
       "2        June  360112             6\n",
       "3        July  330274             7\n",
       "5      August  269507             8\n",
       "7   September  247771             9\n",
       "6     October  267135            10\n",
       "0    November  498841            11\n",
       "1    December  464981            12"
      ]
     },
     "execution_count": 181,
     "metadata": {},
     "output_type": "execute_result"
    }
   ],
   "source": [
    "users_by_month = data_reviews.assign(month_name=data_reviews.date.dt.month_name())\n",
    "\n",
    "users_by_month = users_by_month.month_name.value_counts()\n",
    "\n",
    "users_by_month = pd.DataFrame(\n",
    "    {'month_name': users_by_month.index, 'amount': users_by_month.values})\n",
    "\n",
    "users_by_month['month_number'] = pd.to_datetime(users_by_month.month_name,\n",
    "                                                format='%B', errors='coerce').dt.month\n",
    "\n",
    "users_by_month.sort_values(by='month_number', inplace=True)\n",
    "users_by_month"
   ]
  },
  {
   "cell_type": "code",
   "execution_count": 182,
   "metadata": {},
   "outputs": [
    {
     "data": {
      "image/svg+xml": [
       "<svg xmlns=\"http://www.w3.org/2000/svg\" xmlns:xlink=\"http://www.w3.org/1999/xlink\" class=\"main-svg\" width=\"900\" height=\"450\" style=\"\" viewBox=\"0 0 900 450\"><rect x=\"0\" y=\"0\" width=\"900\" height=\"450\" style=\"fill: rgb(250, 250, 250); fill-opacity: 1;\"/><defs id=\"defs-1fedfa\"><g class=\"clips\"><clipPath id=\"clip1fedfaxyplot\" class=\"plotclip\"><rect width=\"740\" height=\"312\"/></clipPath><clipPath class=\"axesclip\" id=\"clip1fedfax\"><rect x=\"80\" y=\"0\" width=\"740\" height=\"450\"/></clipPath><clipPath class=\"axesclip\" id=\"clip1fedfay\"><rect x=\"0\" y=\"50\" width=\"900\" height=\"312\"/></clipPath><clipPath class=\"axesclip\" id=\"clip1fedfaxy\"><rect x=\"80\" y=\"50\" width=\"740\" height=\"312\"/></clipPath></g><g class=\"gradients\"/><g class=\"patterns\"/></defs><g class=\"bglayer\"><rect class=\"bg\" x=\"80\" y=\"50\" width=\"740\" height=\"312\" style=\"fill: rgb(229, 236, 246); fill-opacity: 1; stroke-width: 0;\"/></g><g class=\"layer-below\"><g class=\"imagelayer\"/><g class=\"shapelayer\"/></g><g class=\"cartesianlayer\"><g class=\"subplot xy\"><g class=\"layer-subplot\"><g class=\"shapelayer\"/><g class=\"imagelayer\"/></g><g class=\"gridlayer\"><g class=\"x\"><path class=\"xgrid crisp\" transform=\"translate(125.13,0)\" d=\"M0,50v312\" style=\"stroke: rgb(255, 255, 255); stroke-opacity: 1; stroke-width: 1px;\"/><path class=\"xgrid crisp\" transform=\"translate(184.19,0)\" d=\"M0,50v312\" style=\"stroke: rgb(255, 255, 255); stroke-opacity: 1; stroke-width: 1px;\"/><path class=\"xgrid crisp\" transform=\"translate(243.26,0)\" d=\"M0,50v312\" style=\"stroke: rgb(255, 255, 255); stroke-opacity: 1; stroke-width: 1px;\"/><path class=\"xgrid crisp\" transform=\"translate(302.33000000000004,0)\" d=\"M0,50v312\" style=\"stroke: rgb(255, 255, 255); stroke-opacity: 1; stroke-width: 1px;\"/><path class=\"xgrid crisp\" transform=\"translate(361.4,0)\" d=\"M0,50v312\" style=\"stroke: rgb(255, 255, 255); stroke-opacity: 1; stroke-width: 1px;\"/><path class=\"xgrid crisp\" transform=\"translate(420.47,0)\" d=\"M0,50v312\" style=\"stroke: rgb(255, 255, 255); stroke-opacity: 1; stroke-width: 1px;\"/><path class=\"xgrid crisp\" transform=\"translate(479.53,0)\" d=\"M0,50v312\" style=\"stroke: rgb(255, 255, 255); stroke-opacity: 1; stroke-width: 1px;\"/><path class=\"xgrid crisp\" transform=\"translate(538.6,0)\" d=\"M0,50v312\" style=\"stroke: rgb(255, 255, 255); stroke-opacity: 1; stroke-width: 1px;\"/><path class=\"xgrid crisp\" transform=\"translate(597.67,0)\" d=\"M0,50v312\" style=\"stroke: rgb(255, 255, 255); stroke-opacity: 1; stroke-width: 1px;\"/><path class=\"xgrid crisp\" transform=\"translate(656.74,0)\" d=\"M0,50v312\" style=\"stroke: rgb(255, 255, 255); stroke-opacity: 1; stroke-width: 1px;\"/><path class=\"xgrid crisp\" transform=\"translate(715.81,0)\" d=\"M0,50v312\" style=\"stroke: rgb(255, 255, 255); stroke-opacity: 1; stroke-width: 1px;\"/><path class=\"xgrid crisp\" transform=\"translate(774.88,0)\" d=\"M0,50v312\" style=\"stroke: rgb(255, 255, 255); stroke-opacity: 1; stroke-width: 1px;\"/></g><g class=\"y\"><path class=\"ygrid crisp\" transform=\"translate(0,352.5)\" d=\"M80,0h740\" style=\"stroke: rgb(255, 255, 255); stroke-opacity: 1; stroke-width: 1px;\"/><path class=\"ygrid crisp\" transform=\"translate(0,305.86)\" d=\"M80,0h740\" style=\"stroke: rgb(255, 255, 255); stroke-opacity: 1; stroke-width: 1px;\"/><path class=\"ygrid crisp\" transform=\"translate(0,259.22)\" d=\"M80,0h740\" style=\"stroke: rgb(255, 255, 255); stroke-opacity: 1; stroke-width: 1px;\"/><path class=\"ygrid crisp\" transform=\"translate(0,212.57)\" d=\"M80,0h740\" style=\"stroke: rgb(255, 255, 255); stroke-opacity: 1; stroke-width: 1px;\"/><path class=\"ygrid crisp\" transform=\"translate(0,165.93)\" d=\"M80,0h740\" style=\"stroke: rgb(255, 255, 255); stroke-opacity: 1; stroke-width: 1px;\"/><path class=\"ygrid crisp\" transform=\"translate(0,119.29)\" d=\"M80,0h740\" style=\"stroke: rgb(255, 255, 255); stroke-opacity: 1; stroke-width: 1px;\"/><path class=\"ygrid crisp\" transform=\"translate(0,72.64)\" d=\"M80,0h740\" style=\"stroke: rgb(255, 255, 255); stroke-opacity: 1; stroke-width: 1px;\"/></g></g><g class=\"zerolinelayer\"/><path class=\"xlines-below\"/><path class=\"ylines-below\"/><g class=\"overlines-below\"/><g class=\"xaxislayer-below\"/><g class=\"yaxislayer-below\"/><g class=\"overaxes-below\"/><g class=\"plot\" transform=\"translate(80,50)\" clip-path=\"url(#clip1fedfaxyplot)\"><g class=\"scatterlayer mlayer\"><g class=\"trace scatter trace475359\" style=\"stroke-miterlimit: 2; opacity: 1;\"><g class=\"fills\"/><g class=\"errorbars\"/><g class=\"lines\"><path class=\"js-line\" d=\"M45.13,191.51L104.19,260.03L163.26,273.32L222.33,288.27L281.4,273.2L340.47,153.14L399.53,180.97L458.6,237.66L517.67,257.94L576.74,239.87L635.81,23.73L694.88,55.31\" style=\"vector-effect: non-scaling-stroke; fill: none; stroke: rgb(0, 0, 0); stroke-opacity: 1; stroke-width: 2px; opacity: 1;\"/></g><g class=\"points\"><path class=\"point\" transform=\"translate(45.13,191.51)\" d=\"M6.5,0A6.5,6.5 0 1,1 0,-6.5A6.5,6.5 0 0,1 6.5,0Z\" style=\"opacity: 0.7; stroke-width: 0px; fill: rgb(0, 0, 0); fill-opacity: 1;\"/><path class=\"point\" transform=\"translate(104.19,260.03)\" d=\"M6.5,0A6.5,6.5 0 1,1 0,-6.5A6.5,6.5 0 0,1 6.5,0Z\" style=\"opacity: 0.7; stroke-width: 0px; fill: rgb(0, 0, 0); fill-opacity: 1;\"/><path class=\"point\" transform=\"translate(163.26,273.32)\" d=\"M6.5,0A6.5,6.5 0 1,1 0,-6.5A6.5,6.5 0 0,1 6.5,0Z\" style=\"opacity: 0.7; stroke-width: 0px; fill: rgb(0, 0, 0); fill-opacity: 1;\"/><path class=\"point\" transform=\"translate(222.33,288.27)\" d=\"M6.5,0A6.5,6.5 0 1,1 0,-6.5A6.5,6.5 0 0,1 6.5,0Z\" style=\"opacity: 0.7; stroke-width: 0px; fill: rgb(0, 0, 0); fill-opacity: 1;\"/><path class=\"point\" transform=\"translate(281.4,273.2)\" d=\"M6.5,0A6.5,6.5 0 1,1 0,-6.5A6.5,6.5 0 0,1 6.5,0Z\" style=\"opacity: 0.7; stroke-width: 0px; fill: rgb(0, 0, 0); fill-opacity: 1;\"/><path class=\"point\" transform=\"translate(340.47,153.14)\" d=\"M6.5,0A6.5,6.5 0 1,1 0,-6.5A6.5,6.5 0 0,1 6.5,0Z\" style=\"opacity: 0.7; stroke-width: 0px; fill: rgb(0, 0, 0); fill-opacity: 1;\"/><path class=\"point\" transform=\"translate(399.53,180.97)\" d=\"M6.5,0A6.5,6.5 0 1,1 0,-6.5A6.5,6.5 0 0,1 6.5,0Z\" style=\"opacity: 0.7; stroke-width: 0px; fill: rgb(0, 0, 0); fill-opacity: 1;\"/><path class=\"point\" transform=\"translate(458.6,237.66)\" d=\"M6.5,0A6.5,6.5 0 1,1 0,-6.5A6.5,6.5 0 0,1 6.5,0Z\" style=\"opacity: 0.7; stroke-width: 0px; fill: rgb(0, 0, 0); fill-opacity: 1;\"/><path class=\"point\" transform=\"translate(517.67,257.94)\" d=\"M6.5,0A6.5,6.5 0 1,1 0,-6.5A6.5,6.5 0 0,1 6.5,0Z\" style=\"opacity: 0.7; stroke-width: 0px; fill: rgb(0, 0, 0); fill-opacity: 1;\"/><path class=\"point\" transform=\"translate(576.74,239.87)\" d=\"M6.5,0A6.5,6.5 0 1,1 0,-6.5A6.5,6.5 0 0,1 6.5,0Z\" style=\"opacity: 0.7; stroke-width: 0px; fill: rgb(0, 0, 0); fill-opacity: 1;\"/><path class=\"point\" transform=\"translate(635.81,23.73)\" d=\"M6.5,0A6.5,6.5 0 1,1 0,-6.5A6.5,6.5 0 0,1 6.5,0Z\" style=\"opacity: 0.7; stroke-width: 0px; fill: rgb(0, 0, 0); fill-opacity: 1;\"/><path class=\"point\" transform=\"translate(694.88,55.31)\" d=\"M6.5,0A6.5,6.5 0 1,1 0,-6.5A6.5,6.5 0 0,1 6.5,0Z\" style=\"opacity: 0.7; stroke-width: 0px; fill: rgb(0, 0, 0); fill-opacity: 1;\"/></g><g class=\"text\"/></g></g></g><g class=\"overplot\"/><path class=\"xlines-above crisp\" d=\"M0,0\" style=\"fill: none;\"/><path class=\"ylines-above crisp\" d=\"M0,0\" style=\"fill: none;\"/><g class=\"overlines-above\"/><g class=\"xaxislayer-above\"><g class=\"xtick\"><text text-anchor=\"start\" x=\"0\" y=\"375\" transform=\"translate(125.13,0) rotate(30,0,369)\" style=\"font-family: 'Open Sans', verdana, arial, sans-serif; font-size: 12px; fill: rgb(42, 63, 95); fill-opacity: 1; white-space: pre; opacity: 1;\">January</text></g><g class=\"xtick\"><text text-anchor=\"start\" x=\"0\" y=\"375\" transform=\"translate(184.19,0) rotate(30,0,369)\" style=\"font-family: 'Open Sans', verdana, arial, sans-serif; font-size: 12px; fill: rgb(42, 63, 95); fill-opacity: 1; white-space: pre; opacity: 1;\">February</text></g><g class=\"xtick\"><text text-anchor=\"start\" x=\"0\" y=\"375\" transform=\"translate(243.26,0) rotate(30,0,369)\" style=\"font-family: 'Open Sans', verdana, arial, sans-serif; font-size: 12px; fill: rgb(42, 63, 95); fill-opacity: 1; white-space: pre; opacity: 1;\">March</text></g><g class=\"xtick\"><text text-anchor=\"start\" x=\"0\" y=\"375\" transform=\"translate(302.33000000000004,0) rotate(30,0,369)\" style=\"font-family: 'Open Sans', verdana, arial, sans-serif; font-size: 12px; fill: rgb(42, 63, 95); fill-opacity: 1; white-space: pre; opacity: 1;\">April</text></g><g class=\"xtick\"><text text-anchor=\"start\" x=\"0\" y=\"375\" transform=\"translate(361.4,0) rotate(30,0,369)\" style=\"font-family: 'Open Sans', verdana, arial, sans-serif; font-size: 12px; fill: rgb(42, 63, 95); fill-opacity: 1; white-space: pre; opacity: 1;\">May</text></g><g class=\"xtick\"><text text-anchor=\"start\" x=\"0\" y=\"375\" transform=\"translate(420.47,0) rotate(30,0,369)\" style=\"font-family: 'Open Sans', verdana, arial, sans-serif; font-size: 12px; fill: rgb(42, 63, 95); fill-opacity: 1; white-space: pre; opacity: 1;\">June</text></g><g class=\"xtick\"><text text-anchor=\"start\" x=\"0\" y=\"375\" transform=\"translate(479.53,0) rotate(30,0,369)\" style=\"font-family: 'Open Sans', verdana, arial, sans-serif; font-size: 12px; fill: rgb(42, 63, 95); fill-opacity: 1; white-space: pre; opacity: 1;\">July</text></g><g class=\"xtick\"><text text-anchor=\"start\" x=\"0\" y=\"375\" transform=\"translate(538.6,0) rotate(30,0,369)\" style=\"font-family: 'Open Sans', verdana, arial, sans-serif; font-size: 12px; fill: rgb(42, 63, 95); fill-opacity: 1; white-space: pre; opacity: 1;\">August</text></g><g class=\"xtick\"><text text-anchor=\"start\" x=\"0\" y=\"375\" transform=\"translate(597.67,0) rotate(30,0,369)\" style=\"font-family: 'Open Sans', verdana, arial, sans-serif; font-size: 12px; fill: rgb(42, 63, 95); fill-opacity: 1; white-space: pre; opacity: 1;\">September</text></g><g class=\"xtick\"><text text-anchor=\"start\" x=\"0\" y=\"375\" transform=\"translate(656.74,0) rotate(30,0,369)\" style=\"font-family: 'Open Sans', verdana, arial, sans-serif; font-size: 12px; fill: rgb(42, 63, 95); fill-opacity: 1; white-space: pre; opacity: 1;\">October</text></g><g class=\"xtick\"><text text-anchor=\"start\" x=\"0\" y=\"375\" transform=\"translate(715.81,0) rotate(30,0,369)\" style=\"font-family: 'Open Sans', verdana, arial, sans-serif; font-size: 12px; fill: rgb(42, 63, 95); fill-opacity: 1; white-space: pre; opacity: 1;\">November</text></g><g class=\"xtick\"><text text-anchor=\"start\" x=\"0\" y=\"375\" transform=\"translate(774.88,0) rotate(30,0,369)\" style=\"font-family: 'Open Sans', verdana, arial, sans-serif; font-size: 12px; fill: rgb(42, 63, 95); fill-opacity: 1; white-space: pre; opacity: 1;\">December</text></g></g><g class=\"yaxislayer-above\"><g class=\"ytick\"><text text-anchor=\"end\" x=\"79\" y=\"4.199999999999999\" transform=\"translate(0,352.5)\" style=\"font-family: 'Open Sans', verdana, arial, sans-serif; font-size: 12px; fill: rgb(42, 63, 95); fill-opacity: 1; white-space: pre; opacity: 1;\">200k</text></g><g class=\"ytick\"><text text-anchor=\"end\" x=\"79\" y=\"4.199999999999999\" style=\"font-family: 'Open Sans', verdana, arial, sans-serif; font-size: 12px; fill: rgb(42, 63, 95); fill-opacity: 1; white-space: pre; opacity: 1;\" transform=\"translate(0,305.86)\">250k</text></g><g class=\"ytick\"><text text-anchor=\"end\" x=\"79\" y=\"4.199999999999999\" style=\"font-family: 'Open Sans', verdana, arial, sans-serif; font-size: 12px; fill: rgb(42, 63, 95); fill-opacity: 1; white-space: pre; opacity: 1;\" transform=\"translate(0,259.22)\">300k</text></g><g class=\"ytick\"><text text-anchor=\"end\" x=\"79\" y=\"4.199999999999999\" style=\"font-family: 'Open Sans', verdana, arial, sans-serif; font-size: 12px; fill: rgb(42, 63, 95); fill-opacity: 1; white-space: pre; opacity: 1;\" transform=\"translate(0,212.57)\">350k</text></g><g class=\"ytick\"><text text-anchor=\"end\" x=\"79\" y=\"4.199999999999999\" style=\"font-family: 'Open Sans', verdana, arial, sans-serif; font-size: 12px; fill: rgb(42, 63, 95); fill-opacity: 1; white-space: pre; opacity: 1;\" transform=\"translate(0,165.93)\">400k</text></g><g class=\"ytick\"><text text-anchor=\"end\" x=\"79\" y=\"4.199999999999999\" style=\"font-family: 'Open Sans', verdana, arial, sans-serif; font-size: 12px; fill: rgb(42, 63, 95); fill-opacity: 1; white-space: pre; opacity: 1;\" transform=\"translate(0,119.29)\">450k</text></g><g class=\"ytick\"><text text-anchor=\"end\" x=\"79\" y=\"4.199999999999999\" style=\"font-family: 'Open Sans', verdana, arial, sans-serif; font-size: 12px; fill: rgb(42, 63, 95); fill-opacity: 1; white-space: pre; opacity: 1;\" transform=\"translate(0,72.64)\">500k</text></g></g><g class=\"overaxes-above\"/></g></g><g class=\"polarlayer\"/><g class=\"ternarylayer\"/><g class=\"geolayer\"/><g class=\"funnelarealayer\"/><g class=\"pielayer\"/><g class=\"iciclelayer\"/><g class=\"treemaplayer\"/><g class=\"sunburstlayer\"/><g class=\"glimages\"/><defs id=\"topdefs-1fedfa\"><g class=\"clips\"/></defs><g class=\"layer-above\"><g class=\"imagelayer\"/><g class=\"shapelayer\"/></g><g class=\"infolayer\"><g class=\"g-gtitle\"><text class=\"gtitle\" x=\"45\" y=\"25\" text-anchor=\"start\" dy=\"0em\" style=\"font-family: 'Open Sans', verdana, arial, sans-serif; font-size: 17px; fill: rgb(42, 63, 95); opacity: 1; font-weight: normal; white-space: pre;\">Cantidad de usuarios por mes</text></g><g class=\"g-xtitle\"><text class=\"xtitle\" x=\"450\" y=\"437.9017578125\" text-anchor=\"middle\" style=\"font-family: 'Open Sans', verdana, arial, sans-serif; font-size: 18px; fill: rgb(42, 63, 95); opacity: 1; font-weight: normal; white-space: pre;\">Meses</text></g><g class=\"g-ytitle\"><text class=\"ytitle\" transform=\"rotate(-90,21.4,206)\" x=\"21.4\" y=\"206\" text-anchor=\"middle\" style=\"font-family: 'Open Sans', verdana, arial, sans-serif; font-size: 18px; fill: rgb(42, 63, 95); opacity: 1; font-weight: normal; white-space: pre;\">Cantidad</text></g></g></svg>"
      ],
      "text/plain": [
       "<IPython.core.display.SVG object>"
      ]
     },
     "metadata": {},
     "output_type": "display_data"
    }
   ],
   "source": [
    "fig = go.Figure()\n",
    "fig.add_trace(go.Scatter(\n",
    "    x=users_by_month.month_name,\n",
    "    y=users_by_month.amount,\n",
    "    line={'color': '#000000'},\n",
    "    marker={'size': 13, 'opacity': .7},\n",
    "))\n",
    "fig.update_layout(\n",
    "    paper_bgcolor='#FAFAFA',\n",
    "    title='Cantidad de usuarios por mes',\n",
    "    autosize=False,\n",
    "    width=900,\n",
    "    height=450,\n",
    "    hoverdistance=100,\n",
    "    spikedistance=1000,\n",
    "    margin=dict(t=50),\n",
    "    xaxis=dict(\n",
    "        title_text='Meses',\n",
    "        titlefont=dict(size=18),\n",
    "        showspikes=True,\n",
    "        spikethickness=3,\n",
    "        spikedash=\"dot\",\n",
    "        spikecolor=\"red\",\n",
    "        spikemode=\"across\"),\n",
    "    yaxis=dict(title_text=\"Cantidad\",  titlefont=dict(size=18))\n",
    ")\n",
    "#fig.show()\n",
    "display(SVG(fig.to_image(format='svg')))"
   ]
  },
  {
   "cell_type": "markdown",
   "metadata": {},
   "source": [
    "Vemos que se presentan 3 picos en la gráfica: A inicios, mitad y fin de año, lo cual puede estar relacionado a las temporadas de verano e invierno en Estados Unidos, en éstas épocas se concentran la mayoría de usuarios e invierten más horas de su tiempo libre en videojuegos de Steam."
   ]
  },
  {
   "cell_type": "markdown",
   "metadata": {},
   "source": [
    "Como conclusión y en función a las preguntas que nos realizamos oportunamente, nos parece importante las conclusiones que nos permite conocer este análisis de series de tiempo sobre los momentos que mayor horas de juego se dispone para jugar.\n",
    "\n",
    "En este caso la estrategia de cada juego podría ser que se lance un par de meses antes del verano, para que con una buena estrategia publicitaria (a través de promociones, ej, juega gratis por un mes) se haaga conocido en la previa de los momentos donde mayor horas de juego le van a dedicar. \n",
    "\n",
    "Además también nos permitiría, por ejemplo otorgar promociones de descuentos para los meses donde no se juegan tantas horas, a fin también de incrementar las horas y lograr incrementar el nivel de interés en el juego."
   ]
  },
  {
   "cell_type": "markdown",
   "metadata": {},
   "source": [
    "Se Adjunta repositorio de github donde consta el archivo del Trabajo\n",
    "https://github.com/sebabertaina/Datascientist-ds51-Trabajo-N-3"
   ]
  },
  {
   "cell_type": "code",
   "execution_count": null,
   "metadata": {},
   "outputs": [],
   "source": []
  }
 ],
 "metadata": {
  "colab": {
   "collapsed_sections": [],
   "name": "DS_Proyecto_03_SR.ipynb",
   "provenance": []
  },
  "kernelspec": {
   "display_name": "Python 3",
   "language": "python",
   "name": "python3"
  },
  "language_info": {
   "codemirror_mode": {
    "name": "ipython",
    "version": 3
   },
   "file_extension": ".py",
   "mimetype": "text/x-python",
   "name": "python",
   "nbconvert_exporter": "python",
   "pygments_lexer": "ipython3",
   "version": "3.8.5"
  }
 },
 "nbformat": 4,
 "nbformat_minor": 4
}
